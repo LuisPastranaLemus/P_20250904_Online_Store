{
 "cells": [
  {
   "cell_type": "markdown",
   "id": "6ee85adb",
   "metadata": {},
   "source": [
    "### 📚 __Introduction__\n",
    "\n",
    "You are an analyst at a large online store. Together with the marketing department, you have compiled a list of hypotheses that could help increase revenue. You need to prioritize these hypotheses, run an A/B test, and analyze the results.\n",
    "\n",
    "__Data Description__   \n",
    "\n",
    "/datasets/hypotheses_us.csv\n",
    "\n",
    "- Hypotheses: Brief descriptions of the hypotheses.\n",
    "- Reach: User reach, on a scale of one to ten.\n",
    "- Impact: Impact on users, on a scale of one to ten.\n",
    "- Confidence: Confidence in the hypothesis, on a scale of one to ten.\n",
    "- Effort: The resources required to test a hypothesis, on a scale of one to ten. The higher the Effort value, the more resources the test requires.\n",
    "\n",
    "/datasets/orders_us.csv\n",
    "\n",
    "- transactionId: Order ID.\n",
    "- visitorId: ID of the user who placed the order.\n",
    "- date: order date.\n",
    "- revenue: order revenue.\n",
    "- group: the A/B test group to which the user belongs.\n",
    "\n",
    "/datasets/visits_us.csv\n",
    "\n",
    "- date: the date.\n",
    "- group: A/B test group.\n",
    "- visits: the number of visits on the specified date in the specified A/B test group.\n",
    "\n",
    "Make sure to preprocess your data. There may be errors in the original datasets; for example, some visitors may have been in both group A and group B.\n",
    "\n",
    "__Part 1__. _Prioritize Hypotheses_\n",
    "The hypotheses_us.csv file contains nine hypotheses about how to increase revenue for an online store, with _Reach, Impact, Confidence, and Effort_ specified for each.\n",
    "\n",
    "The exercise consists:\n",
    "\n",
    "- Apply the ICE framework to prioritize hypotheses. Order them in descending order of priority.\n",
    "- Apply the RICE framework to prioritize hypotheses. Order them in descending order of priority.\n",
    "- Show how hypothesis prioritization changes when you use RICE instead of ICE. Provide an explanation of the changes.\n",
    "\n",
    "__Part 2__. _A/B Test Analysis_\n",
    "You ran an A/B test and obtained the results described in the orders_us.csv and visits_us.csv files."
   ]
  },
  {
   "cell_type": "markdown",
   "id": "3aa7be7d",
   "metadata": {},
   "source": [
    "### 💻 __1. Notebook Libraries and Customization__"
   ]
  },
  {
   "cell_type": "code",
   "execution_count": 82,
   "id": "01dcaa11",
   "metadata": {},
   "outputs": [],
   "source": [
    "from IPython.display import display, HTML\n",
    "from matplotlib import pyplot as plt\n",
    "import numpy as np\n",
    "import pandas as pd\n",
    "import plotly.express as px\n",
    "import re\n",
    "from scipy import stats as st\n",
    "from scipy.stats import gaussian_kde\n",
    "from statsmodels.stats.proportion import proportions_ztest\n",
    "import seaborn as sns\n",
    "from tqdm import tqdm\n",
    "\n",
    "pd.set_option('display.max_rows', 25)  # display max 25 rows\n",
    "pd.set_option('display.max_columns', 25)  # display max 10 columns\n",
    "# show max 15 characters in each column\n",
    "pd.set_option('display.max_colwidth', 50)\n",
    "pd.set_option('display.width', 150)  # Display max 150 characters in cell"
   ]
  },
  {
   "cell_type": "markdown",
   "id": "84106902",
   "metadata": {},
   "source": [
    "### 💻 __2. Functions__"
   ]
  },
  {
   "cell_type": "code",
   "execution_count": 2,
   "id": "c0b4687a",
   "metadata": {},
   "outputs": [],
   "source": [
    "# Function used to detect missing values ​​not treated as NAN due to the use of keep_defaukt_na=False\n",
    "def missing_values_check(df):\n",
    "\n",
    "    missing_values = ['', ' ', 'N/A', 'none', 'None',\n",
    "                      'null', 'NULL', 'NaN', 'nan', 'NAN', 'nat', 'NaT']\n",
    "\n",
    "    for column in df.columns:\n",
    "\n",
    "        if df[column].isin(missing_values).any():\n",
    "\n",
    "            display(HTML(\n",
    "                f\"> Null values ​​in column <i>'{column}'</i>: <b>{df[column].isin(missing_values).sum()}</b>\"))\n",
    "\n",
    "        else:\n",
    "\n",
    "            display(\n",
    "                HTML(f\"> No null values ​​exist in column <i>'{column}'</i>\"))\n",
    "            \n",
    "# Function used to assign pd.NA to missing values\n",
    "def missing_values_replace(df):\n",
    "\n",
    "    missing_values = ['', ' ', 'N/A', 'none', 'None',\n",
    "                      'null', 'NULL', 'NaN', 'nan', 'NAN', 'nat', 'NaT']\n",
    "\n",
    "    for column in df.columns:\n",
    "\n",
    "        try:\n",
    "\n",
    "            # (None, np.nan, pd.NA, pd.NaT)\n",
    "            df[column] = df[column].apply(lambda x: pd.NA if pd.isna(x) else x)\n",
    "\n",
    "            # (missing_values))\n",
    "            df[column] = df[column].replace(missing_values, pd.NA)\n",
    "\n",
    "        except Exception as e:\n",
    "\n",
    "            display(\n",
    "                HTML(f\"> Column <i>'{column}'</i> could not be processed: {e}\"))\n",
    "\n",
    "    return df\n",
    "\n",
    "def ice_prioritization(df, method=\"ease\"):\n",
    "\n",
    "    # Input validation\n",
    "    if not isinstance(df, pd.DataFrame):\n",
    "        raise TypeError(\"Input must be a pandas DataFrame.\")\n",
    "\n",
    "    # Define columns according to method chosen\n",
    "    if method == \"effort\":\n",
    "        required_cols = {\"impact\", \"confidence\", \"effort\"}\n",
    "        score_col = \"ice_score\"\n",
    "    elif method == \"ease\":\n",
    "        required_cols = {\"impact\", \"confidence\", \"ease\"}\n",
    "        score_col = \"ice_score\"\n",
    "    elif method == \"rice\":\n",
    "        required_cols = {\"reach\", \"impact\", \"confidence\", \"effort\"}\n",
    "        score_col = \"rice_score\"\n",
    "    else:\n",
    "        raise ValueError(\"Invalid method. Use 'effort', 'ease', or 'rice'.\")\n",
    "\n",
    "    # Required columns validation\n",
    "    missing_cols = required_cols - set(df.columns)\n",
    "    if missing_cols:\n",
    "        raise ValueError(f\"Missing required columns for {method} method: {missing_cols}\")\n",
    "\n",
    "    # Null values validation\n",
    "    if df[list(required_cols)].isnull().any().any():\n",
    "        raise ValueError(f\"Columns {required_cols} must not contain null values.\")\n",
    "\n",
    "    # Guard rails for division\n",
    "    if method in {\"effort\", \"rice\"} and (df[\"effort\"] == 0).any():\n",
    "        raise ZeroDivisionError(\"Column 'effort' contains zero(s); cannot divide by zero.\")\n",
    "    \n",
    "    # Optional: ensure numeric types (will raise if non-numeric present)\n",
    "    numeric_check = df[list(required_cols)].apply(pd.to_numeric, errors=\"raise\")\n",
    "\n",
    "    # Copy DataFrame\n",
    "    df = df.copy()\n",
    "\n",
    "    # Calcular ICE/RICE según método\n",
    "    if method == \"effort\":\n",
    "        df[score_col] = (df[\"impact\"] * df[\"confidence\"]) / df[\"effort\"]\n",
    "    elif method == \"ease\":\n",
    "        df[score_col] = df[\"impact\"] * df[\"confidence\"] * df[\"ease\"]\n",
    "    else:  # \"rice\"\n",
    "        df[score_col] = (df[\"reach\"] * df[\"impact\"] * df[\"confidence\"]) / df[\"effort\"]\n",
    "\n",
    "    return df"
   ]
  },
  {
   "cell_type": "markdown",
   "id": "da006365",
   "metadata": {},
   "source": [
    "### 🔁 __3. Data Loading__"
   ]
  },
  {
   "cell_type": "code",
   "execution_count": 3,
   "id": "d9521ab4",
   "metadata": {},
   "outputs": [],
   "source": [
    "df_hypotheses = pd.read_csv('../data/raw/hypotheses_us.csv', sep=';', header='infer', keep_default_na=False)\n",
    "df_orders = pd.read_csv('../data/raw/orders_us.csv', sep=',', header='infer', keep_default_na=False)\n",
    "df_visits = pd.read_csv('../data/raw/visits_us.csv', sep=',', header='infer', keep_default_na=False)"
   ]
  },
  {
   "cell_type": "markdown",
   "id": "be3ba967",
   "metadata": {},
   "source": [
    "### 🧹 __4. Data Cleanup__"
   ]
  },
  {
   "cell_type": "markdown",
   "id": "a10a9606",
   "metadata": {},
   "source": [
    "##### **4.1** Data Overview"
   ]
  },
  {
   "cell_type": "code",
   "execution_count": 4,
   "id": "a7c9a7ff",
   "metadata": {},
   "outputs": [
    {
     "name": "stdout",
     "output_type": "stream",
     "text": [
      "<class 'pandas.core.frame.DataFrame'>\n",
      "RangeIndex: 9 entries, 0 to 8\n",
      "Data columns (total 5 columns):\n",
      " #   Column      Non-Null Count  Dtype \n",
      "---  ------      --------------  ----- \n",
      " 0   Hypothesis  9 non-null      object\n",
      " 1   Reach       9 non-null      int64 \n",
      " 2   Impact      9 non-null      int64 \n",
      " 3   Confidence  9 non-null      int64 \n",
      " 4   Effort      9 non-null      int64 \n",
      "dtypes: int64(4), object(1)\n",
      "memory usage: 492.0+ bytes\n"
     ]
    }
   ],
   "source": [
    "df_hypotheses.info()"
   ]
  },
  {
   "cell_type": "code",
   "execution_count": 5,
   "id": "59c8aa39",
   "metadata": {},
   "outputs": [
    {
     "name": "stdout",
     "output_type": "stream",
     "text": [
      "<class 'pandas.core.frame.DataFrame'>\n",
      "RangeIndex: 1197 entries, 0 to 1196\n",
      "Data columns (total 5 columns):\n",
      " #   Column         Non-Null Count  Dtype  \n",
      "---  ------         --------------  -----  \n",
      " 0   transactionId  1197 non-null   int64  \n",
      " 1   visitorId      1197 non-null   int64  \n",
      " 2   date           1197 non-null   object \n",
      " 3   revenue        1197 non-null   float64\n",
      " 4   group          1197 non-null   object \n",
      "dtypes: float64(1), int64(2), object(2)\n",
      "memory usage: 46.9+ KB\n"
     ]
    }
   ],
   "source": [
    "df_orders.info()"
   ]
  },
  {
   "cell_type": "code",
   "execution_count": 6,
   "id": "3fe9e6f8",
   "metadata": {},
   "outputs": [
    {
     "name": "stdout",
     "output_type": "stream",
     "text": [
      "<class 'pandas.core.frame.DataFrame'>\n",
      "RangeIndex: 62 entries, 0 to 61\n",
      "Data columns (total 3 columns):\n",
      " #   Column  Non-Null Count  Dtype \n",
      "---  ------  --------------  ----- \n",
      " 0   date    62 non-null     object\n",
      " 1   group   62 non-null     object\n",
      " 2   visits  62 non-null     int64 \n",
      "dtypes: int64(1), object(2)\n",
      "memory usage: 1.6+ KB\n"
     ]
    }
   ],
   "source": [
    "df_visits.info()"
   ]
  },
  {
   "cell_type": "markdown",
   "id": "2bebbd57",
   "metadata": {},
   "source": [
    "##### **4.2** Standardization of column heading formats (Lower case, snake case)"
   ]
  },
  {
   "cell_type": "code",
   "execution_count": 7,
   "id": "cbaa4ad1",
   "metadata": {},
   "outputs": [
    {
     "data": {
      "text/plain": [
       "Index(['hypothesis', 'reach', 'impact', 'confidence', 'effort'], dtype='object')"
      ]
     },
     "execution_count": 7,
     "metadata": {},
     "output_type": "execute_result"
    }
   ],
   "source": [
    "df_hypotheses.columns = df_hypotheses.columns.str.strip().str.lower().str.replace(' ', '_').str.replace(r'[^\\w]', '', regex=True)\n",
    "df_hypotheses.columns"
   ]
  },
  {
   "cell_type": "code",
   "execution_count": 8,
   "id": "1b34849e",
   "metadata": {},
   "outputs": [
    {
     "data": {
      "text/plain": [
       "Index(['transactionid', 'visitorid', 'date', 'revenue', 'group'], dtype='object')"
      ]
     },
     "execution_count": 8,
     "metadata": {},
     "output_type": "execute_result"
    }
   ],
   "source": [
    "df_orders.columns = df_orders.columns.str.strip().str.lower().str.replace(' ', '_').str.replace(r'[^\\w]', '', regex=True)\n",
    "df_orders.columns"
   ]
  },
  {
   "cell_type": "code",
   "execution_count": 9,
   "id": "1656d867",
   "metadata": {},
   "outputs": [
    {
     "data": {
      "text/plain": [
       "Index(['date', 'group', 'visits'], dtype='object')"
      ]
     },
     "execution_count": 9,
     "metadata": {},
     "output_type": "execute_result"
    }
   ],
   "source": [
    "df_visits.columns = df_visits.columns.str.strip().str.lower().str.replace(' ', '_').str.replace(r'[^\\w]', '', regex=True)\n",
    "df_visits.columns"
   ]
  },
  {
   "cell_type": "markdown",
   "id": "0596fbf3",
   "metadata": {},
   "source": [
    "##### **4.2** Explicit Duplicate Removal"
   ]
  },
  {
   "cell_type": "code",
   "execution_count": 10,
   "id": "6913b861",
   "metadata": {},
   "outputs": [
    {
     "data": {
      "text/html": [
       "> <b>df_hypotheses</b> explicit duplicates: 0"
      ],
      "text/plain": [
       "<IPython.core.display.HTML object>"
      ]
     },
     "metadata": {},
     "output_type": "display_data"
    }
   ],
   "source": [
    "display(HTML(f\"> <b>df_hypotheses</b> explicit duplicates: {df_hypotheses.duplicated().sum()}\"))"
   ]
  },
  {
   "cell_type": "code",
   "execution_count": 11,
   "id": "1becb490",
   "metadata": {},
   "outputs": [
    {
     "data": {
      "text/html": [
       "> <b>df_orders</b> explicit duplicates: 0"
      ],
      "text/plain": [
       "<IPython.core.display.HTML object>"
      ]
     },
     "metadata": {},
     "output_type": "display_data"
    }
   ],
   "source": [
    "display(HTML(f\"> <b>df_orders</b> explicit duplicates: {df_orders.duplicated().sum()}\"))"
   ]
  },
  {
   "cell_type": "code",
   "execution_count": 12,
   "id": "644a1576",
   "metadata": {},
   "outputs": [
    {
     "data": {
      "text/html": [
       "> <b>df_visits</b> explicit duplicates: 0"
      ],
      "text/plain": [
       "<IPython.core.display.HTML object>"
      ]
     },
     "metadata": {},
     "output_type": "display_data"
    }
   ],
   "source": [
    "display(HTML(f\"> <b>df_visits</b> explicit duplicates: {df_visits.duplicated().sum()}\"))"
   ]
  },
  {
   "cell_type": "markdown",
   "id": "9c66cce9",
   "metadata": {},
   "source": [
    "##### **4.3** Missing Value Analysis"
   ]
  },
  {
   "cell_type": "code",
   "execution_count": 13,
   "id": "8bb7452c",
   "metadata": {},
   "outputs": [
    {
     "data": {
      "text/html": [
       "> No null values ​​exist in column <i>'hypothesis'</i>"
      ],
      "text/plain": [
       "<IPython.core.display.HTML object>"
      ]
     },
     "metadata": {},
     "output_type": "display_data"
    },
    {
     "data": {
      "text/html": [
       "> No null values ​​exist in column <i>'reach'</i>"
      ],
      "text/plain": [
       "<IPython.core.display.HTML object>"
      ]
     },
     "metadata": {},
     "output_type": "display_data"
    },
    {
     "data": {
      "text/html": [
       "> No null values ​​exist in column <i>'impact'</i>"
      ],
      "text/plain": [
       "<IPython.core.display.HTML object>"
      ]
     },
     "metadata": {},
     "output_type": "display_data"
    },
    {
     "data": {
      "text/html": [
       "> No null values ​​exist in column <i>'confidence'</i>"
      ],
      "text/plain": [
       "<IPython.core.display.HTML object>"
      ]
     },
     "metadata": {},
     "output_type": "display_data"
    },
    {
     "data": {
      "text/html": [
       "> No null values ​​exist in column <i>'effort'</i>"
      ],
      "text/plain": [
       "<IPython.core.display.HTML object>"
      ]
     },
     "metadata": {},
     "output_type": "display_data"
    }
   ],
   "source": [
    "missing_values_check(df_hypotheses)"
   ]
  },
  {
   "cell_type": "code",
   "execution_count": 14,
   "id": "c96b781d",
   "metadata": {},
   "outputs": [
    {
     "data": {
      "text/html": [
       "> No null values ​​exist in column <i>'transactionid'</i>"
      ],
      "text/plain": [
       "<IPython.core.display.HTML object>"
      ]
     },
     "metadata": {},
     "output_type": "display_data"
    },
    {
     "data": {
      "text/html": [
       "> No null values ​​exist in column <i>'visitorid'</i>"
      ],
      "text/plain": [
       "<IPython.core.display.HTML object>"
      ]
     },
     "metadata": {},
     "output_type": "display_data"
    },
    {
     "data": {
      "text/html": [
       "> No null values ​​exist in column <i>'date'</i>"
      ],
      "text/plain": [
       "<IPython.core.display.HTML object>"
      ]
     },
     "metadata": {},
     "output_type": "display_data"
    },
    {
     "data": {
      "text/html": [
       "> No null values ​​exist in column <i>'revenue'</i>"
      ],
      "text/plain": [
       "<IPython.core.display.HTML object>"
      ]
     },
     "metadata": {},
     "output_type": "display_data"
    },
    {
     "data": {
      "text/html": [
       "> No null values ​​exist in column <i>'group'</i>"
      ],
      "text/plain": [
       "<IPython.core.display.HTML object>"
      ]
     },
     "metadata": {},
     "output_type": "display_data"
    }
   ],
   "source": [
    "missing_values_check(df_orders)"
   ]
  },
  {
   "cell_type": "code",
   "execution_count": 15,
   "id": "ca851e78",
   "metadata": {},
   "outputs": [
    {
     "data": {
      "text/html": [
       "> No null values ​​exist in column <i>'date'</i>"
      ],
      "text/plain": [
       "<IPython.core.display.HTML object>"
      ]
     },
     "metadata": {},
     "output_type": "display_data"
    },
    {
     "data": {
      "text/html": [
       "> No null values ​​exist in column <i>'group'</i>"
      ],
      "text/plain": [
       "<IPython.core.display.HTML object>"
      ]
     },
     "metadata": {},
     "output_type": "display_data"
    },
    {
     "data": {
      "text/html": [
       "> No null values ​​exist in column <i>'visits'</i>"
      ],
      "text/plain": [
       "<IPython.core.display.HTML object>"
      ]
     },
     "metadata": {},
     "output_type": "display_data"
    }
   ],
   "source": [
    "missing_values_check(df_visits)"
   ]
  },
  {
   "cell_type": "markdown",
   "id": "7b444a17",
   "metadata": {},
   "source": [
    "##### **4.4** Casting Datatypes"
   ]
  },
  {
   "cell_type": "code",
   "execution_count": 16,
   "id": "791e9ceb",
   "metadata": {},
   "outputs": [
    {
     "data": {
      "text/html": [
       "> df_hypotheses column: <b>'hypothesis'</b> data type: <i>string</i>"
      ],
      "text/plain": [
       "<IPython.core.display.HTML object>"
      ]
     },
     "metadata": {},
     "output_type": "display_data"
    },
    {
     "data": {
      "application/vnd.microsoft.datawrangler.viewer.v0+json": {
       "columns": [
        {
         "name": "index",
         "rawType": "int64",
         "type": "integer"
        },
        {
         "name": "hypothesis",
         "rawType": "string",
         "type": "string"
        },
        {
         "name": "reach",
         "rawType": "int64",
         "type": "integer"
        },
        {
         "name": "impact",
         "rawType": "int64",
         "type": "integer"
        },
        {
         "name": "confidence",
         "rawType": "int64",
         "type": "integer"
        },
        {
         "name": "effort",
         "rawType": "int64",
         "type": "integer"
        }
       ],
       "ref": "5b2b0cdb-e621-44fb-b588-869f625c038a",
       "rows": [
        [
         "0",
         "Add two new channels for attracting traffic. This will bring 30% more users",
         "3",
         "10",
         "8",
         "6"
        ],
        [
         "1",
         "Launch your own delivery service. This will shorten delivery time",
         "2",
         "5",
         "4",
         "10"
        ],
        [
         "2",
         "Add product recommendation blocks to the store's site. This will increase conversion and average purchase size",
         "8",
         "3",
         "7",
         "3"
        ],
        [
         "3",
         "Change the category structure. This will increase conversion since users will find the products they want more quickly",
         "8",
         "3",
         "3",
         "8"
        ],
        [
         "4",
         "Change the background color on the main page. This will increase user engagement",
         "3",
         "1",
         "1",
         "1"
        ],
        [
         "5",
         "Add a customer review page. This will increase the number of orders",
         "3",
         "2",
         "2",
         "3"
        ],
        [
         "6",
         "Show banners with current offers and sales on the main page. This will boost conversion",
         "5",
         "3",
         "8",
         "3"
        ],
        [
         "7",
         "Add a subscription form to all the main pages. This will help you compile a mailing list",
         "10",
         "7",
         "8",
         "5"
        ],
        [
         "8",
         "Launch a promotion that gives users discounts on their birthdays",
         "1",
         "9",
         "9",
         "5"
        ]
       ],
       "shape": {
        "columns": 5,
        "rows": 9
       }
      },
      "text/html": [
       "<div>\n",
       "<style scoped>\n",
       "    .dataframe tbody tr th:only-of-type {\n",
       "        vertical-align: middle;\n",
       "    }\n",
       "\n",
       "    .dataframe tbody tr th {\n",
       "        vertical-align: top;\n",
       "    }\n",
       "\n",
       "    .dataframe thead th {\n",
       "        text-align: right;\n",
       "    }\n",
       "</style>\n",
       "<table border=\"1\" class=\"dataframe\">\n",
       "  <thead>\n",
       "    <tr style=\"text-align: right;\">\n",
       "      <th></th>\n",
       "      <th>hypothesis</th>\n",
       "      <th>reach</th>\n",
       "      <th>impact</th>\n",
       "      <th>confidence</th>\n",
       "      <th>effort</th>\n",
       "    </tr>\n",
       "  </thead>\n",
       "  <tbody>\n",
       "    <tr>\n",
       "      <th>0</th>\n",
       "      <td>Add two new channels for attracting traffic. T...</td>\n",
       "      <td>3</td>\n",
       "      <td>10</td>\n",
       "      <td>8</td>\n",
       "      <td>6</td>\n",
       "    </tr>\n",
       "    <tr>\n",
       "      <th>1</th>\n",
       "      <td>Launch your own delivery service. This will sh...</td>\n",
       "      <td>2</td>\n",
       "      <td>5</td>\n",
       "      <td>4</td>\n",
       "      <td>10</td>\n",
       "    </tr>\n",
       "    <tr>\n",
       "      <th>2</th>\n",
       "      <td>Add product recommendation blocks to the store...</td>\n",
       "      <td>8</td>\n",
       "      <td>3</td>\n",
       "      <td>7</td>\n",
       "      <td>3</td>\n",
       "    </tr>\n",
       "    <tr>\n",
       "      <th>3</th>\n",
       "      <td>Change the category structure. This will incre...</td>\n",
       "      <td>8</td>\n",
       "      <td>3</td>\n",
       "      <td>3</td>\n",
       "      <td>8</td>\n",
       "    </tr>\n",
       "    <tr>\n",
       "      <th>4</th>\n",
       "      <td>Change the background color on the main page. ...</td>\n",
       "      <td>3</td>\n",
       "      <td>1</td>\n",
       "      <td>1</td>\n",
       "      <td>1</td>\n",
       "    </tr>\n",
       "    <tr>\n",
       "      <th>5</th>\n",
       "      <td>Add a customer review page. This will increase...</td>\n",
       "      <td>3</td>\n",
       "      <td>2</td>\n",
       "      <td>2</td>\n",
       "      <td>3</td>\n",
       "    </tr>\n",
       "    <tr>\n",
       "      <th>6</th>\n",
       "      <td>Show banners with current offers and sales on ...</td>\n",
       "      <td>5</td>\n",
       "      <td>3</td>\n",
       "      <td>8</td>\n",
       "      <td>3</td>\n",
       "    </tr>\n",
       "    <tr>\n",
       "      <th>7</th>\n",
       "      <td>Add a subscription form to all the main pages....</td>\n",
       "      <td>10</td>\n",
       "      <td>7</td>\n",
       "      <td>8</td>\n",
       "      <td>5</td>\n",
       "    </tr>\n",
       "    <tr>\n",
       "      <th>8</th>\n",
       "      <td>Launch a promotion that gives users discounts ...</td>\n",
       "      <td>1</td>\n",
       "      <td>9</td>\n",
       "      <td>9</td>\n",
       "      <td>5</td>\n",
       "    </tr>\n",
       "  </tbody>\n",
       "</table>\n",
       "</div>"
      ],
      "text/plain": [
       "                                          hypothesis  reach  impact  confidence  effort\n",
       "0  Add two new channels for attracting traffic. T...      3      10           8       6\n",
       "1  Launch your own delivery service. This will sh...      2       5           4      10\n",
       "2  Add product recommendation blocks to the store...      8       3           7       3\n",
       "3  Change the category structure. This will incre...      8       3           3       8\n",
       "4  Change the background color on the main page. ...      3       1           1       1\n",
       "5  Add a customer review page. This will increase...      3       2           2       3\n",
       "6  Show banners with current offers and sales on ...      5       3           8       3\n",
       "7  Add a subscription form to all the main pages....     10       7           8       5\n",
       "8  Launch a promotion that gives users discounts ...      1       9           9       5"
      ]
     },
     "execution_count": 16,
     "metadata": {},
     "output_type": "execute_result"
    }
   ],
   "source": [
    "df_hypotheses['hypothesis'] = df_hypotheses['hypothesis'].astype('string')\n",
    "display(HTML(f\"> df_hypotheses column: <b>'hypothesis'</b> data type: <i>{df_hypotheses['hypothesis'].dtypes}</i>\"))\n",
    "df_hypotheses"
   ]
  },
  {
   "cell_type": "code",
   "execution_count": 17,
   "id": "797377b4",
   "metadata": {},
   "outputs": [
    {
     "data": {
      "text/html": [
       "> df_orders column: <b>'date'</b> data type: <i>object</i>"
      ],
      "text/plain": [
       "<IPython.core.display.HTML object>"
      ]
     },
     "metadata": {},
     "output_type": "display_data"
    },
    {
     "data": {
      "application/vnd.microsoft.datawrangler.viewer.v0+json": {
       "columns": [
        {
         "name": "index",
         "rawType": "int64",
         "type": "integer"
        },
        {
         "name": "transactionid",
         "rawType": "int64",
         "type": "integer"
        },
        {
         "name": "visitorid",
         "rawType": "int64",
         "type": "integer"
        },
        {
         "name": "date",
         "rawType": "object",
         "type": "unknown"
        },
        {
         "name": "revenue",
         "rawType": "float64",
         "type": "float"
        },
        {
         "name": "group",
         "rawType": "object",
         "type": "string"
        }
       ],
       "ref": "c751685a-ce3f-4fa6-b11e-0db666c88371",
       "rows": [
        [
         "0",
         "3667963787",
         "3312258926",
         "2019-08-15",
         "30.4",
         "B"
        ],
        [
         "1",
         "2804400009",
         "3642806036",
         "2019-08-15",
         "15.2",
         "B"
        ],
        [
         "2",
         "2961555356",
         "4069496402",
         "2019-08-15",
         "10.2",
         "A"
        ],
        [
         "3",
         "3797467345",
         "1196621759",
         "2019-08-15",
         "155.1",
         "B"
        ],
        [
         "4",
         "2282983706",
         "2322279887",
         "2019-08-15",
         "40.5",
         "B"
        ],
        [
         "5",
         "182168103",
         "935554773",
         "2019-08-15",
         "35.0",
         "B"
        ],
        [
         "6",
         "398296753",
         "2900797465",
         "2019-08-15",
         "30.6",
         "B"
        ],
        [
         "7",
         "2626614568",
         "78758296",
         "2019-08-15",
         "20.1",
         "A"
        ],
        [
         "8",
         "1576988021",
         "295230930",
         "2019-08-15",
         "215.9",
         "A"
        ],
        [
         "9",
         "1506739906",
         "1882260405",
         "2019-08-15",
         "30.5",
         "B"
        ],
        [
         "10",
         "3649131742",
         "879864040",
         "2019-08-15",
         "65.7",
         "A"
        ],
        [
         "11",
         "1919444843",
         "927791387",
         "2019-08-15",
         "70.2",
         "B"
        ],
        [
         "12",
         "2809384911",
         "3213223594",
         "2019-08-15",
         "115.4",
         "A"
        ],
        [
         "13",
         "3044797713",
         "728063420",
         "2019-08-15",
         "185.4",
         "B"
        ],
        [
         "14",
         "3859315276",
         "1565034404",
         "2019-08-15",
         "170.9",
         "A"
        ],
        [
         "15",
         "2550768810",
         "2742574263",
         "2019-08-15",
         "235.0",
         "B"
        ],
        [
         "16",
         "1820531107",
         "2973109265",
         "2019-08-15",
         "20.3",
         "B"
        ],
        [
         "17",
         "1108180333",
         "222718357",
         "2019-08-15",
         "20.2",
         "B"
        ],
        [
         "18",
         "1822256754",
         "4227830084",
         "2019-08-15",
         "255.7",
         "A"
        ],
        [
         "19",
         "674584210",
         "3207734412",
         "2019-08-15",
         "20.3",
         "A"
        ],
        [
         "20",
         "2904772834",
         "963407295",
         "2019-08-15",
         "5.6",
         "B"
        ],
        [
         "21",
         "1240630928",
         "1379151787",
         "2019-08-15",
         "20.2",
         "B"
        ],
        [
         "22",
         "235474681",
         "1638583360",
         "2019-08-15",
         "10.7",
         "B"
        ],
        [
         "23",
         "4252514150",
         "351125977",
         "2019-08-15",
         "235.6",
         "B"
        ],
        [
         "24",
         "1162046357",
         "3234906277",
         "2019-08-15",
         "120.2",
         "B"
        ],
        [
         "25",
         "324018163",
         "87885904",
         "2019-08-15",
         "5.6",
         "A"
        ],
        [
         "26",
         "2223239646",
         "199603092",
         "2019-08-15",
         "55.7",
         "A"
        ],
        [
         "27",
         "1630050528",
         "237748145",
         "2019-08-15",
         "120.2",
         "B"
        ],
        [
         "28",
         "2632372083",
         "3591136796",
         "2019-08-15",
         "85.2",
         "B"
        ],
        [
         "29",
         "2220299125",
         "3803269165",
         "2019-08-15",
         "15.8",
         "A"
        ],
        [
         "30",
         "1678838030",
         "4027395615",
         "2019-08-15",
         "5.9",
         "B"
        ],
        [
         "31",
         "2552245563",
         "3024988998",
         "2019-08-15",
         "10.9",
         "B"
        ],
        [
         "32",
         "3666913472",
         "2038680547",
         "2019-08-15",
         "30.8",
         "B"
        ],
        [
         "33",
         "486237576",
         "2378935119",
         "2019-08-15",
         "30.4",
         "A"
        ],
        [
         "34",
         "2153010762",
         "834683205",
         "2019-08-15",
         "355.5",
         "A"
        ],
        [
         "35",
         "2258664213",
         "258610743",
         "2019-08-15",
         "40.2",
         "B"
        ],
        [
         "36",
         "2165344951",
         "2805132315",
         "2019-08-15",
         "40.0",
         "B"
        ],
        [
         "37",
         "3601774485",
         "2231389472",
         "2019-08-15",
         "100.2",
         "B"
        ],
        [
         "38",
         "3276214732",
         "1110007955",
         "2019-08-15",
         "300.3",
         "B"
        ],
        [
         "39",
         "1950404403",
         "114507418",
         "2019-08-15",
         "10.4",
         "B"
        ],
        [
         "40",
         "733587530",
         "2552584164",
         "2019-08-15",
         "50.9",
         "B"
        ],
        [
         "41",
         "2594268419",
         "237748145",
         "2019-08-15",
         "20.8",
         "A"
        ],
        [
         "42",
         "459882198",
         "1494664757",
         "2019-08-15",
         "145.9",
         "B"
        ],
        [
         "43",
         "2960804513",
         "544632063",
         "2019-08-15",
         "40.2",
         "B"
        ],
        [
         "44",
         "376170286",
         "1294108251",
         "2019-08-15",
         "50.2",
         "A"
        ],
        [
         "45",
         "837819976",
         "1471496742",
         "2019-08-16",
         "35.9",
         "A"
        ],
        [
         "46",
         "3298573369",
         "2735494018",
         "2019-08-16",
         "60.2",
         "A"
        ],
        [
         "47",
         "352861950",
         "930356060",
         "2019-08-16",
         "110.5",
         "B"
        ],
        [
         "48",
         "133616433",
         "1215602524",
         "2019-08-16",
         "20.2",
         "B"
        ],
        [
         "49",
         "937773181",
         "3251102545",
         "2019-08-16",
         "55.7",
         "A"
        ]
       ],
       "shape": {
        "columns": 5,
        "rows": 1197
       }
      },
      "text/html": [
       "<div>\n",
       "<style scoped>\n",
       "    .dataframe tbody tr th:only-of-type {\n",
       "        vertical-align: middle;\n",
       "    }\n",
       "\n",
       "    .dataframe tbody tr th {\n",
       "        vertical-align: top;\n",
       "    }\n",
       "\n",
       "    .dataframe thead th {\n",
       "        text-align: right;\n",
       "    }\n",
       "</style>\n",
       "<table border=\"1\" class=\"dataframe\">\n",
       "  <thead>\n",
       "    <tr style=\"text-align: right;\">\n",
       "      <th></th>\n",
       "      <th>transactionid</th>\n",
       "      <th>visitorid</th>\n",
       "      <th>date</th>\n",
       "      <th>revenue</th>\n",
       "      <th>group</th>\n",
       "    </tr>\n",
       "  </thead>\n",
       "  <tbody>\n",
       "    <tr>\n",
       "      <th>0</th>\n",
       "      <td>3667963787</td>\n",
       "      <td>3312258926</td>\n",
       "      <td>2019-08-15</td>\n",
       "      <td>30.4</td>\n",
       "      <td>B</td>\n",
       "    </tr>\n",
       "    <tr>\n",
       "      <th>1</th>\n",
       "      <td>2804400009</td>\n",
       "      <td>3642806036</td>\n",
       "      <td>2019-08-15</td>\n",
       "      <td>15.2</td>\n",
       "      <td>B</td>\n",
       "    </tr>\n",
       "    <tr>\n",
       "      <th>2</th>\n",
       "      <td>2961555356</td>\n",
       "      <td>4069496402</td>\n",
       "      <td>2019-08-15</td>\n",
       "      <td>10.2</td>\n",
       "      <td>A</td>\n",
       "    </tr>\n",
       "    <tr>\n",
       "      <th>3</th>\n",
       "      <td>3797467345</td>\n",
       "      <td>1196621759</td>\n",
       "      <td>2019-08-15</td>\n",
       "      <td>155.1</td>\n",
       "      <td>B</td>\n",
       "    </tr>\n",
       "    <tr>\n",
       "      <th>4</th>\n",
       "      <td>2282983706</td>\n",
       "      <td>2322279887</td>\n",
       "      <td>2019-08-15</td>\n",
       "      <td>40.5</td>\n",
       "      <td>B</td>\n",
       "    </tr>\n",
       "    <tr>\n",
       "      <th>...</th>\n",
       "      <td>...</td>\n",
       "      <td>...</td>\n",
       "      <td>...</td>\n",
       "      <td>...</td>\n",
       "      <td>...</td>\n",
       "    </tr>\n",
       "    <tr>\n",
       "      <th>1192</th>\n",
       "      <td>2662137336</td>\n",
       "      <td>3733762160</td>\n",
       "      <td>2019-08-14</td>\n",
       "      <td>100.8</td>\n",
       "      <td>B</td>\n",
       "    </tr>\n",
       "    <tr>\n",
       "      <th>1193</th>\n",
       "      <td>2203539145</td>\n",
       "      <td>370388673</td>\n",
       "      <td>2019-08-14</td>\n",
       "      <td>50.1</td>\n",
       "      <td>A</td>\n",
       "    </tr>\n",
       "    <tr>\n",
       "      <th>1194</th>\n",
       "      <td>1807773912</td>\n",
       "      <td>573423106</td>\n",
       "      <td>2019-08-14</td>\n",
       "      <td>165.3</td>\n",
       "      <td>A</td>\n",
       "    </tr>\n",
       "    <tr>\n",
       "      <th>1195</th>\n",
       "      <td>1947021204</td>\n",
       "      <td>1614305549</td>\n",
       "      <td>2019-08-14</td>\n",
       "      <td>5.5</td>\n",
       "      <td>A</td>\n",
       "    </tr>\n",
       "    <tr>\n",
       "      <th>1196</th>\n",
       "      <td>3936777065</td>\n",
       "      <td>2108080724</td>\n",
       "      <td>2019-08-15</td>\n",
       "      <td>3120.1</td>\n",
       "      <td>B</td>\n",
       "    </tr>\n",
       "  </tbody>\n",
       "</table>\n",
       "<p>1197 rows × 5 columns</p>\n",
       "</div>"
      ],
      "text/plain": [
       "      transactionid   visitorid        date  revenue group\n",
       "0        3667963787  3312258926  2019-08-15     30.4     B\n",
       "1        2804400009  3642806036  2019-08-15     15.2     B\n",
       "2        2961555356  4069496402  2019-08-15     10.2     A\n",
       "3        3797467345  1196621759  2019-08-15    155.1     B\n",
       "4        2282983706  2322279887  2019-08-15     40.5     B\n",
       "...             ...         ...         ...      ...   ...\n",
       "1192     2662137336  3733762160  2019-08-14    100.8     B\n",
       "1193     2203539145   370388673  2019-08-14     50.1     A\n",
       "1194     1807773912   573423106  2019-08-14    165.3     A\n",
       "1195     1947021204  1614305549  2019-08-14      5.5     A\n",
       "1196     3936777065  2108080724  2019-08-15   3120.1     B\n",
       "\n",
       "[1197 rows x 5 columns]"
      ]
     },
     "execution_count": 17,
     "metadata": {},
     "output_type": "execute_result"
    }
   ],
   "source": [
    "df_orders['date'] = pd.to_datetime(df_orders['date']).dt.date\n",
    "display(HTML(f\"> df_orders column: <b>'date'</b> data type: <i>{df_orders['date'].dtypes}</i>\"))\n",
    "df_orders"
   ]
  },
  {
   "cell_type": "code",
   "execution_count": 18,
   "id": "2fb68846",
   "metadata": {},
   "outputs": [
    {
     "data": {
      "text/html": [
       "> df_orders column: <b>'group'</b> data type: <i>category</i>"
      ],
      "text/plain": [
       "<IPython.core.display.HTML object>"
      ]
     },
     "metadata": {},
     "output_type": "display_data"
    },
    {
     "data": {
      "application/vnd.microsoft.datawrangler.viewer.v0+json": {
       "columns": [
        {
         "name": "index",
         "rawType": "int64",
         "type": "integer"
        },
        {
         "name": "transactionid",
         "rawType": "int64",
         "type": "integer"
        },
        {
         "name": "visitorid",
         "rawType": "int64",
         "type": "integer"
        },
        {
         "name": "date",
         "rawType": "object",
         "type": "unknown"
        },
        {
         "name": "revenue",
         "rawType": "float64",
         "type": "float"
        },
        {
         "name": "group",
         "rawType": "category",
         "type": "unknown"
        }
       ],
       "ref": "9a506fd8-ce19-48ca-9877-c4a4363f8131",
       "rows": [
        [
         "0",
         "3667963787",
         "3312258926",
         "2019-08-15",
         "30.4",
         "B"
        ],
        [
         "1",
         "2804400009",
         "3642806036",
         "2019-08-15",
         "15.2",
         "B"
        ],
        [
         "2",
         "2961555356",
         "4069496402",
         "2019-08-15",
         "10.2",
         "A"
        ],
        [
         "3",
         "3797467345",
         "1196621759",
         "2019-08-15",
         "155.1",
         "B"
        ],
        [
         "4",
         "2282983706",
         "2322279887",
         "2019-08-15",
         "40.5",
         "B"
        ],
        [
         "5",
         "182168103",
         "935554773",
         "2019-08-15",
         "35.0",
         "B"
        ],
        [
         "6",
         "398296753",
         "2900797465",
         "2019-08-15",
         "30.6",
         "B"
        ],
        [
         "7",
         "2626614568",
         "78758296",
         "2019-08-15",
         "20.1",
         "A"
        ],
        [
         "8",
         "1576988021",
         "295230930",
         "2019-08-15",
         "215.9",
         "A"
        ],
        [
         "9",
         "1506739906",
         "1882260405",
         "2019-08-15",
         "30.5",
         "B"
        ],
        [
         "10",
         "3649131742",
         "879864040",
         "2019-08-15",
         "65.7",
         "A"
        ],
        [
         "11",
         "1919444843",
         "927791387",
         "2019-08-15",
         "70.2",
         "B"
        ],
        [
         "12",
         "2809384911",
         "3213223594",
         "2019-08-15",
         "115.4",
         "A"
        ],
        [
         "13",
         "3044797713",
         "728063420",
         "2019-08-15",
         "185.4",
         "B"
        ],
        [
         "14",
         "3859315276",
         "1565034404",
         "2019-08-15",
         "170.9",
         "A"
        ],
        [
         "15",
         "2550768810",
         "2742574263",
         "2019-08-15",
         "235.0",
         "B"
        ],
        [
         "16",
         "1820531107",
         "2973109265",
         "2019-08-15",
         "20.3",
         "B"
        ],
        [
         "17",
         "1108180333",
         "222718357",
         "2019-08-15",
         "20.2",
         "B"
        ],
        [
         "18",
         "1822256754",
         "4227830084",
         "2019-08-15",
         "255.7",
         "A"
        ],
        [
         "19",
         "674584210",
         "3207734412",
         "2019-08-15",
         "20.3",
         "A"
        ],
        [
         "20",
         "2904772834",
         "963407295",
         "2019-08-15",
         "5.6",
         "B"
        ],
        [
         "21",
         "1240630928",
         "1379151787",
         "2019-08-15",
         "20.2",
         "B"
        ],
        [
         "22",
         "235474681",
         "1638583360",
         "2019-08-15",
         "10.7",
         "B"
        ],
        [
         "23",
         "4252514150",
         "351125977",
         "2019-08-15",
         "235.6",
         "B"
        ],
        [
         "24",
         "1162046357",
         "3234906277",
         "2019-08-15",
         "120.2",
         "B"
        ],
        [
         "25",
         "324018163",
         "87885904",
         "2019-08-15",
         "5.6",
         "A"
        ],
        [
         "26",
         "2223239646",
         "199603092",
         "2019-08-15",
         "55.7",
         "A"
        ],
        [
         "27",
         "1630050528",
         "237748145",
         "2019-08-15",
         "120.2",
         "B"
        ],
        [
         "28",
         "2632372083",
         "3591136796",
         "2019-08-15",
         "85.2",
         "B"
        ],
        [
         "29",
         "2220299125",
         "3803269165",
         "2019-08-15",
         "15.8",
         "A"
        ],
        [
         "30",
         "1678838030",
         "4027395615",
         "2019-08-15",
         "5.9",
         "B"
        ],
        [
         "31",
         "2552245563",
         "3024988998",
         "2019-08-15",
         "10.9",
         "B"
        ],
        [
         "32",
         "3666913472",
         "2038680547",
         "2019-08-15",
         "30.8",
         "B"
        ],
        [
         "33",
         "486237576",
         "2378935119",
         "2019-08-15",
         "30.4",
         "A"
        ],
        [
         "34",
         "2153010762",
         "834683205",
         "2019-08-15",
         "355.5",
         "A"
        ],
        [
         "35",
         "2258664213",
         "258610743",
         "2019-08-15",
         "40.2",
         "B"
        ],
        [
         "36",
         "2165344951",
         "2805132315",
         "2019-08-15",
         "40.0",
         "B"
        ],
        [
         "37",
         "3601774485",
         "2231389472",
         "2019-08-15",
         "100.2",
         "B"
        ],
        [
         "38",
         "3276214732",
         "1110007955",
         "2019-08-15",
         "300.3",
         "B"
        ],
        [
         "39",
         "1950404403",
         "114507418",
         "2019-08-15",
         "10.4",
         "B"
        ],
        [
         "40",
         "733587530",
         "2552584164",
         "2019-08-15",
         "50.9",
         "B"
        ],
        [
         "41",
         "2594268419",
         "237748145",
         "2019-08-15",
         "20.8",
         "A"
        ],
        [
         "42",
         "459882198",
         "1494664757",
         "2019-08-15",
         "145.9",
         "B"
        ],
        [
         "43",
         "2960804513",
         "544632063",
         "2019-08-15",
         "40.2",
         "B"
        ],
        [
         "44",
         "376170286",
         "1294108251",
         "2019-08-15",
         "50.2",
         "A"
        ],
        [
         "45",
         "837819976",
         "1471496742",
         "2019-08-16",
         "35.9",
         "A"
        ],
        [
         "46",
         "3298573369",
         "2735494018",
         "2019-08-16",
         "60.2",
         "A"
        ],
        [
         "47",
         "352861950",
         "930356060",
         "2019-08-16",
         "110.5",
         "B"
        ],
        [
         "48",
         "133616433",
         "1215602524",
         "2019-08-16",
         "20.2",
         "B"
        ],
        [
         "49",
         "937773181",
         "3251102545",
         "2019-08-16",
         "55.7",
         "A"
        ]
       ],
       "shape": {
        "columns": 5,
        "rows": 1197
       }
      },
      "text/html": [
       "<div>\n",
       "<style scoped>\n",
       "    .dataframe tbody tr th:only-of-type {\n",
       "        vertical-align: middle;\n",
       "    }\n",
       "\n",
       "    .dataframe tbody tr th {\n",
       "        vertical-align: top;\n",
       "    }\n",
       "\n",
       "    .dataframe thead th {\n",
       "        text-align: right;\n",
       "    }\n",
       "</style>\n",
       "<table border=\"1\" class=\"dataframe\">\n",
       "  <thead>\n",
       "    <tr style=\"text-align: right;\">\n",
       "      <th></th>\n",
       "      <th>transactionid</th>\n",
       "      <th>visitorid</th>\n",
       "      <th>date</th>\n",
       "      <th>revenue</th>\n",
       "      <th>group</th>\n",
       "    </tr>\n",
       "  </thead>\n",
       "  <tbody>\n",
       "    <tr>\n",
       "      <th>0</th>\n",
       "      <td>3667963787</td>\n",
       "      <td>3312258926</td>\n",
       "      <td>2019-08-15</td>\n",
       "      <td>30.4</td>\n",
       "      <td>B</td>\n",
       "    </tr>\n",
       "    <tr>\n",
       "      <th>1</th>\n",
       "      <td>2804400009</td>\n",
       "      <td>3642806036</td>\n",
       "      <td>2019-08-15</td>\n",
       "      <td>15.2</td>\n",
       "      <td>B</td>\n",
       "    </tr>\n",
       "    <tr>\n",
       "      <th>2</th>\n",
       "      <td>2961555356</td>\n",
       "      <td>4069496402</td>\n",
       "      <td>2019-08-15</td>\n",
       "      <td>10.2</td>\n",
       "      <td>A</td>\n",
       "    </tr>\n",
       "    <tr>\n",
       "      <th>3</th>\n",
       "      <td>3797467345</td>\n",
       "      <td>1196621759</td>\n",
       "      <td>2019-08-15</td>\n",
       "      <td>155.1</td>\n",
       "      <td>B</td>\n",
       "    </tr>\n",
       "    <tr>\n",
       "      <th>4</th>\n",
       "      <td>2282983706</td>\n",
       "      <td>2322279887</td>\n",
       "      <td>2019-08-15</td>\n",
       "      <td>40.5</td>\n",
       "      <td>B</td>\n",
       "    </tr>\n",
       "    <tr>\n",
       "      <th>...</th>\n",
       "      <td>...</td>\n",
       "      <td>...</td>\n",
       "      <td>...</td>\n",
       "      <td>...</td>\n",
       "      <td>...</td>\n",
       "    </tr>\n",
       "    <tr>\n",
       "      <th>1192</th>\n",
       "      <td>2662137336</td>\n",
       "      <td>3733762160</td>\n",
       "      <td>2019-08-14</td>\n",
       "      <td>100.8</td>\n",
       "      <td>B</td>\n",
       "    </tr>\n",
       "    <tr>\n",
       "      <th>1193</th>\n",
       "      <td>2203539145</td>\n",
       "      <td>370388673</td>\n",
       "      <td>2019-08-14</td>\n",
       "      <td>50.1</td>\n",
       "      <td>A</td>\n",
       "    </tr>\n",
       "    <tr>\n",
       "      <th>1194</th>\n",
       "      <td>1807773912</td>\n",
       "      <td>573423106</td>\n",
       "      <td>2019-08-14</td>\n",
       "      <td>165.3</td>\n",
       "      <td>A</td>\n",
       "    </tr>\n",
       "    <tr>\n",
       "      <th>1195</th>\n",
       "      <td>1947021204</td>\n",
       "      <td>1614305549</td>\n",
       "      <td>2019-08-14</td>\n",
       "      <td>5.5</td>\n",
       "      <td>A</td>\n",
       "    </tr>\n",
       "    <tr>\n",
       "      <th>1196</th>\n",
       "      <td>3936777065</td>\n",
       "      <td>2108080724</td>\n",
       "      <td>2019-08-15</td>\n",
       "      <td>3120.1</td>\n",
       "      <td>B</td>\n",
       "    </tr>\n",
       "  </tbody>\n",
       "</table>\n",
       "<p>1197 rows × 5 columns</p>\n",
       "</div>"
      ],
      "text/plain": [
       "      transactionid   visitorid        date  revenue group\n",
       "0        3667963787  3312258926  2019-08-15     30.4     B\n",
       "1        2804400009  3642806036  2019-08-15     15.2     B\n",
       "2        2961555356  4069496402  2019-08-15     10.2     A\n",
       "3        3797467345  1196621759  2019-08-15    155.1     B\n",
       "4        2282983706  2322279887  2019-08-15     40.5     B\n",
       "...             ...         ...         ...      ...   ...\n",
       "1192     2662137336  3733762160  2019-08-14    100.8     B\n",
       "1193     2203539145   370388673  2019-08-14     50.1     A\n",
       "1194     1807773912   573423106  2019-08-14    165.3     A\n",
       "1195     1947021204  1614305549  2019-08-14      5.5     A\n",
       "1196     3936777065  2108080724  2019-08-15   3120.1     B\n",
       "\n",
       "[1197 rows x 5 columns]"
      ]
     },
     "execution_count": 18,
     "metadata": {},
     "output_type": "execute_result"
    }
   ],
   "source": [
    "df_orders['group'] = df_orders['group'].astype('category')\n",
    "display(HTML(f\"> df_orders column: <b>'group'</b> data type: <i>{df_orders['group'].dtypes}</i>\"))\n",
    "df_orders"
   ]
  },
  {
   "cell_type": "code",
   "execution_count": 19,
   "id": "5076fba5",
   "metadata": {},
   "outputs": [
    {
     "data": {
      "text/html": [
       "> df_visits column: <b>'date'</b> data type: <i>object</i>"
      ],
      "text/plain": [
       "<IPython.core.display.HTML object>"
      ]
     },
     "metadata": {},
     "output_type": "display_data"
    },
    {
     "data": {
      "application/vnd.microsoft.datawrangler.viewer.v0+json": {
       "columns": [
        {
         "name": "index",
         "rawType": "int64",
         "type": "integer"
        },
        {
         "name": "date",
         "rawType": "object",
         "type": "unknown"
        },
        {
         "name": "group",
         "rawType": "object",
         "type": "string"
        },
        {
         "name": "visits",
         "rawType": "int64",
         "type": "integer"
        }
       ],
       "ref": "1cb3a54a-9d8f-4d13-bc7f-451c6e6f6866",
       "rows": [
        [
         "0",
         "2019-08-01",
         "A",
         "719"
        ],
        [
         "1",
         "2019-08-02",
         "A",
         "619"
        ],
        [
         "2",
         "2019-08-03",
         "A",
         "507"
        ],
        [
         "3",
         "2019-08-04",
         "A",
         "717"
        ],
        [
         "4",
         "2019-08-05",
         "A",
         "756"
        ],
        [
         "5",
         "2019-08-06",
         "A",
         "667"
        ],
        [
         "6",
         "2019-08-07",
         "A",
         "644"
        ],
        [
         "7",
         "2019-08-08",
         "A",
         "610"
        ],
        [
         "8",
         "2019-08-09",
         "A",
         "617"
        ],
        [
         "9",
         "2019-08-10",
         "A",
         "406"
        ],
        [
         "10",
         "2019-08-11",
         "A",
         "718"
        ],
        [
         "11",
         "2019-08-12",
         "A",
         "595"
        ],
        [
         "12",
         "2019-08-13",
         "A",
         "748"
        ],
        [
         "13",
         "2019-08-14",
         "A",
         "735"
        ],
        [
         "14",
         "2019-08-15",
         "A",
         "628"
        ],
        [
         "15",
         "2019-08-16",
         "A",
         "361"
        ],
        [
         "16",
         "2019-08-17",
         "A",
         "412"
        ],
        [
         "17",
         "2019-08-18",
         "A",
         "668"
        ],
        [
         "18",
         "2019-08-19",
         "A",
         "502"
        ],
        [
         "19",
         "2019-08-20",
         "A",
         "575"
        ],
        [
         "20",
         "2019-08-21",
         "A",
         "646"
        ],
        [
         "21",
         "2019-08-22",
         "A",
         "609"
        ],
        [
         "22",
         "2019-08-23",
         "A",
         "468"
        ],
        [
         "23",
         "2019-08-24",
         "A",
         "395"
        ],
        [
         "24",
         "2019-08-25",
         "A",
         "621"
        ],
        [
         "25",
         "2019-08-26",
         "A",
         "722"
        ],
        [
         "26",
         "2019-08-27",
         "A",
         "711"
        ],
        [
         "27",
         "2019-08-28",
         "A",
         "594"
        ],
        [
         "28",
         "2019-08-29",
         "A",
         "577"
        ],
        [
         "29",
         "2019-08-30",
         "A",
         "490"
        ],
        [
         "30",
         "2019-08-31",
         "A",
         "699"
        ],
        [
         "31",
         "2019-08-01",
         "B",
         "713"
        ],
        [
         "32",
         "2019-08-02",
         "B",
         "581"
        ],
        [
         "33",
         "2019-08-03",
         "B",
         "509"
        ],
        [
         "34",
         "2019-08-04",
         "B",
         "770"
        ],
        [
         "35",
         "2019-08-05",
         "B",
         "707"
        ],
        [
         "36",
         "2019-08-06",
         "B",
         "655"
        ],
        [
         "37",
         "2019-08-07",
         "B",
         "709"
        ],
        [
         "38",
         "2019-08-08",
         "B",
         "654"
        ],
        [
         "39",
         "2019-08-09",
         "B",
         "610"
        ],
        [
         "40",
         "2019-08-10",
         "B",
         "369"
        ],
        [
         "41",
         "2019-08-11",
         "B",
         "721"
        ],
        [
         "42",
         "2019-08-12",
         "B",
         "543"
        ],
        [
         "43",
         "2019-08-13",
         "B",
         "769"
        ],
        [
         "44",
         "2019-08-14",
         "B",
         "746"
        ],
        [
         "45",
         "2019-08-15",
         "B",
         "544"
        ],
        [
         "46",
         "2019-08-16",
         "B",
         "413"
        ],
        [
         "47",
         "2019-08-17",
         "B",
         "421"
        ],
        [
         "48",
         "2019-08-18",
         "B",
         "737"
        ],
        [
         "49",
         "2019-08-19",
         "B",
         "487"
        ]
       ],
       "shape": {
        "columns": 3,
        "rows": 62
       }
      },
      "text/html": [
       "<div>\n",
       "<style scoped>\n",
       "    .dataframe tbody tr th:only-of-type {\n",
       "        vertical-align: middle;\n",
       "    }\n",
       "\n",
       "    .dataframe tbody tr th {\n",
       "        vertical-align: top;\n",
       "    }\n",
       "\n",
       "    .dataframe thead th {\n",
       "        text-align: right;\n",
       "    }\n",
       "</style>\n",
       "<table border=\"1\" class=\"dataframe\">\n",
       "  <thead>\n",
       "    <tr style=\"text-align: right;\">\n",
       "      <th></th>\n",
       "      <th>date</th>\n",
       "      <th>group</th>\n",
       "      <th>visits</th>\n",
       "    </tr>\n",
       "  </thead>\n",
       "  <tbody>\n",
       "    <tr>\n",
       "      <th>0</th>\n",
       "      <td>2019-08-01</td>\n",
       "      <td>A</td>\n",
       "      <td>719</td>\n",
       "    </tr>\n",
       "    <tr>\n",
       "      <th>1</th>\n",
       "      <td>2019-08-02</td>\n",
       "      <td>A</td>\n",
       "      <td>619</td>\n",
       "    </tr>\n",
       "    <tr>\n",
       "      <th>2</th>\n",
       "      <td>2019-08-03</td>\n",
       "      <td>A</td>\n",
       "      <td>507</td>\n",
       "    </tr>\n",
       "    <tr>\n",
       "      <th>3</th>\n",
       "      <td>2019-08-04</td>\n",
       "      <td>A</td>\n",
       "      <td>717</td>\n",
       "    </tr>\n",
       "    <tr>\n",
       "      <th>4</th>\n",
       "      <td>2019-08-05</td>\n",
       "      <td>A</td>\n",
       "      <td>756</td>\n",
       "    </tr>\n",
       "    <tr>\n",
       "      <th>...</th>\n",
       "      <td>...</td>\n",
       "      <td>...</td>\n",
       "      <td>...</td>\n",
       "    </tr>\n",
       "    <tr>\n",
       "      <th>57</th>\n",
       "      <td>2019-08-27</td>\n",
       "      <td>B</td>\n",
       "      <td>720</td>\n",
       "    </tr>\n",
       "    <tr>\n",
       "      <th>58</th>\n",
       "      <td>2019-08-28</td>\n",
       "      <td>B</td>\n",
       "      <td>654</td>\n",
       "    </tr>\n",
       "    <tr>\n",
       "      <th>59</th>\n",
       "      <td>2019-08-29</td>\n",
       "      <td>B</td>\n",
       "      <td>531</td>\n",
       "    </tr>\n",
       "    <tr>\n",
       "      <th>60</th>\n",
       "      <td>2019-08-30</td>\n",
       "      <td>B</td>\n",
       "      <td>490</td>\n",
       "    </tr>\n",
       "    <tr>\n",
       "      <th>61</th>\n",
       "      <td>2019-08-31</td>\n",
       "      <td>B</td>\n",
       "      <td>718</td>\n",
       "    </tr>\n",
       "  </tbody>\n",
       "</table>\n",
       "<p>62 rows × 3 columns</p>\n",
       "</div>"
      ],
      "text/plain": [
       "          date group  visits\n",
       "0   2019-08-01     A     719\n",
       "1   2019-08-02     A     619\n",
       "2   2019-08-03     A     507\n",
       "3   2019-08-04     A     717\n",
       "4   2019-08-05     A     756\n",
       "..         ...   ...     ...\n",
       "57  2019-08-27     B     720\n",
       "58  2019-08-28     B     654\n",
       "59  2019-08-29     B     531\n",
       "60  2019-08-30     B     490\n",
       "61  2019-08-31     B     718\n",
       "\n",
       "[62 rows x 3 columns]"
      ]
     },
     "execution_count": 19,
     "metadata": {},
     "output_type": "execute_result"
    }
   ],
   "source": [
    "df_visits['date'] = pd.to_datetime(df_visits['date']).dt.date\n",
    "display(HTML(f\"> df_visits column: <b>'date'</b> data type: <i>{df_visits['date'].dtypes}</i>\"))\n",
    "df_visits"
   ]
  },
  {
   "cell_type": "code",
   "execution_count": 20,
   "id": "f61c3e9a",
   "metadata": {},
   "outputs": [
    {
     "data": {
      "text/html": [
       "> df_visits column: <b>'group'</b> data type: <i>category</i>"
      ],
      "text/plain": [
       "<IPython.core.display.HTML object>"
      ]
     },
     "metadata": {},
     "output_type": "display_data"
    },
    {
     "data": {
      "application/vnd.microsoft.datawrangler.viewer.v0+json": {
       "columns": [
        {
         "name": "index",
         "rawType": "int64",
         "type": "integer"
        },
        {
         "name": "date",
         "rawType": "object",
         "type": "unknown"
        },
        {
         "name": "group",
         "rawType": "category",
         "type": "unknown"
        },
        {
         "name": "visits",
         "rawType": "int64",
         "type": "integer"
        }
       ],
       "ref": "67cf2fdb-dfd6-4bd6-b4c0-f8931862b89c",
       "rows": [
        [
         "0",
         "2019-08-01",
         "A",
         "719"
        ],
        [
         "1",
         "2019-08-02",
         "A",
         "619"
        ],
        [
         "2",
         "2019-08-03",
         "A",
         "507"
        ],
        [
         "3",
         "2019-08-04",
         "A",
         "717"
        ],
        [
         "4",
         "2019-08-05",
         "A",
         "756"
        ],
        [
         "5",
         "2019-08-06",
         "A",
         "667"
        ],
        [
         "6",
         "2019-08-07",
         "A",
         "644"
        ],
        [
         "7",
         "2019-08-08",
         "A",
         "610"
        ],
        [
         "8",
         "2019-08-09",
         "A",
         "617"
        ],
        [
         "9",
         "2019-08-10",
         "A",
         "406"
        ],
        [
         "10",
         "2019-08-11",
         "A",
         "718"
        ],
        [
         "11",
         "2019-08-12",
         "A",
         "595"
        ],
        [
         "12",
         "2019-08-13",
         "A",
         "748"
        ],
        [
         "13",
         "2019-08-14",
         "A",
         "735"
        ],
        [
         "14",
         "2019-08-15",
         "A",
         "628"
        ],
        [
         "15",
         "2019-08-16",
         "A",
         "361"
        ],
        [
         "16",
         "2019-08-17",
         "A",
         "412"
        ],
        [
         "17",
         "2019-08-18",
         "A",
         "668"
        ],
        [
         "18",
         "2019-08-19",
         "A",
         "502"
        ],
        [
         "19",
         "2019-08-20",
         "A",
         "575"
        ],
        [
         "20",
         "2019-08-21",
         "A",
         "646"
        ],
        [
         "21",
         "2019-08-22",
         "A",
         "609"
        ],
        [
         "22",
         "2019-08-23",
         "A",
         "468"
        ],
        [
         "23",
         "2019-08-24",
         "A",
         "395"
        ],
        [
         "24",
         "2019-08-25",
         "A",
         "621"
        ],
        [
         "25",
         "2019-08-26",
         "A",
         "722"
        ],
        [
         "26",
         "2019-08-27",
         "A",
         "711"
        ],
        [
         "27",
         "2019-08-28",
         "A",
         "594"
        ],
        [
         "28",
         "2019-08-29",
         "A",
         "577"
        ],
        [
         "29",
         "2019-08-30",
         "A",
         "490"
        ],
        [
         "30",
         "2019-08-31",
         "A",
         "699"
        ],
        [
         "31",
         "2019-08-01",
         "B",
         "713"
        ],
        [
         "32",
         "2019-08-02",
         "B",
         "581"
        ],
        [
         "33",
         "2019-08-03",
         "B",
         "509"
        ],
        [
         "34",
         "2019-08-04",
         "B",
         "770"
        ],
        [
         "35",
         "2019-08-05",
         "B",
         "707"
        ],
        [
         "36",
         "2019-08-06",
         "B",
         "655"
        ],
        [
         "37",
         "2019-08-07",
         "B",
         "709"
        ],
        [
         "38",
         "2019-08-08",
         "B",
         "654"
        ],
        [
         "39",
         "2019-08-09",
         "B",
         "610"
        ],
        [
         "40",
         "2019-08-10",
         "B",
         "369"
        ],
        [
         "41",
         "2019-08-11",
         "B",
         "721"
        ],
        [
         "42",
         "2019-08-12",
         "B",
         "543"
        ],
        [
         "43",
         "2019-08-13",
         "B",
         "769"
        ],
        [
         "44",
         "2019-08-14",
         "B",
         "746"
        ],
        [
         "45",
         "2019-08-15",
         "B",
         "544"
        ],
        [
         "46",
         "2019-08-16",
         "B",
         "413"
        ],
        [
         "47",
         "2019-08-17",
         "B",
         "421"
        ],
        [
         "48",
         "2019-08-18",
         "B",
         "737"
        ],
        [
         "49",
         "2019-08-19",
         "B",
         "487"
        ]
       ],
       "shape": {
        "columns": 3,
        "rows": 62
       }
      },
      "text/html": [
       "<div>\n",
       "<style scoped>\n",
       "    .dataframe tbody tr th:only-of-type {\n",
       "        vertical-align: middle;\n",
       "    }\n",
       "\n",
       "    .dataframe tbody tr th {\n",
       "        vertical-align: top;\n",
       "    }\n",
       "\n",
       "    .dataframe thead th {\n",
       "        text-align: right;\n",
       "    }\n",
       "</style>\n",
       "<table border=\"1\" class=\"dataframe\">\n",
       "  <thead>\n",
       "    <tr style=\"text-align: right;\">\n",
       "      <th></th>\n",
       "      <th>date</th>\n",
       "      <th>group</th>\n",
       "      <th>visits</th>\n",
       "    </tr>\n",
       "  </thead>\n",
       "  <tbody>\n",
       "    <tr>\n",
       "      <th>0</th>\n",
       "      <td>2019-08-01</td>\n",
       "      <td>A</td>\n",
       "      <td>719</td>\n",
       "    </tr>\n",
       "    <tr>\n",
       "      <th>1</th>\n",
       "      <td>2019-08-02</td>\n",
       "      <td>A</td>\n",
       "      <td>619</td>\n",
       "    </tr>\n",
       "    <tr>\n",
       "      <th>2</th>\n",
       "      <td>2019-08-03</td>\n",
       "      <td>A</td>\n",
       "      <td>507</td>\n",
       "    </tr>\n",
       "    <tr>\n",
       "      <th>3</th>\n",
       "      <td>2019-08-04</td>\n",
       "      <td>A</td>\n",
       "      <td>717</td>\n",
       "    </tr>\n",
       "    <tr>\n",
       "      <th>4</th>\n",
       "      <td>2019-08-05</td>\n",
       "      <td>A</td>\n",
       "      <td>756</td>\n",
       "    </tr>\n",
       "    <tr>\n",
       "      <th>...</th>\n",
       "      <td>...</td>\n",
       "      <td>...</td>\n",
       "      <td>...</td>\n",
       "    </tr>\n",
       "    <tr>\n",
       "      <th>57</th>\n",
       "      <td>2019-08-27</td>\n",
       "      <td>B</td>\n",
       "      <td>720</td>\n",
       "    </tr>\n",
       "    <tr>\n",
       "      <th>58</th>\n",
       "      <td>2019-08-28</td>\n",
       "      <td>B</td>\n",
       "      <td>654</td>\n",
       "    </tr>\n",
       "    <tr>\n",
       "      <th>59</th>\n",
       "      <td>2019-08-29</td>\n",
       "      <td>B</td>\n",
       "      <td>531</td>\n",
       "    </tr>\n",
       "    <tr>\n",
       "      <th>60</th>\n",
       "      <td>2019-08-30</td>\n",
       "      <td>B</td>\n",
       "      <td>490</td>\n",
       "    </tr>\n",
       "    <tr>\n",
       "      <th>61</th>\n",
       "      <td>2019-08-31</td>\n",
       "      <td>B</td>\n",
       "      <td>718</td>\n",
       "    </tr>\n",
       "  </tbody>\n",
       "</table>\n",
       "<p>62 rows × 3 columns</p>\n",
       "</div>"
      ],
      "text/plain": [
       "          date group  visits\n",
       "0   2019-08-01     A     719\n",
       "1   2019-08-02     A     619\n",
       "2   2019-08-03     A     507\n",
       "3   2019-08-04     A     717\n",
       "4   2019-08-05     A     756\n",
       "..         ...   ...     ...\n",
       "57  2019-08-27     B     720\n",
       "58  2019-08-28     B     654\n",
       "59  2019-08-29     B     531\n",
       "60  2019-08-30     B     490\n",
       "61  2019-08-31     B     718\n",
       "\n",
       "[62 rows x 3 columns]"
      ]
     },
     "execution_count": 20,
     "metadata": {},
     "output_type": "execute_result"
    }
   ],
   "source": [
    "df_visits['group'] = df_visits['group'].astype('category')\n",
    "display(HTML(f\"> df_visits column: <b>'group'</b> data type: <i>{df_visits['group'].dtypes}</i>\"))\n",
    "df_visits"
   ]
  },
  {
   "cell_type": "markdown",
   "id": "216608ac",
   "metadata": {},
   "source": [
    "##### **4.4** Handling Errors in Datasets (Same visitorid appears in both groups(A and B))\n",
    "\n",
    "`LSPL` - __Strict rule:__ (most commonly used in industry):\n",
    "\n",
    "The user appears in both groups → they are completely eliminated from A and B.   \n",
    "Reason: You can't be 100% sure which group influenced their behavior.   \n",
    "This prevents bias, even if you lose some of the sample.   \n",
    "\n",
    "__Flexible rule__ (keep data according to condition):\n",
    "\n",
    "Keep the first group the entry was in (based on the earliest date).   \n",
    "Delete all subsequent records that fall into the other group.   \n",
    "This keeps more data __but can leave noise__ if the user actually experienced both groups."
   ]
  },
  {
   "cell_type": "code",
   "execution_count": 21,
   "id": "53620e91",
   "metadata": {},
   "outputs": [
    {
     "data": {
      "text/html": [
       "> Unique Values for 'visitorid' column: 1031"
      ],
      "text/plain": [
       "<IPython.core.display.HTML object>"
      ]
     },
     "metadata": {},
     "output_type": "display_data"
    },
    {
     "data": {
      "text/html": [
       "> Total Values for 'visitorid' column: 1197"
      ],
      "text/plain": [
       "<IPython.core.display.HTML object>"
      ]
     },
     "metadata": {},
     "output_type": "display_data"
    }
   ],
   "source": [
    "display(HTML(f\"> Unique Values for 'visitorid' column: {df_orders['visitorid'].nunique()}\"))\n",
    "display(HTML(f\"> Total Values for 'visitorid' column: {df_orders['visitorid'].shape[0]}\"))"
   ]
  },
  {
   "cell_type": "code",
   "execution_count": 22,
   "id": "6c336364",
   "metadata": {},
   "outputs": [
    {
     "data": {
      "application/vnd.microsoft.datawrangler.viewer.v0+json": {
       "columns": [
        {
         "name": "index",
         "rawType": "int64",
         "type": "integer"
        },
        {
         "name": "transactionid",
         "rawType": "int64",
         "type": "integer"
        },
        {
         "name": "visitorid",
         "rawType": "int64",
         "type": "integer"
        },
        {
         "name": "date",
         "rawType": "object",
         "type": "unknown"
        },
        {
         "name": "revenue",
         "rawType": "float64",
         "type": "float"
        },
        {
         "name": "group",
         "rawType": "category",
         "type": "unknown"
        }
       ],
       "ref": "5cd9b81b-82dc-459b-98c2-19a08e8ca875",
       "rows": [
        [
         "2",
         "2961555356",
         "4069496402",
         "2019-08-15",
         "10.2",
         "A"
        ],
        [
         "15",
         "2550768810",
         "2742574263",
         "2019-08-15",
         "235.0",
         "B"
        ],
        [
         "20",
         "2904772834",
         "963407295",
         "2019-08-15",
         "5.6",
         "B"
        ],
        [
         "23",
         "4252514150",
         "351125977",
         "2019-08-15",
         "235.6",
         "B"
        ],
        [
         "24",
         "1162046357",
         "3234906277",
         "2019-08-15",
         "120.2",
         "B"
        ],
        [
         "26",
         "2223239646",
         "199603092",
         "2019-08-15",
         "55.7",
         "A"
        ],
        [
         "27",
         "1630050528",
         "237748145",
         "2019-08-15",
         "120.2",
         "B"
        ],
        [
         "29",
         "2220299125",
         "3803269165",
         "2019-08-15",
         "15.8",
         "A"
        ],
        [
         "32",
         "3666913472",
         "2038680547",
         "2019-08-15",
         "30.8",
         "B"
        ],
        [
         "33",
         "486237576",
         "2378935119",
         "2019-08-15",
         "30.4",
         "A"
        ],
        [
         "41",
         "2594268419",
         "237748145",
         "2019-08-15",
         "20.8",
         "A"
        ],
        [
         "60",
         "1421016313",
         "4256040402",
         "2019-08-16",
         "875.5",
         "B"
        ],
        [
         "61",
         "1251767592",
         "2712142231",
         "2019-08-16",
         "15.2",
         "B"
        ],
        [
         "71",
         "3679129301",
         "8300375",
         "2019-08-01",
         "165.7",
         "B"
        ],
        [
         "74",
         "3721196264",
         "249864742",
         "2019-08-16",
         "15.0",
         "B"
        ],
        [
         "82",
         "1246801103",
         "2096506107",
         "2019-08-16",
         "80.5",
         "B"
        ],
        [
         "85",
         "1701653566",
         "276558944",
         "2019-08-22",
         "190.0",
         "B"
        ],
        [
         "89",
         "3525980424",
         "3379260072",
         "2019-08-22",
         "35.5",
         "B"
        ],
        [
         "91",
         "3176574859",
         "2742574263",
         "2019-08-22",
         "275.9",
         "B"
        ],
        [
         "94",
         "252633006",
         "457167155",
         "2019-08-22",
         "95.8",
         "B"
        ],
        [
         "95",
         "372616894",
         "457167155",
         "2019-08-22",
         "20.2",
         "B"
        ],
        [
         "96",
         "1170105516",
         "2706377257",
         "2019-08-01",
         "140.8",
         "A"
        ],
        [
         "98",
         "1962247337",
         "2706377257",
         "2019-08-01",
         "110.7",
         "A"
        ],
        [
         "104",
         "627804981",
         "611059232",
         "2019-08-01",
         "275.8",
         "A"
        ],
        [
         "111",
         "2736731761",
         "3062433592",
         "2019-08-01",
         "225.9",
         "B"
        ],
        [
         "112",
         "1638982251",
         "3062433592",
         "2019-08-01",
         "135.3",
         "B"
        ],
        [
         "114",
         "1120327437",
         "4256040402",
         "2019-08-01",
         "90.2",
         "A"
        ],
        [
         "117",
         "722060263",
         "2038680547",
         "2019-08-22",
         "15.7",
         "A"
        ],
        [
         "118",
         "4233533907",
         "2378935119",
         "2019-08-22",
         "55.2",
         "A"
        ],
        [
         "129",
         "1665445278",
         "1738359350",
         "2019-08-22",
         "50.2",
         "A"
        ],
        [
         "133",
         "3060563671",
         "2458001652",
         "2019-08-22",
         "80.8",
         "A"
        ],
        [
         "134",
         "62794304",
         "199603092",
         "2019-08-22",
         "110.3",
         "A"
        ],
        [
         "139",
         "4141167864",
         "2716752286",
         "2019-08-01",
         "125.9",
         "B"
        ],
        [
         "141",
         "602399015",
         "3967698036",
         "2019-08-01",
         "5.6",
         "A"
        ],
        [
         "143",
         "3433533137",
         "678354126",
         "2019-08-01",
         "100.4",
         "A"
        ],
        [
         "144",
         "365058890",
         "611059232",
         "2019-08-01",
         "45.3",
         "A"
        ],
        [
         "145",
         "735232225",
         "611059232",
         "2019-08-01",
         "140.4",
         "A"
        ],
        [
         "147",
         "52260954",
         "3967698036",
         "2019-08-01",
         "20.2",
         "A"
        ],
        [
         "149",
         "2368313386",
         "3362039251",
         "2019-08-17",
         "150.4",
         "B"
        ],
        [
         "159",
         "1170827001",
         "3891541246",
         "2019-08-22",
         "20.2",
         "A"
        ],
        [
         "162",
         "2634363174",
         "2892265953",
         "2019-08-17",
         "35.6",
         "A"
        ],
        [
         "163",
         "1071437802",
         "2892265953",
         "2019-08-17",
         "10.0",
         "A"
        ],
        [
         "172",
         "86411600",
         "2096506107",
         "2019-08-17",
         "85.3",
         "B"
        ],
        [
         "174",
         "2089115464",
         "2366521417",
         "2019-08-02",
         "45.1",
         "B"
        ],
        [
         "179",
         "1784270968",
         "2378935119",
         "2019-08-17",
         "5.8",
         "A"
        ],
        [
         "182",
         "3221239900",
         "522292794",
         "2019-08-23",
         "15.0",
         "B"
        ],
        [
         "187",
         "2048878902",
         "4256040402",
         "2019-08-17",
         "25.8",
         "A"
        ],
        [
         "189",
         "4189935502",
         "1648269707",
         "2019-08-17",
         "5.5",
         "B"
        ],
        [
         "191",
         "2361024027",
         "3967698036",
         "2019-08-02",
         "30.0",
         "A"
        ],
        [
         "197",
         "2632798290",
         "2716752286",
         "2019-08-02",
         "35.2",
         "A"
        ]
       ],
       "shape": {
        "columns": 5,
        "rows": 260
       }
      },
      "text/html": [
       "<div>\n",
       "<style scoped>\n",
       "    .dataframe tbody tr th:only-of-type {\n",
       "        vertical-align: middle;\n",
       "    }\n",
       "\n",
       "    .dataframe tbody tr th {\n",
       "        vertical-align: top;\n",
       "    }\n",
       "\n",
       "    .dataframe thead th {\n",
       "        text-align: right;\n",
       "    }\n",
       "</style>\n",
       "<table border=\"1\" class=\"dataframe\">\n",
       "  <thead>\n",
       "    <tr style=\"text-align: right;\">\n",
       "      <th></th>\n",
       "      <th>transactionid</th>\n",
       "      <th>visitorid</th>\n",
       "      <th>date</th>\n",
       "      <th>revenue</th>\n",
       "      <th>group</th>\n",
       "    </tr>\n",
       "  </thead>\n",
       "  <tbody>\n",
       "    <tr>\n",
       "      <th>2</th>\n",
       "      <td>2961555356</td>\n",
       "      <td>4069496402</td>\n",
       "      <td>2019-08-15</td>\n",
       "      <td>10.2</td>\n",
       "      <td>A</td>\n",
       "    </tr>\n",
       "    <tr>\n",
       "      <th>15</th>\n",
       "      <td>2550768810</td>\n",
       "      <td>2742574263</td>\n",
       "      <td>2019-08-15</td>\n",
       "      <td>235.0</td>\n",
       "      <td>B</td>\n",
       "    </tr>\n",
       "    <tr>\n",
       "      <th>20</th>\n",
       "      <td>2904772834</td>\n",
       "      <td>963407295</td>\n",
       "      <td>2019-08-15</td>\n",
       "      <td>5.6</td>\n",
       "      <td>B</td>\n",
       "    </tr>\n",
       "    <tr>\n",
       "      <th>23</th>\n",
       "      <td>4252514150</td>\n",
       "      <td>351125977</td>\n",
       "      <td>2019-08-15</td>\n",
       "      <td>235.6</td>\n",
       "      <td>B</td>\n",
       "    </tr>\n",
       "    <tr>\n",
       "      <th>24</th>\n",
       "      <td>1162046357</td>\n",
       "      <td>3234906277</td>\n",
       "      <td>2019-08-15</td>\n",
       "      <td>120.2</td>\n",
       "      <td>B</td>\n",
       "    </tr>\n",
       "    <tr>\n",
       "      <th>...</th>\n",
       "      <td>...</td>\n",
       "      <td>...</td>\n",
       "      <td>...</td>\n",
       "      <td>...</td>\n",
       "      <td>...</td>\n",
       "    </tr>\n",
       "    <tr>\n",
       "      <th>1182</th>\n",
       "      <td>2682156369</td>\n",
       "      <td>1668030113</td>\n",
       "      <td>2019-08-14</td>\n",
       "      <td>20.8</td>\n",
       "      <td>B</td>\n",
       "    </tr>\n",
       "    <tr>\n",
       "      <th>1183</th>\n",
       "      <td>1458356232</td>\n",
       "      <td>963407295</td>\n",
       "      <td>2019-08-14</td>\n",
       "      <td>80.0</td>\n",
       "      <td>A</td>\n",
       "    </tr>\n",
       "    <tr>\n",
       "      <th>1184</th>\n",
       "      <td>1329499668</td>\n",
       "      <td>2949041841</td>\n",
       "      <td>2019-08-14</td>\n",
       "      <td>160.7</td>\n",
       "      <td>B</td>\n",
       "    </tr>\n",
       "    <tr>\n",
       "      <th>1189</th>\n",
       "      <td>4082620617</td>\n",
       "      <td>393266494</td>\n",
       "      <td>2019-08-14</td>\n",
       "      <td>490.4</td>\n",
       "      <td>B</td>\n",
       "    </tr>\n",
       "    <tr>\n",
       "      <th>1195</th>\n",
       "      <td>1947021204</td>\n",
       "      <td>1614305549</td>\n",
       "      <td>2019-08-14</td>\n",
       "      <td>5.5</td>\n",
       "      <td>A</td>\n",
       "    </tr>\n",
       "  </tbody>\n",
       "</table>\n",
       "<p>260 rows × 5 columns</p>\n",
       "</div>"
      ],
      "text/plain": [
       "      transactionid   visitorid        date  revenue group\n",
       "2        2961555356  4069496402  2019-08-15     10.2     A\n",
       "15       2550768810  2742574263  2019-08-15    235.0     B\n",
       "20       2904772834   963407295  2019-08-15      5.6     B\n",
       "23       4252514150   351125977  2019-08-15    235.6     B\n",
       "24       1162046357  3234906277  2019-08-15    120.2     B\n",
       "...             ...         ...         ...      ...   ...\n",
       "1182     2682156369  1668030113  2019-08-14     20.8     B\n",
       "1183     1458356232   963407295  2019-08-14     80.0     A\n",
       "1184     1329499668  2949041841  2019-08-14    160.7     B\n",
       "1189     4082620617   393266494  2019-08-14    490.4     B\n",
       "1195     1947021204  1614305549  2019-08-14      5.5     A\n",
       "\n",
       "[260 rows x 5 columns]"
      ]
     },
     "execution_count": 22,
     "metadata": {},
     "output_type": "execute_result"
    }
   ],
   "source": [
    "# Get the duplicated values within 'visitorid'\n",
    "df_orders_group_dup = df_orders.loc[(df_orders['visitorid'].duplicated(keep=False)), :]\n",
    "df_orders_group_dup"
   ]
  },
  {
   "cell_type": "code",
   "execution_count": 23,
   "id": "2fc89d57",
   "metadata": {},
   "outputs": [
    {
     "data": {
      "application/vnd.microsoft.datawrangler.viewer.v0+json": {
       "columns": [
        {
         "name": "index",
         "rawType": "int64",
         "type": "integer"
        },
        {
         "name": "visitorid",
         "rawType": "int64",
         "type": "integer"
        },
        {
         "name": "group",
         "rawType": "category",
         "type": "unknown"
        },
        {
         "name": "transactions",
         "rawType": "int64",
         "type": "integer"
        },
        {
         "name": "revenue",
         "rawType": "float64",
         "type": "float"
        }
       ],
       "ref": "e2fd570f-90aa-49d4-84c5-d0530fe99576",
       "rows": [
        [
         "0",
         "8300375",
         "A",
         "1",
         "30.5"
        ],
        [
         "1",
         "8300375",
         "B",
         "1",
         "165.7"
        ],
        [
         "2",
         "199603092",
         "A",
         "4",
         "311.9"
        ],
        [
         "3",
         "199603092",
         "B",
         "1",
         "55.7"
        ],
        [
         "4",
         "232979603",
         "A",
         "1",
         "5.9"
        ],
        [
         "5",
         "232979603",
         "B",
         "1",
         "45.6"
        ],
        [
         "6",
         "237748145",
         "A",
         "4",
         "62.0"
        ],
        [
         "7",
         "237748145",
         "B",
         "1",
         "120.2"
        ],
        [
         "8",
         "249864742",
         "A",
         "0",
         "0.0"
        ],
        [
         "9",
         "249864742",
         "B",
         "3",
         "115.6"
        ],
        [
         "10",
         "276558944",
         "A",
         "1",
         "80.7"
        ],
        [
         "11",
         "276558944",
         "B",
         "1",
         "190.0"
        ],
        [
         "12",
         "351125977",
         "A",
         "1",
         "70.0"
        ],
        [
         "13",
         "351125977",
         "B",
         "1",
         "235.6"
        ],
        [
         "14",
         "366673373",
         "A",
         "2",
         "31.2"
        ],
        [
         "15",
         "366673373",
         "B",
         "0",
         "0.0"
        ],
        [
         "16",
         "393266494",
         "A",
         "1",
         "335.5"
        ],
        [
         "17",
         "393266494",
         "B",
         "2",
         "526.1"
        ],
        [
         "18",
         "406208401",
         "A",
         "0",
         "0.0"
        ],
        [
         "19",
         "406208401",
         "B",
         "2",
         "100.9"
        ],
        [
         "20",
         "457167155",
         "A",
         "1",
         "25.9"
        ],
        [
         "21",
         "457167155",
         "B",
         "3",
         "136.7"
        ],
        [
         "22",
         "471551937",
         "A",
         "1",
         "355.1"
        ],
        [
         "23",
         "471551937",
         "B",
         "1",
         "55.2"
        ],
        [
         "24",
         "477780734",
         "A",
         "1",
         "115.3"
        ],
        [
         "25",
         "477780734",
         "B",
         "1",
         "60.2"
        ],
        [
         "26",
         "522292794",
         "A",
         "0",
         "0.0"
        ],
        [
         "27",
         "522292794",
         "B",
         "2",
         "95.1"
        ],
        [
         "28",
         "611059232",
         "A",
         "3",
         "461.5"
        ],
        [
         "29",
         "611059232",
         "B",
         "0",
         "0.0"
        ],
        [
         "30",
         "678354126",
         "A",
         "2",
         "115.9"
        ],
        [
         "31",
         "678354126",
         "B",
         "0",
         "0.0"
        ],
        [
         "32",
         "759473111",
         "A",
         "2",
         "1115.7"
        ],
        [
         "33",
         "759473111",
         "B",
         "0",
         "0.0"
        ],
        [
         "34",
         "818047933",
         "A",
         "1",
         "55.2"
        ],
        [
         "35",
         "818047933",
         "B",
         "1",
         "10.2"
        ],
        [
         "36",
         "963407295",
         "A",
         "1",
         "80.0"
        ],
        [
         "37",
         "963407295",
         "B",
         "1",
         "5.6"
        ],
        [
         "38",
         "1230306981",
         "A",
         "3",
         "295.7"
        ],
        [
         "39",
         "1230306981",
         "B",
         "2",
         "200.6"
        ],
        [
         "40",
         "1294878855",
         "A",
         "2",
         "436.2"
        ],
        [
         "41",
         "1294878855",
         "B",
         "1",
         "50.4"
        ],
        [
         "42",
         "1316129916",
         "A",
         "1",
         "1450.2"
        ],
        [
         "43",
         "1316129916",
         "B",
         "1",
         "15.8"
        ],
        [
         "44",
         "1333886533",
         "A",
         "1",
         "25.5"
        ],
        [
         "45",
         "1333886533",
         "B",
         "1",
         "50.4"
        ],
        [
         "46",
         "1404560065",
         "A",
         "0",
         "0.0"
        ],
        [
         "47",
         "1404560065",
         "B",
         "2",
         "431.5"
        ],
        [
         "48",
         "1404934699",
         "A",
         "1",
         "135.9"
        ],
        [
         "49",
         "1404934699",
         "B",
         "2",
         "550.4000000000001"
        ]
       ],
       "shape": {
        "columns": 4,
        "rows": 188
       }
      },
      "text/html": [
       "<div>\n",
       "<style scoped>\n",
       "    .dataframe tbody tr th:only-of-type {\n",
       "        vertical-align: middle;\n",
       "    }\n",
       "\n",
       "    .dataframe tbody tr th {\n",
       "        vertical-align: top;\n",
       "    }\n",
       "\n",
       "    .dataframe thead th {\n",
       "        text-align: right;\n",
       "    }\n",
       "</style>\n",
       "<table border=\"1\" class=\"dataframe\">\n",
       "  <thead>\n",
       "    <tr style=\"text-align: right;\">\n",
       "      <th></th>\n",
       "      <th>visitorid</th>\n",
       "      <th>group</th>\n",
       "      <th>transactions</th>\n",
       "      <th>revenue</th>\n",
       "    </tr>\n",
       "  </thead>\n",
       "  <tbody>\n",
       "    <tr>\n",
       "      <th>0</th>\n",
       "      <td>8300375</td>\n",
       "      <td>A</td>\n",
       "      <td>1</td>\n",
       "      <td>30.5</td>\n",
       "    </tr>\n",
       "    <tr>\n",
       "      <th>1</th>\n",
       "      <td>8300375</td>\n",
       "      <td>B</td>\n",
       "      <td>1</td>\n",
       "      <td>165.7</td>\n",
       "    </tr>\n",
       "    <tr>\n",
       "      <th>2</th>\n",
       "      <td>199603092</td>\n",
       "      <td>A</td>\n",
       "      <td>4</td>\n",
       "      <td>311.9</td>\n",
       "    </tr>\n",
       "    <tr>\n",
       "      <th>3</th>\n",
       "      <td>199603092</td>\n",
       "      <td>B</td>\n",
       "      <td>1</td>\n",
       "      <td>55.7</td>\n",
       "    </tr>\n",
       "    <tr>\n",
       "      <th>4</th>\n",
       "      <td>232979603</td>\n",
       "      <td>A</td>\n",
       "      <td>1</td>\n",
       "      <td>5.9</td>\n",
       "    </tr>\n",
       "    <tr>\n",
       "      <th>...</th>\n",
       "      <td>...</td>\n",
       "      <td>...</td>\n",
       "      <td>...</td>\n",
       "      <td>...</td>\n",
       "    </tr>\n",
       "    <tr>\n",
       "      <th>183</th>\n",
       "      <td>4186807279</td>\n",
       "      <td>B</td>\n",
       "      <td>2</td>\n",
       "      <td>505.9</td>\n",
       "    </tr>\n",
       "    <tr>\n",
       "      <th>184</th>\n",
       "      <td>4256040402</td>\n",
       "      <td>A</td>\n",
       "      <td>7</td>\n",
       "      <td>773.7</td>\n",
       "    </tr>\n",
       "    <tr>\n",
       "      <th>185</th>\n",
       "      <td>4256040402</td>\n",
       "      <td>B</td>\n",
       "      <td>4</td>\n",
       "      <td>1977.5</td>\n",
       "    </tr>\n",
       "    <tr>\n",
       "      <th>186</th>\n",
       "      <td>4266935830</td>\n",
       "      <td>A</td>\n",
       "      <td>1</td>\n",
       "      <td>1220.2</td>\n",
       "    </tr>\n",
       "    <tr>\n",
       "      <th>187</th>\n",
       "      <td>4266935830</td>\n",
       "      <td>B</td>\n",
       "      <td>1</td>\n",
       "      <td>1220.2</td>\n",
       "    </tr>\n",
       "  </tbody>\n",
       "</table>\n",
       "<p>188 rows × 4 columns</p>\n",
       "</div>"
      ],
      "text/plain": [
       "      visitorid group  transactions  revenue\n",
       "0       8300375     A             1     30.5\n",
       "1       8300375     B             1    165.7\n",
       "2     199603092     A             4    311.9\n",
       "3     199603092     B             1     55.7\n",
       "4     232979603     A             1      5.9\n",
       "..          ...   ...           ...      ...\n",
       "183  4186807279     B             2    505.9\n",
       "184  4256040402     A             7    773.7\n",
       "185  4256040402     B             4   1977.5\n",
       "186  4266935830     A             1   1220.2\n",
       "187  4266935830     B             1   1220.2\n",
       "\n",
       "[188 rows x 4 columns]"
      ]
     },
     "execution_count": 23,
     "metadata": {},
     "output_type": "execute_result"
    }
   ],
   "source": [
    "# Filter those duplicated 'visitorid' that exist in only one group\n",
    "df_visitors_groups = df_orders_group_dup.groupby(['visitorid', 'group'], observed=False)[['transactionid', 'revenue']].agg({'transactionid': 'count', 'revenue': 'sum'}).reset_index()\n",
    "df_visitors_groups = df_visitors_groups.rename(columns={'visitorid': 'visitorid', 'group': 'group', 'transactionid': 'transactions', 'revenue': 'revenue'})\n",
    "df_visitors_groups"
   ]
  },
  {
   "cell_type": "code",
   "execution_count": 24,
   "id": "923877b9",
   "metadata": {},
   "outputs": [
    {
     "data": {
      "application/vnd.microsoft.datawrangler.viewer.v0+json": {
       "columns": [
        {
         "name": "index",
         "rawType": "int64",
         "type": "integer"
        },
        {
         "name": "visitorid",
         "rawType": "int64",
         "type": "integer"
        },
        {
         "name": "group",
         "rawType": "category",
         "type": "unknown"
        },
        {
         "name": "transactions",
         "rawType": "int64",
         "type": "integer"
        },
        {
         "name": "revenue",
         "rawType": "float64",
         "type": "float"
        }
       ],
       "ref": "58042d99-e7bf-4299-b6f0-d8d9b66e2485",
       "rows": [
        [
         "8",
         "249864742",
         "A",
         "0",
         "0.0"
        ],
        [
         "15",
         "366673373",
         "B",
         "0",
         "0.0"
        ],
        [
         "18",
         "406208401",
         "A",
         "0",
         "0.0"
        ],
        [
         "26",
         "522292794",
         "A",
         "0",
         "0.0"
        ],
        [
         "29",
         "611059232",
         "B",
         "0",
         "0.0"
        ],
        [
         "31",
         "678354126",
         "B",
         "0",
         "0.0"
        ],
        [
         "33",
         "759473111",
         "B",
         "0",
         "0.0"
        ],
        [
         "46",
         "1404560065",
         "A",
         "0",
         "0.0"
        ],
        [
         "55",
         "1617417821",
         "B",
         "0",
         "0.0"
        ],
        [
         "56",
         "1637811943",
         "A",
         "0",
         "0.0"
        ],
        [
         "65",
         "1772171838",
         "B",
         "0",
         "0.0"
        ],
        [
         "70",
         "1985475298",
         "A",
         "0",
         "0.0"
        ],
        [
         "72",
         "2025197455",
         "A",
         "0",
         "0.0"
        ],
        [
         "78",
         "2096506107",
         "A",
         "0",
         "0.0"
        ],
        [
         "81",
         "2108163459",
         "B",
         "0",
         "0.0"
        ],
        [
         "83",
         "2232111114",
         "B",
         "0",
         "0.0"
        ],
        [
         "85",
         "2306096143",
         "B",
         "0",
         "0.0"
        ],
        [
         "86",
         "2366521417",
         "A",
         "0",
         "0.0"
        ],
        [
         "90",
         "2397843657",
         "A",
         "0",
         "0.0"
        ],
        [
         "105",
         "2706377257",
         "B",
         "0",
         "0.0"
        ],
        [
         "111",
         "2733145037",
         "B",
         "0",
         "0.0"
        ],
        [
         "112",
         "2742574263",
         "A",
         "0",
         "0.0"
        ],
        [
         "115",
         "2744017357",
         "B",
         "0",
         "0.0"
        ],
        [
         "119",
         "2892265953",
         "B",
         "0",
         "0.0"
        ],
        [
         "127",
         "2988190573",
         "B",
         "0",
         "0.0"
        ],
        [
         "130",
         "3077396270",
         "A",
         "0",
         "0.0"
        ],
        [
         "136",
         "3332057097",
         "A",
         "0",
         "0.0"
        ],
        [
         "138",
         "3362039251",
         "A",
         "0",
         "0.0"
        ],
        [
         "140",
         "3379260072",
         "A",
         "0",
         "0.0"
        ],
        [
         "143",
         "3469608676",
         "B",
         "0",
         "0.0"
        ],
        [
         "155",
         "3908431265",
         "B",
         "0",
         "0.0"
        ],
        [
         "156",
         "3935952912",
         "A",
         "0",
         "0.0"
        ],
        [
         "158",
         "3941503500",
         "A",
         "0",
         "0.0"
        ],
        [
         "169",
         "3967698036",
         "B",
         "0",
         "0.0"
        ],
        [
         "177",
         "4109358064",
         "B",
         "0",
         "0.0"
        ],
        [
         "180",
         "4134830387",
         "A",
         "0",
         "0.0"
        ]
       ],
       "shape": {
        "columns": 4,
        "rows": 36
       }
      },
      "text/html": [
       "<div>\n",
       "<style scoped>\n",
       "    .dataframe tbody tr th:only-of-type {\n",
       "        vertical-align: middle;\n",
       "    }\n",
       "\n",
       "    .dataframe tbody tr th {\n",
       "        vertical-align: top;\n",
       "    }\n",
       "\n",
       "    .dataframe thead th {\n",
       "        text-align: right;\n",
       "    }\n",
       "</style>\n",
       "<table border=\"1\" class=\"dataframe\">\n",
       "  <thead>\n",
       "    <tr style=\"text-align: right;\">\n",
       "      <th></th>\n",
       "      <th>visitorid</th>\n",
       "      <th>group</th>\n",
       "      <th>transactions</th>\n",
       "      <th>revenue</th>\n",
       "    </tr>\n",
       "  </thead>\n",
       "  <tbody>\n",
       "    <tr>\n",
       "      <th>8</th>\n",
       "      <td>249864742</td>\n",
       "      <td>A</td>\n",
       "      <td>0</td>\n",
       "      <td>0.0</td>\n",
       "    </tr>\n",
       "    <tr>\n",
       "      <th>15</th>\n",
       "      <td>366673373</td>\n",
       "      <td>B</td>\n",
       "      <td>0</td>\n",
       "      <td>0.0</td>\n",
       "    </tr>\n",
       "    <tr>\n",
       "      <th>18</th>\n",
       "      <td>406208401</td>\n",
       "      <td>A</td>\n",
       "      <td>0</td>\n",
       "      <td>0.0</td>\n",
       "    </tr>\n",
       "    <tr>\n",
       "      <th>26</th>\n",
       "      <td>522292794</td>\n",
       "      <td>A</td>\n",
       "      <td>0</td>\n",
       "      <td>0.0</td>\n",
       "    </tr>\n",
       "    <tr>\n",
       "      <th>29</th>\n",
       "      <td>611059232</td>\n",
       "      <td>B</td>\n",
       "      <td>0</td>\n",
       "      <td>0.0</td>\n",
       "    </tr>\n",
       "    <tr>\n",
       "      <th>...</th>\n",
       "      <td>...</td>\n",
       "      <td>...</td>\n",
       "      <td>...</td>\n",
       "      <td>...</td>\n",
       "    </tr>\n",
       "    <tr>\n",
       "      <th>156</th>\n",
       "      <td>3935952912</td>\n",
       "      <td>A</td>\n",
       "      <td>0</td>\n",
       "      <td>0.0</td>\n",
       "    </tr>\n",
       "    <tr>\n",
       "      <th>158</th>\n",
       "      <td>3941503500</td>\n",
       "      <td>A</td>\n",
       "      <td>0</td>\n",
       "      <td>0.0</td>\n",
       "    </tr>\n",
       "    <tr>\n",
       "      <th>169</th>\n",
       "      <td>3967698036</td>\n",
       "      <td>B</td>\n",
       "      <td>0</td>\n",
       "      <td>0.0</td>\n",
       "    </tr>\n",
       "    <tr>\n",
       "      <th>177</th>\n",
       "      <td>4109358064</td>\n",
       "      <td>B</td>\n",
       "      <td>0</td>\n",
       "      <td>0.0</td>\n",
       "    </tr>\n",
       "    <tr>\n",
       "      <th>180</th>\n",
       "      <td>4134830387</td>\n",
       "      <td>A</td>\n",
       "      <td>0</td>\n",
       "      <td>0.0</td>\n",
       "    </tr>\n",
       "  </tbody>\n",
       "</table>\n",
       "<p>36 rows × 4 columns</p>\n",
       "</div>"
      ],
      "text/plain": [
       "      visitorid group  transactions  revenue\n",
       "8     249864742     A             0      0.0\n",
       "15    366673373     B             0      0.0\n",
       "18    406208401     A             0      0.0\n",
       "26    522292794     A             0      0.0\n",
       "29    611059232     B             0      0.0\n",
       "..          ...   ...           ...      ...\n",
       "156  3935952912     A             0      0.0\n",
       "158  3941503500     A             0      0.0\n",
       "169  3967698036     B             0      0.0\n",
       "177  4109358064     B             0      0.0\n",
       "180  4134830387     A             0      0.0\n",
       "\n",
       "[36 rows x 4 columns]"
      ]
     },
     "execution_count": 24,
     "metadata": {},
     "output_type": "execute_result"
    }
   ],
   "source": [
    "df_visitors_groups = df_visitors_groups.loc[(df_visitors_groups['transactions'] == 0) & (df_visitors_groups['revenue'] == 0.0), :]\n",
    "df_visitors_groups"
   ]
  },
  {
   "cell_type": "code",
   "execution_count": 25,
   "id": "604e434f",
   "metadata": {},
   "outputs": [
    {
     "data": {
      "application/vnd.microsoft.datawrangler.viewer.v0+json": {
       "columns": [
        {
         "name": "index",
         "rawType": "int64",
         "type": "integer"
        },
        {
         "name": "transactionid",
         "rawType": "int64",
         "type": "integer"
        },
        {
         "name": "visitorid",
         "rawType": "int64",
         "type": "integer"
        },
        {
         "name": "date",
         "rawType": "object",
         "type": "unknown"
        },
        {
         "name": "revenue",
         "rawType": "float64",
         "type": "float"
        },
        {
         "name": "group",
         "rawType": "category",
         "type": "unknown"
        }
       ],
       "ref": "1c0ee2a7-1fb2-4bf6-83fb-eb2e6b367236",
       "rows": [
        [
         "2",
         "2961555356",
         "4069496402",
         "2019-08-15",
         "10.2",
         "A"
        ],
        [
         "20",
         "2904772834",
         "963407295",
         "2019-08-15",
         "5.6",
         "B"
        ],
        [
         "23",
         "4252514150",
         "351125977",
         "2019-08-15",
         "235.6",
         "B"
        ],
        [
         "24",
         "1162046357",
         "3234906277",
         "2019-08-15",
         "120.2",
         "B"
        ],
        [
         "26",
         "2223239646",
         "199603092",
         "2019-08-15",
         "55.7",
         "A"
        ],
        [
         "27",
         "1630050528",
         "237748145",
         "2019-08-15",
         "120.2",
         "B"
        ],
        [
         "29",
         "2220299125",
         "3803269165",
         "2019-08-15",
         "15.8",
         "A"
        ],
        [
         "32",
         "3666913472",
         "2038680547",
         "2019-08-15",
         "30.8",
         "B"
        ],
        [
         "33",
         "486237576",
         "2378935119",
         "2019-08-15",
         "30.4",
         "A"
        ],
        [
         "41",
         "2594268419",
         "237748145",
         "2019-08-15",
         "20.8",
         "A"
        ],
        [
         "60",
         "1421016313",
         "4256040402",
         "2019-08-16",
         "875.5",
         "B"
        ],
        [
         "61",
         "1251767592",
         "2712142231",
         "2019-08-16",
         "15.2",
         "B"
        ],
        [
         "71",
         "3679129301",
         "8300375",
         "2019-08-01",
         "165.7",
         "B"
        ],
        [
         "85",
         "1701653566",
         "276558944",
         "2019-08-22",
         "190.0",
         "B"
        ],
        [
         "94",
         "252633006",
         "457167155",
         "2019-08-22",
         "95.8",
         "B"
        ],
        [
         "95",
         "372616894",
         "457167155",
         "2019-08-22",
         "20.2",
         "B"
        ],
        [
         "111",
         "2736731761",
         "3062433592",
         "2019-08-01",
         "225.9",
         "B"
        ],
        [
         "112",
         "1638982251",
         "3062433592",
         "2019-08-01",
         "135.3",
         "B"
        ],
        [
         "114",
         "1120327437",
         "4256040402",
         "2019-08-01",
         "90.2",
         "A"
        ],
        [
         "117",
         "722060263",
         "2038680547",
         "2019-08-22",
         "15.7",
         "A"
        ],
        [
         "118",
         "4233533907",
         "2378935119",
         "2019-08-22",
         "55.2",
         "A"
        ],
        [
         "129",
         "1665445278",
         "1738359350",
         "2019-08-22",
         "50.2",
         "A"
        ],
        [
         "133",
         "3060563671",
         "2458001652",
         "2019-08-22",
         "80.8",
         "A"
        ],
        [
         "134",
         "62794304",
         "199603092",
         "2019-08-22",
         "110.3",
         "A"
        ],
        [
         "139",
         "4141167864",
         "2716752286",
         "2019-08-01",
         "125.9",
         "B"
        ],
        [
         "159",
         "1170827001",
         "3891541246",
         "2019-08-22",
         "20.2",
         "A"
        ],
        [
         "179",
         "1784270968",
         "2378935119",
         "2019-08-17",
         "5.8",
         "A"
        ],
        [
         "187",
         "2048878902",
         "4256040402",
         "2019-08-17",
         "25.8",
         "A"
        ],
        [
         "189",
         "4189935502",
         "1648269707",
         "2019-08-17",
         "5.5",
         "B"
        ],
        [
         "197",
         "2632798290",
         "2716752286",
         "2019-08-02",
         "35.2",
         "A"
        ],
        [
         "200",
         "2066718132",
         "3656415546",
         "2019-08-23",
         "45.8",
         "A"
        ],
        [
         "219",
         "2139320439",
         "2686716486",
         "2019-08-23",
         "170.6",
         "A"
        ],
        [
         "225",
         "2931845376",
         "2954449915",
         "2019-08-17",
         "170.0",
         "A"
        ],
        [
         "227",
         "4267573899",
         "2038680547",
         "2019-08-17",
         "55.4",
         "A"
        ],
        [
         "230",
         "3124204494",
         "2927087541",
         "2019-08-23",
         "425.8",
         "A"
        ],
        [
         "246",
         "437656952",
         "199603092",
         "2019-08-02",
         "55.7",
         "B"
        ],
        [
         "249",
         "1360774578",
         "3234906277",
         "2019-08-18",
         "120.2",
         "A"
        ],
        [
         "252",
         "473864496",
         "3803269165",
         "2019-08-23",
         "40.3",
         "B"
        ],
        [
         "253",
         "1610091760",
         "4256040402",
         "2019-08-23",
         "265.8",
         "A"
        ],
        [
         "254",
         "1545495643",
         "2686716486",
         "2019-08-23",
         "530.3",
         "B"
        ],
        [
         "256",
         "2370268995",
         "457167155",
         "2019-08-23",
         "25.9",
         "A"
        ],
        [
         "263",
         "2575861846",
         "4256040402",
         "2019-08-18",
         "170.8",
         "B"
        ],
        [
         "265",
         "3743515850",
         "2579882178",
         "2019-08-18",
         "30.6",
         "A"
        ],
        [
         "267",
         "131747281",
         "2579882178",
         "2019-08-18",
         "305.6",
         "B"
        ],
        [
         "269",
         "1067267410",
         "3957174400",
         "2019-08-18",
         "40.2",
         "A"
        ],
        [
         "279",
         "1101659272",
         "1648269707",
         "2019-08-18",
         "15.2",
         "A"
        ],
        [
         "304",
         "609915801",
         "2780786433",
         "2019-08-28",
         "20.5",
         "A"
        ],
        [
         "310",
         "3532704780",
         "3984495233",
         "2019-08-03",
         "315.1",
         "B"
        ],
        [
         "325",
         "4276811111",
         "818047933",
         "2019-08-28",
         "55.2",
         "A"
        ],
        [
         "327",
         "3909269888",
         "1668030113",
         "2019-08-28",
         "80.0",
         "B"
        ]
       ],
       "shape": {
        "columns": 5,
        "rows": 181
       }
      },
      "text/html": [
       "<div>\n",
       "<style scoped>\n",
       "    .dataframe tbody tr th:only-of-type {\n",
       "        vertical-align: middle;\n",
       "    }\n",
       "\n",
       "    .dataframe tbody tr th {\n",
       "        vertical-align: top;\n",
       "    }\n",
       "\n",
       "    .dataframe thead th {\n",
       "        text-align: right;\n",
       "    }\n",
       "</style>\n",
       "<table border=\"1\" class=\"dataframe\">\n",
       "  <thead>\n",
       "    <tr style=\"text-align: right;\">\n",
       "      <th></th>\n",
       "      <th>transactionid</th>\n",
       "      <th>visitorid</th>\n",
       "      <th>date</th>\n",
       "      <th>revenue</th>\n",
       "      <th>group</th>\n",
       "    </tr>\n",
       "  </thead>\n",
       "  <tbody>\n",
       "    <tr>\n",
       "      <th>2</th>\n",
       "      <td>2961555356</td>\n",
       "      <td>4069496402</td>\n",
       "      <td>2019-08-15</td>\n",
       "      <td>10.2</td>\n",
       "      <td>A</td>\n",
       "    </tr>\n",
       "    <tr>\n",
       "      <th>20</th>\n",
       "      <td>2904772834</td>\n",
       "      <td>963407295</td>\n",
       "      <td>2019-08-15</td>\n",
       "      <td>5.6</td>\n",
       "      <td>B</td>\n",
       "    </tr>\n",
       "    <tr>\n",
       "      <th>23</th>\n",
       "      <td>4252514150</td>\n",
       "      <td>351125977</td>\n",
       "      <td>2019-08-15</td>\n",
       "      <td>235.6</td>\n",
       "      <td>B</td>\n",
       "    </tr>\n",
       "    <tr>\n",
       "      <th>24</th>\n",
       "      <td>1162046357</td>\n",
       "      <td>3234906277</td>\n",
       "      <td>2019-08-15</td>\n",
       "      <td>120.2</td>\n",
       "      <td>B</td>\n",
       "    </tr>\n",
       "    <tr>\n",
       "      <th>26</th>\n",
       "      <td>2223239646</td>\n",
       "      <td>199603092</td>\n",
       "      <td>2019-08-15</td>\n",
       "      <td>55.7</td>\n",
       "      <td>A</td>\n",
       "    </tr>\n",
       "    <tr>\n",
       "      <th>...</th>\n",
       "      <td>...</td>\n",
       "      <td>...</td>\n",
       "      <td>...</td>\n",
       "      <td>...</td>\n",
       "      <td>...</td>\n",
       "    </tr>\n",
       "    <tr>\n",
       "      <th>1182</th>\n",
       "      <td>2682156369</td>\n",
       "      <td>1668030113</td>\n",
       "      <td>2019-08-14</td>\n",
       "      <td>20.8</td>\n",
       "      <td>B</td>\n",
       "    </tr>\n",
       "    <tr>\n",
       "      <th>1183</th>\n",
       "      <td>1458356232</td>\n",
       "      <td>963407295</td>\n",
       "      <td>2019-08-14</td>\n",
       "      <td>80.0</td>\n",
       "      <td>A</td>\n",
       "    </tr>\n",
       "    <tr>\n",
       "      <th>1184</th>\n",
       "      <td>1329499668</td>\n",
       "      <td>2949041841</td>\n",
       "      <td>2019-08-14</td>\n",
       "      <td>160.7</td>\n",
       "      <td>B</td>\n",
       "    </tr>\n",
       "    <tr>\n",
       "      <th>1189</th>\n",
       "      <td>4082620617</td>\n",
       "      <td>393266494</td>\n",
       "      <td>2019-08-14</td>\n",
       "      <td>490.4</td>\n",
       "      <td>B</td>\n",
       "    </tr>\n",
       "    <tr>\n",
       "      <th>1195</th>\n",
       "      <td>1947021204</td>\n",
       "      <td>1614305549</td>\n",
       "      <td>2019-08-14</td>\n",
       "      <td>5.5</td>\n",
       "      <td>A</td>\n",
       "    </tr>\n",
       "  </tbody>\n",
       "</table>\n",
       "<p>181 rows × 5 columns</p>\n",
       "</div>"
      ],
      "text/plain": [
       "      transactionid   visitorid        date  revenue group\n",
       "2        2961555356  4069496402  2019-08-15     10.2     A\n",
       "20       2904772834   963407295  2019-08-15      5.6     B\n",
       "23       4252514150   351125977  2019-08-15    235.6     B\n",
       "24       1162046357  3234906277  2019-08-15    120.2     B\n",
       "26       2223239646   199603092  2019-08-15     55.7     A\n",
       "...             ...         ...         ...      ...   ...\n",
       "1182     2682156369  1668030113  2019-08-14     20.8     B\n",
       "1183     1458356232   963407295  2019-08-14     80.0     A\n",
       "1184     1329499668  2949041841  2019-08-14    160.7     B\n",
       "1189     4082620617   393266494  2019-08-14    490.4     B\n",
       "1195     1947021204  1614305549  2019-08-14      5.5     A\n",
       "\n",
       "[181 rows x 5 columns]"
      ]
     },
     "execution_count": 25,
     "metadata": {},
     "output_type": "execute_result"
    }
   ],
   "source": [
    "df_orders_group_dup = df_orders_group_dup.loc[~(df_orders_group_dup['visitorid'].isin(df_visitors_groups['visitorid'])), :]\n",
    "df_orders_group_dup"
   ]
  },
  {
   "cell_type": "code",
   "execution_count": 26,
   "id": "c50bb190",
   "metadata": {},
   "outputs": [
    {
     "data": {
      "application/vnd.microsoft.datawrangler.viewer.v0+json": {
       "columns": [
        {
         "name": "index",
         "rawType": "int64",
         "type": "integer"
        },
        {
         "name": "transactionid",
         "rawType": "int64",
         "type": "integer"
        },
        {
         "name": "visitorid",
         "rawType": "int64",
         "type": "integer"
        },
        {
         "name": "date",
         "rawType": "object",
         "type": "unknown"
        },
        {
         "name": "revenue",
         "rawType": "float64",
         "type": "float"
        },
        {
         "name": "group",
         "rawType": "category",
         "type": "unknown"
        }
       ],
       "ref": "5ee21c66-6fdd-4274-b2e8-5e8d4313cf2b",
       "rows": [
        [
         "0",
         "3667963787",
         "3312258926",
         "2019-08-15",
         "30.4",
         "B"
        ],
        [
         "1",
         "2804400009",
         "3642806036",
         "2019-08-15",
         "15.2",
         "B"
        ],
        [
         "3",
         "3797467345",
         "1196621759",
         "2019-08-15",
         "155.1",
         "B"
        ],
        [
         "4",
         "2282983706",
         "2322279887",
         "2019-08-15",
         "40.5",
         "B"
        ],
        [
         "5",
         "182168103",
         "935554773",
         "2019-08-15",
         "35.0",
         "B"
        ],
        [
         "6",
         "398296753",
         "2900797465",
         "2019-08-15",
         "30.6",
         "B"
        ],
        [
         "7",
         "2626614568",
         "78758296",
         "2019-08-15",
         "20.1",
         "A"
        ],
        [
         "8",
         "1576988021",
         "295230930",
         "2019-08-15",
         "215.9",
         "A"
        ],
        [
         "9",
         "1506739906",
         "1882260405",
         "2019-08-15",
         "30.5",
         "B"
        ],
        [
         "10",
         "3649131742",
         "879864040",
         "2019-08-15",
         "65.7",
         "A"
        ],
        [
         "11",
         "1919444843",
         "927791387",
         "2019-08-15",
         "70.2",
         "B"
        ],
        [
         "12",
         "2809384911",
         "3213223594",
         "2019-08-15",
         "115.4",
         "A"
        ],
        [
         "13",
         "3044797713",
         "728063420",
         "2019-08-15",
         "185.4",
         "B"
        ],
        [
         "14",
         "3859315276",
         "1565034404",
         "2019-08-15",
         "170.9",
         "A"
        ],
        [
         "15",
         "2550768810",
         "2742574263",
         "2019-08-15",
         "235.0",
         "B"
        ],
        [
         "16",
         "1820531107",
         "2973109265",
         "2019-08-15",
         "20.3",
         "B"
        ],
        [
         "17",
         "1108180333",
         "222718357",
         "2019-08-15",
         "20.2",
         "B"
        ],
        [
         "18",
         "1822256754",
         "4227830084",
         "2019-08-15",
         "255.7",
         "A"
        ],
        [
         "19",
         "674584210",
         "3207734412",
         "2019-08-15",
         "20.3",
         "A"
        ],
        [
         "21",
         "1240630928",
         "1379151787",
         "2019-08-15",
         "20.2",
         "B"
        ],
        [
         "22",
         "235474681",
         "1638583360",
         "2019-08-15",
         "10.7",
         "B"
        ],
        [
         "25",
         "324018163",
         "87885904",
         "2019-08-15",
         "5.6",
         "A"
        ],
        [
         "28",
         "2632372083",
         "3591136796",
         "2019-08-15",
         "85.2",
         "B"
        ],
        [
         "30",
         "1678838030",
         "4027395615",
         "2019-08-15",
         "5.9",
         "B"
        ],
        [
         "31",
         "2552245563",
         "3024988998",
         "2019-08-15",
         "10.9",
         "B"
        ],
        [
         "34",
         "2153010762",
         "834683205",
         "2019-08-15",
         "355.5",
         "A"
        ],
        [
         "35",
         "2258664213",
         "258610743",
         "2019-08-15",
         "40.2",
         "B"
        ],
        [
         "36",
         "2165344951",
         "2805132315",
         "2019-08-15",
         "40.0",
         "B"
        ],
        [
         "37",
         "3601774485",
         "2231389472",
         "2019-08-15",
         "100.2",
         "B"
        ],
        [
         "38",
         "3276214732",
         "1110007955",
         "2019-08-15",
         "300.3",
         "B"
        ],
        [
         "39",
         "1950404403",
         "114507418",
         "2019-08-15",
         "10.4",
         "B"
        ],
        [
         "40",
         "733587530",
         "2552584164",
         "2019-08-15",
         "50.9",
         "B"
        ],
        [
         "42",
         "459882198",
         "1494664757",
         "2019-08-15",
         "145.9",
         "B"
        ],
        [
         "43",
         "2960804513",
         "544632063",
         "2019-08-15",
         "40.2",
         "B"
        ],
        [
         "44",
         "376170286",
         "1294108251",
         "2019-08-15",
         "50.2",
         "A"
        ],
        [
         "45",
         "837819976",
         "1471496742",
         "2019-08-16",
         "35.9",
         "A"
        ],
        [
         "46",
         "3298573369",
         "2735494018",
         "2019-08-16",
         "60.2",
         "A"
        ],
        [
         "47",
         "352861950",
         "930356060",
         "2019-08-16",
         "110.5",
         "B"
        ],
        [
         "48",
         "133616433",
         "1215602524",
         "2019-08-16",
         "20.2",
         "B"
        ],
        [
         "49",
         "937773181",
         "3251102545",
         "2019-08-16",
         "55.7",
         "A"
        ],
        [
         "50",
         "2236784294",
         "1690383497",
         "2019-08-16",
         "50.7",
         "B"
        ],
        [
         "51",
         "794298435",
         "2914239125",
         "2019-08-16",
         "280.5",
         "B"
        ],
        [
         "52",
         "854249928",
         "2570444314",
         "2019-08-16",
         "10.2",
         "B"
        ],
        [
         "53",
         "1545571412",
         "2978730290",
         "2019-08-16",
         "10.2",
         "A"
        ],
        [
         "54",
         "4159234359",
         "3660046170",
         "2019-08-16",
         "5.5",
         "A"
        ],
        [
         "55",
         "1144701458",
         "1143609305",
         "2019-08-01",
         "45.3",
         "A"
        ],
        [
         "56",
         "900025958",
         "5114589",
         "2019-08-16",
         "10.8",
         "B"
        ],
        [
         "57",
         "1218444584",
         "2951649436",
         "2019-08-16",
         "50.8",
         "A"
        ],
        [
         "58",
         "2145193898",
         "1221478247",
         "2019-08-16",
         "25.2",
         "B"
        ],
        [
         "59",
         "2787983461",
         "2115666868",
         "2019-08-16",
         "125.9",
         "B"
        ]
       ],
       "shape": {
        "columns": 5,
        "rows": 1016
       }
      },
      "text/html": [
       "<div>\n",
       "<style scoped>\n",
       "    .dataframe tbody tr th:only-of-type {\n",
       "        vertical-align: middle;\n",
       "    }\n",
       "\n",
       "    .dataframe tbody tr th {\n",
       "        vertical-align: top;\n",
       "    }\n",
       "\n",
       "    .dataframe thead th {\n",
       "        text-align: right;\n",
       "    }\n",
       "</style>\n",
       "<table border=\"1\" class=\"dataframe\">\n",
       "  <thead>\n",
       "    <tr style=\"text-align: right;\">\n",
       "      <th></th>\n",
       "      <th>transactionid</th>\n",
       "      <th>visitorid</th>\n",
       "      <th>date</th>\n",
       "      <th>revenue</th>\n",
       "      <th>group</th>\n",
       "    </tr>\n",
       "  </thead>\n",
       "  <tbody>\n",
       "    <tr>\n",
       "      <th>0</th>\n",
       "      <td>3667963787</td>\n",
       "      <td>3312258926</td>\n",
       "      <td>2019-08-15</td>\n",
       "      <td>30.4</td>\n",
       "      <td>B</td>\n",
       "    </tr>\n",
       "    <tr>\n",
       "      <th>1</th>\n",
       "      <td>2804400009</td>\n",
       "      <td>3642806036</td>\n",
       "      <td>2019-08-15</td>\n",
       "      <td>15.2</td>\n",
       "      <td>B</td>\n",
       "    </tr>\n",
       "    <tr>\n",
       "      <th>3</th>\n",
       "      <td>3797467345</td>\n",
       "      <td>1196621759</td>\n",
       "      <td>2019-08-15</td>\n",
       "      <td>155.1</td>\n",
       "      <td>B</td>\n",
       "    </tr>\n",
       "    <tr>\n",
       "      <th>4</th>\n",
       "      <td>2282983706</td>\n",
       "      <td>2322279887</td>\n",
       "      <td>2019-08-15</td>\n",
       "      <td>40.5</td>\n",
       "      <td>B</td>\n",
       "    </tr>\n",
       "    <tr>\n",
       "      <th>5</th>\n",
       "      <td>182168103</td>\n",
       "      <td>935554773</td>\n",
       "      <td>2019-08-15</td>\n",
       "      <td>35.0</td>\n",
       "      <td>B</td>\n",
       "    </tr>\n",
       "    <tr>\n",
       "      <th>...</th>\n",
       "      <td>...</td>\n",
       "      <td>...</td>\n",
       "      <td>...</td>\n",
       "      <td>...</td>\n",
       "      <td>...</td>\n",
       "    </tr>\n",
       "    <tr>\n",
       "      <th>1191</th>\n",
       "      <td>3592955527</td>\n",
       "      <td>608641596</td>\n",
       "      <td>2019-08-14</td>\n",
       "      <td>255.7</td>\n",
       "      <td>B</td>\n",
       "    </tr>\n",
       "    <tr>\n",
       "      <th>1192</th>\n",
       "      <td>2662137336</td>\n",
       "      <td>3733762160</td>\n",
       "      <td>2019-08-14</td>\n",
       "      <td>100.8</td>\n",
       "      <td>B</td>\n",
       "    </tr>\n",
       "    <tr>\n",
       "      <th>1193</th>\n",
       "      <td>2203539145</td>\n",
       "      <td>370388673</td>\n",
       "      <td>2019-08-14</td>\n",
       "      <td>50.1</td>\n",
       "      <td>A</td>\n",
       "    </tr>\n",
       "    <tr>\n",
       "      <th>1194</th>\n",
       "      <td>1807773912</td>\n",
       "      <td>573423106</td>\n",
       "      <td>2019-08-14</td>\n",
       "      <td>165.3</td>\n",
       "      <td>A</td>\n",
       "    </tr>\n",
       "    <tr>\n",
       "      <th>1196</th>\n",
       "      <td>3936777065</td>\n",
       "      <td>2108080724</td>\n",
       "      <td>2019-08-15</td>\n",
       "      <td>3120.1</td>\n",
       "      <td>B</td>\n",
       "    </tr>\n",
       "  </tbody>\n",
       "</table>\n",
       "<p>1016 rows × 5 columns</p>\n",
       "</div>"
      ],
      "text/plain": [
       "      transactionid   visitorid        date  revenue group\n",
       "0        3667963787  3312258926  2019-08-15     30.4     B\n",
       "1        2804400009  3642806036  2019-08-15     15.2     B\n",
       "3        3797467345  1196621759  2019-08-15    155.1     B\n",
       "4        2282983706  2322279887  2019-08-15     40.5     B\n",
       "5         182168103   935554773  2019-08-15     35.0     B\n",
       "...             ...         ...         ...      ...   ...\n",
       "1191     3592955527   608641596  2019-08-14    255.7     B\n",
       "1192     2662137336  3733762160  2019-08-14    100.8     B\n",
       "1193     2203539145   370388673  2019-08-14     50.1     A\n",
       "1194     1807773912   573423106  2019-08-14    165.3     A\n",
       "1196     3936777065  2108080724  2019-08-15   3120.1     B\n",
       "\n",
       "[1016 rows x 5 columns]"
      ]
     },
     "execution_count": 26,
     "metadata": {},
     "output_type": "execute_result"
    }
   ],
   "source": [
    "# Get visitorid belonging to just one group\n",
    "df_orders = df_orders.loc[~(df_orders['visitorid'].isin(df_orders_group_dup['visitorid'].unique())), :]\n",
    "df_orders"
   ]
  },
  {
   "cell_type": "markdown",
   "id": "751a1454",
   "metadata": {},
   "source": [
    "### 💡 __5. Hypotheses__"
   ]
  },
  {
   "cell_type": "markdown",
   "id": "ebafb03f",
   "metadata": {},
   "source": [
    "##### __5.1__ Prioritize Hypotheses\n",
    "\n",
    "The hypotheses_us.csv file contains nine hypotheses for increasing online store revenue, with Reach, Impact, Confidence, and Effort specified for each."
   ]
  },
  {
   "cell_type": "code",
   "execution_count": 27,
   "id": "f0f7af3b",
   "metadata": {},
   "outputs": [
    {
     "data": {
      "application/vnd.microsoft.datawrangler.viewer.v0+json": {
       "columns": [
        {
         "name": "index",
         "rawType": "int64",
         "type": "integer"
        },
        {
         "name": "hypothesis",
         "rawType": "string",
         "type": "string"
        },
        {
         "name": "reach",
         "rawType": "int64",
         "type": "integer"
        },
        {
         "name": "impact",
         "rawType": "int64",
         "type": "integer"
        },
        {
         "name": "confidence",
         "rawType": "int64",
         "type": "integer"
        },
        {
         "name": "effort",
         "rawType": "int64",
         "type": "integer"
        }
       ],
       "ref": "b6a42cb2-f307-41b5-9023-befe98165951",
       "rows": [
        [
         "0",
         "Add two new channels for attracting traffic. This will bring 30% more users",
         "3",
         "10",
         "8",
         "6"
        ],
        [
         "1",
         "Launch your own delivery service. This will shorten delivery time",
         "2",
         "5",
         "4",
         "10"
        ],
        [
         "2",
         "Add product recommendation blocks to the store's site. This will increase conversion and average purchase size",
         "8",
         "3",
         "7",
         "3"
        ],
        [
         "3",
         "Change the category structure. This will increase conversion since users will find the products they want more quickly",
         "8",
         "3",
         "3",
         "8"
        ],
        [
         "4",
         "Change the background color on the main page. This will increase user engagement",
         "3",
         "1",
         "1",
         "1"
        ],
        [
         "5",
         "Add a customer review page. This will increase the number of orders",
         "3",
         "2",
         "2",
         "3"
        ],
        [
         "6",
         "Show banners with current offers and sales on the main page. This will boost conversion",
         "5",
         "3",
         "8",
         "3"
        ],
        [
         "7",
         "Add a subscription form to all the main pages. This will help you compile a mailing list",
         "10",
         "7",
         "8",
         "5"
        ],
        [
         "8",
         "Launch a promotion that gives users discounts on their birthdays",
         "1",
         "9",
         "9",
         "5"
        ]
       ],
       "shape": {
        "columns": 5,
        "rows": 9
       }
      },
      "text/html": [
       "<div>\n",
       "<style scoped>\n",
       "    .dataframe tbody tr th:only-of-type {\n",
       "        vertical-align: middle;\n",
       "    }\n",
       "\n",
       "    .dataframe tbody tr th {\n",
       "        vertical-align: top;\n",
       "    }\n",
       "\n",
       "    .dataframe thead th {\n",
       "        text-align: right;\n",
       "    }\n",
       "</style>\n",
       "<table border=\"1\" class=\"dataframe\">\n",
       "  <thead>\n",
       "    <tr style=\"text-align: right;\">\n",
       "      <th></th>\n",
       "      <th>hypothesis</th>\n",
       "      <th>reach</th>\n",
       "      <th>impact</th>\n",
       "      <th>confidence</th>\n",
       "      <th>effort</th>\n",
       "    </tr>\n",
       "  </thead>\n",
       "  <tbody>\n",
       "    <tr>\n",
       "      <th>0</th>\n",
       "      <td>Add two new channels for attracting traffic. T...</td>\n",
       "      <td>3</td>\n",
       "      <td>10</td>\n",
       "      <td>8</td>\n",
       "      <td>6</td>\n",
       "    </tr>\n",
       "    <tr>\n",
       "      <th>1</th>\n",
       "      <td>Launch your own delivery service. This will sh...</td>\n",
       "      <td>2</td>\n",
       "      <td>5</td>\n",
       "      <td>4</td>\n",
       "      <td>10</td>\n",
       "    </tr>\n",
       "    <tr>\n",
       "      <th>2</th>\n",
       "      <td>Add product recommendation blocks to the store...</td>\n",
       "      <td>8</td>\n",
       "      <td>3</td>\n",
       "      <td>7</td>\n",
       "      <td>3</td>\n",
       "    </tr>\n",
       "    <tr>\n",
       "      <th>3</th>\n",
       "      <td>Change the category structure. This will incre...</td>\n",
       "      <td>8</td>\n",
       "      <td>3</td>\n",
       "      <td>3</td>\n",
       "      <td>8</td>\n",
       "    </tr>\n",
       "    <tr>\n",
       "      <th>4</th>\n",
       "      <td>Change the background color on the main page. ...</td>\n",
       "      <td>3</td>\n",
       "      <td>1</td>\n",
       "      <td>1</td>\n",
       "      <td>1</td>\n",
       "    </tr>\n",
       "    <tr>\n",
       "      <th>5</th>\n",
       "      <td>Add a customer review page. This will increase...</td>\n",
       "      <td>3</td>\n",
       "      <td>2</td>\n",
       "      <td>2</td>\n",
       "      <td>3</td>\n",
       "    </tr>\n",
       "    <tr>\n",
       "      <th>6</th>\n",
       "      <td>Show banners with current offers and sales on ...</td>\n",
       "      <td>5</td>\n",
       "      <td>3</td>\n",
       "      <td>8</td>\n",
       "      <td>3</td>\n",
       "    </tr>\n",
       "    <tr>\n",
       "      <th>7</th>\n",
       "      <td>Add a subscription form to all the main pages....</td>\n",
       "      <td>10</td>\n",
       "      <td>7</td>\n",
       "      <td>8</td>\n",
       "      <td>5</td>\n",
       "    </tr>\n",
       "    <tr>\n",
       "      <th>8</th>\n",
       "      <td>Launch a promotion that gives users discounts ...</td>\n",
       "      <td>1</td>\n",
       "      <td>9</td>\n",
       "      <td>9</td>\n",
       "      <td>5</td>\n",
       "    </tr>\n",
       "  </tbody>\n",
       "</table>\n",
       "</div>"
      ],
      "text/plain": [
       "                                          hypothesis  reach  impact  confidence  effort\n",
       "0  Add two new channels for attracting traffic. T...      3      10           8       6\n",
       "1  Launch your own delivery service. This will sh...      2       5           4      10\n",
       "2  Add product recommendation blocks to the store...      8       3           7       3\n",
       "3  Change the category structure. This will incre...      8       3           3       8\n",
       "4  Change the background color on the main page. ...      3       1           1       1\n",
       "5  Add a customer review page. This will increase...      3       2           2       3\n",
       "6  Show banners with current offers and sales on ...      5       3           8       3\n",
       "7  Add a subscription form to all the main pages....     10       7           8       5\n",
       "8  Launch a promotion that gives users discounts ...      1       9           9       5"
      ]
     },
     "execution_count": 27,
     "metadata": {},
     "output_type": "execute_result"
    }
   ],
   "source": [
    "df_hypotheses"
   ]
  },
  {
   "cell_type": "markdown",
   "id": "c2981288",
   "metadata": {},
   "source": [
    "##### __5.1.1__ Apply the ICE framework to prioritize hypotheses. Order them in descending order of priority."
   ]
  },
  {
   "cell_type": "code",
   "execution_count": 28,
   "id": "d3a3ce74",
   "metadata": {},
   "outputs": [
    {
     "data": {
      "application/vnd.microsoft.datawrangler.viewer.v0+json": {
       "columns": [
        {
         "name": "index",
         "rawType": "int64",
         "type": "integer"
        },
        {
         "name": "hypothesis",
         "rawType": "string",
         "type": "string"
        },
        {
         "name": "reach",
         "rawType": "int64",
         "type": "integer"
        },
        {
         "name": "impact",
         "rawType": "int64",
         "type": "integer"
        },
        {
         "name": "confidence",
         "rawType": "int64",
         "type": "integer"
        },
        {
         "name": "effort",
         "rawType": "int64",
         "type": "integer"
        },
        {
         "name": "ice_score",
         "rawType": "float64",
         "type": "float"
        }
       ],
       "ref": "eb49316b-2849-4417-802d-1ba46c910fa1",
       "rows": [
        [
         "8",
         "Launch a promotion that gives users discounts on their birthdays",
         "1",
         "9",
         "9",
         "5",
         "16.2"
        ],
        [
         "0",
         "Add two new channels for attracting traffic. This will bring 30% more users",
         "3",
         "10",
         "8",
         "6",
         "13.333333333333334"
        ],
        [
         "7",
         "Add a subscription form to all the main pages. This will help you compile a mailing list",
         "10",
         "7",
         "8",
         "5",
         "11.2"
        ],
        [
         "6",
         "Show banners with current offers and sales on the main page. This will boost conversion",
         "5",
         "3",
         "8",
         "3",
         "8.0"
        ],
        [
         "2",
         "Add product recommendation blocks to the store's site. This will increase conversion and average purchase size",
         "8",
         "3",
         "7",
         "3",
         "7.0"
        ],
        [
         "1",
         "Launch your own delivery service. This will shorten delivery time",
         "2",
         "5",
         "4",
         "10",
         "2.0"
        ],
        [
         "5",
         "Add a customer review page. This will increase the number of orders",
         "3",
         "2",
         "2",
         "3",
         "1.3333333333333333"
        ],
        [
         "3",
         "Change the category structure. This will increase conversion since users will find the products they want more quickly",
         "8",
         "3",
         "3",
         "8",
         "1.125"
        ],
        [
         "4",
         "Change the background color on the main page. This will increase user engagement",
         "3",
         "1",
         "1",
         "1",
         "1.0"
        ]
       ],
       "shape": {
        "columns": 6,
        "rows": 9
       }
      },
      "text/html": [
       "<div>\n",
       "<style scoped>\n",
       "    .dataframe tbody tr th:only-of-type {\n",
       "        vertical-align: middle;\n",
       "    }\n",
       "\n",
       "    .dataframe tbody tr th {\n",
       "        vertical-align: top;\n",
       "    }\n",
       "\n",
       "    .dataframe thead th {\n",
       "        text-align: right;\n",
       "    }\n",
       "</style>\n",
       "<table border=\"1\" class=\"dataframe\">\n",
       "  <thead>\n",
       "    <tr style=\"text-align: right;\">\n",
       "      <th></th>\n",
       "      <th>hypothesis</th>\n",
       "      <th>reach</th>\n",
       "      <th>impact</th>\n",
       "      <th>confidence</th>\n",
       "      <th>effort</th>\n",
       "      <th>ice_score</th>\n",
       "    </tr>\n",
       "  </thead>\n",
       "  <tbody>\n",
       "    <tr>\n",
       "      <th>8</th>\n",
       "      <td>Launch a promotion that gives users discounts ...</td>\n",
       "      <td>1</td>\n",
       "      <td>9</td>\n",
       "      <td>9</td>\n",
       "      <td>5</td>\n",
       "      <td>16.200000</td>\n",
       "    </tr>\n",
       "    <tr>\n",
       "      <th>0</th>\n",
       "      <td>Add two new channels for attracting traffic. T...</td>\n",
       "      <td>3</td>\n",
       "      <td>10</td>\n",
       "      <td>8</td>\n",
       "      <td>6</td>\n",
       "      <td>13.333333</td>\n",
       "    </tr>\n",
       "    <tr>\n",
       "      <th>7</th>\n",
       "      <td>Add a subscription form to all the main pages....</td>\n",
       "      <td>10</td>\n",
       "      <td>7</td>\n",
       "      <td>8</td>\n",
       "      <td>5</td>\n",
       "      <td>11.200000</td>\n",
       "    </tr>\n",
       "    <tr>\n",
       "      <th>6</th>\n",
       "      <td>Show banners with current offers and sales on ...</td>\n",
       "      <td>5</td>\n",
       "      <td>3</td>\n",
       "      <td>8</td>\n",
       "      <td>3</td>\n",
       "      <td>8.000000</td>\n",
       "    </tr>\n",
       "    <tr>\n",
       "      <th>2</th>\n",
       "      <td>Add product recommendation blocks to the store...</td>\n",
       "      <td>8</td>\n",
       "      <td>3</td>\n",
       "      <td>7</td>\n",
       "      <td>3</td>\n",
       "      <td>7.000000</td>\n",
       "    </tr>\n",
       "    <tr>\n",
       "      <th>1</th>\n",
       "      <td>Launch your own delivery service. This will sh...</td>\n",
       "      <td>2</td>\n",
       "      <td>5</td>\n",
       "      <td>4</td>\n",
       "      <td>10</td>\n",
       "      <td>2.000000</td>\n",
       "    </tr>\n",
       "    <tr>\n",
       "      <th>5</th>\n",
       "      <td>Add a customer review page. This will increase...</td>\n",
       "      <td>3</td>\n",
       "      <td>2</td>\n",
       "      <td>2</td>\n",
       "      <td>3</td>\n",
       "      <td>1.333333</td>\n",
       "    </tr>\n",
       "    <tr>\n",
       "      <th>3</th>\n",
       "      <td>Change the category structure. This will incre...</td>\n",
       "      <td>8</td>\n",
       "      <td>3</td>\n",
       "      <td>3</td>\n",
       "      <td>8</td>\n",
       "      <td>1.125000</td>\n",
       "    </tr>\n",
       "    <tr>\n",
       "      <th>4</th>\n",
       "      <td>Change the background color on the main page. ...</td>\n",
       "      <td>3</td>\n",
       "      <td>1</td>\n",
       "      <td>1</td>\n",
       "      <td>1</td>\n",
       "      <td>1.000000</td>\n",
       "    </tr>\n",
       "  </tbody>\n",
       "</table>\n",
       "</div>"
      ],
      "text/plain": [
       "                                          hypothesis  reach  impact  confidence  effort  ice_score\n",
       "8  Launch a promotion that gives users discounts ...      1       9           9       5  16.200000\n",
       "0  Add two new channels for attracting traffic. T...      3      10           8       6  13.333333\n",
       "7  Add a subscription form to all the main pages....     10       7           8       5  11.200000\n",
       "6  Show banners with current offers and sales on ...      5       3           8       3   8.000000\n",
       "2  Add product recommendation blocks to the store...      8       3           7       3   7.000000\n",
       "1  Launch your own delivery service. This will sh...      2       5           4      10   2.000000\n",
       "5  Add a customer review page. This will increase...      3       2           2       3   1.333333\n",
       "3  Change the category structure. This will incre...      8       3           3       8   1.125000\n",
       "4  Change the background color on the main page. ...      3       1           1       1   1.000000"
      ]
     },
     "execution_count": 28,
     "metadata": {},
     "output_type": "execute_result"
    }
   ],
   "source": [
    "df_hypotheses = ice_prioritization(df_hypotheses, method='effort').sort_values(by='ice_score', ascending=False)\n",
    "df_hypotheses"
   ]
  },
  {
   "cell_type": "markdown",
   "id": "50e705c7",
   "metadata": {},
   "source": [
    "##### __5.1.2__ Apply the RICE framework to prioritize hypotheses. Order them in descending order of priority."
   ]
  },
  {
   "cell_type": "code",
   "execution_count": 29,
   "id": "b2c2b348",
   "metadata": {},
   "outputs": [
    {
     "data": {
      "application/vnd.microsoft.datawrangler.viewer.v0+json": {
       "columns": [
        {
         "name": "index",
         "rawType": "int64",
         "type": "integer"
        },
        {
         "name": "hypothesis",
         "rawType": "string",
         "type": "string"
        },
        {
         "name": "reach",
         "rawType": "int64",
         "type": "integer"
        },
        {
         "name": "impact",
         "rawType": "int64",
         "type": "integer"
        },
        {
         "name": "confidence",
         "rawType": "int64",
         "type": "integer"
        },
        {
         "name": "effort",
         "rawType": "int64",
         "type": "integer"
        },
        {
         "name": "ice_score",
         "rawType": "float64",
         "type": "float"
        },
        {
         "name": "rice_score",
         "rawType": "float64",
         "type": "float"
        }
       ],
       "ref": "409f351d-de1c-4eea-b872-0470c5d1c537",
       "rows": [
        [
         "7",
         "Add a subscription form to all the main pages. This will help you compile a mailing list",
         "10",
         "7",
         "8",
         "5",
         "11.2",
         "112.0"
        ],
        [
         "2",
         "Add product recommendation blocks to the store's site. This will increase conversion and average purchase size",
         "8",
         "3",
         "7",
         "3",
         "7.0",
         "56.0"
        ],
        [
         "0",
         "Add two new channels for attracting traffic. This will bring 30% more users",
         "3",
         "10",
         "8",
         "6",
         "13.333333333333334",
         "40.0"
        ],
        [
         "6",
         "Show banners with current offers and sales on the main page. This will boost conversion",
         "5",
         "3",
         "8",
         "3",
         "8.0",
         "40.0"
        ],
        [
         "8",
         "Launch a promotion that gives users discounts on their birthdays",
         "1",
         "9",
         "9",
         "5",
         "16.2",
         "16.2"
        ],
        [
         "3",
         "Change the category structure. This will increase conversion since users will find the products they want more quickly",
         "8",
         "3",
         "3",
         "8",
         "1.125",
         "9.0"
        ],
        [
         "1",
         "Launch your own delivery service. This will shorten delivery time",
         "2",
         "5",
         "4",
         "10",
         "2.0",
         "4.0"
        ],
        [
         "5",
         "Add a customer review page. This will increase the number of orders",
         "3",
         "2",
         "2",
         "3",
         "1.3333333333333333",
         "4.0"
        ],
        [
         "4",
         "Change the background color on the main page. This will increase user engagement",
         "3",
         "1",
         "1",
         "1",
         "1.0",
         "3.0"
        ]
       ],
       "shape": {
        "columns": 7,
        "rows": 9
       }
      },
      "text/html": [
       "<div>\n",
       "<style scoped>\n",
       "    .dataframe tbody tr th:only-of-type {\n",
       "        vertical-align: middle;\n",
       "    }\n",
       "\n",
       "    .dataframe tbody tr th {\n",
       "        vertical-align: top;\n",
       "    }\n",
       "\n",
       "    .dataframe thead th {\n",
       "        text-align: right;\n",
       "    }\n",
       "</style>\n",
       "<table border=\"1\" class=\"dataframe\">\n",
       "  <thead>\n",
       "    <tr style=\"text-align: right;\">\n",
       "      <th></th>\n",
       "      <th>hypothesis</th>\n",
       "      <th>reach</th>\n",
       "      <th>impact</th>\n",
       "      <th>confidence</th>\n",
       "      <th>effort</th>\n",
       "      <th>ice_score</th>\n",
       "      <th>rice_score</th>\n",
       "    </tr>\n",
       "  </thead>\n",
       "  <tbody>\n",
       "    <tr>\n",
       "      <th>7</th>\n",
       "      <td>Add a subscription form to all the main pages....</td>\n",
       "      <td>10</td>\n",
       "      <td>7</td>\n",
       "      <td>8</td>\n",
       "      <td>5</td>\n",
       "      <td>11.200000</td>\n",
       "      <td>112.0</td>\n",
       "    </tr>\n",
       "    <tr>\n",
       "      <th>2</th>\n",
       "      <td>Add product recommendation blocks to the store...</td>\n",
       "      <td>8</td>\n",
       "      <td>3</td>\n",
       "      <td>7</td>\n",
       "      <td>3</td>\n",
       "      <td>7.000000</td>\n",
       "      <td>56.0</td>\n",
       "    </tr>\n",
       "    <tr>\n",
       "      <th>0</th>\n",
       "      <td>Add two new channels for attracting traffic. T...</td>\n",
       "      <td>3</td>\n",
       "      <td>10</td>\n",
       "      <td>8</td>\n",
       "      <td>6</td>\n",
       "      <td>13.333333</td>\n",
       "      <td>40.0</td>\n",
       "    </tr>\n",
       "    <tr>\n",
       "      <th>6</th>\n",
       "      <td>Show banners with current offers and sales on ...</td>\n",
       "      <td>5</td>\n",
       "      <td>3</td>\n",
       "      <td>8</td>\n",
       "      <td>3</td>\n",
       "      <td>8.000000</td>\n",
       "      <td>40.0</td>\n",
       "    </tr>\n",
       "    <tr>\n",
       "      <th>8</th>\n",
       "      <td>Launch a promotion that gives users discounts ...</td>\n",
       "      <td>1</td>\n",
       "      <td>9</td>\n",
       "      <td>9</td>\n",
       "      <td>5</td>\n",
       "      <td>16.200000</td>\n",
       "      <td>16.2</td>\n",
       "    </tr>\n",
       "    <tr>\n",
       "      <th>3</th>\n",
       "      <td>Change the category structure. This will incre...</td>\n",
       "      <td>8</td>\n",
       "      <td>3</td>\n",
       "      <td>3</td>\n",
       "      <td>8</td>\n",
       "      <td>1.125000</td>\n",
       "      <td>9.0</td>\n",
       "    </tr>\n",
       "    <tr>\n",
       "      <th>1</th>\n",
       "      <td>Launch your own delivery service. This will sh...</td>\n",
       "      <td>2</td>\n",
       "      <td>5</td>\n",
       "      <td>4</td>\n",
       "      <td>10</td>\n",
       "      <td>2.000000</td>\n",
       "      <td>4.0</td>\n",
       "    </tr>\n",
       "    <tr>\n",
       "      <th>5</th>\n",
       "      <td>Add a customer review page. This will increase...</td>\n",
       "      <td>3</td>\n",
       "      <td>2</td>\n",
       "      <td>2</td>\n",
       "      <td>3</td>\n",
       "      <td>1.333333</td>\n",
       "      <td>4.0</td>\n",
       "    </tr>\n",
       "    <tr>\n",
       "      <th>4</th>\n",
       "      <td>Change the background color on the main page. ...</td>\n",
       "      <td>3</td>\n",
       "      <td>1</td>\n",
       "      <td>1</td>\n",
       "      <td>1</td>\n",
       "      <td>1.000000</td>\n",
       "      <td>3.0</td>\n",
       "    </tr>\n",
       "  </tbody>\n",
       "</table>\n",
       "</div>"
      ],
      "text/plain": [
       "                                          hypothesis  reach  impact  confidence  effort  ice_score  rice_score\n",
       "7  Add a subscription form to all the main pages....     10       7           8       5  11.200000       112.0\n",
       "2  Add product recommendation blocks to the store...      8       3           7       3   7.000000        56.0\n",
       "0  Add two new channels for attracting traffic. T...      3      10           8       6  13.333333        40.0\n",
       "6  Show banners with current offers and sales on ...      5       3           8       3   8.000000        40.0\n",
       "8  Launch a promotion that gives users discounts ...      1       9           9       5  16.200000        16.2\n",
       "3  Change the category structure. This will incre...      8       3           3       8   1.125000         9.0\n",
       "1  Launch your own delivery service. This will sh...      2       5           4      10   2.000000         4.0\n",
       "5  Add a customer review page. This will increase...      3       2           2       3   1.333333         4.0\n",
       "4  Change the background color on the main page. ...      3       1           1       1   1.000000         3.0"
      ]
     },
     "execution_count": 29,
     "metadata": {},
     "output_type": "execute_result"
    }
   ],
   "source": [
    "df_hypotheses = ice_prioritization(df_hypotheses, method='rice').sort_values(by='rice_score', ascending=False)\n",
    "df_hypotheses"
   ]
  },
  {
   "cell_type": "markdown",
   "id": "524c397b",
   "metadata": {},
   "source": [
    "##### __5.1.3__ Show how hypothesis prioritization changes when you use RICE instead of ICE. Provide an explanation of the changes.\n",
    "\n",
    "`LSPL` - The difference is the extra 'reach' factor\n",
    "\n",
    "1. ICE only balances quality vs cost\n",
    "\n",
    "    - It looks at how strong an idea is (Impact × Confidence) relative to how hard it is to implement (Effort).\n",
    "    - It does not care how many users/customers the idea actually touches.\n",
    "\n",
    "2. RICE adds user scale into the equation\n",
    "\n",
    "    - By multiplying by Reach, RICE favors ideas that affect a larger audience.\n",
    "    - This can drastically reorder priorities, because something with moderate impact but high reach can outrank something with very high impact but low reach.\n",
    "\n",
    "3. The practical effect\n",
    "\n",
    "    - ICE tends to favor “big wins” (high-impact ideas). Good for internal processes or niche product features where reach is not relevant.\n",
    "    - RICE tends to favor “broad wins” (ideas that touch more users, even if individually less impactful). Better when you need to decide where to allocate resources for customer-facing features, since reach matters."
   ]
  },
  {
   "cell_type": "markdown",
   "id": "925e0e42",
   "metadata": {},
   "source": [
    "##### __5.2__ A/B Test Analysis"
   ]
  },
  {
   "cell_type": "markdown",
   "id": "cbb04eee",
   "metadata": {},
   "source": [
    "##### __5.2.1__ Graph the cumulative income by group. Draw conclusions and make conjectures."
   ]
  },
  {
   "cell_type": "code",
   "execution_count": 30,
   "id": "b77c39b8",
   "metadata": {},
   "outputs": [
    {
     "data": {
      "application/vnd.microsoft.datawrangler.viewer.v0+json": {
       "columns": [
        {
         "name": "index",
         "rawType": "int64",
         "type": "integer"
        },
        {
         "name": "transactionid",
         "rawType": "int64",
         "type": "integer"
        },
        {
         "name": "visitorid",
         "rawType": "int64",
         "type": "integer"
        },
        {
         "name": "date",
         "rawType": "object",
         "type": "unknown"
        },
        {
         "name": "revenue",
         "rawType": "float64",
         "type": "float"
        },
        {
         "name": "group",
         "rawType": "category",
         "type": "unknown"
        }
       ],
       "ref": "61e9e60c-a8c3-4f81-a57e-df524e1171d4",
       "rows": [
        [
         "55",
         "1144701458",
         "1143609305",
         "2019-08-01",
         "45.3",
         "A"
        ],
        [
         "72",
         "477940151",
         "1422773200",
         "2019-08-01",
         "15.8",
         "A"
        ],
        [
         "73",
         "1295850747",
         "2947100995",
         "2019-08-01",
         "455.8",
         "A"
        ],
        [
         "96",
         "1170105516",
         "2706377257",
         "2019-08-01",
         "140.8",
         "A"
        ],
        [
         "98",
         "1962247337",
         "2706377257",
         "2019-08-01",
         "110.7",
         "A"
        ],
        [
         "99",
         "2951489300",
         "926057494",
         "2019-08-01",
         "5.6",
         "A"
        ],
        [
         "101",
         "3847160695",
         "1830791924",
         "2019-08-01",
         "40.2",
         "A"
        ],
        [
         "102",
         "3328372908",
         "381340408",
         "2019-08-01",
         "50.1",
         "A"
        ],
        [
         "104",
         "627804981",
         "611059232",
         "2019-08-01",
         "275.8",
         "A"
        ],
        [
         "113",
         "2663968367",
         "821846484",
         "2019-08-01",
         "30.1",
         "A"
        ],
        [
         "137",
         "1798931686",
         "1211585711",
         "2019-08-01",
         "440.3",
         "A"
        ],
        [
         "141",
         "602399015",
         "3967698036",
         "2019-08-01",
         "5.6",
         "A"
        ],
        [
         "143",
         "3433533137",
         "678354126",
         "2019-08-01",
         "100.4",
         "A"
        ],
        [
         "144",
         "365058890",
         "611059232",
         "2019-08-01",
         "45.3",
         "A"
        ],
        [
         "145",
         "735232225",
         "611059232",
         "2019-08-01",
         "140.4",
         "A"
        ],
        [
         "147",
         "52260954",
         "3967698036",
         "2019-08-01",
         "20.2",
         "A"
        ],
        [
         "153",
         "4045393544",
         "991436984",
         "2019-08-01",
         "30.5",
         "A"
        ],
        [
         "154",
         "4206138190",
         "1219079053",
         "2019-08-01",
         "80.5",
         "A"
        ],
        [
         "155",
         "891673177",
         "572335325",
         "2019-08-01",
         "60.8",
         "A"
        ],
        [
         "168",
         "2065527789",
         "1581167209",
         "2019-08-01",
         "30.4",
         "A"
        ],
        [
         "169",
         "3588515863",
         "1737494355",
         "2019-08-01",
         "30.8",
         "A"
        ],
        [
         "170",
         "617930325",
         "2785040378",
         "2019-08-01",
         "55.8",
         "A"
        ],
        [
         "171",
         "2153842875",
         "876081193",
         "2019-08-01",
         "55.4",
         "A"
        ],
        [
         "66",
         "4919758",
         "1217561296",
         "2019-08-01",
         "40.2",
         "B"
        ],
        [
         "70",
         "3574407166",
         "2328378067",
         "2019-08-01",
         "140.4",
         "B"
        ],
        [
         "97",
         "2012801741",
         "414545763",
         "2019-08-01",
         "90.5",
         "B"
        ],
        [
         "100",
         "804934578",
         "1738775963",
         "2019-08-01",
         "50.8",
         "B"
        ],
        [
         "103",
         "2951399376",
         "2019355024",
         "2019-08-01",
         "40.2",
         "B"
        ],
        [
         "109",
         "2411689164",
         "2019205281",
         "2019-08-01",
         "80.2",
         "B"
        ],
        [
         "110",
         "3749160238",
         "1700445283",
         "2019-08-01",
         "110.5",
         "B"
        ],
        [
         "115",
         "3486821141",
         "1225835168",
         "2019-08-01",
         "5.6",
         "B"
        ],
        [
         "135",
         "3394915331",
         "1354599463",
         "2019-08-01",
         "120.3",
         "B"
        ],
        [
         "136",
         "1578920557",
         "680119828",
         "2019-08-01",
         "10.6",
         "B"
        ],
        [
         "138",
         "1403947326",
         "1075551409",
         "2019-08-01",
         "10.0",
         "B"
        ],
        [
         "140",
         "2774185760",
         "975516572",
         "2019-08-01",
         "20.3",
         "B"
        ],
        [
         "142",
         "854120002",
         "544963298",
         "2019-08-01",
         "25.9",
         "B"
        ],
        [
         "146",
         "3650534576",
         "134926050",
         "2019-08-01",
         "50.0",
         "B"
        ],
        [
         "148",
         "4238948438",
         "363280180",
         "2019-08-01",
         "5.6",
         "B"
        ],
        [
         "151",
         "1728664132",
         "1596819047",
         "2019-08-01",
         "10.6",
         "B"
        ],
        [
         "152",
         "3227521980",
         "3938001975",
         "2019-08-01",
         "155.5",
         "B"
        ],
        [
         "175",
         "1223645875",
         "3123255051",
         "2019-08-02",
         "50.8",
         "A"
        ],
        [
         "190",
         "1876585139",
         "2871453277",
         "2019-08-02",
         "110.8",
         "A"
        ],
        [
         "191",
         "2361024027",
         "3967698036",
         "2019-08-02",
         "30.0",
         "A"
        ],
        [
         "192",
         "2815409412",
         "2125253600",
         "2019-08-02",
         "15.7",
         "A"
        ],
        [
         "195",
         "2872509092",
         "983496389",
         "2019-08-02",
         "5.5",
         "A"
        ],
        [
         "196",
         "1216926230",
         "1500448895",
         "2019-08-02",
         "45.7",
         "A"
        ],
        [
         "198",
         "2206098194",
         "2880866577",
         "2019-08-02",
         "30.0",
         "A"
        ],
        [
         "206",
         "3390093829",
         "3199637546",
         "2019-08-02",
         "45.6",
         "A"
        ],
        [
         "209",
         "873230871",
         "236764260",
         "2019-08-02",
         "90.8",
         "A"
        ],
        [
         "214",
         "3485678199",
         "2232111114",
         "2019-08-02",
         "270.0",
         "A"
        ]
       ],
       "shape": {
        "columns": 5,
        "rows": 1016
       }
      },
      "text/html": [
       "<div>\n",
       "<style scoped>\n",
       "    .dataframe tbody tr th:only-of-type {\n",
       "        vertical-align: middle;\n",
       "    }\n",
       "\n",
       "    .dataframe tbody tr th {\n",
       "        vertical-align: top;\n",
       "    }\n",
       "\n",
       "    .dataframe thead th {\n",
       "        text-align: right;\n",
       "    }\n",
       "</style>\n",
       "<table border=\"1\" class=\"dataframe\">\n",
       "  <thead>\n",
       "    <tr style=\"text-align: right;\">\n",
       "      <th></th>\n",
       "      <th>transactionid</th>\n",
       "      <th>visitorid</th>\n",
       "      <th>date</th>\n",
       "      <th>revenue</th>\n",
       "      <th>group</th>\n",
       "    </tr>\n",
       "  </thead>\n",
       "  <tbody>\n",
       "    <tr>\n",
       "      <th>55</th>\n",
       "      <td>1144701458</td>\n",
       "      <td>1143609305</td>\n",
       "      <td>2019-08-01</td>\n",
       "      <td>45.3</td>\n",
       "      <td>A</td>\n",
       "    </tr>\n",
       "    <tr>\n",
       "      <th>72</th>\n",
       "      <td>477940151</td>\n",
       "      <td>1422773200</td>\n",
       "      <td>2019-08-01</td>\n",
       "      <td>15.8</td>\n",
       "      <td>A</td>\n",
       "    </tr>\n",
       "    <tr>\n",
       "      <th>73</th>\n",
       "      <td>1295850747</td>\n",
       "      <td>2947100995</td>\n",
       "      <td>2019-08-01</td>\n",
       "      <td>455.8</td>\n",
       "      <td>A</td>\n",
       "    </tr>\n",
       "    <tr>\n",
       "      <th>96</th>\n",
       "      <td>1170105516</td>\n",
       "      <td>2706377257</td>\n",
       "      <td>2019-08-01</td>\n",
       "      <td>140.8</td>\n",
       "      <td>A</td>\n",
       "    </tr>\n",
       "    <tr>\n",
       "      <th>98</th>\n",
       "      <td>1962247337</td>\n",
       "      <td>2706377257</td>\n",
       "      <td>2019-08-01</td>\n",
       "      <td>110.7</td>\n",
       "      <td>A</td>\n",
       "    </tr>\n",
       "    <tr>\n",
       "      <th>...</th>\n",
       "      <td>...</td>\n",
       "      <td>...</td>\n",
       "      <td>...</td>\n",
       "      <td>...</td>\n",
       "      <td>...</td>\n",
       "    </tr>\n",
       "    <tr>\n",
       "      <th>1023</th>\n",
       "      <td>2886170101</td>\n",
       "      <td>930758570</td>\n",
       "      <td>2019-08-31</td>\n",
       "      <td>105.7</td>\n",
       "      <td>B</td>\n",
       "    </tr>\n",
       "    <tr>\n",
       "      <th>1024</th>\n",
       "      <td>3845118557</td>\n",
       "      <td>1964413493</td>\n",
       "      <td>2019-08-31</td>\n",
       "      <td>5.5</td>\n",
       "      <td>B</td>\n",
       "    </tr>\n",
       "    <tr>\n",
       "      <th>1026</th>\n",
       "      <td>853409662</td>\n",
       "      <td>1390677121</td>\n",
       "      <td>2019-08-31</td>\n",
       "      <td>290.5</td>\n",
       "      <td>B</td>\n",
       "    </tr>\n",
       "    <tr>\n",
       "      <th>1037</th>\n",
       "      <td>4149581711</td>\n",
       "      <td>1555048873</td>\n",
       "      <td>2019-08-31</td>\n",
       "      <td>30.2</td>\n",
       "      <td>B</td>\n",
       "    </tr>\n",
       "    <tr>\n",
       "      <th>1038</th>\n",
       "      <td>2983450240</td>\n",
       "      <td>1605520752</td>\n",
       "      <td>2019-08-31</td>\n",
       "      <td>435.5</td>\n",
       "      <td>B</td>\n",
       "    </tr>\n",
       "  </tbody>\n",
       "</table>\n",
       "<p>1016 rows × 5 columns</p>\n",
       "</div>"
      ],
      "text/plain": [
       "      transactionid   visitorid        date  revenue group\n",
       "55       1144701458  1143609305  2019-08-01     45.3     A\n",
       "72        477940151  1422773200  2019-08-01     15.8     A\n",
       "73       1295850747  2947100995  2019-08-01    455.8     A\n",
       "96       1170105516  2706377257  2019-08-01    140.8     A\n",
       "98       1962247337  2706377257  2019-08-01    110.7     A\n",
       "...             ...         ...         ...      ...   ...\n",
       "1023     2886170101   930758570  2019-08-31    105.7     B\n",
       "1024     3845118557  1964413493  2019-08-31      5.5     B\n",
       "1026      853409662  1390677121  2019-08-31    290.5     B\n",
       "1037     4149581711  1555048873  2019-08-31     30.2     B\n",
       "1038     2983450240  1605520752  2019-08-31    435.5     B\n",
       "\n",
       "[1016 rows x 5 columns]"
      ]
     },
     "execution_count": 30,
     "metadata": {},
     "output_type": "execute_result"
    }
   ],
   "source": [
    "df_orders = df_orders.copy().sort_values(by=['date', 'group'], ascending=[True, True])\n",
    "df_orders"
   ]
  },
  {
   "cell_type": "code",
   "execution_count": 31,
   "id": "de44fbf3",
   "metadata": {},
   "outputs": [
    {
     "data": {
      "application/vnd.microsoft.datawrangler.viewer.v0+json": {
       "columns": [
        {
         "name": "index",
         "rawType": "int64",
         "type": "integer"
        },
        {
         "name": "transactionid",
         "rawType": "int64",
         "type": "integer"
        },
        {
         "name": "visitorid",
         "rawType": "int64",
         "type": "integer"
        },
        {
         "name": "date",
         "rawType": "object",
         "type": "unknown"
        },
        {
         "name": "revenue",
         "rawType": "float64",
         "type": "float"
        },
        {
         "name": "group",
         "rawType": "category",
         "type": "unknown"
        },
        {
         "name": "cum_income",
         "rawType": "float64",
         "type": "float"
        }
       ],
       "ref": "da7a904f-b10e-4a01-a01e-94677036f23a",
       "rows": [
        [
         "55",
         "1144701458",
         "1143609305",
         "2019-08-01",
         "45.3",
         "A",
         "45.3"
        ],
        [
         "72",
         "477940151",
         "1422773200",
         "2019-08-01",
         "15.8",
         "A",
         "61.099999999999994"
        ],
        [
         "73",
         "1295850747",
         "2947100995",
         "2019-08-01",
         "455.8",
         "A",
         "516.9"
        ],
        [
         "96",
         "1170105516",
         "2706377257",
         "2019-08-01",
         "140.8",
         "A",
         "657.7"
        ],
        [
         "98",
         "1962247337",
         "2706377257",
         "2019-08-01",
         "110.7",
         "A",
         "768.4000000000001"
        ],
        [
         "99",
         "2951489300",
         "926057494",
         "2019-08-01",
         "5.6",
         "A",
         "774.0"
        ],
        [
         "101",
         "3847160695",
         "1830791924",
         "2019-08-01",
         "40.2",
         "A",
         "814.2"
        ],
        [
         "102",
         "3328372908",
         "381340408",
         "2019-08-01",
         "50.1",
         "A",
         "864.3000000000001"
        ],
        [
         "104",
         "627804981",
         "611059232",
         "2019-08-01",
         "275.8",
         "A",
         "1140.1000000000001"
        ],
        [
         "113",
         "2663968367",
         "821846484",
         "2019-08-01",
         "30.1",
         "A",
         "1170.2"
        ],
        [
         "137",
         "1798931686",
         "1211585711",
         "2019-08-01",
         "440.3",
         "A",
         "1610.5"
        ],
        [
         "141",
         "602399015",
         "3967698036",
         "2019-08-01",
         "5.6",
         "A",
         "1616.1000000000001"
        ],
        [
         "143",
         "3433533137",
         "678354126",
         "2019-08-01",
         "100.4",
         "A",
         "1716.5"
        ],
        [
         "144",
         "365058890",
         "611059232",
         "2019-08-01",
         "45.3",
         "A",
         "1761.8000000000002"
        ],
        [
         "145",
         "735232225",
         "611059232",
         "2019-08-01",
         "140.4",
         "A",
         "1902.2"
        ],
        [
         "147",
         "52260954",
         "3967698036",
         "2019-08-01",
         "20.2",
         "A",
         "1922.4"
        ],
        [
         "153",
         "4045393544",
         "991436984",
         "2019-08-01",
         "30.5",
         "A",
         "1952.9"
        ],
        [
         "154",
         "4206138190",
         "1219079053",
         "2019-08-01",
         "80.5",
         "A",
         "2033.4"
        ],
        [
         "155",
         "891673177",
         "572335325",
         "2019-08-01",
         "60.8",
         "A",
         "2094.2000000000003"
        ],
        [
         "168",
         "2065527789",
         "1581167209",
         "2019-08-01",
         "30.4",
         "A",
         "2124.6"
        ],
        [
         "169",
         "3588515863",
         "1737494355",
         "2019-08-01",
         "30.8",
         "A",
         "2155.4"
        ],
        [
         "170",
         "617930325",
         "2785040378",
         "2019-08-01",
         "55.8",
         "A",
         "2211.2000000000003"
        ],
        [
         "171",
         "2153842875",
         "876081193",
         "2019-08-01",
         "55.4",
         "A",
         "2266.6"
        ],
        [
         "66",
         "4919758",
         "1217561296",
         "2019-08-01",
         "40.2",
         "B",
         "40.2"
        ],
        [
         "70",
         "3574407166",
         "2328378067",
         "2019-08-01",
         "140.4",
         "B",
         "180.60000000000002"
        ],
        [
         "97",
         "2012801741",
         "414545763",
         "2019-08-01",
         "90.5",
         "B",
         "271.1"
        ],
        [
         "100",
         "804934578",
         "1738775963",
         "2019-08-01",
         "50.8",
         "B",
         "321.9"
        ],
        [
         "103",
         "2951399376",
         "2019355024",
         "2019-08-01",
         "40.2",
         "B",
         "362.1"
        ],
        [
         "109",
         "2411689164",
         "2019205281",
         "2019-08-01",
         "80.2",
         "B",
         "442.3"
        ],
        [
         "110",
         "3749160238",
         "1700445283",
         "2019-08-01",
         "110.5",
         "B",
         "552.8"
        ],
        [
         "115",
         "3486821141",
         "1225835168",
         "2019-08-01",
         "5.6",
         "B",
         "558.4"
        ],
        [
         "135",
         "3394915331",
         "1354599463",
         "2019-08-01",
         "120.3",
         "B",
         "678.7"
        ],
        [
         "136",
         "1578920557",
         "680119828",
         "2019-08-01",
         "10.6",
         "B",
         "689.3"
        ],
        [
         "138",
         "1403947326",
         "1075551409",
         "2019-08-01",
         "10.0",
         "B",
         "699.3"
        ],
        [
         "140",
         "2774185760",
         "975516572",
         "2019-08-01",
         "20.3",
         "B",
         "719.6"
        ],
        [
         "142",
         "854120002",
         "544963298",
         "2019-08-01",
         "25.9",
         "B",
         "745.5"
        ],
        [
         "146",
         "3650534576",
         "134926050",
         "2019-08-01",
         "50.0",
         "B",
         "795.5"
        ],
        [
         "148",
         "4238948438",
         "363280180",
         "2019-08-01",
         "5.6",
         "B",
         "801.1"
        ],
        [
         "151",
         "1728664132",
         "1596819047",
         "2019-08-01",
         "10.6",
         "B",
         "811.6999999999999"
        ],
        [
         "152",
         "3227521980",
         "3938001975",
         "2019-08-01",
         "155.5",
         "B",
         "967.2"
        ],
        [
         "175",
         "1223645875",
         "3123255051",
         "2019-08-02",
         "50.8",
         "A",
         "2317.4"
        ],
        [
         "190",
         "1876585139",
         "2871453277",
         "2019-08-02",
         "110.8",
         "A",
         "2428.2000000000003"
        ],
        [
         "191",
         "2361024027",
         "3967698036",
         "2019-08-02",
         "30.0",
         "A",
         "2458.2000000000003"
        ],
        [
         "192",
         "2815409412",
         "2125253600",
         "2019-08-02",
         "15.7",
         "A",
         "2473.9"
        ],
        [
         "195",
         "2872509092",
         "983496389",
         "2019-08-02",
         "5.5",
         "A",
         "2479.4"
        ],
        [
         "196",
         "1216926230",
         "1500448895",
         "2019-08-02",
         "45.7",
         "A",
         "2525.1"
        ],
        [
         "198",
         "2206098194",
         "2880866577",
         "2019-08-02",
         "30.0",
         "A",
         "2555.1"
        ],
        [
         "206",
         "3390093829",
         "3199637546",
         "2019-08-02",
         "45.6",
         "A",
         "2600.7000000000003"
        ],
        [
         "209",
         "873230871",
         "236764260",
         "2019-08-02",
         "90.8",
         "A",
         "2691.5"
        ],
        [
         "214",
         "3485678199",
         "2232111114",
         "2019-08-02",
         "270.0",
         "A",
         "2961.5"
        ]
       ],
       "shape": {
        "columns": 6,
        "rows": 1016
       }
      },
      "text/html": [
       "<div>\n",
       "<style scoped>\n",
       "    .dataframe tbody tr th:only-of-type {\n",
       "        vertical-align: middle;\n",
       "    }\n",
       "\n",
       "    .dataframe tbody tr th {\n",
       "        vertical-align: top;\n",
       "    }\n",
       "\n",
       "    .dataframe thead th {\n",
       "        text-align: right;\n",
       "    }\n",
       "</style>\n",
       "<table border=\"1\" class=\"dataframe\">\n",
       "  <thead>\n",
       "    <tr style=\"text-align: right;\">\n",
       "      <th></th>\n",
       "      <th>transactionid</th>\n",
       "      <th>visitorid</th>\n",
       "      <th>date</th>\n",
       "      <th>revenue</th>\n",
       "      <th>group</th>\n",
       "      <th>cum_income</th>\n",
       "    </tr>\n",
       "  </thead>\n",
       "  <tbody>\n",
       "    <tr>\n",
       "      <th>55</th>\n",
       "      <td>1144701458</td>\n",
       "      <td>1143609305</td>\n",
       "      <td>2019-08-01</td>\n",
       "      <td>45.3</td>\n",
       "      <td>A</td>\n",
       "      <td>45.3</td>\n",
       "    </tr>\n",
       "    <tr>\n",
       "      <th>72</th>\n",
       "      <td>477940151</td>\n",
       "      <td>1422773200</td>\n",
       "      <td>2019-08-01</td>\n",
       "      <td>15.8</td>\n",
       "      <td>A</td>\n",
       "      <td>61.1</td>\n",
       "    </tr>\n",
       "    <tr>\n",
       "      <th>73</th>\n",
       "      <td>1295850747</td>\n",
       "      <td>2947100995</td>\n",
       "      <td>2019-08-01</td>\n",
       "      <td>455.8</td>\n",
       "      <td>A</td>\n",
       "      <td>516.9</td>\n",
       "    </tr>\n",
       "    <tr>\n",
       "      <th>96</th>\n",
       "      <td>1170105516</td>\n",
       "      <td>2706377257</td>\n",
       "      <td>2019-08-01</td>\n",
       "      <td>140.8</td>\n",
       "      <td>A</td>\n",
       "      <td>657.7</td>\n",
       "    </tr>\n",
       "    <tr>\n",
       "      <th>98</th>\n",
       "      <td>1962247337</td>\n",
       "      <td>2706377257</td>\n",
       "      <td>2019-08-01</td>\n",
       "      <td>110.7</td>\n",
       "      <td>A</td>\n",
       "      <td>768.4</td>\n",
       "    </tr>\n",
       "    <tr>\n",
       "      <th>...</th>\n",
       "      <td>...</td>\n",
       "      <td>...</td>\n",
       "      <td>...</td>\n",
       "      <td>...</td>\n",
       "      <td>...</td>\n",
       "      <td>...</td>\n",
       "    </tr>\n",
       "    <tr>\n",
       "      <th>1023</th>\n",
       "      <td>2886170101</td>\n",
       "      <td>930758570</td>\n",
       "      <td>2019-08-31</td>\n",
       "      <td>105.7</td>\n",
       "      <td>B</td>\n",
       "      <td>78889.5</td>\n",
       "    </tr>\n",
       "    <tr>\n",
       "      <th>1024</th>\n",
       "      <td>3845118557</td>\n",
       "      <td>1964413493</td>\n",
       "      <td>2019-08-31</td>\n",
       "      <td>5.5</td>\n",
       "      <td>B</td>\n",
       "      <td>78895.0</td>\n",
       "    </tr>\n",
       "    <tr>\n",
       "      <th>1026</th>\n",
       "      <td>853409662</td>\n",
       "      <td>1390677121</td>\n",
       "      <td>2019-08-31</td>\n",
       "      <td>290.5</td>\n",
       "      <td>B</td>\n",
       "      <td>79185.5</td>\n",
       "    </tr>\n",
       "    <tr>\n",
       "      <th>1037</th>\n",
       "      <td>4149581711</td>\n",
       "      <td>1555048873</td>\n",
       "      <td>2019-08-31</td>\n",
       "      <td>30.2</td>\n",
       "      <td>B</td>\n",
       "      <td>79215.7</td>\n",
       "    </tr>\n",
       "    <tr>\n",
       "      <th>1038</th>\n",
       "      <td>2983450240</td>\n",
       "      <td>1605520752</td>\n",
       "      <td>2019-08-31</td>\n",
       "      <td>435.5</td>\n",
       "      <td>B</td>\n",
       "      <td>79651.2</td>\n",
       "    </tr>\n",
       "  </tbody>\n",
       "</table>\n",
       "<p>1016 rows × 6 columns</p>\n",
       "</div>"
      ],
      "text/plain": [
       "      transactionid   visitorid        date  revenue group  cum_income\n",
       "55       1144701458  1143609305  2019-08-01     45.3     A        45.3\n",
       "72        477940151  1422773200  2019-08-01     15.8     A        61.1\n",
       "73       1295850747  2947100995  2019-08-01    455.8     A       516.9\n",
       "96       1170105516  2706377257  2019-08-01    140.8     A       657.7\n",
       "98       1962247337  2706377257  2019-08-01    110.7     A       768.4\n",
       "...             ...         ...         ...      ...   ...         ...\n",
       "1023     2886170101   930758570  2019-08-31    105.7     B     78889.5\n",
       "1024     3845118557  1964413493  2019-08-31      5.5     B     78895.0\n",
       "1026      853409662  1390677121  2019-08-31    290.5     B     79185.5\n",
       "1037     4149581711  1555048873  2019-08-31     30.2     B     79215.7\n",
       "1038     2983450240  1605520752  2019-08-31    435.5     B     79651.2\n",
       "\n",
       "[1016 rows x 6 columns]"
      ]
     },
     "execution_count": 31,
     "metadata": {},
     "output_type": "execute_result"
    }
   ],
   "source": [
    "df_orders['cum_income'] = df_orders.groupby('group', observed=True)['revenue'].transform('cumsum')\n",
    "df_orders"
   ]
  },
  {
   "cell_type": "code",
   "execution_count": 32,
   "id": "e98c3f07",
   "metadata": {},
   "outputs": [
    {
     "data": {
      "application/vnd.plotly.v1+json": {
       "config": {
        "plotlyServerURL": "https://plot.ly"
       },
       "data": [
        {
         "hovertemplate": "group=A<br>date=%{x}<br>cum_income=%{y}<extra></extra>",
         "legendgroup": "A",
         "line": {
          "color": "#636efa",
          "dash": "solid"
         },
         "marker": {
          "symbol": "circle"
         },
         "mode": "lines",
         "name": "A",
         "showlegend": true,
         "type": "scattergl",
         "x": [
          "2019-08-01",
          "2019-08-01",
          "2019-08-01",
          "2019-08-01",
          "2019-08-01",
          "2019-08-01",
          "2019-08-01",
          "2019-08-01",
          "2019-08-01",
          "2019-08-01",
          "2019-08-01",
          "2019-08-01",
          "2019-08-01",
          "2019-08-01",
          "2019-08-01",
          "2019-08-01",
          "2019-08-01",
          "2019-08-01",
          "2019-08-01",
          "2019-08-01",
          "2019-08-01",
          "2019-08-01",
          "2019-08-01",
          "2019-08-02",
          "2019-08-02",
          "2019-08-02",
          "2019-08-02",
          "2019-08-02",
          "2019-08-02",
          "2019-08-02",
          "2019-08-02",
          "2019-08-02",
          "2019-08-02",
          "2019-08-02",
          "2019-08-02",
          "2019-08-02",
          "2019-08-02",
          "2019-08-02",
          "2019-08-02",
          "2019-08-02",
          "2019-08-02",
          "2019-08-02",
          "2019-08-03",
          "2019-08-03",
          "2019-08-03",
          "2019-08-03",
          "2019-08-03",
          "2019-08-03",
          "2019-08-03",
          "2019-08-03",
          "2019-08-03",
          "2019-08-03",
          "2019-08-03",
          "2019-08-03",
          "2019-08-03",
          "2019-08-03",
          "2019-08-03",
          "2019-08-03",
          "2019-08-03",
          "2019-08-03",
          "2019-08-03",
          "2019-08-03",
          "2019-08-03",
          "2019-08-03",
          "2019-08-03",
          "2019-08-03",
          "2019-08-04",
          "2019-08-04",
          "2019-08-04",
          "2019-08-04",
          "2019-08-04",
          "2019-08-04",
          "2019-08-04",
          "2019-08-04",
          "2019-08-04",
          "2019-08-04",
          "2019-08-04",
          "2019-08-05",
          "2019-08-05",
          "2019-08-05",
          "2019-08-05",
          "2019-08-05",
          "2019-08-05",
          "2019-08-05",
          "2019-08-05",
          "2019-08-05",
          "2019-08-05",
          "2019-08-05",
          "2019-08-05",
          "2019-08-05",
          "2019-08-05",
          "2019-08-05",
          "2019-08-05",
          "2019-08-05",
          "2019-08-05",
          "2019-08-05",
          "2019-08-05",
          "2019-08-05",
          "2019-08-05",
          "2019-08-06",
          "2019-08-06",
          "2019-08-06",
          "2019-08-06",
          "2019-08-06",
          "2019-08-06",
          "2019-08-06",
          "2019-08-06",
          "2019-08-06",
          "2019-08-06",
          "2019-08-06",
          "2019-08-06",
          "2019-08-06",
          "2019-08-06",
          "2019-08-06",
          "2019-08-07",
          "2019-08-07",
          "2019-08-07",
          "2019-08-07",
          "2019-08-07",
          "2019-08-07",
          "2019-08-07",
          "2019-08-07",
          "2019-08-07",
          "2019-08-07",
          "2019-08-07",
          "2019-08-07",
          "2019-08-07",
          "2019-08-07",
          "2019-08-07",
          "2019-08-07",
          "2019-08-08",
          "2019-08-08",
          "2019-08-08",
          "2019-08-08",
          "2019-08-08",
          "2019-08-08",
          "2019-08-08",
          "2019-08-08",
          "2019-08-08",
          "2019-08-08",
          "2019-08-08",
          "2019-08-08",
          "2019-08-08",
          "2019-08-08",
          "2019-08-09",
          "2019-08-09",
          "2019-08-09",
          "2019-08-09",
          "2019-08-09",
          "2019-08-09",
          "2019-08-09",
          "2019-08-09",
          "2019-08-09",
          "2019-08-09",
          "2019-08-09",
          "2019-08-10",
          "2019-08-10",
          "2019-08-10",
          "2019-08-10",
          "2019-08-10",
          "2019-08-10",
          "2019-08-10",
          "2019-08-10",
          "2019-08-10",
          "2019-08-10",
          "2019-08-10",
          "2019-08-10",
          "2019-08-10",
          "2019-08-10",
          "2019-08-10",
          "2019-08-11",
          "2019-08-11",
          "2019-08-11",
          "2019-08-11",
          "2019-08-11",
          "2019-08-11",
          "2019-08-11",
          "2019-08-11",
          "2019-08-11",
          "2019-08-11",
          "2019-08-11",
          "2019-08-12",
          "2019-08-12",
          "2019-08-12",
          "2019-08-12",
          "2019-08-12",
          "2019-08-12",
          "2019-08-12",
          "2019-08-12",
          "2019-08-12",
          "2019-08-12",
          "2019-08-12",
          "2019-08-12",
          "2019-08-12",
          "2019-08-12",
          "2019-08-12",
          "2019-08-12",
          "2019-08-12",
          "2019-08-12",
          "2019-08-12",
          "2019-08-13",
          "2019-08-13",
          "2019-08-13",
          "2019-08-13",
          "2019-08-13",
          "2019-08-13",
          "2019-08-13",
          "2019-08-13",
          "2019-08-13",
          "2019-08-13",
          "2019-08-13",
          "2019-08-13",
          "2019-08-13",
          "2019-08-13",
          "2019-08-14",
          "2019-08-14",
          "2019-08-14",
          "2019-08-14",
          "2019-08-14",
          "2019-08-14",
          "2019-08-14",
          "2019-08-14",
          "2019-08-14",
          "2019-08-14",
          "2019-08-14",
          "2019-08-14",
          "2019-08-14",
          "2019-08-14",
          "2019-08-14",
          "2019-08-14",
          "2019-08-14",
          "2019-08-15",
          "2019-08-15",
          "2019-08-15",
          "2019-08-15",
          "2019-08-15",
          "2019-08-15",
          "2019-08-15",
          "2019-08-15",
          "2019-08-15",
          "2019-08-15",
          "2019-08-16",
          "2019-08-16",
          "2019-08-16",
          "2019-08-16",
          "2019-08-16",
          "2019-08-16",
          "2019-08-16",
          "2019-08-16",
          "2019-08-16",
          "2019-08-16",
          "2019-08-16",
          "2019-08-16",
          "2019-08-16",
          "2019-08-16",
          "2019-08-16",
          "2019-08-16",
          "2019-08-16",
          "2019-08-16",
          "2019-08-17",
          "2019-08-17",
          "2019-08-17",
          "2019-08-17",
          "2019-08-17",
          "2019-08-17",
          "2019-08-18",
          "2019-08-18",
          "2019-08-18",
          "2019-08-18",
          "2019-08-18",
          "2019-08-18",
          "2019-08-18",
          "2019-08-18",
          "2019-08-18",
          "2019-08-18",
          "2019-08-18",
          "2019-08-18",
          "2019-08-18",
          "2019-08-19",
          "2019-08-19",
          "2019-08-19",
          "2019-08-19",
          "2019-08-19",
          "2019-08-19",
          "2019-08-19",
          "2019-08-19",
          "2019-08-19",
          "2019-08-19",
          "2019-08-19",
          "2019-08-19",
          "2019-08-19",
          "2019-08-19",
          "2019-08-19",
          "2019-08-19",
          "2019-08-19",
          "2019-08-19",
          "2019-08-19",
          "2019-08-19",
          "2019-08-19",
          "2019-08-20",
          "2019-08-20",
          "2019-08-20",
          "2019-08-20",
          "2019-08-20",
          "2019-08-20",
          "2019-08-20",
          "2019-08-20",
          "2019-08-20",
          "2019-08-20",
          "2019-08-21",
          "2019-08-21",
          "2019-08-21",
          "2019-08-21",
          "2019-08-21",
          "2019-08-21",
          "2019-08-21",
          "2019-08-21",
          "2019-08-21",
          "2019-08-21",
          "2019-08-21",
          "2019-08-21",
          "2019-08-21",
          "2019-08-21",
          "2019-08-21",
          "2019-08-21",
          "2019-08-21",
          "2019-08-21",
          "2019-08-21",
          "2019-08-21",
          "2019-08-22",
          "2019-08-22",
          "2019-08-22",
          "2019-08-22",
          "2019-08-22",
          "2019-08-22",
          "2019-08-22",
          "2019-08-22",
          "2019-08-22",
          "2019-08-22",
          "2019-08-23",
          "2019-08-23",
          "2019-08-23",
          "2019-08-23",
          "2019-08-23",
          "2019-08-23",
          "2019-08-23",
          "2019-08-23",
          "2019-08-23",
          "2019-08-23",
          "2019-08-23",
          "2019-08-23",
          "2019-08-23",
          "2019-08-23",
          "2019-08-23",
          "2019-08-23",
          "2019-08-23",
          "2019-08-23",
          "2019-08-23",
          "2019-08-23",
          "2019-08-24",
          "2019-08-24",
          "2019-08-24",
          "2019-08-24",
          "2019-08-24",
          "2019-08-24",
          "2019-08-24",
          "2019-08-24",
          "2019-08-24",
          "2019-08-24",
          "2019-08-24",
          "2019-08-24",
          "2019-08-24",
          "2019-08-25",
          "2019-08-25",
          "2019-08-25",
          "2019-08-25",
          "2019-08-25",
          "2019-08-25",
          "2019-08-25",
          "2019-08-25",
          "2019-08-26",
          "2019-08-26",
          "2019-08-26",
          "2019-08-26",
          "2019-08-26",
          "2019-08-26",
          "2019-08-26",
          "2019-08-26",
          "2019-08-26",
          "2019-08-26",
          "2019-08-26",
          "2019-08-26",
          "2019-08-26",
          "2019-08-26",
          "2019-08-26",
          "2019-08-26",
          "2019-08-27",
          "2019-08-27",
          "2019-08-27",
          "2019-08-27",
          "2019-08-27",
          "2019-08-27",
          "2019-08-27",
          "2019-08-27",
          "2019-08-27",
          "2019-08-27",
          "2019-08-27",
          "2019-08-27",
          "2019-08-27",
          "2019-08-27",
          "2019-08-27",
          "2019-08-27",
          "2019-08-27",
          "2019-08-27",
          "2019-08-27",
          "2019-08-27",
          "2019-08-27",
          "2019-08-27",
          "2019-08-27",
          "2019-08-28",
          "2019-08-28",
          "2019-08-28",
          "2019-08-28",
          "2019-08-28",
          "2019-08-28",
          "2019-08-28",
          "2019-08-28",
          "2019-08-28",
          "2019-08-28",
          "2019-08-28",
          "2019-08-28",
          "2019-08-28",
          "2019-08-28",
          "2019-08-28",
          "2019-08-29",
          "2019-08-29",
          "2019-08-29",
          "2019-08-29",
          "2019-08-29",
          "2019-08-29",
          "2019-08-29",
          "2019-08-29",
          "2019-08-29",
          "2019-08-29",
          "2019-08-29",
          "2019-08-29",
          "2019-08-29",
          "2019-08-29",
          "2019-08-29",
          "2019-08-29",
          "2019-08-29",
          "2019-08-30",
          "2019-08-30",
          "2019-08-30",
          "2019-08-30",
          "2019-08-30",
          "2019-08-30",
          "2019-08-30",
          "2019-08-30",
          "2019-08-30",
          "2019-08-31",
          "2019-08-31",
          "2019-08-31",
          "2019-08-31",
          "2019-08-31",
          "2019-08-31",
          "2019-08-31",
          "2019-08-31"
         ],
         "xaxis": "x",
         "y": {
          "bdata": "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",
          "dtype": "f8"
         },
         "yaxis": "y"
        },
        {
         "hovertemplate": "group=B<br>date=%{x}<br>cum_income=%{y}<extra></extra>",
         "legendgroup": "B",
         "line": {
          "color": "#EF553B",
          "dash": "solid"
         },
         "marker": {
          "symbol": "circle"
         },
         "mode": "lines",
         "name": "B",
         "showlegend": true,
         "type": "scattergl",
         "x": [
          "2019-08-01",
          "2019-08-01",
          "2019-08-01",
          "2019-08-01",
          "2019-08-01",
          "2019-08-01",
          "2019-08-01",
          "2019-08-01",
          "2019-08-01",
          "2019-08-01",
          "2019-08-01",
          "2019-08-01",
          "2019-08-01",
          "2019-08-01",
          "2019-08-01",
          "2019-08-01",
          "2019-08-01",
          "2019-08-02",
          "2019-08-02",
          "2019-08-02",
          "2019-08-02",
          "2019-08-02",
          "2019-08-02",
          "2019-08-02",
          "2019-08-02",
          "2019-08-02",
          "2019-08-02",
          "2019-08-02",
          "2019-08-02",
          "2019-08-02",
          "2019-08-02",
          "2019-08-02",
          "2019-08-02",
          "2019-08-02",
          "2019-08-02",
          "2019-08-02",
          "2019-08-02",
          "2019-08-02",
          "2019-08-02",
          "2019-08-02",
          "2019-08-03",
          "2019-08-03",
          "2019-08-03",
          "2019-08-03",
          "2019-08-03",
          "2019-08-03",
          "2019-08-03",
          "2019-08-03",
          "2019-08-03",
          "2019-08-03",
          "2019-08-03",
          "2019-08-03",
          "2019-08-03",
          "2019-08-03",
          "2019-08-04",
          "2019-08-04",
          "2019-08-04",
          "2019-08-04",
          "2019-08-04",
          "2019-08-04",
          "2019-08-04",
          "2019-08-04",
          "2019-08-04",
          "2019-08-04",
          "2019-08-04",
          "2019-08-04",
          "2019-08-04",
          "2019-08-04",
          "2019-08-05",
          "2019-08-05",
          "2019-08-05",
          "2019-08-05",
          "2019-08-05",
          "2019-08-05",
          "2019-08-05",
          "2019-08-05",
          "2019-08-05",
          "2019-08-05",
          "2019-08-05",
          "2019-08-05",
          "2019-08-05",
          "2019-08-05",
          "2019-08-05",
          "2019-08-05",
          "2019-08-05",
          "2019-08-05",
          "2019-08-05",
          "2019-08-05",
          "2019-08-05",
          "2019-08-06",
          "2019-08-06",
          "2019-08-06",
          "2019-08-06",
          "2019-08-06",
          "2019-08-06",
          "2019-08-06",
          "2019-08-06",
          "2019-08-06",
          "2019-08-06",
          "2019-08-06",
          "2019-08-06",
          "2019-08-06",
          "2019-08-06",
          "2019-08-06",
          "2019-08-06",
          "2019-08-06",
          "2019-08-06",
          "2019-08-06",
          "2019-08-06",
          "2019-08-06",
          "2019-08-06",
          "2019-08-06",
          "2019-08-07",
          "2019-08-07",
          "2019-08-07",
          "2019-08-07",
          "2019-08-07",
          "2019-08-07",
          "2019-08-07",
          "2019-08-07",
          "2019-08-07",
          "2019-08-07",
          "2019-08-07",
          "2019-08-07",
          "2019-08-07",
          "2019-08-07",
          "2019-08-07",
          "2019-08-07",
          "2019-08-07",
          "2019-08-07",
          "2019-08-07",
          "2019-08-07",
          "2019-08-07",
          "2019-08-07",
          "2019-08-07",
          "2019-08-08",
          "2019-08-08",
          "2019-08-08",
          "2019-08-08",
          "2019-08-08",
          "2019-08-08",
          "2019-08-08",
          "2019-08-08",
          "2019-08-08",
          "2019-08-08",
          "2019-08-08",
          "2019-08-08",
          "2019-08-08",
          "2019-08-08",
          "2019-08-08",
          "2019-08-08",
          "2019-08-08",
          "2019-08-08",
          "2019-08-08",
          "2019-08-08",
          "2019-08-08",
          "2019-08-08",
          "2019-08-09",
          "2019-08-09",
          "2019-08-09",
          "2019-08-09",
          "2019-08-09",
          "2019-08-09",
          "2019-08-09",
          "2019-08-09",
          "2019-08-09",
          "2019-08-09",
          "2019-08-09",
          "2019-08-09",
          "2019-08-09",
          "2019-08-09",
          "2019-08-09",
          "2019-08-09",
          "2019-08-09",
          "2019-08-09",
          "2019-08-09",
          "2019-08-10",
          "2019-08-10",
          "2019-08-10",
          "2019-08-10",
          "2019-08-10",
          "2019-08-10",
          "2019-08-10",
          "2019-08-10",
          "2019-08-10",
          "2019-08-10",
          "2019-08-10",
          "2019-08-10",
          "2019-08-10",
          "2019-08-10",
          "2019-08-10",
          "2019-08-10",
          "2019-08-10",
          "2019-08-10",
          "2019-08-10",
          "2019-08-10",
          "2019-08-10",
          "2019-08-10",
          "2019-08-11",
          "2019-08-11",
          "2019-08-11",
          "2019-08-11",
          "2019-08-11",
          "2019-08-11",
          "2019-08-11",
          "2019-08-11",
          "2019-08-11",
          "2019-08-11",
          "2019-08-11",
          "2019-08-11",
          "2019-08-12",
          "2019-08-12",
          "2019-08-12",
          "2019-08-12",
          "2019-08-12",
          "2019-08-12",
          "2019-08-12",
          "2019-08-12",
          "2019-08-12",
          "2019-08-12",
          "2019-08-12",
          "2019-08-12",
          "2019-08-12",
          "2019-08-12",
          "2019-08-12",
          "2019-08-12",
          "2019-08-12",
          "2019-08-12",
          "2019-08-12",
          "2019-08-13",
          "2019-08-13",
          "2019-08-13",
          "2019-08-13",
          "2019-08-13",
          "2019-08-13",
          "2019-08-13",
          "2019-08-13",
          "2019-08-13",
          "2019-08-13",
          "2019-08-13",
          "2019-08-13",
          "2019-08-13",
          "2019-08-13",
          "2019-08-13",
          "2019-08-13",
          "2019-08-13",
          "2019-08-13",
          "2019-08-13",
          "2019-08-13",
          "2019-08-14",
          "2019-08-14",
          "2019-08-14",
          "2019-08-14",
          "2019-08-14",
          "2019-08-14",
          "2019-08-14",
          "2019-08-14",
          "2019-08-14",
          "2019-08-14",
          "2019-08-14",
          "2019-08-14",
          "2019-08-14",
          "2019-08-14",
          "2019-08-15",
          "2019-08-15",
          "2019-08-15",
          "2019-08-15",
          "2019-08-15",
          "2019-08-15",
          "2019-08-15",
          "2019-08-15",
          "2019-08-15",
          "2019-08-15",
          "2019-08-15",
          "2019-08-15",
          "2019-08-15",
          "2019-08-15",
          "2019-08-15",
          "2019-08-15",
          "2019-08-15",
          "2019-08-15",
          "2019-08-15",
          "2019-08-15",
          "2019-08-15",
          "2019-08-15",
          "2019-08-15",
          "2019-08-15",
          "2019-08-15",
          "2019-08-15",
          "2019-08-16",
          "2019-08-16",
          "2019-08-16",
          "2019-08-16",
          "2019-08-16",
          "2019-08-16",
          "2019-08-16",
          "2019-08-16",
          "2019-08-16",
          "2019-08-16",
          "2019-08-16",
          "2019-08-16",
          "2019-08-16",
          "2019-08-16",
          "2019-08-16",
          "2019-08-16",
          "2019-08-16",
          "2019-08-16",
          "2019-08-17",
          "2019-08-17",
          "2019-08-17",
          "2019-08-17",
          "2019-08-17",
          "2019-08-17",
          "2019-08-17",
          "2019-08-17",
          "2019-08-17",
          "2019-08-17",
          "2019-08-17",
          "2019-08-17",
          "2019-08-17",
          "2019-08-18",
          "2019-08-18",
          "2019-08-18",
          "2019-08-18",
          "2019-08-18",
          "2019-08-18",
          "2019-08-18",
          "2019-08-19",
          "2019-08-19",
          "2019-08-19",
          "2019-08-19",
          "2019-08-19",
          "2019-08-19",
          "2019-08-19",
          "2019-08-19",
          "2019-08-19",
          "2019-08-19",
          "2019-08-19",
          "2019-08-19",
          "2019-08-19",
          "2019-08-19",
          "2019-08-19",
          "2019-08-19",
          "2019-08-19",
          "2019-08-19",
          "2019-08-19",
          "2019-08-19",
          "2019-08-19",
          "2019-08-20",
          "2019-08-20",
          "2019-08-20",
          "2019-08-20",
          "2019-08-20",
          "2019-08-20",
          "2019-08-20",
          "2019-08-20",
          "2019-08-20",
          "2019-08-20",
          "2019-08-20",
          "2019-08-20",
          "2019-08-20",
          "2019-08-20",
          "2019-08-20",
          "2019-08-20",
          "2019-08-20",
          "2019-08-20",
          "2019-08-20",
          "2019-08-20",
          "2019-08-21",
          "2019-08-21",
          "2019-08-21",
          "2019-08-21",
          "2019-08-21",
          "2019-08-21",
          "2019-08-21",
          "2019-08-21",
          "2019-08-21",
          "2019-08-21",
          "2019-08-21",
          "2019-08-21",
          "2019-08-22",
          "2019-08-22",
          "2019-08-22",
          "2019-08-22",
          "2019-08-22",
          "2019-08-22",
          "2019-08-22",
          "2019-08-22",
          "2019-08-22",
          "2019-08-22",
          "2019-08-22",
          "2019-08-22",
          "2019-08-22",
          "2019-08-22",
          "2019-08-22",
          "2019-08-22",
          "2019-08-22",
          "2019-08-22",
          "2019-08-22",
          "2019-08-22",
          "2019-08-22",
          "2019-08-23",
          "2019-08-23",
          "2019-08-23",
          "2019-08-23",
          "2019-08-23",
          "2019-08-23",
          "2019-08-23",
          "2019-08-23",
          "2019-08-23",
          "2019-08-23",
          "2019-08-23",
          "2019-08-23",
          "2019-08-23",
          "2019-08-24",
          "2019-08-24",
          "2019-08-24",
          "2019-08-24",
          "2019-08-24",
          "2019-08-24",
          "2019-08-24",
          "2019-08-24",
          "2019-08-24",
          "2019-08-24",
          "2019-08-24",
          "2019-08-24",
          "2019-08-24",
          "2019-08-24",
          "2019-08-25",
          "2019-08-25",
          "2019-08-25",
          "2019-08-25",
          "2019-08-25",
          "2019-08-25",
          "2019-08-25",
          "2019-08-25",
          "2019-08-25",
          "2019-08-25",
          "2019-08-25",
          "2019-08-25",
          "2019-08-26",
          "2019-08-26",
          "2019-08-26",
          "2019-08-26",
          "2019-08-26",
          "2019-08-26",
          "2019-08-26",
          "2019-08-26",
          "2019-08-26",
          "2019-08-26",
          "2019-08-26",
          "2019-08-26",
          "2019-08-26",
          "2019-08-26",
          "2019-08-26",
          "2019-08-26",
          "2019-08-26",
          "2019-08-26",
          "2019-08-26",
          "2019-08-26",
          "2019-08-26",
          "2019-08-26",
          "2019-08-27",
          "2019-08-27",
          "2019-08-27",
          "2019-08-27",
          "2019-08-27",
          "2019-08-27",
          "2019-08-27",
          "2019-08-27",
          "2019-08-27",
          "2019-08-27",
          "2019-08-27",
          "2019-08-28",
          "2019-08-28",
          "2019-08-28",
          "2019-08-28",
          "2019-08-28",
          "2019-08-28",
          "2019-08-28",
          "2019-08-28",
          "2019-08-28",
          "2019-08-28",
          "2019-08-28",
          "2019-08-28",
          "2019-08-28",
          "2019-08-28",
          "2019-08-28",
          "2019-08-28",
          "2019-08-28",
          "2019-08-28",
          "2019-08-28",
          "2019-08-28",
          "2019-08-28",
          "2019-08-28",
          "2019-08-29",
          "2019-08-29",
          "2019-08-29",
          "2019-08-29",
          "2019-08-29",
          "2019-08-29",
          "2019-08-29",
          "2019-08-29",
          "2019-08-29",
          "2019-08-29",
          "2019-08-29",
          "2019-08-29",
          "2019-08-29",
          "2019-08-29",
          "2019-08-29",
          "2019-08-30",
          "2019-08-30",
          "2019-08-30",
          "2019-08-30",
          "2019-08-30",
          "2019-08-30",
          "2019-08-30",
          "2019-08-30",
          "2019-08-30",
          "2019-08-30",
          "2019-08-30",
          "2019-08-30",
          "2019-08-30",
          "2019-08-30",
          "2019-08-30",
          "2019-08-30",
          "2019-08-30",
          "2019-08-30",
          "2019-08-30",
          "2019-08-30",
          "2019-08-30",
          "2019-08-31",
          "2019-08-31",
          "2019-08-31",
          "2019-08-31",
          "2019-08-31",
          "2019-08-31",
          "2019-08-31",
          "2019-08-31",
          "2019-08-31",
          "2019-08-31",
          "2019-08-31",
          "2019-08-31",
          "2019-08-31",
          "2019-08-31",
          "2019-08-31",
          "2019-08-31",
          "2019-08-31"
         ],
         "xaxis": "x",
         "y": {
          "bdata": "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",
          "dtype": "f8"
         },
         "yaxis": "y"
        }
       ],
       "layout": {
        "legend": {
         "title": {
          "text": "group"
         },
         "tracegroupgap": 0
        },
        "template": {
         "data": {
          "bar": [
           {
            "error_x": {
             "color": "#2a3f5f"
            },
            "error_y": {
             "color": "#2a3f5f"
            },
            "marker": {
             "line": {
              "color": "#E5ECF6",
              "width": 0.5
             },
             "pattern": {
              "fillmode": "overlay",
              "size": 10,
              "solidity": 0.2
             }
            },
            "type": "bar"
           }
          ],
          "barpolar": [
           {
            "marker": {
             "line": {
              "color": "#E5ECF6",
              "width": 0.5
             },
             "pattern": {
              "fillmode": "overlay",
              "size": 10,
              "solidity": 0.2
             }
            },
            "type": "barpolar"
           }
          ],
          "carpet": [
           {
            "aaxis": {
             "endlinecolor": "#2a3f5f",
             "gridcolor": "white",
             "linecolor": "white",
             "minorgridcolor": "white",
             "startlinecolor": "#2a3f5f"
            },
            "baxis": {
             "endlinecolor": "#2a3f5f",
             "gridcolor": "white",
             "linecolor": "white",
             "minorgridcolor": "white",
             "startlinecolor": "#2a3f5f"
            },
            "type": "carpet"
           }
          ],
          "choropleth": [
           {
            "colorbar": {
             "outlinewidth": 0,
             "ticks": ""
            },
            "type": "choropleth"
           }
          ],
          "contour": [
           {
            "colorbar": {
             "outlinewidth": 0,
             "ticks": ""
            },
            "colorscale": [
             [
              0,
              "#0d0887"
             ],
             [
              0.1111111111111111,
              "#46039f"
             ],
             [
              0.2222222222222222,
              "#7201a8"
             ],
             [
              0.3333333333333333,
              "#9c179e"
             ],
             [
              0.4444444444444444,
              "#bd3786"
             ],
             [
              0.5555555555555556,
              "#d8576b"
             ],
             [
              0.6666666666666666,
              "#ed7953"
             ],
             [
              0.7777777777777778,
              "#fb9f3a"
             ],
             [
              0.8888888888888888,
              "#fdca26"
             ],
             [
              1,
              "#f0f921"
             ]
            ],
            "type": "contour"
           }
          ],
          "contourcarpet": [
           {
            "colorbar": {
             "outlinewidth": 0,
             "ticks": ""
            },
            "type": "contourcarpet"
           }
          ],
          "heatmap": [
           {
            "colorbar": {
             "outlinewidth": 0,
             "ticks": ""
            },
            "colorscale": [
             [
              0,
              "#0d0887"
             ],
             [
              0.1111111111111111,
              "#46039f"
             ],
             [
              0.2222222222222222,
              "#7201a8"
             ],
             [
              0.3333333333333333,
              "#9c179e"
             ],
             [
              0.4444444444444444,
              "#bd3786"
             ],
             [
              0.5555555555555556,
              "#d8576b"
             ],
             [
              0.6666666666666666,
              "#ed7953"
             ],
             [
              0.7777777777777778,
              "#fb9f3a"
             ],
             [
              0.8888888888888888,
              "#fdca26"
             ],
             [
              1,
              "#f0f921"
             ]
            ],
            "type": "heatmap"
           }
          ],
          "histogram": [
           {
            "marker": {
             "pattern": {
              "fillmode": "overlay",
              "size": 10,
              "solidity": 0.2
             }
            },
            "type": "histogram"
           }
          ],
          "histogram2d": [
           {
            "colorbar": {
             "outlinewidth": 0,
             "ticks": ""
            },
            "colorscale": [
             [
              0,
              "#0d0887"
             ],
             [
              0.1111111111111111,
              "#46039f"
             ],
             [
              0.2222222222222222,
              "#7201a8"
             ],
             [
              0.3333333333333333,
              "#9c179e"
             ],
             [
              0.4444444444444444,
              "#bd3786"
             ],
             [
              0.5555555555555556,
              "#d8576b"
             ],
             [
              0.6666666666666666,
              "#ed7953"
             ],
             [
              0.7777777777777778,
              "#fb9f3a"
             ],
             [
              0.8888888888888888,
              "#fdca26"
             ],
             [
              1,
              "#f0f921"
             ]
            ],
            "type": "histogram2d"
           }
          ],
          "histogram2dcontour": [
           {
            "colorbar": {
             "outlinewidth": 0,
             "ticks": ""
            },
            "colorscale": [
             [
              0,
              "#0d0887"
             ],
             [
              0.1111111111111111,
              "#46039f"
             ],
             [
              0.2222222222222222,
              "#7201a8"
             ],
             [
              0.3333333333333333,
              "#9c179e"
             ],
             [
              0.4444444444444444,
              "#bd3786"
             ],
             [
              0.5555555555555556,
              "#d8576b"
             ],
             [
              0.6666666666666666,
              "#ed7953"
             ],
             [
              0.7777777777777778,
              "#fb9f3a"
             ],
             [
              0.8888888888888888,
              "#fdca26"
             ],
             [
              1,
              "#f0f921"
             ]
            ],
            "type": "histogram2dcontour"
           }
          ],
          "mesh3d": [
           {
            "colorbar": {
             "outlinewidth": 0,
             "ticks": ""
            },
            "type": "mesh3d"
           }
          ],
          "parcoords": [
           {
            "line": {
             "colorbar": {
              "outlinewidth": 0,
              "ticks": ""
             }
            },
            "type": "parcoords"
           }
          ],
          "pie": [
           {
            "automargin": true,
            "type": "pie"
           }
          ],
          "scatter": [
           {
            "fillpattern": {
             "fillmode": "overlay",
             "size": 10,
             "solidity": 0.2
            },
            "type": "scatter"
           }
          ],
          "scatter3d": [
           {
            "line": {
             "colorbar": {
              "outlinewidth": 0,
              "ticks": ""
             }
            },
            "marker": {
             "colorbar": {
              "outlinewidth": 0,
              "ticks": ""
             }
            },
            "type": "scatter3d"
           }
          ],
          "scattercarpet": [
           {
            "marker": {
             "colorbar": {
              "outlinewidth": 0,
              "ticks": ""
             }
            },
            "type": "scattercarpet"
           }
          ],
          "scattergeo": [
           {
            "marker": {
             "colorbar": {
              "outlinewidth": 0,
              "ticks": ""
             }
            },
            "type": "scattergeo"
           }
          ],
          "scattergl": [
           {
            "marker": {
             "colorbar": {
              "outlinewidth": 0,
              "ticks": ""
             }
            },
            "type": "scattergl"
           }
          ],
          "scattermap": [
           {
            "marker": {
             "colorbar": {
              "outlinewidth": 0,
              "ticks": ""
             }
            },
            "type": "scattermap"
           }
          ],
          "scattermapbox": [
           {
            "marker": {
             "colorbar": {
              "outlinewidth": 0,
              "ticks": ""
             }
            },
            "type": "scattermapbox"
           }
          ],
          "scatterpolar": [
           {
            "marker": {
             "colorbar": {
              "outlinewidth": 0,
              "ticks": ""
             }
            },
            "type": "scatterpolar"
           }
          ],
          "scatterpolargl": [
           {
            "marker": {
             "colorbar": {
              "outlinewidth": 0,
              "ticks": ""
             }
            },
            "type": "scatterpolargl"
           }
          ],
          "scatterternary": [
           {
            "marker": {
             "colorbar": {
              "outlinewidth": 0,
              "ticks": ""
             }
            },
            "type": "scatterternary"
           }
          ],
          "surface": [
           {
            "colorbar": {
             "outlinewidth": 0,
             "ticks": ""
            },
            "colorscale": [
             [
              0,
              "#0d0887"
             ],
             [
              0.1111111111111111,
              "#46039f"
             ],
             [
              0.2222222222222222,
              "#7201a8"
             ],
             [
              0.3333333333333333,
              "#9c179e"
             ],
             [
              0.4444444444444444,
              "#bd3786"
             ],
             [
              0.5555555555555556,
              "#d8576b"
             ],
             [
              0.6666666666666666,
              "#ed7953"
             ],
             [
              0.7777777777777778,
              "#fb9f3a"
             ],
             [
              0.8888888888888888,
              "#fdca26"
             ],
             [
              1,
              "#f0f921"
             ]
            ],
            "type": "surface"
           }
          ],
          "table": [
           {
            "cells": {
             "fill": {
              "color": "#EBF0F8"
             },
             "line": {
              "color": "white"
             }
            },
            "header": {
             "fill": {
              "color": "#C8D4E3"
             },
             "line": {
              "color": "white"
             }
            },
            "type": "table"
           }
          ]
         },
         "layout": {
          "annotationdefaults": {
           "arrowcolor": "#2a3f5f",
           "arrowhead": 0,
           "arrowwidth": 1
          },
          "autotypenumbers": "strict",
          "coloraxis": {
           "colorbar": {
            "outlinewidth": 0,
            "ticks": ""
           }
          },
          "colorscale": {
           "diverging": [
            [
             0,
             "#8e0152"
            ],
            [
             0.1,
             "#c51b7d"
            ],
            [
             0.2,
             "#de77ae"
            ],
            [
             0.3,
             "#f1b6da"
            ],
            [
             0.4,
             "#fde0ef"
            ],
            [
             0.5,
             "#f7f7f7"
            ],
            [
             0.6,
             "#e6f5d0"
            ],
            [
             0.7,
             "#b8e186"
            ],
            [
             0.8,
             "#7fbc41"
            ],
            [
             0.9,
             "#4d9221"
            ],
            [
             1,
             "#276419"
            ]
           ],
           "sequential": [
            [
             0,
             "#0d0887"
            ],
            [
             0.1111111111111111,
             "#46039f"
            ],
            [
             0.2222222222222222,
             "#7201a8"
            ],
            [
             0.3333333333333333,
             "#9c179e"
            ],
            [
             0.4444444444444444,
             "#bd3786"
            ],
            [
             0.5555555555555556,
             "#d8576b"
            ],
            [
             0.6666666666666666,
             "#ed7953"
            ],
            [
             0.7777777777777778,
             "#fb9f3a"
            ],
            [
             0.8888888888888888,
             "#fdca26"
            ],
            [
             1,
             "#f0f921"
            ]
           ],
           "sequentialminus": [
            [
             0,
             "#0d0887"
            ],
            [
             0.1111111111111111,
             "#46039f"
            ],
            [
             0.2222222222222222,
             "#7201a8"
            ],
            [
             0.3333333333333333,
             "#9c179e"
            ],
            [
             0.4444444444444444,
             "#bd3786"
            ],
            [
             0.5555555555555556,
             "#d8576b"
            ],
            [
             0.6666666666666666,
             "#ed7953"
            ],
            [
             0.7777777777777778,
             "#fb9f3a"
            ],
            [
             0.8888888888888888,
             "#fdca26"
            ],
            [
             1,
             "#f0f921"
            ]
           ]
          },
          "colorway": [
           "#636efa",
           "#EF553B",
           "#00cc96",
           "#ab63fa",
           "#FFA15A",
           "#19d3f3",
           "#FF6692",
           "#B6E880",
           "#FF97FF",
           "#FECB52"
          ],
          "font": {
           "color": "#2a3f5f"
          },
          "geo": {
           "bgcolor": "white",
           "lakecolor": "white",
           "landcolor": "#E5ECF6",
           "showlakes": true,
           "showland": true,
           "subunitcolor": "white"
          },
          "hoverlabel": {
           "align": "left"
          },
          "hovermode": "closest",
          "mapbox": {
           "style": "light"
          },
          "paper_bgcolor": "white",
          "plot_bgcolor": "#E5ECF6",
          "polar": {
           "angularaxis": {
            "gridcolor": "white",
            "linecolor": "white",
            "ticks": ""
           },
           "bgcolor": "#E5ECF6",
           "radialaxis": {
            "gridcolor": "white",
            "linecolor": "white",
            "ticks": ""
           }
          },
          "scene": {
           "xaxis": {
            "backgroundcolor": "#E5ECF6",
            "gridcolor": "white",
            "gridwidth": 2,
            "linecolor": "white",
            "showbackground": true,
            "ticks": "",
            "zerolinecolor": "white"
           },
           "yaxis": {
            "backgroundcolor": "#E5ECF6",
            "gridcolor": "white",
            "gridwidth": 2,
            "linecolor": "white",
            "showbackground": true,
            "ticks": "",
            "zerolinecolor": "white"
           },
           "zaxis": {
            "backgroundcolor": "#E5ECF6",
            "gridcolor": "white",
            "gridwidth": 2,
            "linecolor": "white",
            "showbackground": true,
            "ticks": "",
            "zerolinecolor": "white"
           }
          },
          "shapedefaults": {
           "line": {
            "color": "#2a3f5f"
           }
          },
          "ternary": {
           "aaxis": {
            "gridcolor": "white",
            "linecolor": "white",
            "ticks": ""
           },
           "baxis": {
            "gridcolor": "white",
            "linecolor": "white",
            "ticks": ""
           },
           "bgcolor": "#E5ECF6",
           "caxis": {
            "gridcolor": "white",
            "linecolor": "white",
            "ticks": ""
           }
          },
          "title": {
           "x": 0.05
          },
          "xaxis": {
           "automargin": true,
           "gridcolor": "white",
           "linecolor": "white",
           "ticks": "",
           "title": {
            "standoff": 15
           },
           "zerolinecolor": "white",
           "zerolinewidth": 2
          },
          "yaxis": {
           "automargin": true,
           "gridcolor": "white",
           "linecolor": "white",
           "ticks": "",
           "title": {
            "standoff": 15
           },
           "zerolinecolor": "white",
           "zerolinewidth": 2
          }
         }
        },
        "title": {
         "text": "Cumulative Income by Group"
        },
        "xaxis": {
         "anchor": "y",
         "domain": [
          0,
          1
         ],
         "dtick": "D1",
         "title": {
          "text": "date"
         }
        },
        "yaxis": {
         "anchor": "x",
         "domain": [
          0,
          1
         ],
         "title": {
          "text": "cum_income"
         }
        }
       }
      }
     },
     "metadata": {},
     "output_type": "display_data"
    }
   ],
   "source": [
    "fig = px.line(df_orders, x=\"date\", y=\"cum_income\", color=\"group\", title=\"Cumulative Income by Group\")\n",
    "fig.update_xaxes(dtick=\"D1\")\n",
    "fig.show()"
   ]
  },
  {
   "cell_type": "markdown",
   "id": "002e6c9d",
   "metadata": {},
   "source": [
    "##### __5.2.2__ Graph the cumulative average order size by group. Draw conclusions and make conjectures."
   ]
  },
  {
   "cell_type": "code",
   "execution_count": 33,
   "id": "cbd1d43b",
   "metadata": {},
   "outputs": [
    {
     "data": {
      "application/vnd.microsoft.datawrangler.viewer.v0+json": {
       "columns": [
        {
         "name": "index",
         "rawType": "int64",
         "type": "integer"
        },
        {
         "name": "transactionid",
         "rawType": "int64",
         "type": "integer"
        },
        {
         "name": "visitorid",
         "rawType": "int64",
         "type": "integer"
        },
        {
         "name": "date",
         "rawType": "object",
         "type": "unknown"
        },
        {
         "name": "revenue",
         "rawType": "float64",
         "type": "float"
        },
        {
         "name": "group",
         "rawType": "category",
         "type": "unknown"
        },
        {
         "name": "cum_income",
         "rawType": "float64",
         "type": "float"
        },
        {
         "name": "cum_orders",
         "rawType": "int64",
         "type": "integer"
        }
       ],
       "ref": "89a18edd-79bf-42cd-956f-f8f47e31b2a1",
       "rows": [
        [
         "55",
         "1144701458",
         "1143609305",
         "2019-08-01",
         "45.3",
         "A",
         "45.3",
         "1"
        ],
        [
         "72",
         "477940151",
         "1422773200",
         "2019-08-01",
         "15.8",
         "A",
         "61.099999999999994",
         "2"
        ],
        [
         "73",
         "1295850747",
         "2947100995",
         "2019-08-01",
         "455.8",
         "A",
         "516.9",
         "3"
        ],
        [
         "96",
         "1170105516",
         "2706377257",
         "2019-08-01",
         "140.8",
         "A",
         "657.7",
         "4"
        ],
        [
         "98",
         "1962247337",
         "2706377257",
         "2019-08-01",
         "110.7",
         "A",
         "768.4000000000001",
         "5"
        ],
        [
         "99",
         "2951489300",
         "926057494",
         "2019-08-01",
         "5.6",
         "A",
         "774.0",
         "6"
        ],
        [
         "101",
         "3847160695",
         "1830791924",
         "2019-08-01",
         "40.2",
         "A",
         "814.2",
         "7"
        ],
        [
         "102",
         "3328372908",
         "381340408",
         "2019-08-01",
         "50.1",
         "A",
         "864.3000000000001",
         "8"
        ],
        [
         "104",
         "627804981",
         "611059232",
         "2019-08-01",
         "275.8",
         "A",
         "1140.1000000000001",
         "9"
        ],
        [
         "113",
         "2663968367",
         "821846484",
         "2019-08-01",
         "30.1",
         "A",
         "1170.2",
         "10"
        ],
        [
         "137",
         "1798931686",
         "1211585711",
         "2019-08-01",
         "440.3",
         "A",
         "1610.5",
         "11"
        ],
        [
         "141",
         "602399015",
         "3967698036",
         "2019-08-01",
         "5.6",
         "A",
         "1616.1000000000001",
         "12"
        ],
        [
         "143",
         "3433533137",
         "678354126",
         "2019-08-01",
         "100.4",
         "A",
         "1716.5",
         "13"
        ],
        [
         "144",
         "365058890",
         "611059232",
         "2019-08-01",
         "45.3",
         "A",
         "1761.8000000000002",
         "14"
        ],
        [
         "145",
         "735232225",
         "611059232",
         "2019-08-01",
         "140.4",
         "A",
         "1902.2",
         "15"
        ],
        [
         "147",
         "52260954",
         "3967698036",
         "2019-08-01",
         "20.2",
         "A",
         "1922.4",
         "16"
        ],
        [
         "153",
         "4045393544",
         "991436984",
         "2019-08-01",
         "30.5",
         "A",
         "1952.9",
         "17"
        ],
        [
         "154",
         "4206138190",
         "1219079053",
         "2019-08-01",
         "80.5",
         "A",
         "2033.4",
         "18"
        ],
        [
         "155",
         "891673177",
         "572335325",
         "2019-08-01",
         "60.8",
         "A",
         "2094.2000000000003",
         "19"
        ],
        [
         "168",
         "2065527789",
         "1581167209",
         "2019-08-01",
         "30.4",
         "A",
         "2124.6",
         "20"
        ],
        [
         "169",
         "3588515863",
         "1737494355",
         "2019-08-01",
         "30.8",
         "A",
         "2155.4",
         "21"
        ],
        [
         "170",
         "617930325",
         "2785040378",
         "2019-08-01",
         "55.8",
         "A",
         "2211.2000000000003",
         "22"
        ],
        [
         "171",
         "2153842875",
         "876081193",
         "2019-08-01",
         "55.4",
         "A",
         "2266.6",
         "23"
        ],
        [
         "66",
         "4919758",
         "1217561296",
         "2019-08-01",
         "40.2",
         "B",
         "40.2",
         "1"
        ],
        [
         "70",
         "3574407166",
         "2328378067",
         "2019-08-01",
         "140.4",
         "B",
         "180.60000000000002",
         "2"
        ],
        [
         "97",
         "2012801741",
         "414545763",
         "2019-08-01",
         "90.5",
         "B",
         "271.1",
         "3"
        ],
        [
         "100",
         "804934578",
         "1738775963",
         "2019-08-01",
         "50.8",
         "B",
         "321.9",
         "4"
        ],
        [
         "103",
         "2951399376",
         "2019355024",
         "2019-08-01",
         "40.2",
         "B",
         "362.1",
         "5"
        ],
        [
         "109",
         "2411689164",
         "2019205281",
         "2019-08-01",
         "80.2",
         "B",
         "442.3",
         "6"
        ],
        [
         "110",
         "3749160238",
         "1700445283",
         "2019-08-01",
         "110.5",
         "B",
         "552.8",
         "7"
        ],
        [
         "115",
         "3486821141",
         "1225835168",
         "2019-08-01",
         "5.6",
         "B",
         "558.4",
         "8"
        ],
        [
         "135",
         "3394915331",
         "1354599463",
         "2019-08-01",
         "120.3",
         "B",
         "678.7",
         "9"
        ],
        [
         "136",
         "1578920557",
         "680119828",
         "2019-08-01",
         "10.6",
         "B",
         "689.3",
         "10"
        ],
        [
         "138",
         "1403947326",
         "1075551409",
         "2019-08-01",
         "10.0",
         "B",
         "699.3",
         "11"
        ],
        [
         "140",
         "2774185760",
         "975516572",
         "2019-08-01",
         "20.3",
         "B",
         "719.6",
         "12"
        ],
        [
         "142",
         "854120002",
         "544963298",
         "2019-08-01",
         "25.9",
         "B",
         "745.5",
         "13"
        ],
        [
         "146",
         "3650534576",
         "134926050",
         "2019-08-01",
         "50.0",
         "B",
         "795.5",
         "14"
        ],
        [
         "148",
         "4238948438",
         "363280180",
         "2019-08-01",
         "5.6",
         "B",
         "801.1",
         "15"
        ],
        [
         "151",
         "1728664132",
         "1596819047",
         "2019-08-01",
         "10.6",
         "B",
         "811.6999999999999",
         "16"
        ],
        [
         "152",
         "3227521980",
         "3938001975",
         "2019-08-01",
         "155.5",
         "B",
         "967.2",
         "17"
        ],
        [
         "175",
         "1223645875",
         "3123255051",
         "2019-08-02",
         "50.8",
         "A",
         "2317.4",
         "24"
        ],
        [
         "190",
         "1876585139",
         "2871453277",
         "2019-08-02",
         "110.8",
         "A",
         "2428.2000000000003",
         "25"
        ],
        [
         "191",
         "2361024027",
         "3967698036",
         "2019-08-02",
         "30.0",
         "A",
         "2458.2000000000003",
         "26"
        ],
        [
         "192",
         "2815409412",
         "2125253600",
         "2019-08-02",
         "15.7",
         "A",
         "2473.9",
         "27"
        ],
        [
         "195",
         "2872509092",
         "983496389",
         "2019-08-02",
         "5.5",
         "A",
         "2479.4",
         "28"
        ],
        [
         "196",
         "1216926230",
         "1500448895",
         "2019-08-02",
         "45.7",
         "A",
         "2525.1",
         "29"
        ],
        [
         "198",
         "2206098194",
         "2880866577",
         "2019-08-02",
         "30.0",
         "A",
         "2555.1",
         "30"
        ],
        [
         "206",
         "3390093829",
         "3199637546",
         "2019-08-02",
         "45.6",
         "A",
         "2600.7000000000003",
         "31"
        ],
        [
         "209",
         "873230871",
         "236764260",
         "2019-08-02",
         "90.8",
         "A",
         "2691.5",
         "32"
        ],
        [
         "214",
         "3485678199",
         "2232111114",
         "2019-08-02",
         "270.0",
         "A",
         "2961.5",
         "33"
        ]
       ],
       "shape": {
        "columns": 7,
        "rows": 1016
       }
      },
      "text/html": [
       "<div>\n",
       "<style scoped>\n",
       "    .dataframe tbody tr th:only-of-type {\n",
       "        vertical-align: middle;\n",
       "    }\n",
       "\n",
       "    .dataframe tbody tr th {\n",
       "        vertical-align: top;\n",
       "    }\n",
       "\n",
       "    .dataframe thead th {\n",
       "        text-align: right;\n",
       "    }\n",
       "</style>\n",
       "<table border=\"1\" class=\"dataframe\">\n",
       "  <thead>\n",
       "    <tr style=\"text-align: right;\">\n",
       "      <th></th>\n",
       "      <th>transactionid</th>\n",
       "      <th>visitorid</th>\n",
       "      <th>date</th>\n",
       "      <th>revenue</th>\n",
       "      <th>group</th>\n",
       "      <th>cum_income</th>\n",
       "      <th>cum_orders</th>\n",
       "    </tr>\n",
       "  </thead>\n",
       "  <tbody>\n",
       "    <tr>\n",
       "      <th>55</th>\n",
       "      <td>1144701458</td>\n",
       "      <td>1143609305</td>\n",
       "      <td>2019-08-01</td>\n",
       "      <td>45.3</td>\n",
       "      <td>A</td>\n",
       "      <td>45.3</td>\n",
       "      <td>1</td>\n",
       "    </tr>\n",
       "    <tr>\n",
       "      <th>72</th>\n",
       "      <td>477940151</td>\n",
       "      <td>1422773200</td>\n",
       "      <td>2019-08-01</td>\n",
       "      <td>15.8</td>\n",
       "      <td>A</td>\n",
       "      <td>61.1</td>\n",
       "      <td>2</td>\n",
       "    </tr>\n",
       "    <tr>\n",
       "      <th>73</th>\n",
       "      <td>1295850747</td>\n",
       "      <td>2947100995</td>\n",
       "      <td>2019-08-01</td>\n",
       "      <td>455.8</td>\n",
       "      <td>A</td>\n",
       "      <td>516.9</td>\n",
       "      <td>3</td>\n",
       "    </tr>\n",
       "    <tr>\n",
       "      <th>96</th>\n",
       "      <td>1170105516</td>\n",
       "      <td>2706377257</td>\n",
       "      <td>2019-08-01</td>\n",
       "      <td>140.8</td>\n",
       "      <td>A</td>\n",
       "      <td>657.7</td>\n",
       "      <td>4</td>\n",
       "    </tr>\n",
       "    <tr>\n",
       "      <th>98</th>\n",
       "      <td>1962247337</td>\n",
       "      <td>2706377257</td>\n",
       "      <td>2019-08-01</td>\n",
       "      <td>110.7</td>\n",
       "      <td>A</td>\n",
       "      <td>768.4</td>\n",
       "      <td>5</td>\n",
       "    </tr>\n",
       "    <tr>\n",
       "      <th>...</th>\n",
       "      <td>...</td>\n",
       "      <td>...</td>\n",
       "      <td>...</td>\n",
       "      <td>...</td>\n",
       "      <td>...</td>\n",
       "      <td>...</td>\n",
       "      <td>...</td>\n",
       "    </tr>\n",
       "    <tr>\n",
       "      <th>1023</th>\n",
       "      <td>2886170101</td>\n",
       "      <td>930758570</td>\n",
       "      <td>2019-08-31</td>\n",
       "      <td>105.7</td>\n",
       "      <td>B</td>\n",
       "      <td>78889.5</td>\n",
       "      <td>544</td>\n",
       "    </tr>\n",
       "    <tr>\n",
       "      <th>1024</th>\n",
       "      <td>3845118557</td>\n",
       "      <td>1964413493</td>\n",
       "      <td>2019-08-31</td>\n",
       "      <td>5.5</td>\n",
       "      <td>B</td>\n",
       "      <td>78895.0</td>\n",
       "      <td>545</td>\n",
       "    </tr>\n",
       "    <tr>\n",
       "      <th>1026</th>\n",
       "      <td>853409662</td>\n",
       "      <td>1390677121</td>\n",
       "      <td>2019-08-31</td>\n",
       "      <td>290.5</td>\n",
       "      <td>B</td>\n",
       "      <td>79185.5</td>\n",
       "      <td>546</td>\n",
       "    </tr>\n",
       "    <tr>\n",
       "      <th>1037</th>\n",
       "      <td>4149581711</td>\n",
       "      <td>1555048873</td>\n",
       "      <td>2019-08-31</td>\n",
       "      <td>30.2</td>\n",
       "      <td>B</td>\n",
       "      <td>79215.7</td>\n",
       "      <td>547</td>\n",
       "    </tr>\n",
       "    <tr>\n",
       "      <th>1038</th>\n",
       "      <td>2983450240</td>\n",
       "      <td>1605520752</td>\n",
       "      <td>2019-08-31</td>\n",
       "      <td>435.5</td>\n",
       "      <td>B</td>\n",
       "      <td>79651.2</td>\n",
       "      <td>548</td>\n",
       "    </tr>\n",
       "  </tbody>\n",
       "</table>\n",
       "<p>1016 rows × 7 columns</p>\n",
       "</div>"
      ],
      "text/plain": [
       "      transactionid   visitorid        date  revenue group  cum_income  cum_orders\n",
       "55       1144701458  1143609305  2019-08-01     45.3     A        45.3           1\n",
       "72        477940151  1422773200  2019-08-01     15.8     A        61.1           2\n",
       "73       1295850747  2947100995  2019-08-01    455.8     A       516.9           3\n",
       "96       1170105516  2706377257  2019-08-01    140.8     A       657.7           4\n",
       "98       1962247337  2706377257  2019-08-01    110.7     A       768.4           5\n",
       "...             ...         ...         ...      ...   ...         ...         ...\n",
       "1023     2886170101   930758570  2019-08-31    105.7     B     78889.5         544\n",
       "1024     3845118557  1964413493  2019-08-31      5.5     B     78895.0         545\n",
       "1026      853409662  1390677121  2019-08-31    290.5     B     79185.5         546\n",
       "1037     4149581711  1555048873  2019-08-31     30.2     B     79215.7         547\n",
       "1038     2983450240  1605520752  2019-08-31    435.5     B     79651.2         548\n",
       "\n",
       "[1016 rows x 7 columns]"
      ]
     },
     "execution_count": 33,
     "metadata": {},
     "output_type": "execute_result"
    }
   ],
   "source": [
    "# Get cumulative orders count\n",
    "df_orders[\"cum_orders\"] = df_orders.groupby(\"group\", observed=False).cumcount() + 1\n",
    "df_orders"
   ]
  },
  {
   "cell_type": "code",
   "execution_count": 34,
   "id": "57c718df",
   "metadata": {},
   "outputs": [
    {
     "data": {
      "application/vnd.microsoft.datawrangler.viewer.v0+json": {
       "columns": [
        {
         "name": "index",
         "rawType": "int64",
         "type": "integer"
        },
        {
         "name": "transactionid",
         "rawType": "int64",
         "type": "integer"
        },
        {
         "name": "visitorid",
         "rawType": "int64",
         "type": "integer"
        },
        {
         "name": "date",
         "rawType": "object",
         "type": "unknown"
        },
        {
         "name": "revenue",
         "rawType": "float64",
         "type": "float"
        },
        {
         "name": "group",
         "rawType": "category",
         "type": "unknown"
        },
        {
         "name": "cum_income",
         "rawType": "float64",
         "type": "float"
        },
        {
         "name": "cum_orders",
         "rawType": "int64",
         "type": "integer"
        },
        {
         "name": "cum_avg_order_size",
         "rawType": "float64",
         "type": "float"
        }
       ],
       "ref": "e681bd49-cc45-49e5-abcc-aa426dd117d1",
       "rows": [
        [
         "55",
         "1144701458",
         "1143609305",
         "2019-08-01",
         "45.3",
         "A",
         "45.3",
         "1",
         "45.3"
        ],
        [
         "72",
         "477940151",
         "1422773200",
         "2019-08-01",
         "15.8",
         "A",
         "61.099999999999994",
         "2",
         "30.549999999999997"
        ],
        [
         "73",
         "1295850747",
         "2947100995",
         "2019-08-01",
         "455.8",
         "A",
         "516.9",
         "3",
         "172.29999999999998"
        ],
        [
         "96",
         "1170105516",
         "2706377257",
         "2019-08-01",
         "140.8",
         "A",
         "657.7",
         "4",
         "164.425"
        ],
        [
         "98",
         "1962247337",
         "2706377257",
         "2019-08-01",
         "110.7",
         "A",
         "768.4000000000001",
         "5",
         "153.68"
        ],
        [
         "99",
         "2951489300",
         "926057494",
         "2019-08-01",
         "5.6",
         "A",
         "774.0",
         "6",
         "129.0"
        ],
        [
         "101",
         "3847160695",
         "1830791924",
         "2019-08-01",
         "40.2",
         "A",
         "814.2",
         "7",
         "116.31428571428572"
        ],
        [
         "102",
         "3328372908",
         "381340408",
         "2019-08-01",
         "50.1",
         "A",
         "864.3000000000001",
         "8",
         "108.03750000000001"
        ],
        [
         "104",
         "627804981",
         "611059232",
         "2019-08-01",
         "275.8",
         "A",
         "1140.1000000000001",
         "9",
         "126.67777777777779"
        ],
        [
         "113",
         "2663968367",
         "821846484",
         "2019-08-01",
         "30.1",
         "A",
         "1170.2",
         "10",
         "117.02000000000001"
        ],
        [
         "137",
         "1798931686",
         "1211585711",
         "2019-08-01",
         "440.3",
         "A",
         "1610.5",
         "11",
         "146.4090909090909"
        ],
        [
         "141",
         "602399015",
         "3967698036",
         "2019-08-01",
         "5.6",
         "A",
         "1616.1000000000001",
         "12",
         "134.675"
        ],
        [
         "143",
         "3433533137",
         "678354126",
         "2019-08-01",
         "100.4",
         "A",
         "1716.5",
         "13",
         "132.03846153846155"
        ],
        [
         "144",
         "365058890",
         "611059232",
         "2019-08-01",
         "45.3",
         "A",
         "1761.8000000000002",
         "14",
         "125.84285714285716"
        ],
        [
         "145",
         "735232225",
         "611059232",
         "2019-08-01",
         "140.4",
         "A",
         "1902.2",
         "15",
         "126.81333333333333"
        ],
        [
         "147",
         "52260954",
         "3967698036",
         "2019-08-01",
         "20.2",
         "A",
         "1922.4",
         "16",
         "120.15"
        ],
        [
         "153",
         "4045393544",
         "991436984",
         "2019-08-01",
         "30.5",
         "A",
         "1952.9",
         "17",
         "114.87647058823529"
        ],
        [
         "154",
         "4206138190",
         "1219079053",
         "2019-08-01",
         "80.5",
         "A",
         "2033.4",
         "18",
         "112.96666666666667"
        ],
        [
         "155",
         "891673177",
         "572335325",
         "2019-08-01",
         "60.8",
         "A",
         "2094.2000000000003",
         "19",
         "110.22105263157896"
        ],
        [
         "168",
         "2065527789",
         "1581167209",
         "2019-08-01",
         "30.4",
         "A",
         "2124.6",
         "20",
         "106.22999999999999"
        ],
        [
         "169",
         "3588515863",
         "1737494355",
         "2019-08-01",
         "30.8",
         "A",
         "2155.4",
         "21",
         "102.63809523809525"
        ],
        [
         "170",
         "617930325",
         "2785040378",
         "2019-08-01",
         "55.8",
         "A",
         "2211.2000000000003",
         "22",
         "100.50909090909092"
        ],
        [
         "171",
         "2153842875",
         "876081193",
         "2019-08-01",
         "55.4",
         "A",
         "2266.6",
         "23",
         "98.54782608695652"
        ],
        [
         "66",
         "4919758",
         "1217561296",
         "2019-08-01",
         "40.2",
         "B",
         "40.2",
         "1",
         "40.2"
        ],
        [
         "70",
         "3574407166",
         "2328378067",
         "2019-08-01",
         "140.4",
         "B",
         "180.60000000000002",
         "2",
         "90.30000000000001"
        ],
        [
         "97",
         "2012801741",
         "414545763",
         "2019-08-01",
         "90.5",
         "B",
         "271.1",
         "3",
         "90.36666666666667"
        ],
        [
         "100",
         "804934578",
         "1738775963",
         "2019-08-01",
         "50.8",
         "B",
         "321.9",
         "4",
         "80.475"
        ],
        [
         "103",
         "2951399376",
         "2019355024",
         "2019-08-01",
         "40.2",
         "B",
         "362.1",
         "5",
         "72.42"
        ],
        [
         "109",
         "2411689164",
         "2019205281",
         "2019-08-01",
         "80.2",
         "B",
         "442.3",
         "6",
         "73.71666666666667"
        ],
        [
         "110",
         "3749160238",
         "1700445283",
         "2019-08-01",
         "110.5",
         "B",
         "552.8",
         "7",
         "78.97142857142856"
        ],
        [
         "115",
         "3486821141",
         "1225835168",
         "2019-08-01",
         "5.6",
         "B",
         "558.4",
         "8",
         "69.8"
        ],
        [
         "135",
         "3394915331",
         "1354599463",
         "2019-08-01",
         "120.3",
         "B",
         "678.7",
         "9",
         "75.41111111111111"
        ],
        [
         "136",
         "1578920557",
         "680119828",
         "2019-08-01",
         "10.6",
         "B",
         "689.3",
         "10",
         "68.92999999999999"
        ],
        [
         "138",
         "1403947326",
         "1075551409",
         "2019-08-01",
         "10.0",
         "B",
         "699.3",
         "11",
         "63.57272727272727"
        ],
        [
         "140",
         "2774185760",
         "975516572",
         "2019-08-01",
         "20.3",
         "B",
         "719.6",
         "12",
         "59.96666666666667"
        ],
        [
         "142",
         "854120002",
         "544963298",
         "2019-08-01",
         "25.9",
         "B",
         "745.5",
         "13",
         "57.34615384615385"
        ],
        [
         "146",
         "3650534576",
         "134926050",
         "2019-08-01",
         "50.0",
         "B",
         "795.5",
         "14",
         "56.82142857142857"
        ],
        [
         "148",
         "4238948438",
         "363280180",
         "2019-08-01",
         "5.6",
         "B",
         "801.1",
         "15",
         "53.406666666666666"
        ],
        [
         "151",
         "1728664132",
         "1596819047",
         "2019-08-01",
         "10.6",
         "B",
         "811.6999999999999",
         "16",
         "50.731249999999996"
        ],
        [
         "152",
         "3227521980",
         "3938001975",
         "2019-08-01",
         "155.5",
         "B",
         "967.2",
         "17",
         "56.89411764705883"
        ],
        [
         "175",
         "1223645875",
         "3123255051",
         "2019-08-02",
         "50.8",
         "A",
         "2317.4",
         "24",
         "96.55833333333334"
        ],
        [
         "190",
         "1876585139",
         "2871453277",
         "2019-08-02",
         "110.8",
         "A",
         "2428.2000000000003",
         "25",
         "97.12800000000001"
        ],
        [
         "191",
         "2361024027",
         "3967698036",
         "2019-08-02",
         "30.0",
         "A",
         "2458.2000000000003",
         "26",
         "94.54615384615386"
        ],
        [
         "192",
         "2815409412",
         "2125253600",
         "2019-08-02",
         "15.7",
         "A",
         "2473.9",
         "27",
         "91.62592592592593"
        ],
        [
         "195",
         "2872509092",
         "983496389",
         "2019-08-02",
         "5.5",
         "A",
         "2479.4",
         "28",
         "88.55"
        ],
        [
         "196",
         "1216926230",
         "1500448895",
         "2019-08-02",
         "45.7",
         "A",
         "2525.1",
         "29",
         "87.07241379310345"
        ],
        [
         "198",
         "2206098194",
         "2880866577",
         "2019-08-02",
         "30.0",
         "A",
         "2555.1",
         "30",
         "85.17"
        ],
        [
         "206",
         "3390093829",
         "3199637546",
         "2019-08-02",
         "45.6",
         "A",
         "2600.7000000000003",
         "31",
         "83.89354838709679"
        ],
        [
         "209",
         "873230871",
         "236764260",
         "2019-08-02",
         "90.8",
         "A",
         "2691.5",
         "32",
         "84.109375"
        ],
        [
         "214",
         "3485678199",
         "2232111114",
         "2019-08-02",
         "270.0",
         "A",
         "2961.5",
         "33",
         "89.74242424242425"
        ]
       ],
       "shape": {
        "columns": 8,
        "rows": 1016
       }
      },
      "text/html": [
       "<div>\n",
       "<style scoped>\n",
       "    .dataframe tbody tr th:only-of-type {\n",
       "        vertical-align: middle;\n",
       "    }\n",
       "\n",
       "    .dataframe tbody tr th {\n",
       "        vertical-align: top;\n",
       "    }\n",
       "\n",
       "    .dataframe thead th {\n",
       "        text-align: right;\n",
       "    }\n",
       "</style>\n",
       "<table border=\"1\" class=\"dataframe\">\n",
       "  <thead>\n",
       "    <tr style=\"text-align: right;\">\n",
       "      <th></th>\n",
       "      <th>transactionid</th>\n",
       "      <th>visitorid</th>\n",
       "      <th>date</th>\n",
       "      <th>revenue</th>\n",
       "      <th>group</th>\n",
       "      <th>cum_income</th>\n",
       "      <th>cum_orders</th>\n",
       "      <th>cum_avg_order_size</th>\n",
       "    </tr>\n",
       "  </thead>\n",
       "  <tbody>\n",
       "    <tr>\n",
       "      <th>55</th>\n",
       "      <td>1144701458</td>\n",
       "      <td>1143609305</td>\n",
       "      <td>2019-08-01</td>\n",
       "      <td>45.3</td>\n",
       "      <td>A</td>\n",
       "      <td>45.3</td>\n",
       "      <td>1</td>\n",
       "      <td>45.300000</td>\n",
       "    </tr>\n",
       "    <tr>\n",
       "      <th>72</th>\n",
       "      <td>477940151</td>\n",
       "      <td>1422773200</td>\n",
       "      <td>2019-08-01</td>\n",
       "      <td>15.8</td>\n",
       "      <td>A</td>\n",
       "      <td>61.1</td>\n",
       "      <td>2</td>\n",
       "      <td>30.550000</td>\n",
       "    </tr>\n",
       "    <tr>\n",
       "      <th>73</th>\n",
       "      <td>1295850747</td>\n",
       "      <td>2947100995</td>\n",
       "      <td>2019-08-01</td>\n",
       "      <td>455.8</td>\n",
       "      <td>A</td>\n",
       "      <td>516.9</td>\n",
       "      <td>3</td>\n",
       "      <td>172.300000</td>\n",
       "    </tr>\n",
       "    <tr>\n",
       "      <th>96</th>\n",
       "      <td>1170105516</td>\n",
       "      <td>2706377257</td>\n",
       "      <td>2019-08-01</td>\n",
       "      <td>140.8</td>\n",
       "      <td>A</td>\n",
       "      <td>657.7</td>\n",
       "      <td>4</td>\n",
       "      <td>164.425000</td>\n",
       "    </tr>\n",
       "    <tr>\n",
       "      <th>98</th>\n",
       "      <td>1962247337</td>\n",
       "      <td>2706377257</td>\n",
       "      <td>2019-08-01</td>\n",
       "      <td>110.7</td>\n",
       "      <td>A</td>\n",
       "      <td>768.4</td>\n",
       "      <td>5</td>\n",
       "      <td>153.680000</td>\n",
       "    </tr>\n",
       "    <tr>\n",
       "      <th>...</th>\n",
       "      <td>...</td>\n",
       "      <td>...</td>\n",
       "      <td>...</td>\n",
       "      <td>...</td>\n",
       "      <td>...</td>\n",
       "      <td>...</td>\n",
       "      <td>...</td>\n",
       "      <td>...</td>\n",
       "    </tr>\n",
       "    <tr>\n",
       "      <th>1023</th>\n",
       "      <td>2886170101</td>\n",
       "      <td>930758570</td>\n",
       "      <td>2019-08-31</td>\n",
       "      <td>105.7</td>\n",
       "      <td>B</td>\n",
       "      <td>78889.5</td>\n",
       "      <td>544</td>\n",
       "      <td>145.017463</td>\n",
       "    </tr>\n",
       "    <tr>\n",
       "      <th>1024</th>\n",
       "      <td>3845118557</td>\n",
       "      <td>1964413493</td>\n",
       "      <td>2019-08-31</td>\n",
       "      <td>5.5</td>\n",
       "      <td>B</td>\n",
       "      <td>78895.0</td>\n",
       "      <td>545</td>\n",
       "      <td>144.761468</td>\n",
       "    </tr>\n",
       "    <tr>\n",
       "      <th>1026</th>\n",
       "      <td>853409662</td>\n",
       "      <td>1390677121</td>\n",
       "      <td>2019-08-31</td>\n",
       "      <td>290.5</td>\n",
       "      <td>B</td>\n",
       "      <td>79185.5</td>\n",
       "      <td>546</td>\n",
       "      <td>145.028388</td>\n",
       "    </tr>\n",
       "    <tr>\n",
       "      <th>1037</th>\n",
       "      <td>4149581711</td>\n",
       "      <td>1555048873</td>\n",
       "      <td>2019-08-31</td>\n",
       "      <td>30.2</td>\n",
       "      <td>B</td>\n",
       "      <td>79215.7</td>\n",
       "      <td>547</td>\n",
       "      <td>144.818464</td>\n",
       "    </tr>\n",
       "    <tr>\n",
       "      <th>1038</th>\n",
       "      <td>2983450240</td>\n",
       "      <td>1605520752</td>\n",
       "      <td>2019-08-31</td>\n",
       "      <td>435.5</td>\n",
       "      <td>B</td>\n",
       "      <td>79651.2</td>\n",
       "      <td>548</td>\n",
       "      <td>145.348905</td>\n",
       "    </tr>\n",
       "  </tbody>\n",
       "</table>\n",
       "<p>1016 rows × 8 columns</p>\n",
       "</div>"
      ],
      "text/plain": [
       "      transactionid   visitorid        date  revenue group  cum_income  cum_orders  cum_avg_order_size\n",
       "55       1144701458  1143609305  2019-08-01     45.3     A        45.3           1           45.300000\n",
       "72        477940151  1422773200  2019-08-01     15.8     A        61.1           2           30.550000\n",
       "73       1295850747  2947100995  2019-08-01    455.8     A       516.9           3          172.300000\n",
       "96       1170105516  2706377257  2019-08-01    140.8     A       657.7           4          164.425000\n",
       "98       1962247337  2706377257  2019-08-01    110.7     A       768.4           5          153.680000\n",
       "...             ...         ...         ...      ...   ...         ...         ...                 ...\n",
       "1023     2886170101   930758570  2019-08-31    105.7     B     78889.5         544          145.017463\n",
       "1024     3845118557  1964413493  2019-08-31      5.5     B     78895.0         545          144.761468\n",
       "1026      853409662  1390677121  2019-08-31    290.5     B     79185.5         546          145.028388\n",
       "1037     4149581711  1555048873  2019-08-31     30.2     B     79215.7         547          144.818464\n",
       "1038     2983450240  1605520752  2019-08-31    435.5     B     79651.2         548          145.348905\n",
       "\n",
       "[1016 rows x 8 columns]"
      ]
     },
     "execution_count": 34,
     "metadata": {},
     "output_type": "execute_result"
    }
   ],
   "source": [
    "# Get Cumulative Average Order Size\n",
    "df_orders[\"cum_avg_order_size\"] = df_orders[\"cum_income\"] / df_orders[\"cum_orders\"]\n",
    "df_orders"
   ]
  },
  {
   "cell_type": "code",
   "execution_count": 35,
   "id": "97f4f875",
   "metadata": {},
   "outputs": [
    {
     "data": {
      "application/vnd.plotly.v1+json": {
       "config": {
        "plotlyServerURL": "https://plot.ly"
       },
       "data": [
        {
         "hovertemplate": "group=A<br>date=%{x}<br>cum_avg_order_size=%{y}<extra></extra>",
         "legendgroup": "A",
         "line": {
          "color": "#636efa",
          "dash": "solid"
         },
         "marker": {
          "symbol": "circle"
         },
         "mode": "lines",
         "name": "A",
         "showlegend": true,
         "type": "scattergl",
         "x": [
          "2019-08-01",
          "2019-08-01",
          "2019-08-01",
          "2019-08-01",
          "2019-08-01",
          "2019-08-01",
          "2019-08-01",
          "2019-08-01",
          "2019-08-01",
          "2019-08-01",
          "2019-08-01",
          "2019-08-01",
          "2019-08-01",
          "2019-08-01",
          "2019-08-01",
          "2019-08-01",
          "2019-08-01",
          "2019-08-01",
          "2019-08-01",
          "2019-08-01",
          "2019-08-01",
          "2019-08-01",
          "2019-08-01",
          "2019-08-02",
          "2019-08-02",
          "2019-08-02",
          "2019-08-02",
          "2019-08-02",
          "2019-08-02",
          "2019-08-02",
          "2019-08-02",
          "2019-08-02",
          "2019-08-02",
          "2019-08-02",
          "2019-08-02",
          "2019-08-02",
          "2019-08-02",
          "2019-08-02",
          "2019-08-02",
          "2019-08-02",
          "2019-08-02",
          "2019-08-02",
          "2019-08-03",
          "2019-08-03",
          "2019-08-03",
          "2019-08-03",
          "2019-08-03",
          "2019-08-03",
          "2019-08-03",
          "2019-08-03",
          "2019-08-03",
          "2019-08-03",
          "2019-08-03",
          "2019-08-03",
          "2019-08-03",
          "2019-08-03",
          "2019-08-03",
          "2019-08-03",
          "2019-08-03",
          "2019-08-03",
          "2019-08-03",
          "2019-08-03",
          "2019-08-03",
          "2019-08-03",
          "2019-08-03",
          "2019-08-03",
          "2019-08-04",
          "2019-08-04",
          "2019-08-04",
          "2019-08-04",
          "2019-08-04",
          "2019-08-04",
          "2019-08-04",
          "2019-08-04",
          "2019-08-04",
          "2019-08-04",
          "2019-08-04",
          "2019-08-05",
          "2019-08-05",
          "2019-08-05",
          "2019-08-05",
          "2019-08-05",
          "2019-08-05",
          "2019-08-05",
          "2019-08-05",
          "2019-08-05",
          "2019-08-05",
          "2019-08-05",
          "2019-08-05",
          "2019-08-05",
          "2019-08-05",
          "2019-08-05",
          "2019-08-05",
          "2019-08-05",
          "2019-08-05",
          "2019-08-05",
          "2019-08-05",
          "2019-08-05",
          "2019-08-05",
          "2019-08-06",
          "2019-08-06",
          "2019-08-06",
          "2019-08-06",
          "2019-08-06",
          "2019-08-06",
          "2019-08-06",
          "2019-08-06",
          "2019-08-06",
          "2019-08-06",
          "2019-08-06",
          "2019-08-06",
          "2019-08-06",
          "2019-08-06",
          "2019-08-06",
          "2019-08-07",
          "2019-08-07",
          "2019-08-07",
          "2019-08-07",
          "2019-08-07",
          "2019-08-07",
          "2019-08-07",
          "2019-08-07",
          "2019-08-07",
          "2019-08-07",
          "2019-08-07",
          "2019-08-07",
          "2019-08-07",
          "2019-08-07",
          "2019-08-07",
          "2019-08-07",
          "2019-08-08",
          "2019-08-08",
          "2019-08-08",
          "2019-08-08",
          "2019-08-08",
          "2019-08-08",
          "2019-08-08",
          "2019-08-08",
          "2019-08-08",
          "2019-08-08",
          "2019-08-08",
          "2019-08-08",
          "2019-08-08",
          "2019-08-08",
          "2019-08-09",
          "2019-08-09",
          "2019-08-09",
          "2019-08-09",
          "2019-08-09",
          "2019-08-09",
          "2019-08-09",
          "2019-08-09",
          "2019-08-09",
          "2019-08-09",
          "2019-08-09",
          "2019-08-10",
          "2019-08-10",
          "2019-08-10",
          "2019-08-10",
          "2019-08-10",
          "2019-08-10",
          "2019-08-10",
          "2019-08-10",
          "2019-08-10",
          "2019-08-10",
          "2019-08-10",
          "2019-08-10",
          "2019-08-10",
          "2019-08-10",
          "2019-08-10",
          "2019-08-11",
          "2019-08-11",
          "2019-08-11",
          "2019-08-11",
          "2019-08-11",
          "2019-08-11",
          "2019-08-11",
          "2019-08-11",
          "2019-08-11",
          "2019-08-11",
          "2019-08-11",
          "2019-08-12",
          "2019-08-12",
          "2019-08-12",
          "2019-08-12",
          "2019-08-12",
          "2019-08-12",
          "2019-08-12",
          "2019-08-12",
          "2019-08-12",
          "2019-08-12",
          "2019-08-12",
          "2019-08-12",
          "2019-08-12",
          "2019-08-12",
          "2019-08-12",
          "2019-08-12",
          "2019-08-12",
          "2019-08-12",
          "2019-08-12",
          "2019-08-13",
          "2019-08-13",
          "2019-08-13",
          "2019-08-13",
          "2019-08-13",
          "2019-08-13",
          "2019-08-13",
          "2019-08-13",
          "2019-08-13",
          "2019-08-13",
          "2019-08-13",
          "2019-08-13",
          "2019-08-13",
          "2019-08-13",
          "2019-08-14",
          "2019-08-14",
          "2019-08-14",
          "2019-08-14",
          "2019-08-14",
          "2019-08-14",
          "2019-08-14",
          "2019-08-14",
          "2019-08-14",
          "2019-08-14",
          "2019-08-14",
          "2019-08-14",
          "2019-08-14",
          "2019-08-14",
          "2019-08-14",
          "2019-08-14",
          "2019-08-14",
          "2019-08-15",
          "2019-08-15",
          "2019-08-15",
          "2019-08-15",
          "2019-08-15",
          "2019-08-15",
          "2019-08-15",
          "2019-08-15",
          "2019-08-15",
          "2019-08-15",
          "2019-08-16",
          "2019-08-16",
          "2019-08-16",
          "2019-08-16",
          "2019-08-16",
          "2019-08-16",
          "2019-08-16",
          "2019-08-16",
          "2019-08-16",
          "2019-08-16",
          "2019-08-16",
          "2019-08-16",
          "2019-08-16",
          "2019-08-16",
          "2019-08-16",
          "2019-08-16",
          "2019-08-16",
          "2019-08-16",
          "2019-08-17",
          "2019-08-17",
          "2019-08-17",
          "2019-08-17",
          "2019-08-17",
          "2019-08-17",
          "2019-08-18",
          "2019-08-18",
          "2019-08-18",
          "2019-08-18",
          "2019-08-18",
          "2019-08-18",
          "2019-08-18",
          "2019-08-18",
          "2019-08-18",
          "2019-08-18",
          "2019-08-18",
          "2019-08-18",
          "2019-08-18",
          "2019-08-19",
          "2019-08-19",
          "2019-08-19",
          "2019-08-19",
          "2019-08-19",
          "2019-08-19",
          "2019-08-19",
          "2019-08-19",
          "2019-08-19",
          "2019-08-19",
          "2019-08-19",
          "2019-08-19",
          "2019-08-19",
          "2019-08-19",
          "2019-08-19",
          "2019-08-19",
          "2019-08-19",
          "2019-08-19",
          "2019-08-19",
          "2019-08-19",
          "2019-08-19",
          "2019-08-20",
          "2019-08-20",
          "2019-08-20",
          "2019-08-20",
          "2019-08-20",
          "2019-08-20",
          "2019-08-20",
          "2019-08-20",
          "2019-08-20",
          "2019-08-20",
          "2019-08-21",
          "2019-08-21",
          "2019-08-21",
          "2019-08-21",
          "2019-08-21",
          "2019-08-21",
          "2019-08-21",
          "2019-08-21",
          "2019-08-21",
          "2019-08-21",
          "2019-08-21",
          "2019-08-21",
          "2019-08-21",
          "2019-08-21",
          "2019-08-21",
          "2019-08-21",
          "2019-08-21",
          "2019-08-21",
          "2019-08-21",
          "2019-08-21",
          "2019-08-22",
          "2019-08-22",
          "2019-08-22",
          "2019-08-22",
          "2019-08-22",
          "2019-08-22",
          "2019-08-22",
          "2019-08-22",
          "2019-08-22",
          "2019-08-22",
          "2019-08-23",
          "2019-08-23",
          "2019-08-23",
          "2019-08-23",
          "2019-08-23",
          "2019-08-23",
          "2019-08-23",
          "2019-08-23",
          "2019-08-23",
          "2019-08-23",
          "2019-08-23",
          "2019-08-23",
          "2019-08-23",
          "2019-08-23",
          "2019-08-23",
          "2019-08-23",
          "2019-08-23",
          "2019-08-23",
          "2019-08-23",
          "2019-08-23",
          "2019-08-24",
          "2019-08-24",
          "2019-08-24",
          "2019-08-24",
          "2019-08-24",
          "2019-08-24",
          "2019-08-24",
          "2019-08-24",
          "2019-08-24",
          "2019-08-24",
          "2019-08-24",
          "2019-08-24",
          "2019-08-24",
          "2019-08-25",
          "2019-08-25",
          "2019-08-25",
          "2019-08-25",
          "2019-08-25",
          "2019-08-25",
          "2019-08-25",
          "2019-08-25",
          "2019-08-26",
          "2019-08-26",
          "2019-08-26",
          "2019-08-26",
          "2019-08-26",
          "2019-08-26",
          "2019-08-26",
          "2019-08-26",
          "2019-08-26",
          "2019-08-26",
          "2019-08-26",
          "2019-08-26",
          "2019-08-26",
          "2019-08-26",
          "2019-08-26",
          "2019-08-26",
          "2019-08-27",
          "2019-08-27",
          "2019-08-27",
          "2019-08-27",
          "2019-08-27",
          "2019-08-27",
          "2019-08-27",
          "2019-08-27",
          "2019-08-27",
          "2019-08-27",
          "2019-08-27",
          "2019-08-27",
          "2019-08-27",
          "2019-08-27",
          "2019-08-27",
          "2019-08-27",
          "2019-08-27",
          "2019-08-27",
          "2019-08-27",
          "2019-08-27",
          "2019-08-27",
          "2019-08-27",
          "2019-08-27",
          "2019-08-28",
          "2019-08-28",
          "2019-08-28",
          "2019-08-28",
          "2019-08-28",
          "2019-08-28",
          "2019-08-28",
          "2019-08-28",
          "2019-08-28",
          "2019-08-28",
          "2019-08-28",
          "2019-08-28",
          "2019-08-28",
          "2019-08-28",
          "2019-08-28",
          "2019-08-29",
          "2019-08-29",
          "2019-08-29",
          "2019-08-29",
          "2019-08-29",
          "2019-08-29",
          "2019-08-29",
          "2019-08-29",
          "2019-08-29",
          "2019-08-29",
          "2019-08-29",
          "2019-08-29",
          "2019-08-29",
          "2019-08-29",
          "2019-08-29",
          "2019-08-29",
          "2019-08-29",
          "2019-08-30",
          "2019-08-30",
          "2019-08-30",
          "2019-08-30",
          "2019-08-30",
          "2019-08-30",
          "2019-08-30",
          "2019-08-30",
          "2019-08-30",
          "2019-08-31",
          "2019-08-31",
          "2019-08-31",
          "2019-08-31",
          "2019-08-31",
          "2019-08-31",
          "2019-08-31",
          "2019-08-31"
         ],
         "xaxis": "x",
         "y": {
          "bdata": "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",
          "dtype": "f8"
         },
         "yaxis": "y"
        },
        {
         "hovertemplate": "group=B<br>date=%{x}<br>cum_avg_order_size=%{y}<extra></extra>",
         "legendgroup": "B",
         "line": {
          "color": "#EF553B",
          "dash": "solid"
         },
         "marker": {
          "symbol": "circle"
         },
         "mode": "lines",
         "name": "B",
         "showlegend": true,
         "type": "scattergl",
         "x": [
          "2019-08-01",
          "2019-08-01",
          "2019-08-01",
          "2019-08-01",
          "2019-08-01",
          "2019-08-01",
          "2019-08-01",
          "2019-08-01",
          "2019-08-01",
          "2019-08-01",
          "2019-08-01",
          "2019-08-01",
          "2019-08-01",
          "2019-08-01",
          "2019-08-01",
          "2019-08-01",
          "2019-08-01",
          "2019-08-02",
          "2019-08-02",
          "2019-08-02",
          "2019-08-02",
          "2019-08-02",
          "2019-08-02",
          "2019-08-02",
          "2019-08-02",
          "2019-08-02",
          "2019-08-02",
          "2019-08-02",
          "2019-08-02",
          "2019-08-02",
          "2019-08-02",
          "2019-08-02",
          "2019-08-02",
          "2019-08-02",
          "2019-08-02",
          "2019-08-02",
          "2019-08-02",
          "2019-08-02",
          "2019-08-02",
          "2019-08-02",
          "2019-08-03",
          "2019-08-03",
          "2019-08-03",
          "2019-08-03",
          "2019-08-03",
          "2019-08-03",
          "2019-08-03",
          "2019-08-03",
          "2019-08-03",
          "2019-08-03",
          "2019-08-03",
          "2019-08-03",
          "2019-08-03",
          "2019-08-03",
          "2019-08-04",
          "2019-08-04",
          "2019-08-04",
          "2019-08-04",
          "2019-08-04",
          "2019-08-04",
          "2019-08-04",
          "2019-08-04",
          "2019-08-04",
          "2019-08-04",
          "2019-08-04",
          "2019-08-04",
          "2019-08-04",
          "2019-08-04",
          "2019-08-05",
          "2019-08-05",
          "2019-08-05",
          "2019-08-05",
          "2019-08-05",
          "2019-08-05",
          "2019-08-05",
          "2019-08-05",
          "2019-08-05",
          "2019-08-05",
          "2019-08-05",
          "2019-08-05",
          "2019-08-05",
          "2019-08-05",
          "2019-08-05",
          "2019-08-05",
          "2019-08-05",
          "2019-08-05",
          "2019-08-05",
          "2019-08-05",
          "2019-08-05",
          "2019-08-06",
          "2019-08-06",
          "2019-08-06",
          "2019-08-06",
          "2019-08-06",
          "2019-08-06",
          "2019-08-06",
          "2019-08-06",
          "2019-08-06",
          "2019-08-06",
          "2019-08-06",
          "2019-08-06",
          "2019-08-06",
          "2019-08-06",
          "2019-08-06",
          "2019-08-06",
          "2019-08-06",
          "2019-08-06",
          "2019-08-06",
          "2019-08-06",
          "2019-08-06",
          "2019-08-06",
          "2019-08-06",
          "2019-08-07",
          "2019-08-07",
          "2019-08-07",
          "2019-08-07",
          "2019-08-07",
          "2019-08-07",
          "2019-08-07",
          "2019-08-07",
          "2019-08-07",
          "2019-08-07",
          "2019-08-07",
          "2019-08-07",
          "2019-08-07",
          "2019-08-07",
          "2019-08-07",
          "2019-08-07",
          "2019-08-07",
          "2019-08-07",
          "2019-08-07",
          "2019-08-07",
          "2019-08-07",
          "2019-08-07",
          "2019-08-07",
          "2019-08-08",
          "2019-08-08",
          "2019-08-08",
          "2019-08-08",
          "2019-08-08",
          "2019-08-08",
          "2019-08-08",
          "2019-08-08",
          "2019-08-08",
          "2019-08-08",
          "2019-08-08",
          "2019-08-08",
          "2019-08-08",
          "2019-08-08",
          "2019-08-08",
          "2019-08-08",
          "2019-08-08",
          "2019-08-08",
          "2019-08-08",
          "2019-08-08",
          "2019-08-08",
          "2019-08-08",
          "2019-08-09",
          "2019-08-09",
          "2019-08-09",
          "2019-08-09",
          "2019-08-09",
          "2019-08-09",
          "2019-08-09",
          "2019-08-09",
          "2019-08-09",
          "2019-08-09",
          "2019-08-09",
          "2019-08-09",
          "2019-08-09",
          "2019-08-09",
          "2019-08-09",
          "2019-08-09",
          "2019-08-09",
          "2019-08-09",
          "2019-08-09",
          "2019-08-10",
          "2019-08-10",
          "2019-08-10",
          "2019-08-10",
          "2019-08-10",
          "2019-08-10",
          "2019-08-10",
          "2019-08-10",
          "2019-08-10",
          "2019-08-10",
          "2019-08-10",
          "2019-08-10",
          "2019-08-10",
          "2019-08-10",
          "2019-08-10",
          "2019-08-10",
          "2019-08-10",
          "2019-08-10",
          "2019-08-10",
          "2019-08-10",
          "2019-08-10",
          "2019-08-10",
          "2019-08-11",
          "2019-08-11",
          "2019-08-11",
          "2019-08-11",
          "2019-08-11",
          "2019-08-11",
          "2019-08-11",
          "2019-08-11",
          "2019-08-11",
          "2019-08-11",
          "2019-08-11",
          "2019-08-11",
          "2019-08-12",
          "2019-08-12",
          "2019-08-12",
          "2019-08-12",
          "2019-08-12",
          "2019-08-12",
          "2019-08-12",
          "2019-08-12",
          "2019-08-12",
          "2019-08-12",
          "2019-08-12",
          "2019-08-12",
          "2019-08-12",
          "2019-08-12",
          "2019-08-12",
          "2019-08-12",
          "2019-08-12",
          "2019-08-12",
          "2019-08-12",
          "2019-08-13",
          "2019-08-13",
          "2019-08-13",
          "2019-08-13",
          "2019-08-13",
          "2019-08-13",
          "2019-08-13",
          "2019-08-13",
          "2019-08-13",
          "2019-08-13",
          "2019-08-13",
          "2019-08-13",
          "2019-08-13",
          "2019-08-13",
          "2019-08-13",
          "2019-08-13",
          "2019-08-13",
          "2019-08-13",
          "2019-08-13",
          "2019-08-13",
          "2019-08-14",
          "2019-08-14",
          "2019-08-14",
          "2019-08-14",
          "2019-08-14",
          "2019-08-14",
          "2019-08-14",
          "2019-08-14",
          "2019-08-14",
          "2019-08-14",
          "2019-08-14",
          "2019-08-14",
          "2019-08-14",
          "2019-08-14",
          "2019-08-15",
          "2019-08-15",
          "2019-08-15",
          "2019-08-15",
          "2019-08-15",
          "2019-08-15",
          "2019-08-15",
          "2019-08-15",
          "2019-08-15",
          "2019-08-15",
          "2019-08-15",
          "2019-08-15",
          "2019-08-15",
          "2019-08-15",
          "2019-08-15",
          "2019-08-15",
          "2019-08-15",
          "2019-08-15",
          "2019-08-15",
          "2019-08-15",
          "2019-08-15",
          "2019-08-15",
          "2019-08-15",
          "2019-08-15",
          "2019-08-15",
          "2019-08-15",
          "2019-08-16",
          "2019-08-16",
          "2019-08-16",
          "2019-08-16",
          "2019-08-16",
          "2019-08-16",
          "2019-08-16",
          "2019-08-16",
          "2019-08-16",
          "2019-08-16",
          "2019-08-16",
          "2019-08-16",
          "2019-08-16",
          "2019-08-16",
          "2019-08-16",
          "2019-08-16",
          "2019-08-16",
          "2019-08-16",
          "2019-08-17",
          "2019-08-17",
          "2019-08-17",
          "2019-08-17",
          "2019-08-17",
          "2019-08-17",
          "2019-08-17",
          "2019-08-17",
          "2019-08-17",
          "2019-08-17",
          "2019-08-17",
          "2019-08-17",
          "2019-08-17",
          "2019-08-18",
          "2019-08-18",
          "2019-08-18",
          "2019-08-18",
          "2019-08-18",
          "2019-08-18",
          "2019-08-18",
          "2019-08-19",
          "2019-08-19",
          "2019-08-19",
          "2019-08-19",
          "2019-08-19",
          "2019-08-19",
          "2019-08-19",
          "2019-08-19",
          "2019-08-19",
          "2019-08-19",
          "2019-08-19",
          "2019-08-19",
          "2019-08-19",
          "2019-08-19",
          "2019-08-19",
          "2019-08-19",
          "2019-08-19",
          "2019-08-19",
          "2019-08-19",
          "2019-08-19",
          "2019-08-19",
          "2019-08-20",
          "2019-08-20",
          "2019-08-20",
          "2019-08-20",
          "2019-08-20",
          "2019-08-20",
          "2019-08-20",
          "2019-08-20",
          "2019-08-20",
          "2019-08-20",
          "2019-08-20",
          "2019-08-20",
          "2019-08-20",
          "2019-08-20",
          "2019-08-20",
          "2019-08-20",
          "2019-08-20",
          "2019-08-20",
          "2019-08-20",
          "2019-08-20",
          "2019-08-21",
          "2019-08-21",
          "2019-08-21",
          "2019-08-21",
          "2019-08-21",
          "2019-08-21",
          "2019-08-21",
          "2019-08-21",
          "2019-08-21",
          "2019-08-21",
          "2019-08-21",
          "2019-08-21",
          "2019-08-22",
          "2019-08-22",
          "2019-08-22",
          "2019-08-22",
          "2019-08-22",
          "2019-08-22",
          "2019-08-22",
          "2019-08-22",
          "2019-08-22",
          "2019-08-22",
          "2019-08-22",
          "2019-08-22",
          "2019-08-22",
          "2019-08-22",
          "2019-08-22",
          "2019-08-22",
          "2019-08-22",
          "2019-08-22",
          "2019-08-22",
          "2019-08-22",
          "2019-08-22",
          "2019-08-23",
          "2019-08-23",
          "2019-08-23",
          "2019-08-23",
          "2019-08-23",
          "2019-08-23",
          "2019-08-23",
          "2019-08-23",
          "2019-08-23",
          "2019-08-23",
          "2019-08-23",
          "2019-08-23",
          "2019-08-23",
          "2019-08-24",
          "2019-08-24",
          "2019-08-24",
          "2019-08-24",
          "2019-08-24",
          "2019-08-24",
          "2019-08-24",
          "2019-08-24",
          "2019-08-24",
          "2019-08-24",
          "2019-08-24",
          "2019-08-24",
          "2019-08-24",
          "2019-08-24",
          "2019-08-25",
          "2019-08-25",
          "2019-08-25",
          "2019-08-25",
          "2019-08-25",
          "2019-08-25",
          "2019-08-25",
          "2019-08-25",
          "2019-08-25",
          "2019-08-25",
          "2019-08-25",
          "2019-08-25",
          "2019-08-26",
          "2019-08-26",
          "2019-08-26",
          "2019-08-26",
          "2019-08-26",
          "2019-08-26",
          "2019-08-26",
          "2019-08-26",
          "2019-08-26",
          "2019-08-26",
          "2019-08-26",
          "2019-08-26",
          "2019-08-26",
          "2019-08-26",
          "2019-08-26",
          "2019-08-26",
          "2019-08-26",
          "2019-08-26",
          "2019-08-26",
          "2019-08-26",
          "2019-08-26",
          "2019-08-26",
          "2019-08-27",
          "2019-08-27",
          "2019-08-27",
          "2019-08-27",
          "2019-08-27",
          "2019-08-27",
          "2019-08-27",
          "2019-08-27",
          "2019-08-27",
          "2019-08-27",
          "2019-08-27",
          "2019-08-28",
          "2019-08-28",
          "2019-08-28",
          "2019-08-28",
          "2019-08-28",
          "2019-08-28",
          "2019-08-28",
          "2019-08-28",
          "2019-08-28",
          "2019-08-28",
          "2019-08-28",
          "2019-08-28",
          "2019-08-28",
          "2019-08-28",
          "2019-08-28",
          "2019-08-28",
          "2019-08-28",
          "2019-08-28",
          "2019-08-28",
          "2019-08-28",
          "2019-08-28",
          "2019-08-28",
          "2019-08-29",
          "2019-08-29",
          "2019-08-29",
          "2019-08-29",
          "2019-08-29",
          "2019-08-29",
          "2019-08-29",
          "2019-08-29",
          "2019-08-29",
          "2019-08-29",
          "2019-08-29",
          "2019-08-29",
          "2019-08-29",
          "2019-08-29",
          "2019-08-29",
          "2019-08-30",
          "2019-08-30",
          "2019-08-30",
          "2019-08-30",
          "2019-08-30",
          "2019-08-30",
          "2019-08-30",
          "2019-08-30",
          "2019-08-30",
          "2019-08-30",
          "2019-08-30",
          "2019-08-30",
          "2019-08-30",
          "2019-08-30",
          "2019-08-30",
          "2019-08-30",
          "2019-08-30",
          "2019-08-30",
          "2019-08-30",
          "2019-08-30",
          "2019-08-30",
          "2019-08-31",
          "2019-08-31",
          "2019-08-31",
          "2019-08-31",
          "2019-08-31",
          "2019-08-31",
          "2019-08-31",
          "2019-08-31",
          "2019-08-31",
          "2019-08-31",
          "2019-08-31",
          "2019-08-31",
          "2019-08-31",
          "2019-08-31",
          "2019-08-31",
          "2019-08-31",
          "2019-08-31"
         ],
         "xaxis": "x",
         "y": {
          "bdata": "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",
          "dtype": "f8"
         },
         "yaxis": "y"
        }
       ],
       "layout": {
        "legend": {
         "title": {
          "text": "group"
         },
         "tracegroupgap": 0
        },
        "template": {
         "data": {
          "bar": [
           {
            "error_x": {
             "color": "#2a3f5f"
            },
            "error_y": {
             "color": "#2a3f5f"
            },
            "marker": {
             "line": {
              "color": "#E5ECF6",
              "width": 0.5
             },
             "pattern": {
              "fillmode": "overlay",
              "size": 10,
              "solidity": 0.2
             }
            },
            "type": "bar"
           }
          ],
          "barpolar": [
           {
            "marker": {
             "line": {
              "color": "#E5ECF6",
              "width": 0.5
             },
             "pattern": {
              "fillmode": "overlay",
              "size": 10,
              "solidity": 0.2
             }
            },
            "type": "barpolar"
           }
          ],
          "carpet": [
           {
            "aaxis": {
             "endlinecolor": "#2a3f5f",
             "gridcolor": "white",
             "linecolor": "white",
             "minorgridcolor": "white",
             "startlinecolor": "#2a3f5f"
            },
            "baxis": {
             "endlinecolor": "#2a3f5f",
             "gridcolor": "white",
             "linecolor": "white",
             "minorgridcolor": "white",
             "startlinecolor": "#2a3f5f"
            },
            "type": "carpet"
           }
          ],
          "choropleth": [
           {
            "colorbar": {
             "outlinewidth": 0,
             "ticks": ""
            },
            "type": "choropleth"
           }
          ],
          "contour": [
           {
            "colorbar": {
             "outlinewidth": 0,
             "ticks": ""
            },
            "colorscale": [
             [
              0,
              "#0d0887"
             ],
             [
              0.1111111111111111,
              "#46039f"
             ],
             [
              0.2222222222222222,
              "#7201a8"
             ],
             [
              0.3333333333333333,
              "#9c179e"
             ],
             [
              0.4444444444444444,
              "#bd3786"
             ],
             [
              0.5555555555555556,
              "#d8576b"
             ],
             [
              0.6666666666666666,
              "#ed7953"
             ],
             [
              0.7777777777777778,
              "#fb9f3a"
             ],
             [
              0.8888888888888888,
              "#fdca26"
             ],
             [
              1,
              "#f0f921"
             ]
            ],
            "type": "contour"
           }
          ],
          "contourcarpet": [
           {
            "colorbar": {
             "outlinewidth": 0,
             "ticks": ""
            },
            "type": "contourcarpet"
           }
          ],
          "heatmap": [
           {
            "colorbar": {
             "outlinewidth": 0,
             "ticks": ""
            },
            "colorscale": [
             [
              0,
              "#0d0887"
             ],
             [
              0.1111111111111111,
              "#46039f"
             ],
             [
              0.2222222222222222,
              "#7201a8"
             ],
             [
              0.3333333333333333,
              "#9c179e"
             ],
             [
              0.4444444444444444,
              "#bd3786"
             ],
             [
              0.5555555555555556,
              "#d8576b"
             ],
             [
              0.6666666666666666,
              "#ed7953"
             ],
             [
              0.7777777777777778,
              "#fb9f3a"
             ],
             [
              0.8888888888888888,
              "#fdca26"
             ],
             [
              1,
              "#f0f921"
             ]
            ],
            "type": "heatmap"
           }
          ],
          "histogram": [
           {
            "marker": {
             "pattern": {
              "fillmode": "overlay",
              "size": 10,
              "solidity": 0.2
             }
            },
            "type": "histogram"
           }
          ],
          "histogram2d": [
           {
            "colorbar": {
             "outlinewidth": 0,
             "ticks": ""
            },
            "colorscale": [
             [
              0,
              "#0d0887"
             ],
             [
              0.1111111111111111,
              "#46039f"
             ],
             [
              0.2222222222222222,
              "#7201a8"
             ],
             [
              0.3333333333333333,
              "#9c179e"
             ],
             [
              0.4444444444444444,
              "#bd3786"
             ],
             [
              0.5555555555555556,
              "#d8576b"
             ],
             [
              0.6666666666666666,
              "#ed7953"
             ],
             [
              0.7777777777777778,
              "#fb9f3a"
             ],
             [
              0.8888888888888888,
              "#fdca26"
             ],
             [
              1,
              "#f0f921"
             ]
            ],
            "type": "histogram2d"
           }
          ],
          "histogram2dcontour": [
           {
            "colorbar": {
             "outlinewidth": 0,
             "ticks": ""
            },
            "colorscale": [
             [
              0,
              "#0d0887"
             ],
             [
              0.1111111111111111,
              "#46039f"
             ],
             [
              0.2222222222222222,
              "#7201a8"
             ],
             [
              0.3333333333333333,
              "#9c179e"
             ],
             [
              0.4444444444444444,
              "#bd3786"
             ],
             [
              0.5555555555555556,
              "#d8576b"
             ],
             [
              0.6666666666666666,
              "#ed7953"
             ],
             [
              0.7777777777777778,
              "#fb9f3a"
             ],
             [
              0.8888888888888888,
              "#fdca26"
             ],
             [
              1,
              "#f0f921"
             ]
            ],
            "type": "histogram2dcontour"
           }
          ],
          "mesh3d": [
           {
            "colorbar": {
             "outlinewidth": 0,
             "ticks": ""
            },
            "type": "mesh3d"
           }
          ],
          "parcoords": [
           {
            "line": {
             "colorbar": {
              "outlinewidth": 0,
              "ticks": ""
             }
            },
            "type": "parcoords"
           }
          ],
          "pie": [
           {
            "automargin": true,
            "type": "pie"
           }
          ],
          "scatter": [
           {
            "fillpattern": {
             "fillmode": "overlay",
             "size": 10,
             "solidity": 0.2
            },
            "type": "scatter"
           }
          ],
          "scatter3d": [
           {
            "line": {
             "colorbar": {
              "outlinewidth": 0,
              "ticks": ""
             }
            },
            "marker": {
             "colorbar": {
              "outlinewidth": 0,
              "ticks": ""
             }
            },
            "type": "scatter3d"
           }
          ],
          "scattercarpet": [
           {
            "marker": {
             "colorbar": {
              "outlinewidth": 0,
              "ticks": ""
             }
            },
            "type": "scattercarpet"
           }
          ],
          "scattergeo": [
           {
            "marker": {
             "colorbar": {
              "outlinewidth": 0,
              "ticks": ""
             }
            },
            "type": "scattergeo"
           }
          ],
          "scattergl": [
           {
            "marker": {
             "colorbar": {
              "outlinewidth": 0,
              "ticks": ""
             }
            },
            "type": "scattergl"
           }
          ],
          "scattermap": [
           {
            "marker": {
             "colorbar": {
              "outlinewidth": 0,
              "ticks": ""
             }
            },
            "type": "scattermap"
           }
          ],
          "scattermapbox": [
           {
            "marker": {
             "colorbar": {
              "outlinewidth": 0,
              "ticks": ""
             }
            },
            "type": "scattermapbox"
           }
          ],
          "scatterpolar": [
           {
            "marker": {
             "colorbar": {
              "outlinewidth": 0,
              "ticks": ""
             }
            },
            "type": "scatterpolar"
           }
          ],
          "scatterpolargl": [
           {
            "marker": {
             "colorbar": {
              "outlinewidth": 0,
              "ticks": ""
             }
            },
            "type": "scatterpolargl"
           }
          ],
          "scatterternary": [
           {
            "marker": {
             "colorbar": {
              "outlinewidth": 0,
              "ticks": ""
             }
            },
            "type": "scatterternary"
           }
          ],
          "surface": [
           {
            "colorbar": {
             "outlinewidth": 0,
             "ticks": ""
            },
            "colorscale": [
             [
              0,
              "#0d0887"
             ],
             [
              0.1111111111111111,
              "#46039f"
             ],
             [
              0.2222222222222222,
              "#7201a8"
             ],
             [
              0.3333333333333333,
              "#9c179e"
             ],
             [
              0.4444444444444444,
              "#bd3786"
             ],
             [
              0.5555555555555556,
              "#d8576b"
             ],
             [
              0.6666666666666666,
              "#ed7953"
             ],
             [
              0.7777777777777778,
              "#fb9f3a"
             ],
             [
              0.8888888888888888,
              "#fdca26"
             ],
             [
              1,
              "#f0f921"
             ]
            ],
            "type": "surface"
           }
          ],
          "table": [
           {
            "cells": {
             "fill": {
              "color": "#EBF0F8"
             },
             "line": {
              "color": "white"
             }
            },
            "header": {
             "fill": {
              "color": "#C8D4E3"
             },
             "line": {
              "color": "white"
             }
            },
            "type": "table"
           }
          ]
         },
         "layout": {
          "annotationdefaults": {
           "arrowcolor": "#2a3f5f",
           "arrowhead": 0,
           "arrowwidth": 1
          },
          "autotypenumbers": "strict",
          "coloraxis": {
           "colorbar": {
            "outlinewidth": 0,
            "ticks": ""
           }
          },
          "colorscale": {
           "diverging": [
            [
             0,
             "#8e0152"
            ],
            [
             0.1,
             "#c51b7d"
            ],
            [
             0.2,
             "#de77ae"
            ],
            [
             0.3,
             "#f1b6da"
            ],
            [
             0.4,
             "#fde0ef"
            ],
            [
             0.5,
             "#f7f7f7"
            ],
            [
             0.6,
             "#e6f5d0"
            ],
            [
             0.7,
             "#b8e186"
            ],
            [
             0.8,
             "#7fbc41"
            ],
            [
             0.9,
             "#4d9221"
            ],
            [
             1,
             "#276419"
            ]
           ],
           "sequential": [
            [
             0,
             "#0d0887"
            ],
            [
             0.1111111111111111,
             "#46039f"
            ],
            [
             0.2222222222222222,
             "#7201a8"
            ],
            [
             0.3333333333333333,
             "#9c179e"
            ],
            [
             0.4444444444444444,
             "#bd3786"
            ],
            [
             0.5555555555555556,
             "#d8576b"
            ],
            [
             0.6666666666666666,
             "#ed7953"
            ],
            [
             0.7777777777777778,
             "#fb9f3a"
            ],
            [
             0.8888888888888888,
             "#fdca26"
            ],
            [
             1,
             "#f0f921"
            ]
           ],
           "sequentialminus": [
            [
             0,
             "#0d0887"
            ],
            [
             0.1111111111111111,
             "#46039f"
            ],
            [
             0.2222222222222222,
             "#7201a8"
            ],
            [
             0.3333333333333333,
             "#9c179e"
            ],
            [
             0.4444444444444444,
             "#bd3786"
            ],
            [
             0.5555555555555556,
             "#d8576b"
            ],
            [
             0.6666666666666666,
             "#ed7953"
            ],
            [
             0.7777777777777778,
             "#fb9f3a"
            ],
            [
             0.8888888888888888,
             "#fdca26"
            ],
            [
             1,
             "#f0f921"
            ]
           ]
          },
          "colorway": [
           "#636efa",
           "#EF553B",
           "#00cc96",
           "#ab63fa",
           "#FFA15A",
           "#19d3f3",
           "#FF6692",
           "#B6E880",
           "#FF97FF",
           "#FECB52"
          ],
          "font": {
           "color": "#2a3f5f"
          },
          "geo": {
           "bgcolor": "white",
           "lakecolor": "white",
           "landcolor": "#E5ECF6",
           "showlakes": true,
           "showland": true,
           "subunitcolor": "white"
          },
          "hoverlabel": {
           "align": "left"
          },
          "hovermode": "closest",
          "mapbox": {
           "style": "light"
          },
          "paper_bgcolor": "white",
          "plot_bgcolor": "#E5ECF6",
          "polar": {
           "angularaxis": {
            "gridcolor": "white",
            "linecolor": "white",
            "ticks": ""
           },
           "bgcolor": "#E5ECF6",
           "radialaxis": {
            "gridcolor": "white",
            "linecolor": "white",
            "ticks": ""
           }
          },
          "scene": {
           "xaxis": {
            "backgroundcolor": "#E5ECF6",
            "gridcolor": "white",
            "gridwidth": 2,
            "linecolor": "white",
            "showbackground": true,
            "ticks": "",
            "zerolinecolor": "white"
           },
           "yaxis": {
            "backgroundcolor": "#E5ECF6",
            "gridcolor": "white",
            "gridwidth": 2,
            "linecolor": "white",
            "showbackground": true,
            "ticks": "",
            "zerolinecolor": "white"
           },
           "zaxis": {
            "backgroundcolor": "#E5ECF6",
            "gridcolor": "white",
            "gridwidth": 2,
            "linecolor": "white",
            "showbackground": true,
            "ticks": "",
            "zerolinecolor": "white"
           }
          },
          "shapedefaults": {
           "line": {
            "color": "#2a3f5f"
           }
          },
          "ternary": {
           "aaxis": {
            "gridcolor": "white",
            "linecolor": "white",
            "ticks": ""
           },
           "baxis": {
            "gridcolor": "white",
            "linecolor": "white",
            "ticks": ""
           },
           "bgcolor": "#E5ECF6",
           "caxis": {
            "gridcolor": "white",
            "linecolor": "white",
            "ticks": ""
           }
          },
          "title": {
           "x": 0.05
          },
          "xaxis": {
           "automargin": true,
           "gridcolor": "white",
           "linecolor": "white",
           "ticks": "",
           "title": {
            "standoff": 15
           },
           "zerolinecolor": "white",
           "zerolinewidth": 2
          },
          "yaxis": {
           "automargin": true,
           "gridcolor": "white",
           "linecolor": "white",
           "ticks": "",
           "title": {
            "standoff": 15
           },
           "zerolinecolor": "white",
           "zerolinewidth": 2
          }
         }
        },
        "title": {
         "text": "Cumulative Average Order Size by Group"
        },
        "xaxis": {
         "anchor": "y",
         "domain": [
          0,
          1
         ],
         "dtick": "D1",
         "title": {
          "text": "date"
         }
        },
        "yaxis": {
         "anchor": "x",
         "domain": [
          0,
          1
         ],
         "title": {
          "text": "cum_avg_order_size"
         }
        }
       }
      }
     },
     "metadata": {},
     "output_type": "display_data"
    }
   ],
   "source": [
    "fig = px.line(df_orders, x=\"date\", y=\"cum_avg_order_size\", color=\"group\", markers=False, title=\"Cumulative Average Order Size by Group\")\n",
    "fig.update_xaxes(dtick=\"D1\")\n",
    "fig.show()"
   ]
  },
  {
   "cell_type": "markdown",
   "id": "89ac5081",
   "metadata": {},
   "source": [
    "`LSPL` - Seems that group B spends more per day on average than group A. There is a break point in Aug 19, for group B. This should be investigated in order to discard a possible error or confimr it was a result of a relevant event."
   ]
  },
  {
   "cell_type": "markdown",
   "id": "1ba181d9",
   "metadata": {},
   "source": [
    "##### __5.2.3__ Graph the relative difference in cumulative average order size for Group B compared to Group A. Make conclusions and conjectures."
   ]
  },
  {
   "cell_type": "code",
   "execution_count": 36,
   "id": "8292878a",
   "metadata": {},
   "outputs": [
    {
     "data": {
      "application/vnd.microsoft.datawrangler.viewer.v0+json": {
       "columns": [
        {
         "name": "index",
         "rawType": "int64",
         "type": "integer"
        },
        {
         "name": "date",
         "rawType": "object",
         "type": "unknown"
        },
        {
         "name": "A",
         "rawType": "float64",
         "type": "float"
        },
        {
         "name": "B",
         "rawType": "float64",
         "type": "float"
        }
       ],
       "ref": "7228c13c-42d1-4a5b-86d5-54424e4f5ec7",
       "rows": [
        [
         "0",
         "2019-08-01",
         "117.18358732767088",
         "67.0194049227397"
        ],
        [
         "1",
         "2019-08-02",
         "90.04660309373132",
         "88.67558571101073"
        ],
        [
         "2",
         "2019-08-03",
         "85.29533527969632",
         "84.69598124136941"
        ],
        [
         "3",
         "2019-08-04",
         "82.35669563129183",
         "87.67331956898298"
        ],
        [
         "4",
         "2019-08-05",
         "77.30654346676265",
         "88.8922488595055"
        ],
        [
         "5",
         "2019-08-06",
         "74.48771090140592",
         "92.84964193363035"
        ],
        [
         "6",
         "2019-08-07",
         "76.19032786564975",
         "106.41332954885341"
        ],
        [
         "7",
         "2019-08-08",
         "81.0216090282253",
         "104.89432502765341"
        ],
        [
         "8",
         "2019-08-09",
         "82.63931065919812",
         "106.73864202660498"
        ],
        [
         "9",
         "2019-08-10",
         "91.29234425409693",
         "103.54685893177799"
        ],
        [
         "10",
         "2019-08-11",
         "94.15568146247932",
         "100.26662377779572"
        ],
        [
         "11",
         "2019-08-12",
         "96.63258521854331",
         "99.39324499361292"
        ],
        [
         "12",
         "2019-08-13",
         "107.95601704531477",
         "98.3439945152175"
        ],
        [
         "13",
         "2019-08-14",
         "111.95973275095898",
         "98.3031209733921"
        ],
        [
         "14",
         "2019-08-15",
         "109.98015346541315",
         "98.2938965569135"
        ],
        [
         "15",
         "2019-08-16",
         "109.24303965390419",
         "106.70059609703533"
        ],
        [
         "16",
         "2019-08-17",
         "108.45404658410757",
         "106.76425162749466"
        ],
        [
         "17",
         "2019-08-18",
         "107.71301326222569",
         "106.32730226459189"
        ],
        [
         "18",
         "2019-08-19",
         "106.64281651209053",
         "138.3726441733596"
        ],
        [
         "19",
         "2019-08-20",
         "107.94323918077528",
         "160.89849859467228"
        ],
        [
         "20",
         "2019-08-21",
         "107.13789021978877",
         "160.4295880414117"
        ],
        [
         "21",
         "2019-08-22",
         "109.86278203374366",
         "159.66593542459955"
        ],
        [
         "22",
         "2019-08-23",
         "108.54844119873576",
         "156.79383639262653"
        ],
        [
         "23",
         "2019-08-24",
         "108.6428053208935",
         "154.91706119821598"
        ],
        [
         "24",
         "2019-08-25",
         "108.53889057036794",
         "153.9131791951318"
        ],
        [
         "25",
         "2019-08-26",
         "108.78464684162454",
         "152.12010787344005"
        ],
        [
         "26",
         "2019-08-27",
         "111.69413170458924",
         "153.17662675629882"
        ],
        [
         "27",
         "2019-08-28",
         "110.77227335794457",
         "149.53666417472434"
        ],
        [
         "28",
         "2019-08-29",
         "112.06461370881738",
         "147.14750056930964"
        ],
        [
         "29",
         "2019-08-30",
         "114.07841597320862",
         "146.18331641356912"
        ],
        [
         "30",
         "2019-08-31",
         "113.68631756692152",
         "145.69158971451924"
        ]
       ],
       "shape": {
        "columns": 3,
        "rows": 31
       }
      },
      "text/html": [
       "<div>\n",
       "<style scoped>\n",
       "    .dataframe tbody tr th:only-of-type {\n",
       "        vertical-align: middle;\n",
       "    }\n",
       "\n",
       "    .dataframe tbody tr th {\n",
       "        vertical-align: top;\n",
       "    }\n",
       "\n",
       "    .dataframe thead th {\n",
       "        text-align: right;\n",
       "    }\n",
       "</style>\n",
       "<table border=\"1\" class=\"dataframe\">\n",
       "  <thead>\n",
       "    <tr style=\"text-align: right;\">\n",
       "      <th>group</th>\n",
       "      <th>date</th>\n",
       "      <th>A</th>\n",
       "      <th>B</th>\n",
       "    </tr>\n",
       "  </thead>\n",
       "  <tbody>\n",
       "    <tr>\n",
       "      <th>0</th>\n",
       "      <td>2019-08-01</td>\n",
       "      <td>117.183587</td>\n",
       "      <td>67.019405</td>\n",
       "    </tr>\n",
       "    <tr>\n",
       "      <th>1</th>\n",
       "      <td>2019-08-02</td>\n",
       "      <td>90.046603</td>\n",
       "      <td>88.675586</td>\n",
       "    </tr>\n",
       "    <tr>\n",
       "      <th>2</th>\n",
       "      <td>2019-08-03</td>\n",
       "      <td>85.295335</td>\n",
       "      <td>84.695981</td>\n",
       "    </tr>\n",
       "    <tr>\n",
       "      <th>3</th>\n",
       "      <td>2019-08-04</td>\n",
       "      <td>82.356696</td>\n",
       "      <td>87.673320</td>\n",
       "    </tr>\n",
       "    <tr>\n",
       "      <th>4</th>\n",
       "      <td>2019-08-05</td>\n",
       "      <td>77.306543</td>\n",
       "      <td>88.892249</td>\n",
       "    </tr>\n",
       "    <tr>\n",
       "      <th>...</th>\n",
       "      <td>...</td>\n",
       "      <td>...</td>\n",
       "      <td>...</td>\n",
       "    </tr>\n",
       "    <tr>\n",
       "      <th>26</th>\n",
       "      <td>2019-08-27</td>\n",
       "      <td>111.694132</td>\n",
       "      <td>153.176627</td>\n",
       "    </tr>\n",
       "    <tr>\n",
       "      <th>27</th>\n",
       "      <td>2019-08-28</td>\n",
       "      <td>110.772273</td>\n",
       "      <td>149.536664</td>\n",
       "    </tr>\n",
       "    <tr>\n",
       "      <th>28</th>\n",
       "      <td>2019-08-29</td>\n",
       "      <td>112.064614</td>\n",
       "      <td>147.147501</td>\n",
       "    </tr>\n",
       "    <tr>\n",
       "      <th>29</th>\n",
       "      <td>2019-08-30</td>\n",
       "      <td>114.078416</td>\n",
       "      <td>146.183316</td>\n",
       "    </tr>\n",
       "    <tr>\n",
       "      <th>30</th>\n",
       "      <td>2019-08-31</td>\n",
       "      <td>113.686318</td>\n",
       "      <td>145.691590</td>\n",
       "    </tr>\n",
       "  </tbody>\n",
       "</table>\n",
       "<p>31 rows × 3 columns</p>\n",
       "</div>"
      ],
      "text/plain": [
       "group        date           A           B\n",
       "0      2019-08-01  117.183587   67.019405\n",
       "1      2019-08-02   90.046603   88.675586\n",
       "2      2019-08-03   85.295335   84.695981\n",
       "3      2019-08-04   82.356696   87.673320\n",
       "4      2019-08-05   77.306543   88.892249\n",
       "..            ...         ...         ...\n",
       "26     2019-08-27  111.694132  153.176627\n",
       "27     2019-08-28  110.772273  149.536664\n",
       "28     2019-08-29  112.064614  147.147501\n",
       "29     2019-08-30  114.078416  146.183316\n",
       "30     2019-08-31  113.686318  145.691590\n",
       "\n",
       "[31 rows x 3 columns]"
      ]
     },
     "execution_count": 36,
     "metadata": {},
     "output_type": "execute_result"
    }
   ],
   "source": [
    "pivot_aos = df_orders.pivot_table(index=\"date\", columns=\"group\", values=\"cum_avg_order_size\", observed=False).reset_index()\n",
    "pivot_aos"
   ]
  },
  {
   "cell_type": "code",
   "execution_count": 37,
   "id": "032d18fa",
   "metadata": {},
   "outputs": [
    {
     "data": {
      "application/vnd.microsoft.datawrangler.viewer.v0+json": {
       "columns": [
        {
         "name": "index",
         "rawType": "int64",
         "type": "integer"
        },
        {
         "name": "date",
         "rawType": "object",
         "type": "unknown"
        },
        {
         "name": "A",
         "rawType": "float64",
         "type": "float"
        },
        {
         "name": "B",
         "rawType": "float64",
         "type": "float"
        },
        {
         "name": "rel_diff",
         "rawType": "float64",
         "type": "float"
        }
       ],
       "ref": "435b1a4d-d640-40df-adff-70074399f451",
       "rows": [
        [
         "0",
         "2019-08-01",
         "117.18358732767088",
         "67.0194049227397",
         "-0.4280819827153881"
        ],
        [
         "1",
         "2019-08-02",
         "90.04660309373132",
         "88.67558571101073",
         "-0.015225642451980992"
        ],
        [
         "2",
         "2019-08-03",
         "85.29533527969632",
         "84.69598124136941",
         "-0.007026809102297693"
        ],
        [
         "3",
         "2019-08-04",
         "82.35669563129183",
         "87.67331956898298",
         "0.06455606185917784"
        ],
        [
         "4",
         "2019-08-05",
         "77.30654346676265",
         "88.8922488595055",
         "0.14986707299523805"
        ],
        [
         "5",
         "2019-08-06",
         "74.48771090140592",
         "92.84964193363035",
         "0.2465095357344087"
        ],
        [
         "6",
         "2019-08-07",
         "76.19032786564975",
         "106.41332954885341",
         "0.39667766932959525"
        ],
        [
         "7",
         "2019-08-08",
         "81.0216090282253",
         "104.89432502765341",
         "0.2946462836983603"
        ],
        [
         "8",
         "2019-08-09",
         "82.63931065919812",
         "106.73864202660498",
         "0.29162067271823866"
        ],
        [
         "9",
         "2019-08-10",
         "91.29234425409693",
         "103.54685893177799",
         "0.13423376053935776"
        ],
        [
         "10",
         "2019-08-11",
         "94.15568146247932",
         "100.26662377779572",
         "0.06490253397774604"
        ],
        [
         "11",
         "2019-08-12",
         "96.63258521854331",
         "99.39324499361292",
         "0.028568621742097955"
        ],
        [
         "12",
         "2019-08-13",
         "107.95601704531477",
         "98.3439945152175",
         "-0.08903646867652215"
        ],
        [
         "13",
         "2019-08-14",
         "111.95973275095898",
         "98.3031209733921",
         "-0.12197788831761847"
        ],
        [
         "14",
         "2019-08-15",
         "109.98015346541315",
         "98.2938965569135",
         "-0.10625787053638525"
        ],
        [
         "15",
         "2019-08-16",
         "109.24303965390419",
         "106.70059609703533",
         "-0.02327327731747164"
        ],
        [
         "16",
         "2019-08-17",
         "108.45404658410757",
         "106.76425162749466",
         "-0.015580746037930915"
        ],
        [
         "17",
         "2019-08-18",
         "107.71301326222569",
         "106.32730226459189",
         "-0.012864842934625753"
        ],
        [
         "18",
         "2019-08-19",
         "106.64281651209053",
         "138.3726441733596",
         "0.29753366142267734"
        ],
        [
         "19",
         "2019-08-20",
         "107.94323918077528",
         "160.89849859467228",
         "0.49058430908499484"
        ],
        [
         "20",
         "2019-08-21",
         "107.13789021978877",
         "160.4295880414117",
         "0.49741223867949347"
        ],
        [
         "21",
         "2019-08-22",
         "109.86278203374366",
         "159.66593542459955",
         "0.45332142941327636"
        ],
        [
         "22",
         "2019-08-23",
         "108.54844119873576",
         "156.79383639262653",
         "0.444459585610822"
        ],
        [
         "23",
         "2019-08-24",
         "108.6428053208935",
         "154.91706119821598",
         "0.4259302375398373"
        ],
        [
         "24",
         "2019-08-25",
         "108.53889057036794",
         "153.9131791951318",
         "0.4180463646378143"
        ],
        [
         "25",
         "2019-08-26",
         "108.78464684162454",
         "152.12010787344005",
         "0.3983600837984609"
        ],
        [
         "26",
         "2019-08-27",
         "111.69413170458924",
         "153.17662675629882",
         "0.37139368397100103"
        ],
        [
         "27",
         "2019-08-28",
         "110.77227335794457",
         "149.53666417472434",
         "0.34994669371385245"
        ],
        [
         "28",
         "2019-08-29",
         "112.06461370881738",
         "147.14750056930964",
         "0.3130594547146679"
        ],
        [
         "29",
         "2019-08-30",
         "114.07841597320862",
         "146.18331641356912",
         "0.2814283505470514"
        ],
        [
         "30",
         "2019-08-31",
         "113.68631756692152",
         "145.69158971451924",
         "0.28152263907006936"
        ]
       ],
       "shape": {
        "columns": 4,
        "rows": 31
       }
      },
      "text/html": [
       "<div>\n",
       "<style scoped>\n",
       "    .dataframe tbody tr th:only-of-type {\n",
       "        vertical-align: middle;\n",
       "    }\n",
       "\n",
       "    .dataframe tbody tr th {\n",
       "        vertical-align: top;\n",
       "    }\n",
       "\n",
       "    .dataframe thead th {\n",
       "        text-align: right;\n",
       "    }\n",
       "</style>\n",
       "<table border=\"1\" class=\"dataframe\">\n",
       "  <thead>\n",
       "    <tr style=\"text-align: right;\">\n",
       "      <th>group</th>\n",
       "      <th>date</th>\n",
       "      <th>A</th>\n",
       "      <th>B</th>\n",
       "      <th>rel_diff</th>\n",
       "    </tr>\n",
       "  </thead>\n",
       "  <tbody>\n",
       "    <tr>\n",
       "      <th>0</th>\n",
       "      <td>2019-08-01</td>\n",
       "      <td>117.183587</td>\n",
       "      <td>67.019405</td>\n",
       "      <td>-0.428082</td>\n",
       "    </tr>\n",
       "    <tr>\n",
       "      <th>1</th>\n",
       "      <td>2019-08-02</td>\n",
       "      <td>90.046603</td>\n",
       "      <td>88.675586</td>\n",
       "      <td>-0.015226</td>\n",
       "    </tr>\n",
       "    <tr>\n",
       "      <th>2</th>\n",
       "      <td>2019-08-03</td>\n",
       "      <td>85.295335</td>\n",
       "      <td>84.695981</td>\n",
       "      <td>-0.007027</td>\n",
       "    </tr>\n",
       "    <tr>\n",
       "      <th>3</th>\n",
       "      <td>2019-08-04</td>\n",
       "      <td>82.356696</td>\n",
       "      <td>87.673320</td>\n",
       "      <td>0.064556</td>\n",
       "    </tr>\n",
       "    <tr>\n",
       "      <th>4</th>\n",
       "      <td>2019-08-05</td>\n",
       "      <td>77.306543</td>\n",
       "      <td>88.892249</td>\n",
       "      <td>0.149867</td>\n",
       "    </tr>\n",
       "    <tr>\n",
       "      <th>...</th>\n",
       "      <td>...</td>\n",
       "      <td>...</td>\n",
       "      <td>...</td>\n",
       "      <td>...</td>\n",
       "    </tr>\n",
       "    <tr>\n",
       "      <th>26</th>\n",
       "      <td>2019-08-27</td>\n",
       "      <td>111.694132</td>\n",
       "      <td>153.176627</td>\n",
       "      <td>0.371394</td>\n",
       "    </tr>\n",
       "    <tr>\n",
       "      <th>27</th>\n",
       "      <td>2019-08-28</td>\n",
       "      <td>110.772273</td>\n",
       "      <td>149.536664</td>\n",
       "      <td>0.349947</td>\n",
       "    </tr>\n",
       "    <tr>\n",
       "      <th>28</th>\n",
       "      <td>2019-08-29</td>\n",
       "      <td>112.064614</td>\n",
       "      <td>147.147501</td>\n",
       "      <td>0.313059</td>\n",
       "    </tr>\n",
       "    <tr>\n",
       "      <th>29</th>\n",
       "      <td>2019-08-30</td>\n",
       "      <td>114.078416</td>\n",
       "      <td>146.183316</td>\n",
       "      <td>0.281428</td>\n",
       "    </tr>\n",
       "    <tr>\n",
       "      <th>30</th>\n",
       "      <td>2019-08-31</td>\n",
       "      <td>113.686318</td>\n",
       "      <td>145.691590</td>\n",
       "      <td>0.281523</td>\n",
       "    </tr>\n",
       "  </tbody>\n",
       "</table>\n",
       "<p>31 rows × 4 columns</p>\n",
       "</div>"
      ],
      "text/plain": [
       "group        date           A           B  rel_diff\n",
       "0      2019-08-01  117.183587   67.019405 -0.428082\n",
       "1      2019-08-02   90.046603   88.675586 -0.015226\n",
       "2      2019-08-03   85.295335   84.695981 -0.007027\n",
       "3      2019-08-04   82.356696   87.673320  0.064556\n",
       "4      2019-08-05   77.306543   88.892249  0.149867\n",
       "..            ...         ...         ...       ...\n",
       "26     2019-08-27  111.694132  153.176627  0.371394\n",
       "27     2019-08-28  110.772273  149.536664  0.349947\n",
       "28     2019-08-29  112.064614  147.147501  0.313059\n",
       "29     2019-08-30  114.078416  146.183316  0.281428\n",
       "30     2019-08-31  113.686318  145.691590  0.281523\n",
       "\n",
       "[31 rows x 4 columns]"
      ]
     },
     "execution_count": 37,
     "metadata": {},
     "output_type": "execute_result"
    }
   ],
   "source": [
    "pivot_aos[\"rel_diff\"] = pivot_aos[\"B\"] / pivot_aos[\"A\"] - 1\n",
    "pivot_aos"
   ]
  },
  {
   "cell_type": "code",
   "execution_count": 38,
   "id": "af7ea4dd",
   "metadata": {},
   "outputs": [
    {
     "data": {
      "application/vnd.plotly.v1+json": {
       "config": {
        "plotlyServerURL": "https://plot.ly"
       },
       "data": [
        {
         "hovertemplate": "date=%{x}<br>rel_diff=%{y}<extra></extra>",
         "legendgroup": "",
         "line": {
          "color": "#636efa",
          "dash": "solid"
         },
         "marker": {
          "symbol": "circle"
         },
         "mode": "lines",
         "name": "",
         "orientation": "v",
         "showlegend": false,
         "type": "scatter",
         "x": [
          "2019-08-01",
          "2019-08-02",
          "2019-08-03",
          "2019-08-04",
          "2019-08-05",
          "2019-08-06",
          "2019-08-07",
          "2019-08-08",
          "2019-08-09",
          "2019-08-10",
          "2019-08-11",
          "2019-08-12",
          "2019-08-13",
          "2019-08-14",
          "2019-08-15",
          "2019-08-16",
          "2019-08-17",
          "2019-08-18",
          "2019-08-19",
          "2019-08-20",
          "2019-08-21",
          "2019-08-22",
          "2019-08-23",
          "2019-08-24",
          "2019-08-25",
          "2019-08-26",
          "2019-08-27",
          "2019-08-28",
          "2019-08-29",
          "2019-08-30",
          "2019-08-31"
         ],
         "xaxis": "x",
         "y": {
          "bdata": "VD7x+LFl278AgSIjny6Pv4A3orQkyHy/wJdx/r6GsD9ogqEg2C7DP6jSEN2fjc8/SL40vCpj2T9U1RcWfNvSPwRkCsHpqdI/wI/EZZIuwT+gqNzUc52wP0DiS8AXQZ0/IPMdERjLtr+oyChh8Tm/v/B45T63M7u/4A/MM/PUl78ACnFVzOiPv0AQYf3hWIq/FEBRoMoK0z8M2ty6u2XfP2yMcCSa1d8/0Pt54jcD3T985iWeBnLcP3gcJ+ZwQts/zDAVikXB2j+wjvxKu37ZP5ArpgPqxNc/bAk20YZl1j90/+yFKgnUP2gTcQ7sAtI/jO74h3cE0j8=",
          "dtype": "f8"
         },
         "yaxis": "y"
        }
       ],
       "layout": {
        "annotations": [
         {
          "showarrow": false,
          "text": "A = B",
          "x": 0,
          "xanchor": "left",
          "xref": "x domain",
          "y": 0,
          "yanchor": "top",
          "yref": "y"
         }
        ],
        "legend": {
         "tracegroupgap": 0
        },
        "shapes": [
         {
          "line": {
           "color": "red",
           "dash": "dash"
          },
          "type": "line",
          "x0": 0,
          "x1": 1,
          "xref": "x domain",
          "y0": 0,
          "y1": 0,
          "yref": "y"
         }
        ],
        "template": {
         "data": {
          "bar": [
           {
            "error_x": {
             "color": "#2a3f5f"
            },
            "error_y": {
             "color": "#2a3f5f"
            },
            "marker": {
             "line": {
              "color": "#E5ECF6",
              "width": 0.5
             },
             "pattern": {
              "fillmode": "overlay",
              "size": 10,
              "solidity": 0.2
             }
            },
            "type": "bar"
           }
          ],
          "barpolar": [
           {
            "marker": {
             "line": {
              "color": "#E5ECF6",
              "width": 0.5
             },
             "pattern": {
              "fillmode": "overlay",
              "size": 10,
              "solidity": 0.2
             }
            },
            "type": "barpolar"
           }
          ],
          "carpet": [
           {
            "aaxis": {
             "endlinecolor": "#2a3f5f",
             "gridcolor": "white",
             "linecolor": "white",
             "minorgridcolor": "white",
             "startlinecolor": "#2a3f5f"
            },
            "baxis": {
             "endlinecolor": "#2a3f5f",
             "gridcolor": "white",
             "linecolor": "white",
             "minorgridcolor": "white",
             "startlinecolor": "#2a3f5f"
            },
            "type": "carpet"
           }
          ],
          "choropleth": [
           {
            "colorbar": {
             "outlinewidth": 0,
             "ticks": ""
            },
            "type": "choropleth"
           }
          ],
          "contour": [
           {
            "colorbar": {
             "outlinewidth": 0,
             "ticks": ""
            },
            "colorscale": [
             [
              0,
              "#0d0887"
             ],
             [
              0.1111111111111111,
              "#46039f"
             ],
             [
              0.2222222222222222,
              "#7201a8"
             ],
             [
              0.3333333333333333,
              "#9c179e"
             ],
             [
              0.4444444444444444,
              "#bd3786"
             ],
             [
              0.5555555555555556,
              "#d8576b"
             ],
             [
              0.6666666666666666,
              "#ed7953"
             ],
             [
              0.7777777777777778,
              "#fb9f3a"
             ],
             [
              0.8888888888888888,
              "#fdca26"
             ],
             [
              1,
              "#f0f921"
             ]
            ],
            "type": "contour"
           }
          ],
          "contourcarpet": [
           {
            "colorbar": {
             "outlinewidth": 0,
             "ticks": ""
            },
            "type": "contourcarpet"
           }
          ],
          "heatmap": [
           {
            "colorbar": {
             "outlinewidth": 0,
             "ticks": ""
            },
            "colorscale": [
             [
              0,
              "#0d0887"
             ],
             [
              0.1111111111111111,
              "#46039f"
             ],
             [
              0.2222222222222222,
              "#7201a8"
             ],
             [
              0.3333333333333333,
              "#9c179e"
             ],
             [
              0.4444444444444444,
              "#bd3786"
             ],
             [
              0.5555555555555556,
              "#d8576b"
             ],
             [
              0.6666666666666666,
              "#ed7953"
             ],
             [
              0.7777777777777778,
              "#fb9f3a"
             ],
             [
              0.8888888888888888,
              "#fdca26"
             ],
             [
              1,
              "#f0f921"
             ]
            ],
            "type": "heatmap"
           }
          ],
          "histogram": [
           {
            "marker": {
             "pattern": {
              "fillmode": "overlay",
              "size": 10,
              "solidity": 0.2
             }
            },
            "type": "histogram"
           }
          ],
          "histogram2d": [
           {
            "colorbar": {
             "outlinewidth": 0,
             "ticks": ""
            },
            "colorscale": [
             [
              0,
              "#0d0887"
             ],
             [
              0.1111111111111111,
              "#46039f"
             ],
             [
              0.2222222222222222,
              "#7201a8"
             ],
             [
              0.3333333333333333,
              "#9c179e"
             ],
             [
              0.4444444444444444,
              "#bd3786"
             ],
             [
              0.5555555555555556,
              "#d8576b"
             ],
             [
              0.6666666666666666,
              "#ed7953"
             ],
             [
              0.7777777777777778,
              "#fb9f3a"
             ],
             [
              0.8888888888888888,
              "#fdca26"
             ],
             [
              1,
              "#f0f921"
             ]
            ],
            "type": "histogram2d"
           }
          ],
          "histogram2dcontour": [
           {
            "colorbar": {
             "outlinewidth": 0,
             "ticks": ""
            },
            "colorscale": [
             [
              0,
              "#0d0887"
             ],
             [
              0.1111111111111111,
              "#46039f"
             ],
             [
              0.2222222222222222,
              "#7201a8"
             ],
             [
              0.3333333333333333,
              "#9c179e"
             ],
             [
              0.4444444444444444,
              "#bd3786"
             ],
             [
              0.5555555555555556,
              "#d8576b"
             ],
             [
              0.6666666666666666,
              "#ed7953"
             ],
             [
              0.7777777777777778,
              "#fb9f3a"
             ],
             [
              0.8888888888888888,
              "#fdca26"
             ],
             [
              1,
              "#f0f921"
             ]
            ],
            "type": "histogram2dcontour"
           }
          ],
          "mesh3d": [
           {
            "colorbar": {
             "outlinewidth": 0,
             "ticks": ""
            },
            "type": "mesh3d"
           }
          ],
          "parcoords": [
           {
            "line": {
             "colorbar": {
              "outlinewidth": 0,
              "ticks": ""
             }
            },
            "type": "parcoords"
           }
          ],
          "pie": [
           {
            "automargin": true,
            "type": "pie"
           }
          ],
          "scatter": [
           {
            "fillpattern": {
             "fillmode": "overlay",
             "size": 10,
             "solidity": 0.2
            },
            "type": "scatter"
           }
          ],
          "scatter3d": [
           {
            "line": {
             "colorbar": {
              "outlinewidth": 0,
              "ticks": ""
             }
            },
            "marker": {
             "colorbar": {
              "outlinewidth": 0,
              "ticks": ""
             }
            },
            "type": "scatter3d"
           }
          ],
          "scattercarpet": [
           {
            "marker": {
             "colorbar": {
              "outlinewidth": 0,
              "ticks": ""
             }
            },
            "type": "scattercarpet"
           }
          ],
          "scattergeo": [
           {
            "marker": {
             "colorbar": {
              "outlinewidth": 0,
              "ticks": ""
             }
            },
            "type": "scattergeo"
           }
          ],
          "scattergl": [
           {
            "marker": {
             "colorbar": {
              "outlinewidth": 0,
              "ticks": ""
             }
            },
            "type": "scattergl"
           }
          ],
          "scattermap": [
           {
            "marker": {
             "colorbar": {
              "outlinewidth": 0,
              "ticks": ""
             }
            },
            "type": "scattermap"
           }
          ],
          "scattermapbox": [
           {
            "marker": {
             "colorbar": {
              "outlinewidth": 0,
              "ticks": ""
             }
            },
            "type": "scattermapbox"
           }
          ],
          "scatterpolar": [
           {
            "marker": {
             "colorbar": {
              "outlinewidth": 0,
              "ticks": ""
             }
            },
            "type": "scatterpolar"
           }
          ],
          "scatterpolargl": [
           {
            "marker": {
             "colorbar": {
              "outlinewidth": 0,
              "ticks": ""
             }
            },
            "type": "scatterpolargl"
           }
          ],
          "scatterternary": [
           {
            "marker": {
             "colorbar": {
              "outlinewidth": 0,
              "ticks": ""
             }
            },
            "type": "scatterternary"
           }
          ],
          "surface": [
           {
            "colorbar": {
             "outlinewidth": 0,
             "ticks": ""
            },
            "colorscale": [
             [
              0,
              "#0d0887"
             ],
             [
              0.1111111111111111,
              "#46039f"
             ],
             [
              0.2222222222222222,
              "#7201a8"
             ],
             [
              0.3333333333333333,
              "#9c179e"
             ],
             [
              0.4444444444444444,
              "#bd3786"
             ],
             [
              0.5555555555555556,
              "#d8576b"
             ],
             [
              0.6666666666666666,
              "#ed7953"
             ],
             [
              0.7777777777777778,
              "#fb9f3a"
             ],
             [
              0.8888888888888888,
              "#fdca26"
             ],
             [
              1,
              "#f0f921"
             ]
            ],
            "type": "surface"
           }
          ],
          "table": [
           {
            "cells": {
             "fill": {
              "color": "#EBF0F8"
             },
             "line": {
              "color": "white"
             }
            },
            "header": {
             "fill": {
              "color": "#C8D4E3"
             },
             "line": {
              "color": "white"
             }
            },
            "type": "table"
           }
          ]
         },
         "layout": {
          "annotationdefaults": {
           "arrowcolor": "#2a3f5f",
           "arrowhead": 0,
           "arrowwidth": 1
          },
          "autotypenumbers": "strict",
          "coloraxis": {
           "colorbar": {
            "outlinewidth": 0,
            "ticks": ""
           }
          },
          "colorscale": {
           "diverging": [
            [
             0,
             "#8e0152"
            ],
            [
             0.1,
             "#c51b7d"
            ],
            [
             0.2,
             "#de77ae"
            ],
            [
             0.3,
             "#f1b6da"
            ],
            [
             0.4,
             "#fde0ef"
            ],
            [
             0.5,
             "#f7f7f7"
            ],
            [
             0.6,
             "#e6f5d0"
            ],
            [
             0.7,
             "#b8e186"
            ],
            [
             0.8,
             "#7fbc41"
            ],
            [
             0.9,
             "#4d9221"
            ],
            [
             1,
             "#276419"
            ]
           ],
           "sequential": [
            [
             0,
             "#0d0887"
            ],
            [
             0.1111111111111111,
             "#46039f"
            ],
            [
             0.2222222222222222,
             "#7201a8"
            ],
            [
             0.3333333333333333,
             "#9c179e"
            ],
            [
             0.4444444444444444,
             "#bd3786"
            ],
            [
             0.5555555555555556,
             "#d8576b"
            ],
            [
             0.6666666666666666,
             "#ed7953"
            ],
            [
             0.7777777777777778,
             "#fb9f3a"
            ],
            [
             0.8888888888888888,
             "#fdca26"
            ],
            [
             1,
             "#f0f921"
            ]
           ],
           "sequentialminus": [
            [
             0,
             "#0d0887"
            ],
            [
             0.1111111111111111,
             "#46039f"
            ],
            [
             0.2222222222222222,
             "#7201a8"
            ],
            [
             0.3333333333333333,
             "#9c179e"
            ],
            [
             0.4444444444444444,
             "#bd3786"
            ],
            [
             0.5555555555555556,
             "#d8576b"
            ],
            [
             0.6666666666666666,
             "#ed7953"
            ],
            [
             0.7777777777777778,
             "#fb9f3a"
            ],
            [
             0.8888888888888888,
             "#fdca26"
            ],
            [
             1,
             "#f0f921"
            ]
           ]
          },
          "colorway": [
           "#636efa",
           "#EF553B",
           "#00cc96",
           "#ab63fa",
           "#FFA15A",
           "#19d3f3",
           "#FF6692",
           "#B6E880",
           "#FF97FF",
           "#FECB52"
          ],
          "font": {
           "color": "#2a3f5f"
          },
          "geo": {
           "bgcolor": "white",
           "lakecolor": "white",
           "landcolor": "#E5ECF6",
           "showlakes": true,
           "showland": true,
           "subunitcolor": "white"
          },
          "hoverlabel": {
           "align": "left"
          },
          "hovermode": "closest",
          "mapbox": {
           "style": "light"
          },
          "paper_bgcolor": "white",
          "plot_bgcolor": "#E5ECF6",
          "polar": {
           "angularaxis": {
            "gridcolor": "white",
            "linecolor": "white",
            "ticks": ""
           },
           "bgcolor": "#E5ECF6",
           "radialaxis": {
            "gridcolor": "white",
            "linecolor": "white",
            "ticks": ""
           }
          },
          "scene": {
           "xaxis": {
            "backgroundcolor": "#E5ECF6",
            "gridcolor": "white",
            "gridwidth": 2,
            "linecolor": "white",
            "showbackground": true,
            "ticks": "",
            "zerolinecolor": "white"
           },
           "yaxis": {
            "backgroundcolor": "#E5ECF6",
            "gridcolor": "white",
            "gridwidth": 2,
            "linecolor": "white",
            "showbackground": true,
            "ticks": "",
            "zerolinecolor": "white"
           },
           "zaxis": {
            "backgroundcolor": "#E5ECF6",
            "gridcolor": "white",
            "gridwidth": 2,
            "linecolor": "white",
            "showbackground": true,
            "ticks": "",
            "zerolinecolor": "white"
           }
          },
          "shapedefaults": {
           "line": {
            "color": "#2a3f5f"
           }
          },
          "ternary": {
           "aaxis": {
            "gridcolor": "white",
            "linecolor": "white",
            "ticks": ""
           },
           "baxis": {
            "gridcolor": "white",
            "linecolor": "white",
            "ticks": ""
           },
           "bgcolor": "#E5ECF6",
           "caxis": {
            "gridcolor": "white",
            "linecolor": "white",
            "ticks": ""
           }
          },
          "title": {
           "x": 0.05
          },
          "xaxis": {
           "automargin": true,
           "gridcolor": "white",
           "linecolor": "white",
           "ticks": "",
           "title": {
            "standoff": 15
           },
           "zerolinecolor": "white",
           "zerolinewidth": 2
          },
          "yaxis": {
           "automargin": true,
           "gridcolor": "white",
           "linecolor": "white",
           "ticks": "",
           "title": {
            "standoff": 15
           },
           "zerolinecolor": "white",
           "zerolinewidth": 2
          }
         }
        },
        "title": {
         "text": "Relative Difference in Cumulative Average Order Size (B vs A)"
        },
        "xaxis": {
         "anchor": "y",
         "domain": [
          0,
          1
         ],
         "dtick": "D1",
         "title": {
          "text": "date"
         }
        },
        "yaxis": {
         "anchor": "x",
         "domain": [
          0,
          1
         ],
         "tickformat": ".1%",
         "title": {
          "text": "rel_diff"
         }
        }
       }
      }
     },
     "metadata": {},
     "output_type": "display_data"
    }
   ],
   "source": [
    "fig = px.line(pivot_aos, x=\"date\", y=\"rel_diff\", title=\"Relative Difference in Cumulative Average Order Size (B vs A)\")\n",
    "fig.update_yaxes(tickformat=\".1%\")\n",
    "fig.add_hline(y=0, line_dash=\"dash\", line_color=\"red\", annotation_text=\"A = B\", annotation_position=\"bottom left\")\n",
    "fig.update_xaxes(dtick=\"D1\")\n",
    "fig.show()"
   ]
  },
  {
   "cell_type": "markdown",
   "id": "ee2b9053",
   "metadata": {},
   "source": [
    "##### __5.2.4__ Calculate the conversion rate for each group as the ratio of orders to the number of visits each day. Graph the daily conversion rates for the two groups and describe the difference. Draw conclusions and make assumptions."
   ]
  },
  {
   "cell_type": "code",
   "execution_count": 39,
   "id": "2b84e036",
   "metadata": {},
   "outputs": [
    {
     "data": {
      "application/vnd.microsoft.datawrangler.viewer.v0+json": {
       "columns": [
        {
         "name": "index",
         "rawType": "int64",
         "type": "integer"
        },
        {
         "name": "date",
         "rawType": "object",
         "type": "unknown"
        },
        {
         "name": "group",
         "rawType": "category",
         "type": "unknown"
        },
        {
         "name": "orders",
         "rawType": "int64",
         "type": "integer"
        }
       ],
       "ref": "fab82f14-0c5a-4ab7-ba73-67a0dc24f91c",
       "rows": [
        [
         "0",
         "2019-08-01",
         "A",
         "23"
        ],
        [
         "1",
         "2019-08-01",
         "B",
         "17"
        ],
        [
         "2",
         "2019-08-02",
         "A",
         "19"
        ],
        [
         "3",
         "2019-08-02",
         "B",
         "23"
        ],
        [
         "4",
         "2019-08-03",
         "A",
         "24"
        ],
        [
         "5",
         "2019-08-03",
         "B",
         "14"
        ],
        [
         "6",
         "2019-08-04",
         "A",
         "11"
        ],
        [
         "7",
         "2019-08-04",
         "B",
         "14"
        ],
        [
         "8",
         "2019-08-05",
         "A",
         "22"
        ],
        [
         "9",
         "2019-08-05",
         "B",
         "21"
        ],
        [
         "10",
         "2019-08-06",
         "A",
         "15"
        ],
        [
         "11",
         "2019-08-06",
         "B",
         "23"
        ],
        [
         "12",
         "2019-08-07",
         "A",
         "16"
        ],
        [
         "13",
         "2019-08-07",
         "B",
         "23"
        ],
        [
         "14",
         "2019-08-08",
         "A",
         "14"
        ],
        [
         "15",
         "2019-08-08",
         "B",
         "22"
        ],
        [
         "16",
         "2019-08-09",
         "A",
         "11"
        ],
        [
         "17",
         "2019-08-09",
         "B",
         "19"
        ],
        [
         "18",
         "2019-08-10",
         "A",
         "15"
        ],
        [
         "19",
         "2019-08-10",
         "B",
         "22"
        ],
        [
         "20",
         "2019-08-11",
         "A",
         "11"
        ],
        [
         "21",
         "2019-08-11",
         "B",
         "12"
        ],
        [
         "22",
         "2019-08-12",
         "A",
         "19"
        ],
        [
         "23",
         "2019-08-12",
         "B",
         "19"
        ],
        [
         "24",
         "2019-08-13",
         "A",
         "14"
        ],
        [
         "25",
         "2019-08-13",
         "B",
         "20"
        ],
        [
         "26",
         "2019-08-14",
         "A",
         "17"
        ],
        [
         "27",
         "2019-08-14",
         "B",
         "14"
        ],
        [
         "28",
         "2019-08-15",
         "A",
         "10"
        ],
        [
         "29",
         "2019-08-15",
         "B",
         "26"
        ],
        [
         "30",
         "2019-08-16",
         "A",
         "18"
        ],
        [
         "31",
         "2019-08-16",
         "B",
         "18"
        ],
        [
         "32",
         "2019-08-17",
         "A",
         "6"
        ],
        [
         "33",
         "2019-08-17",
         "B",
         "13"
        ],
        [
         "34",
         "2019-08-18",
         "A",
         "13"
        ],
        [
         "35",
         "2019-08-18",
         "B",
         "7"
        ],
        [
         "36",
         "2019-08-19",
         "A",
         "21"
        ],
        [
         "37",
         "2019-08-19",
         "B",
         "21"
        ],
        [
         "38",
         "2019-08-20",
         "A",
         "10"
        ],
        [
         "39",
         "2019-08-20",
         "B",
         "20"
        ],
        [
         "40",
         "2019-08-21",
         "A",
         "20"
        ],
        [
         "41",
         "2019-08-21",
         "B",
         "12"
        ],
        [
         "42",
         "2019-08-22",
         "A",
         "10"
        ],
        [
         "43",
         "2019-08-22",
         "B",
         "21"
        ],
        [
         "44",
         "2019-08-23",
         "A",
         "20"
        ],
        [
         "45",
         "2019-08-23",
         "B",
         "13"
        ],
        [
         "46",
         "2019-08-24",
         "A",
         "13"
        ],
        [
         "47",
         "2019-08-24",
         "B",
         "14"
        ],
        [
         "48",
         "2019-08-25",
         "A",
         "8"
        ],
        [
         "49",
         "2019-08-25",
         "B",
         "12"
        ]
       ],
       "shape": {
        "columns": 3,
        "rows": 62
       }
      },
      "text/html": [
       "<div>\n",
       "<style scoped>\n",
       "    .dataframe tbody tr th:only-of-type {\n",
       "        vertical-align: middle;\n",
       "    }\n",
       "\n",
       "    .dataframe tbody tr th {\n",
       "        vertical-align: top;\n",
       "    }\n",
       "\n",
       "    .dataframe thead th {\n",
       "        text-align: right;\n",
       "    }\n",
       "</style>\n",
       "<table border=\"1\" class=\"dataframe\">\n",
       "  <thead>\n",
       "    <tr style=\"text-align: right;\">\n",
       "      <th></th>\n",
       "      <th>date</th>\n",
       "      <th>group</th>\n",
       "      <th>orders</th>\n",
       "    </tr>\n",
       "  </thead>\n",
       "  <tbody>\n",
       "    <tr>\n",
       "      <th>0</th>\n",
       "      <td>2019-08-01</td>\n",
       "      <td>A</td>\n",
       "      <td>23</td>\n",
       "    </tr>\n",
       "    <tr>\n",
       "      <th>1</th>\n",
       "      <td>2019-08-01</td>\n",
       "      <td>B</td>\n",
       "      <td>17</td>\n",
       "    </tr>\n",
       "    <tr>\n",
       "      <th>2</th>\n",
       "      <td>2019-08-02</td>\n",
       "      <td>A</td>\n",
       "      <td>19</td>\n",
       "    </tr>\n",
       "    <tr>\n",
       "      <th>3</th>\n",
       "      <td>2019-08-02</td>\n",
       "      <td>B</td>\n",
       "      <td>23</td>\n",
       "    </tr>\n",
       "    <tr>\n",
       "      <th>4</th>\n",
       "      <td>2019-08-03</td>\n",
       "      <td>A</td>\n",
       "      <td>24</td>\n",
       "    </tr>\n",
       "    <tr>\n",
       "      <th>...</th>\n",
       "      <td>...</td>\n",
       "      <td>...</td>\n",
       "      <td>...</td>\n",
       "    </tr>\n",
       "    <tr>\n",
       "      <th>57</th>\n",
       "      <td>2019-08-29</td>\n",
       "      <td>B</td>\n",
       "      <td>15</td>\n",
       "    </tr>\n",
       "    <tr>\n",
       "      <th>58</th>\n",
       "      <td>2019-08-30</td>\n",
       "      <td>A</td>\n",
       "      <td>9</td>\n",
       "    </tr>\n",
       "    <tr>\n",
       "      <th>59</th>\n",
       "      <td>2019-08-30</td>\n",
       "      <td>B</td>\n",
       "      <td>21</td>\n",
       "    </tr>\n",
       "    <tr>\n",
       "      <th>60</th>\n",
       "      <td>2019-08-31</td>\n",
       "      <td>A</td>\n",
       "      <td>8</td>\n",
       "    </tr>\n",
       "    <tr>\n",
       "      <th>61</th>\n",
       "      <td>2019-08-31</td>\n",
       "      <td>B</td>\n",
       "      <td>17</td>\n",
       "    </tr>\n",
       "  </tbody>\n",
       "</table>\n",
       "<p>62 rows × 3 columns</p>\n",
       "</div>"
      ],
      "text/plain": [
       "          date group  orders\n",
       "0   2019-08-01     A      23\n",
       "1   2019-08-01     B      17\n",
       "2   2019-08-02     A      19\n",
       "3   2019-08-02     B      23\n",
       "4   2019-08-03     A      24\n",
       "..         ...   ...     ...\n",
       "57  2019-08-29     B      15\n",
       "58  2019-08-30     A       9\n",
       "59  2019-08-30     B      21\n",
       "60  2019-08-31     A       8\n",
       "61  2019-08-31     B      17\n",
       "\n",
       "[62 rows x 3 columns]"
      ]
     },
     "execution_count": 39,
     "metadata": {},
     "output_type": "execute_result"
    }
   ],
   "source": [
    "# Get orders by day and group\n",
    "daily_orders = (df_orders.groupby([\"date\", \"group\"], observed=False)[\"transactionid\"].nunique().reset_index(name=\"orders\"))\n",
    "daily_orders"
   ]
  },
  {
   "cell_type": "code",
   "execution_count": 40,
   "id": "bb3f50ab",
   "metadata": {},
   "outputs": [
    {
     "data": {
      "application/vnd.microsoft.datawrangler.viewer.v0+json": {
       "columns": [
        {
         "name": "index",
         "rawType": "int64",
         "type": "integer"
        },
        {
         "name": "date",
         "rawType": "object",
         "type": "unknown"
        },
        {
         "name": "group",
         "rawType": "category",
         "type": "unknown"
        },
        {
         "name": "orders",
         "rawType": "int64",
         "type": "integer"
        },
        {
         "name": "visits",
         "rawType": "int64",
         "type": "integer"
        }
       ],
       "ref": "d47e0e17-fe63-47c8-a01a-641c46fda6dd",
       "rows": [
        [
         "0",
         "2019-08-01",
         "A",
         "23",
         "719"
        ],
        [
         "1",
         "2019-08-02",
         "A",
         "19",
         "619"
        ],
        [
         "2",
         "2019-08-03",
         "A",
         "24",
         "507"
        ],
        [
         "3",
         "2019-08-04",
         "A",
         "11",
         "717"
        ],
        [
         "4",
         "2019-08-05",
         "A",
         "22",
         "756"
        ],
        [
         "5",
         "2019-08-06",
         "A",
         "15",
         "667"
        ],
        [
         "6",
         "2019-08-07",
         "A",
         "16",
         "644"
        ],
        [
         "7",
         "2019-08-08",
         "A",
         "14",
         "610"
        ],
        [
         "8",
         "2019-08-09",
         "A",
         "11",
         "617"
        ],
        [
         "9",
         "2019-08-10",
         "A",
         "15",
         "406"
        ],
        [
         "10",
         "2019-08-11",
         "A",
         "11",
         "718"
        ],
        [
         "11",
         "2019-08-12",
         "A",
         "19",
         "595"
        ],
        [
         "12",
         "2019-08-13",
         "A",
         "14",
         "748"
        ],
        [
         "13",
         "2019-08-14",
         "A",
         "17",
         "735"
        ],
        [
         "14",
         "2019-08-15",
         "A",
         "10",
         "628"
        ],
        [
         "15",
         "2019-08-16",
         "A",
         "18",
         "361"
        ],
        [
         "16",
         "2019-08-17",
         "A",
         "6",
         "412"
        ],
        [
         "17",
         "2019-08-18",
         "A",
         "13",
         "668"
        ],
        [
         "18",
         "2019-08-19",
         "A",
         "21",
         "502"
        ],
        [
         "19",
         "2019-08-20",
         "A",
         "10",
         "575"
        ],
        [
         "20",
         "2019-08-21",
         "A",
         "20",
         "646"
        ],
        [
         "21",
         "2019-08-22",
         "A",
         "10",
         "609"
        ],
        [
         "22",
         "2019-08-23",
         "A",
         "20",
         "468"
        ],
        [
         "23",
         "2019-08-24",
         "A",
         "13",
         "395"
        ],
        [
         "24",
         "2019-08-25",
         "A",
         "8",
         "621"
        ],
        [
         "25",
         "2019-08-26",
         "A",
         "16",
         "722"
        ],
        [
         "26",
         "2019-08-27",
         "A",
         "23",
         "711"
        ],
        [
         "27",
         "2019-08-28",
         "A",
         "15",
         "594"
        ],
        [
         "28",
         "2019-08-29",
         "A",
         "17",
         "577"
        ],
        [
         "29",
         "2019-08-30",
         "A",
         "9",
         "490"
        ],
        [
         "30",
         "2019-08-31",
         "A",
         "8",
         "699"
        ],
        [
         "31",
         "2019-08-01",
         "B",
         "17",
         "713"
        ],
        [
         "32",
         "2019-08-02",
         "B",
         "23",
         "581"
        ],
        [
         "33",
         "2019-08-03",
         "B",
         "14",
         "509"
        ],
        [
         "34",
         "2019-08-04",
         "B",
         "14",
         "770"
        ],
        [
         "35",
         "2019-08-05",
         "B",
         "21",
         "707"
        ],
        [
         "36",
         "2019-08-06",
         "B",
         "23",
         "655"
        ],
        [
         "37",
         "2019-08-07",
         "B",
         "23",
         "709"
        ],
        [
         "38",
         "2019-08-08",
         "B",
         "22",
         "654"
        ],
        [
         "39",
         "2019-08-09",
         "B",
         "19",
         "610"
        ],
        [
         "40",
         "2019-08-10",
         "B",
         "22",
         "369"
        ],
        [
         "41",
         "2019-08-11",
         "B",
         "12",
         "721"
        ],
        [
         "42",
         "2019-08-12",
         "B",
         "19",
         "543"
        ],
        [
         "43",
         "2019-08-13",
         "B",
         "20",
         "769"
        ],
        [
         "44",
         "2019-08-14",
         "B",
         "14",
         "746"
        ],
        [
         "45",
         "2019-08-15",
         "B",
         "26",
         "544"
        ],
        [
         "46",
         "2019-08-16",
         "B",
         "18",
         "413"
        ],
        [
         "47",
         "2019-08-17",
         "B",
         "13",
         "421"
        ],
        [
         "48",
         "2019-08-18",
         "B",
         "7",
         "737"
        ],
        [
         "49",
         "2019-08-19",
         "B",
         "21",
         "487"
        ]
       ],
       "shape": {
        "columns": 4,
        "rows": 62
       }
      },
      "text/html": [
       "<div>\n",
       "<style scoped>\n",
       "    .dataframe tbody tr th:only-of-type {\n",
       "        vertical-align: middle;\n",
       "    }\n",
       "\n",
       "    .dataframe tbody tr th {\n",
       "        vertical-align: top;\n",
       "    }\n",
       "\n",
       "    .dataframe thead th {\n",
       "        text-align: right;\n",
       "    }\n",
       "</style>\n",
       "<table border=\"1\" class=\"dataframe\">\n",
       "  <thead>\n",
       "    <tr style=\"text-align: right;\">\n",
       "      <th></th>\n",
       "      <th>date</th>\n",
       "      <th>group</th>\n",
       "      <th>orders</th>\n",
       "      <th>visits</th>\n",
       "    </tr>\n",
       "  </thead>\n",
       "  <tbody>\n",
       "    <tr>\n",
       "      <th>0</th>\n",
       "      <td>2019-08-01</td>\n",
       "      <td>A</td>\n",
       "      <td>23</td>\n",
       "      <td>719</td>\n",
       "    </tr>\n",
       "    <tr>\n",
       "      <th>1</th>\n",
       "      <td>2019-08-02</td>\n",
       "      <td>A</td>\n",
       "      <td>19</td>\n",
       "      <td>619</td>\n",
       "    </tr>\n",
       "    <tr>\n",
       "      <th>2</th>\n",
       "      <td>2019-08-03</td>\n",
       "      <td>A</td>\n",
       "      <td>24</td>\n",
       "      <td>507</td>\n",
       "    </tr>\n",
       "    <tr>\n",
       "      <th>3</th>\n",
       "      <td>2019-08-04</td>\n",
       "      <td>A</td>\n",
       "      <td>11</td>\n",
       "      <td>717</td>\n",
       "    </tr>\n",
       "    <tr>\n",
       "      <th>4</th>\n",
       "      <td>2019-08-05</td>\n",
       "      <td>A</td>\n",
       "      <td>22</td>\n",
       "      <td>756</td>\n",
       "    </tr>\n",
       "    <tr>\n",
       "      <th>...</th>\n",
       "      <td>...</td>\n",
       "      <td>...</td>\n",
       "      <td>...</td>\n",
       "      <td>...</td>\n",
       "    </tr>\n",
       "    <tr>\n",
       "      <th>57</th>\n",
       "      <td>2019-08-27</td>\n",
       "      <td>B</td>\n",
       "      <td>11</td>\n",
       "      <td>720</td>\n",
       "    </tr>\n",
       "    <tr>\n",
       "      <th>58</th>\n",
       "      <td>2019-08-28</td>\n",
       "      <td>B</td>\n",
       "      <td>22</td>\n",
       "      <td>654</td>\n",
       "    </tr>\n",
       "    <tr>\n",
       "      <th>59</th>\n",
       "      <td>2019-08-29</td>\n",
       "      <td>B</td>\n",
       "      <td>15</td>\n",
       "      <td>531</td>\n",
       "    </tr>\n",
       "    <tr>\n",
       "      <th>60</th>\n",
       "      <td>2019-08-30</td>\n",
       "      <td>B</td>\n",
       "      <td>21</td>\n",
       "      <td>490</td>\n",
       "    </tr>\n",
       "    <tr>\n",
       "      <th>61</th>\n",
       "      <td>2019-08-31</td>\n",
       "      <td>B</td>\n",
       "      <td>17</td>\n",
       "      <td>718</td>\n",
       "    </tr>\n",
       "  </tbody>\n",
       "</table>\n",
       "<p>62 rows × 4 columns</p>\n",
       "</div>"
      ],
      "text/plain": [
       "          date group  orders  visits\n",
       "0   2019-08-01     A      23     719\n",
       "1   2019-08-02     A      19     619\n",
       "2   2019-08-03     A      24     507\n",
       "3   2019-08-04     A      11     717\n",
       "4   2019-08-05     A      22     756\n",
       "..         ...   ...     ...     ...\n",
       "57  2019-08-27     B      11     720\n",
       "58  2019-08-28     B      22     654\n",
       "59  2019-08-29     B      15     531\n",
       "60  2019-08-30     B      21     490\n",
       "61  2019-08-31     B      17     718\n",
       "\n",
       "[62 rows x 4 columns]"
      ]
     },
     "execution_count": 40,
     "metadata": {},
     "output_type": "execute_result"
    }
   ],
   "source": [
    "# Merge visits\n",
    "df_daily_conversion_rate = pd.merge(daily_orders, df_visits, on=[\"date\", \"group\"], how=\"right\")\n",
    "df_daily_conversion_rate"
   ]
  },
  {
   "cell_type": "code",
   "execution_count": 41,
   "id": "616fbc59",
   "metadata": {},
   "outputs": [
    {
     "data": {
      "application/vnd.microsoft.datawrangler.viewer.v0+json": {
       "columns": [
        {
         "name": "index",
         "rawType": "int64",
         "type": "integer"
        },
        {
         "name": "date",
         "rawType": "object",
         "type": "unknown"
        },
        {
         "name": "group",
         "rawType": "category",
         "type": "unknown"
        },
        {
         "name": "orders",
         "rawType": "int64",
         "type": "integer"
        },
        {
         "name": "visits",
         "rawType": "int64",
         "type": "integer"
        },
        {
         "name": "conversion_rate",
         "rawType": "float64",
         "type": "float"
        }
       ],
       "ref": "e1bf934b-22c0-49fb-9fa3-847282dfafb1",
       "rows": [
        [
         "0",
         "2019-08-01",
         "A",
         "23",
         "719",
         "0.031988873435326845"
        ],
        [
         "1",
         "2019-08-02",
         "A",
         "19",
         "619",
         "0.030694668820678513"
        ],
        [
         "2",
         "2019-08-03",
         "A",
         "24",
         "507",
         "0.047337278106508875"
        ],
        [
         "3",
         "2019-08-04",
         "A",
         "11",
         "717",
         "0.015341701534170154"
        ],
        [
         "4",
         "2019-08-05",
         "A",
         "22",
         "756",
         "0.0291005291005291"
        ],
        [
         "5",
         "2019-08-06",
         "A",
         "15",
         "667",
         "0.022488755622188907"
        ],
        [
         "6",
         "2019-08-07",
         "A",
         "16",
         "644",
         "0.024844720496894408"
        ],
        [
         "7",
         "2019-08-08",
         "A",
         "14",
         "610",
         "0.022950819672131147"
        ],
        [
         "8",
         "2019-08-09",
         "A",
         "11",
         "617",
         "0.017828200972447326"
        ],
        [
         "9",
         "2019-08-10",
         "A",
         "15",
         "406",
         "0.03694581280788178"
        ],
        [
         "10",
         "2019-08-11",
         "A",
         "11",
         "718",
         "0.01532033426183844"
        ],
        [
         "11",
         "2019-08-12",
         "A",
         "19",
         "595",
         "0.031932773109243695"
        ],
        [
         "12",
         "2019-08-13",
         "A",
         "14",
         "748",
         "0.01871657754010695"
        ],
        [
         "13",
         "2019-08-14",
         "A",
         "17",
         "735",
         "0.02312925170068027"
        ],
        [
         "14",
         "2019-08-15",
         "A",
         "10",
         "628",
         "0.01592356687898089"
        ],
        [
         "15",
         "2019-08-16",
         "A",
         "18",
         "361",
         "0.04986149584487535"
        ],
        [
         "16",
         "2019-08-17",
         "A",
         "6",
         "412",
         "0.014563106796116505"
        ],
        [
         "17",
         "2019-08-18",
         "A",
         "13",
         "668",
         "0.019461077844311378"
        ],
        [
         "18",
         "2019-08-19",
         "A",
         "21",
         "502",
         "0.04183266932270916"
        ],
        [
         "19",
         "2019-08-20",
         "A",
         "10",
         "575",
         "0.017391304347826087"
        ],
        [
         "20",
         "2019-08-21",
         "A",
         "20",
         "646",
         "0.030959752321981424"
        ],
        [
         "21",
         "2019-08-22",
         "A",
         "10",
         "609",
         "0.016420361247947456"
        ],
        [
         "22",
         "2019-08-23",
         "A",
         "20",
         "468",
         "0.042735042735042736"
        ],
        [
         "23",
         "2019-08-24",
         "A",
         "13",
         "395",
         "0.03291139240506329"
        ],
        [
         "24",
         "2019-08-25",
         "A",
         "8",
         "621",
         "0.01288244766505636"
        ],
        [
         "25",
         "2019-08-26",
         "A",
         "16",
         "722",
         "0.0221606648199446"
        ],
        [
         "26",
         "2019-08-27",
         "A",
         "23",
         "711",
         "0.03234880450070324"
        ],
        [
         "27",
         "2019-08-28",
         "A",
         "15",
         "594",
         "0.025252525252525252"
        ],
        [
         "28",
         "2019-08-29",
         "A",
         "17",
         "577",
         "0.029462738301559793"
        ],
        [
         "29",
         "2019-08-30",
         "A",
         "9",
         "490",
         "0.018367346938775512"
        ],
        [
         "30",
         "2019-08-31",
         "A",
         "8",
         "699",
         "0.011444921316165951"
        ],
        [
         "31",
         "2019-08-01",
         "B",
         "17",
         "713",
         "0.023842917251051893"
        ],
        [
         "32",
         "2019-08-02",
         "B",
         "23",
         "581",
         "0.039586919104991396"
        ],
        [
         "33",
         "2019-08-03",
         "B",
         "14",
         "509",
         "0.0275049115913556"
        ],
        [
         "34",
         "2019-08-04",
         "B",
         "14",
         "770",
         "0.01818181818181818"
        ],
        [
         "35",
         "2019-08-05",
         "B",
         "21",
         "707",
         "0.0297029702970297"
        ],
        [
         "36",
         "2019-08-06",
         "B",
         "23",
         "655",
         "0.035114503816793895"
        ],
        [
         "37",
         "2019-08-07",
         "B",
         "23",
         "709",
         "0.03244005641748942"
        ],
        [
         "38",
         "2019-08-08",
         "B",
         "22",
         "654",
         "0.03363914373088685"
        ],
        [
         "39",
         "2019-08-09",
         "B",
         "19",
         "610",
         "0.03114754098360656"
        ],
        [
         "40",
         "2019-08-10",
         "B",
         "22",
         "369",
         "0.05962059620596206"
        ],
        [
         "41",
         "2019-08-11",
         "B",
         "12",
         "721",
         "0.016643550624133148"
        ],
        [
         "42",
         "2019-08-12",
         "B",
         "19",
         "543",
         "0.034990791896869246"
        ],
        [
         "43",
         "2019-08-13",
         "B",
         "20",
         "769",
         "0.02600780234070221"
        ],
        [
         "44",
         "2019-08-14",
         "B",
         "14",
         "746",
         "0.01876675603217158"
        ],
        [
         "45",
         "2019-08-15",
         "B",
         "26",
         "544",
         "0.04779411764705882"
        ],
        [
         "46",
         "2019-08-16",
         "B",
         "18",
         "413",
         "0.043583535108958835"
        ],
        [
         "47",
         "2019-08-17",
         "B",
         "13",
         "421",
         "0.030878859857482184"
        ],
        [
         "48",
         "2019-08-18",
         "B",
         "7",
         "737",
         "0.009497964721845319"
        ],
        [
         "49",
         "2019-08-19",
         "B",
         "21",
         "487",
         "0.043121149897330596"
        ]
       ],
       "shape": {
        "columns": 5,
        "rows": 62
       }
      },
      "text/html": [
       "<div>\n",
       "<style scoped>\n",
       "    .dataframe tbody tr th:only-of-type {\n",
       "        vertical-align: middle;\n",
       "    }\n",
       "\n",
       "    .dataframe tbody tr th {\n",
       "        vertical-align: top;\n",
       "    }\n",
       "\n",
       "    .dataframe thead th {\n",
       "        text-align: right;\n",
       "    }\n",
       "</style>\n",
       "<table border=\"1\" class=\"dataframe\">\n",
       "  <thead>\n",
       "    <tr style=\"text-align: right;\">\n",
       "      <th></th>\n",
       "      <th>date</th>\n",
       "      <th>group</th>\n",
       "      <th>orders</th>\n",
       "      <th>visits</th>\n",
       "      <th>conversion_rate</th>\n",
       "    </tr>\n",
       "  </thead>\n",
       "  <tbody>\n",
       "    <tr>\n",
       "      <th>0</th>\n",
       "      <td>2019-08-01</td>\n",
       "      <td>A</td>\n",
       "      <td>23</td>\n",
       "      <td>719</td>\n",
       "      <td>0.031989</td>\n",
       "    </tr>\n",
       "    <tr>\n",
       "      <th>1</th>\n",
       "      <td>2019-08-02</td>\n",
       "      <td>A</td>\n",
       "      <td>19</td>\n",
       "      <td>619</td>\n",
       "      <td>0.030695</td>\n",
       "    </tr>\n",
       "    <tr>\n",
       "      <th>2</th>\n",
       "      <td>2019-08-03</td>\n",
       "      <td>A</td>\n",
       "      <td>24</td>\n",
       "      <td>507</td>\n",
       "      <td>0.047337</td>\n",
       "    </tr>\n",
       "    <tr>\n",
       "      <th>3</th>\n",
       "      <td>2019-08-04</td>\n",
       "      <td>A</td>\n",
       "      <td>11</td>\n",
       "      <td>717</td>\n",
       "      <td>0.015342</td>\n",
       "    </tr>\n",
       "    <tr>\n",
       "      <th>4</th>\n",
       "      <td>2019-08-05</td>\n",
       "      <td>A</td>\n",
       "      <td>22</td>\n",
       "      <td>756</td>\n",
       "      <td>0.029101</td>\n",
       "    </tr>\n",
       "    <tr>\n",
       "      <th>...</th>\n",
       "      <td>...</td>\n",
       "      <td>...</td>\n",
       "      <td>...</td>\n",
       "      <td>...</td>\n",
       "      <td>...</td>\n",
       "    </tr>\n",
       "    <tr>\n",
       "      <th>57</th>\n",
       "      <td>2019-08-27</td>\n",
       "      <td>B</td>\n",
       "      <td>11</td>\n",
       "      <td>720</td>\n",
       "      <td>0.015278</td>\n",
       "    </tr>\n",
       "    <tr>\n",
       "      <th>58</th>\n",
       "      <td>2019-08-28</td>\n",
       "      <td>B</td>\n",
       "      <td>22</td>\n",
       "      <td>654</td>\n",
       "      <td>0.033639</td>\n",
       "    </tr>\n",
       "    <tr>\n",
       "      <th>59</th>\n",
       "      <td>2019-08-29</td>\n",
       "      <td>B</td>\n",
       "      <td>15</td>\n",
       "      <td>531</td>\n",
       "      <td>0.028249</td>\n",
       "    </tr>\n",
       "    <tr>\n",
       "      <th>60</th>\n",
       "      <td>2019-08-30</td>\n",
       "      <td>B</td>\n",
       "      <td>21</td>\n",
       "      <td>490</td>\n",
       "      <td>0.042857</td>\n",
       "    </tr>\n",
       "    <tr>\n",
       "      <th>61</th>\n",
       "      <td>2019-08-31</td>\n",
       "      <td>B</td>\n",
       "      <td>17</td>\n",
       "      <td>718</td>\n",
       "      <td>0.023677</td>\n",
       "    </tr>\n",
       "  </tbody>\n",
       "</table>\n",
       "<p>62 rows × 5 columns</p>\n",
       "</div>"
      ],
      "text/plain": [
       "          date group  orders  visits  conversion_rate\n",
       "0   2019-08-01     A      23     719         0.031989\n",
       "1   2019-08-02     A      19     619         0.030695\n",
       "2   2019-08-03     A      24     507         0.047337\n",
       "3   2019-08-04     A      11     717         0.015342\n",
       "4   2019-08-05     A      22     756         0.029101\n",
       "..         ...   ...     ...     ...              ...\n",
       "57  2019-08-27     B      11     720         0.015278\n",
       "58  2019-08-28     B      22     654         0.033639\n",
       "59  2019-08-29     B      15     531         0.028249\n",
       "60  2019-08-30     B      21     490         0.042857\n",
       "61  2019-08-31     B      17     718         0.023677\n",
       "\n",
       "[62 rows x 5 columns]"
      ]
     },
     "execution_count": 41,
     "metadata": {},
     "output_type": "execute_result"
    }
   ],
   "source": [
    "df_daily_conversion_rate[\"conversion_rate\"] = df_daily_conversion_rate[\"orders\"] / df_daily_conversion_rate[\"visits\"]\n",
    "df_daily_conversion_rate"
   ]
  },
  {
   "cell_type": "code",
   "execution_count": 42,
   "id": "046393f4",
   "metadata": {},
   "outputs": [
    {
     "data": {
      "application/vnd.plotly.v1+json": {
       "config": {
        "plotlyServerURL": "https://plot.ly"
       },
       "data": [
        {
         "hovertemplate": "group=A<br>date=%{x}<br>conversion_rate=%{y}<extra></extra>",
         "legendgroup": "A",
         "line": {
          "color": "#636efa",
          "dash": "solid"
         },
         "marker": {
          "symbol": "circle"
         },
         "mode": "lines",
         "name": "A",
         "orientation": "v",
         "showlegend": true,
         "type": "scatter",
         "x": [
          "2019-08-01",
          "2019-08-02",
          "2019-08-03",
          "2019-08-04",
          "2019-08-05",
          "2019-08-06",
          "2019-08-07",
          "2019-08-08",
          "2019-08-09",
          "2019-08-10",
          "2019-08-11",
          "2019-08-12",
          "2019-08-13",
          "2019-08-14",
          "2019-08-15",
          "2019-08-16",
          "2019-08-17",
          "2019-08-18",
          "2019-08-19",
          "2019-08-20",
          "2019-08-21",
          "2019-08-22",
          "2019-08-23",
          "2019-08-24",
          "2019-08-25",
          "2019-08-26",
          "2019-08-27",
          "2019-08-28",
          "2019-08-29",
          "2019-08-30",
          "2019-08-31"
         ],
         "xaxis": "x",
         "y": {
          "bdata": "fjF7ethgoD8iR/xabG6fP92+snqXPKg/CYPVUnhrjz/I3CFzh8ydPwc9s9dKB5c/crgM+ORwmT9S/qFva4CXPwYiflCOQZI/j813w4/qoj+Fc/J0RGCPPxB+WRB+WaA/KhO2QXAqkz+Fn4rOMa+XP+Fu7HtETpA/hX33K3KHqT+E/VYbQ9ONPzx/i9Oa7ZM/RXRKdRdrpT8dgaKtBs+RP5lV3M7ps58/Rpoxyn/QkD8WXuEVXuGlP+dUFxTD2aA/349P2xxiij89GqMKSbGWPwRaysIFkKA/MW9nSMzbmT/IvtLleiueP4FRqsnjzpI/0NgQVm9whz8=",
          "dtype": "f8"
         },
         "yaxis": "y"
        },
        {
         "hovertemplate": "group=B<br>date=%{x}<br>conversion_rate=%{y}<extra></extra>",
         "legendgroup": "B",
         "line": {
          "color": "#EF553B",
          "dash": "solid"
         },
         "marker": {
          "symbol": "circle"
         },
         "mode": "lines",
         "name": "B",
         "orientation": "v",
         "showlegend": true,
         "type": "scatter",
         "x": [
          "2019-08-01",
          "2019-08-02",
          "2019-08-03",
          "2019-08-04",
          "2019-08-05",
          "2019-08-06",
          "2019-08-07",
          "2019-08-08",
          "2019-08-09",
          "2019-08-10",
          "2019-08-11",
          "2019-08-12",
          "2019-08-13",
          "2019-08-14",
          "2019-08-15",
          "2019-08-16",
          "2019-08-17",
          "2019-08-18",
          "2019-08-19",
          "2019-08-20",
          "2019-08-21",
          "2019-08-22",
          "2019-08-23",
          "2019-08-24",
          "2019-08-25",
          "2019-08-26",
          "2019-08-27",
          "2019-08-28",
          "2019-08-29",
          "2019-08-30",
          "2019-08-31"
         ],
         "xaxis": "x",
         "y": {
          "bdata": "uIdWF0dqmD8niM+VvESkP+GVDl8/Kpw/nhLkKUGekj/4RhSYdGqeP5tMBDuH+qE/Z3rJqvuboD+SE2FcJjmhP3BrgBck5Z8/Mcm+PZeGrj8C2nrGAQuRP11ltyVQ6qE//wH6Ecqhmj88CKStlzeTP3h4eHh4eKg/fsTfw5RQpj+iEec0tZ6fP1kA3z6rc4M/rF8msfkTpj+SJEmSJEmiP7sStStRu5I/d9W9Q6KKoD8YhmEYhmGYP2gvob2E9qI/ErALN+IYkj8441okqKmgP5/0SZ/0SY8/khNhXCY5oT9rlhifMu2cPxZf8RVf8aU/5+TpiMA+mD8=",
          "dtype": "f8"
         },
         "yaxis": "y"
        }
       ],
       "layout": {
        "legend": {
         "title": {
          "text": "group"
         },
         "tracegroupgap": 0
        },
        "template": {
         "data": {
          "bar": [
           {
            "error_x": {
             "color": "#2a3f5f"
            },
            "error_y": {
             "color": "#2a3f5f"
            },
            "marker": {
             "line": {
              "color": "#E5ECF6",
              "width": 0.5
             },
             "pattern": {
              "fillmode": "overlay",
              "size": 10,
              "solidity": 0.2
             }
            },
            "type": "bar"
           }
          ],
          "barpolar": [
           {
            "marker": {
             "line": {
              "color": "#E5ECF6",
              "width": 0.5
             },
             "pattern": {
              "fillmode": "overlay",
              "size": 10,
              "solidity": 0.2
             }
            },
            "type": "barpolar"
           }
          ],
          "carpet": [
           {
            "aaxis": {
             "endlinecolor": "#2a3f5f",
             "gridcolor": "white",
             "linecolor": "white",
             "minorgridcolor": "white",
             "startlinecolor": "#2a3f5f"
            },
            "baxis": {
             "endlinecolor": "#2a3f5f",
             "gridcolor": "white",
             "linecolor": "white",
             "minorgridcolor": "white",
             "startlinecolor": "#2a3f5f"
            },
            "type": "carpet"
           }
          ],
          "choropleth": [
           {
            "colorbar": {
             "outlinewidth": 0,
             "ticks": ""
            },
            "type": "choropleth"
           }
          ],
          "contour": [
           {
            "colorbar": {
             "outlinewidth": 0,
             "ticks": ""
            },
            "colorscale": [
             [
              0,
              "#0d0887"
             ],
             [
              0.1111111111111111,
              "#46039f"
             ],
             [
              0.2222222222222222,
              "#7201a8"
             ],
             [
              0.3333333333333333,
              "#9c179e"
             ],
             [
              0.4444444444444444,
              "#bd3786"
             ],
             [
              0.5555555555555556,
              "#d8576b"
             ],
             [
              0.6666666666666666,
              "#ed7953"
             ],
             [
              0.7777777777777778,
              "#fb9f3a"
             ],
             [
              0.8888888888888888,
              "#fdca26"
             ],
             [
              1,
              "#f0f921"
             ]
            ],
            "type": "contour"
           }
          ],
          "contourcarpet": [
           {
            "colorbar": {
             "outlinewidth": 0,
             "ticks": ""
            },
            "type": "contourcarpet"
           }
          ],
          "heatmap": [
           {
            "colorbar": {
             "outlinewidth": 0,
             "ticks": ""
            },
            "colorscale": [
             [
              0,
              "#0d0887"
             ],
             [
              0.1111111111111111,
              "#46039f"
             ],
             [
              0.2222222222222222,
              "#7201a8"
             ],
             [
              0.3333333333333333,
              "#9c179e"
             ],
             [
              0.4444444444444444,
              "#bd3786"
             ],
             [
              0.5555555555555556,
              "#d8576b"
             ],
             [
              0.6666666666666666,
              "#ed7953"
             ],
             [
              0.7777777777777778,
              "#fb9f3a"
             ],
             [
              0.8888888888888888,
              "#fdca26"
             ],
             [
              1,
              "#f0f921"
             ]
            ],
            "type": "heatmap"
           }
          ],
          "histogram": [
           {
            "marker": {
             "pattern": {
              "fillmode": "overlay",
              "size": 10,
              "solidity": 0.2
             }
            },
            "type": "histogram"
           }
          ],
          "histogram2d": [
           {
            "colorbar": {
             "outlinewidth": 0,
             "ticks": ""
            },
            "colorscale": [
             [
              0,
              "#0d0887"
             ],
             [
              0.1111111111111111,
              "#46039f"
             ],
             [
              0.2222222222222222,
              "#7201a8"
             ],
             [
              0.3333333333333333,
              "#9c179e"
             ],
             [
              0.4444444444444444,
              "#bd3786"
             ],
             [
              0.5555555555555556,
              "#d8576b"
             ],
             [
              0.6666666666666666,
              "#ed7953"
             ],
             [
              0.7777777777777778,
              "#fb9f3a"
             ],
             [
              0.8888888888888888,
              "#fdca26"
             ],
             [
              1,
              "#f0f921"
             ]
            ],
            "type": "histogram2d"
           }
          ],
          "histogram2dcontour": [
           {
            "colorbar": {
             "outlinewidth": 0,
             "ticks": ""
            },
            "colorscale": [
             [
              0,
              "#0d0887"
             ],
             [
              0.1111111111111111,
              "#46039f"
             ],
             [
              0.2222222222222222,
              "#7201a8"
             ],
             [
              0.3333333333333333,
              "#9c179e"
             ],
             [
              0.4444444444444444,
              "#bd3786"
             ],
             [
              0.5555555555555556,
              "#d8576b"
             ],
             [
              0.6666666666666666,
              "#ed7953"
             ],
             [
              0.7777777777777778,
              "#fb9f3a"
             ],
             [
              0.8888888888888888,
              "#fdca26"
             ],
             [
              1,
              "#f0f921"
             ]
            ],
            "type": "histogram2dcontour"
           }
          ],
          "mesh3d": [
           {
            "colorbar": {
             "outlinewidth": 0,
             "ticks": ""
            },
            "type": "mesh3d"
           }
          ],
          "parcoords": [
           {
            "line": {
             "colorbar": {
              "outlinewidth": 0,
              "ticks": ""
             }
            },
            "type": "parcoords"
           }
          ],
          "pie": [
           {
            "automargin": true,
            "type": "pie"
           }
          ],
          "scatter": [
           {
            "fillpattern": {
             "fillmode": "overlay",
             "size": 10,
             "solidity": 0.2
            },
            "type": "scatter"
           }
          ],
          "scatter3d": [
           {
            "line": {
             "colorbar": {
              "outlinewidth": 0,
              "ticks": ""
             }
            },
            "marker": {
             "colorbar": {
              "outlinewidth": 0,
              "ticks": ""
             }
            },
            "type": "scatter3d"
           }
          ],
          "scattercarpet": [
           {
            "marker": {
             "colorbar": {
              "outlinewidth": 0,
              "ticks": ""
             }
            },
            "type": "scattercarpet"
           }
          ],
          "scattergeo": [
           {
            "marker": {
             "colorbar": {
              "outlinewidth": 0,
              "ticks": ""
             }
            },
            "type": "scattergeo"
           }
          ],
          "scattergl": [
           {
            "marker": {
             "colorbar": {
              "outlinewidth": 0,
              "ticks": ""
             }
            },
            "type": "scattergl"
           }
          ],
          "scattermap": [
           {
            "marker": {
             "colorbar": {
              "outlinewidth": 0,
              "ticks": ""
             }
            },
            "type": "scattermap"
           }
          ],
          "scattermapbox": [
           {
            "marker": {
             "colorbar": {
              "outlinewidth": 0,
              "ticks": ""
             }
            },
            "type": "scattermapbox"
           }
          ],
          "scatterpolar": [
           {
            "marker": {
             "colorbar": {
              "outlinewidth": 0,
              "ticks": ""
             }
            },
            "type": "scatterpolar"
           }
          ],
          "scatterpolargl": [
           {
            "marker": {
             "colorbar": {
              "outlinewidth": 0,
              "ticks": ""
             }
            },
            "type": "scatterpolargl"
           }
          ],
          "scatterternary": [
           {
            "marker": {
             "colorbar": {
              "outlinewidth": 0,
              "ticks": ""
             }
            },
            "type": "scatterternary"
           }
          ],
          "surface": [
           {
            "colorbar": {
             "outlinewidth": 0,
             "ticks": ""
            },
            "colorscale": [
             [
              0,
              "#0d0887"
             ],
             [
              0.1111111111111111,
              "#46039f"
             ],
             [
              0.2222222222222222,
              "#7201a8"
             ],
             [
              0.3333333333333333,
              "#9c179e"
             ],
             [
              0.4444444444444444,
              "#bd3786"
             ],
             [
              0.5555555555555556,
              "#d8576b"
             ],
             [
              0.6666666666666666,
              "#ed7953"
             ],
             [
              0.7777777777777778,
              "#fb9f3a"
             ],
             [
              0.8888888888888888,
              "#fdca26"
             ],
             [
              1,
              "#f0f921"
             ]
            ],
            "type": "surface"
           }
          ],
          "table": [
           {
            "cells": {
             "fill": {
              "color": "#EBF0F8"
             },
             "line": {
              "color": "white"
             }
            },
            "header": {
             "fill": {
              "color": "#C8D4E3"
             },
             "line": {
              "color": "white"
             }
            },
            "type": "table"
           }
          ]
         },
         "layout": {
          "annotationdefaults": {
           "arrowcolor": "#2a3f5f",
           "arrowhead": 0,
           "arrowwidth": 1
          },
          "autotypenumbers": "strict",
          "coloraxis": {
           "colorbar": {
            "outlinewidth": 0,
            "ticks": ""
           }
          },
          "colorscale": {
           "diverging": [
            [
             0,
             "#8e0152"
            ],
            [
             0.1,
             "#c51b7d"
            ],
            [
             0.2,
             "#de77ae"
            ],
            [
             0.3,
             "#f1b6da"
            ],
            [
             0.4,
             "#fde0ef"
            ],
            [
             0.5,
             "#f7f7f7"
            ],
            [
             0.6,
             "#e6f5d0"
            ],
            [
             0.7,
             "#b8e186"
            ],
            [
             0.8,
             "#7fbc41"
            ],
            [
             0.9,
             "#4d9221"
            ],
            [
             1,
             "#276419"
            ]
           ],
           "sequential": [
            [
             0,
             "#0d0887"
            ],
            [
             0.1111111111111111,
             "#46039f"
            ],
            [
             0.2222222222222222,
             "#7201a8"
            ],
            [
             0.3333333333333333,
             "#9c179e"
            ],
            [
             0.4444444444444444,
             "#bd3786"
            ],
            [
             0.5555555555555556,
             "#d8576b"
            ],
            [
             0.6666666666666666,
             "#ed7953"
            ],
            [
             0.7777777777777778,
             "#fb9f3a"
            ],
            [
             0.8888888888888888,
             "#fdca26"
            ],
            [
             1,
             "#f0f921"
            ]
           ],
           "sequentialminus": [
            [
             0,
             "#0d0887"
            ],
            [
             0.1111111111111111,
             "#46039f"
            ],
            [
             0.2222222222222222,
             "#7201a8"
            ],
            [
             0.3333333333333333,
             "#9c179e"
            ],
            [
             0.4444444444444444,
             "#bd3786"
            ],
            [
             0.5555555555555556,
             "#d8576b"
            ],
            [
             0.6666666666666666,
             "#ed7953"
            ],
            [
             0.7777777777777778,
             "#fb9f3a"
            ],
            [
             0.8888888888888888,
             "#fdca26"
            ],
            [
             1,
             "#f0f921"
            ]
           ]
          },
          "colorway": [
           "#636efa",
           "#EF553B",
           "#00cc96",
           "#ab63fa",
           "#FFA15A",
           "#19d3f3",
           "#FF6692",
           "#B6E880",
           "#FF97FF",
           "#FECB52"
          ],
          "font": {
           "color": "#2a3f5f"
          },
          "geo": {
           "bgcolor": "white",
           "lakecolor": "white",
           "landcolor": "#E5ECF6",
           "showlakes": true,
           "showland": true,
           "subunitcolor": "white"
          },
          "hoverlabel": {
           "align": "left"
          },
          "hovermode": "closest",
          "mapbox": {
           "style": "light"
          },
          "paper_bgcolor": "white",
          "plot_bgcolor": "#E5ECF6",
          "polar": {
           "angularaxis": {
            "gridcolor": "white",
            "linecolor": "white",
            "ticks": ""
           },
           "bgcolor": "#E5ECF6",
           "radialaxis": {
            "gridcolor": "white",
            "linecolor": "white",
            "ticks": ""
           }
          },
          "scene": {
           "xaxis": {
            "backgroundcolor": "#E5ECF6",
            "gridcolor": "white",
            "gridwidth": 2,
            "linecolor": "white",
            "showbackground": true,
            "ticks": "",
            "zerolinecolor": "white"
           },
           "yaxis": {
            "backgroundcolor": "#E5ECF6",
            "gridcolor": "white",
            "gridwidth": 2,
            "linecolor": "white",
            "showbackground": true,
            "ticks": "",
            "zerolinecolor": "white"
           },
           "zaxis": {
            "backgroundcolor": "#E5ECF6",
            "gridcolor": "white",
            "gridwidth": 2,
            "linecolor": "white",
            "showbackground": true,
            "ticks": "",
            "zerolinecolor": "white"
           }
          },
          "shapedefaults": {
           "line": {
            "color": "#2a3f5f"
           }
          },
          "ternary": {
           "aaxis": {
            "gridcolor": "white",
            "linecolor": "white",
            "ticks": ""
           },
           "baxis": {
            "gridcolor": "white",
            "linecolor": "white",
            "ticks": ""
           },
           "bgcolor": "#E5ECF6",
           "caxis": {
            "gridcolor": "white",
            "linecolor": "white",
            "ticks": ""
           }
          },
          "title": {
           "x": 0.05
          },
          "xaxis": {
           "automargin": true,
           "gridcolor": "white",
           "linecolor": "white",
           "ticks": "",
           "title": {
            "standoff": 15
           },
           "zerolinecolor": "white",
           "zerolinewidth": 2
          },
          "yaxis": {
           "automargin": true,
           "gridcolor": "white",
           "linecolor": "white",
           "ticks": "",
           "title": {
            "standoff": 15
           },
           "zerolinecolor": "white",
           "zerolinewidth": 2
          }
         }
        },
        "title": {
         "text": "Daily Conversion Rate by Group"
        },
        "xaxis": {
         "anchor": "y",
         "domain": [
          0,
          1
         ],
         "dtick": "D1",
         "title": {
          "text": "date"
         }
        },
        "yaxis": {
         "anchor": "x",
         "domain": [
          0,
          1
         ],
         "tickformat": ".2%",
         "title": {
          "text": "conversion_rate"
         }
        }
       }
      }
     },
     "metadata": {},
     "output_type": "display_data"
    }
   ],
   "source": [
    "fig = px.line(df_daily_conversion_rate, x=\"date\", y=\"conversion_rate\", color=\"group\", title=\"Daily Conversion Rate by Group\")\n",
    "fig.update_yaxes(tickformat=\".2%\")\n",
    "fig.update_xaxes(dtick=\"D1\")\n",
    "fig.show()"
   ]
  },
  {
   "cell_type": "code",
   "execution_count": 43,
   "id": "282935bb",
   "metadata": {},
   "outputs": [
    {
     "data": {
      "application/vnd.plotly.v1+json": {
       "config": {
        "plotlyServerURL": "https://plot.ly"
       },
       "data": [
        {
         "hovertemplate": "<extra></extra>",
         "legendgroup": "",
         "line": {
          "color": "#636efa",
          "dash": "solid"
         },
         "marker": {
          "symbol": "circle"
         },
         "mode": "lines",
         "name": "",
         "orientation": "v",
         "showlegend": false,
         "type": "scatter",
         "xaxis": "x",
         "yaxis": "y"
        },
        {
         "mode": "lines",
         "name": "Group A",
         "type": "scatter",
         "x": {
          "bdata": "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",
          "dtype": "f8"
         },
         "y": {
          "bdata": "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",
          "dtype": "f8"
         }
        },
        {
         "mode": "lines",
         "name": "Group B",
         "type": "scatter",
         "x": {
          "bdata": "WQDfPqtzgz9d18IAufeDP2KupsLGe4Q/ZoWKhNT/hD9rXG5G4oOFP28zUgjwB4Y/dAo2yv2Lhj944RmMCxCHP3y4/U0ZlIc/gY/hDycYiD+FZsXRNJyIP4o9qZNCIIk/jhSNVVCkiT+S63AXXiiKP5fCVNlrrIo/m5k4m3kwiz+gcBxdh7SLP6RHAB+VOIw/qB7k4KK8jD+s9ceisECNP7HMq2S+xI0/tqOPJsxIjj+6enPo2cyOP75RV6rnUI8/wyg7bPXUjz/kfw+XgSyQP2ZrAXiIbpA/6FbzWI+wkD9qQuU5lvKQP+wt1xqdNJE/bhnJ+6N2kT/xBLvcqriRP3PwrL2x+pE/9duenrg8kj94x5B/v36SP/qygmDGwJI/fJ50Qc0Ckz/+iWYi1ESTP4B1WAPbhpM/AmFK5OHIkz+ETDzF6AqUPwc4LqbvTJQ/iSMgh/aOlD8LDxJo/dCUP476A0kEE5U/EOb1KQtVlT+S0ecKEpeVPxS92esY2ZU/lqjLzB8blj8YlL2tJl2WP5p/r44tn5Y/HWuhbzThlj+fVpNQOyOXPyJChTFCZZc/pC13Ekmnlz8mGWnzT+mXP6gEW9RWK5g/KvBMtV1tmD+s2z6WZK+YPy7HMHdr8Zg/sLIiWHIzmT8znhQ5eXWZP7WJBhqAt5k/OHX4+ob5mT+6YOrbjTuaPzxM3LyUfZo/vjfOnZu/mj9AI8B+ogGbP8IOsl+pQ5s/RPqjQLCFmz/G5ZUht8ebP0jRhwK+CZw/zLx548RLnD9OqGvEy42cP9CTXaXSz5w/Un9PhtkRnT/UakFn4FOdP1ZWM0jnlZ0/2EElKe7XnT9aLRcK9RmeP9wYCev7W54/XgT7ywKenj/i7+ysCeCeP2Tb3o0QIp8/5sbQbhdknz9ossJPHqafP+qdtDAl6J8/tkTTCBYVoD93Okx5GTagPzgwxekcV6A/+SU+WiB4oD+6G7fKI5mgP3wRMDsnuqA/PQepqyrboD/+/CEcLvygP7/ymowxHaE/gOgT/TQ+oT9B3oxtOF+hPwLUBd47gKE/w8l+Tj+hoT+Ev/e+QsKhP0a1cC9G46E/B6vpn0kEoj/IoGIQTSWiP4mW24BQRqI/SoxU8VNnoj8Lgs1hV4iiP8x3RtJaqaI/jW2/Ql7Koj9OYzizYeuiPw9ZsSNlDKM/0U4qlGgtoz+SRKMEbE6jP1M6HHVvb6M/FDCV5XKQoz/VJQ5WdrGjP5Ybh8Z50qM/VxEAN33zoz8YB3mngBSkP9n88ReENaQ/mvJqiIdWpD9c6OP4inekPx3eXGmOmKQ/3tPV2ZG5pD+fyU5KldqkP2C/x7qY+6Q/IbVAK5wcpT/iqrmbnz2lP6OgMgyjXqU/ZJarfKZ/pT8ljCTtqaClP+aBnV2twaU/p3cWzrDipT9pbY8+tAOmPypjCK+3JKY/61iBH7tFpj+sTvqPvmamP21EcwDCh6Y/LjrscMWopj/vL2XhyMmmP7Al3lHM6qY/cRtXws8Lpz8yEdAy0yynP/QGSaPWTac/tfzBE9pupz928jqE3Y+nPzfos/TgsKc/+N0sZeTRpz+506XV5/KnP3rJHkbrE6g/O7+Xtu40qD/8tBAn8lWoP72qiZf1dqg/f6ACCPmXqD9Alnt4/LioPwGM9Oj/2ag/woFtWQP7qD+Dd+bJBhypP0RtXzoKPak/BWPYqg1eqT/GWFEbEX+pP4dOyosUoKk/SERD/BfBqT8KOrxsG+KpP8svNd0eA6o/jCWuTSIkqj9NGye+JUWqPw4RoC4pZqo/zwYZnyyHqj+Q/JEPMKiqP1HyCoAzyao/EuiD8Dbqqj/T3fxgOgurP5XTddE9LKs/VsnuQUFNqz8Xv2eyRG6rP9i04CJIj6s/mapZk0uwqz9aoNIDT9GrPxuWS3RS8qs/3IvE5FUTrD+dgT1VWTSsP153tsVcVaw/IG0vNmB2rD/hYqimY5esP6JYIRdnuKw/Y06ah2rZrD8kRBP4bfqsP+U5jGhxG60/pi8F2XQ8rT9nJX5JeF2tPygb97l7fq0/6hBwKn+frT+rBumagsCtP2z8YQuG4a0/LfLae4kCrj/u51PsjCOuP6/dzFyQRK4/cNNFzZNlrj8xyb49l4auPw==",
          "dtype": "f8"
         },
         "y": {
          "bdata": "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",
          "dtype": "f8"
         }
        }
       ],
       "layout": {
        "legend": {
         "tracegroupgap": 0
        },
        "template": {
         "data": {
          "bar": [
           {
            "error_x": {
             "color": "#2a3f5f"
            },
            "error_y": {
             "color": "#2a3f5f"
            },
            "marker": {
             "line": {
              "color": "#E5ECF6",
              "width": 0.5
             },
             "pattern": {
              "fillmode": "overlay",
              "size": 10,
              "solidity": 0.2
             }
            },
            "type": "bar"
           }
          ],
          "barpolar": [
           {
            "marker": {
             "line": {
              "color": "#E5ECF6",
              "width": 0.5
             },
             "pattern": {
              "fillmode": "overlay",
              "size": 10,
              "solidity": 0.2
             }
            },
            "type": "barpolar"
           }
          ],
          "carpet": [
           {
            "aaxis": {
             "endlinecolor": "#2a3f5f",
             "gridcolor": "white",
             "linecolor": "white",
             "minorgridcolor": "white",
             "startlinecolor": "#2a3f5f"
            },
            "baxis": {
             "endlinecolor": "#2a3f5f",
             "gridcolor": "white",
             "linecolor": "white",
             "minorgridcolor": "white",
             "startlinecolor": "#2a3f5f"
            },
            "type": "carpet"
           }
          ],
          "choropleth": [
           {
            "colorbar": {
             "outlinewidth": 0,
             "ticks": ""
            },
            "type": "choropleth"
           }
          ],
          "contour": [
           {
            "colorbar": {
             "outlinewidth": 0,
             "ticks": ""
            },
            "colorscale": [
             [
              0,
              "#0d0887"
             ],
             [
              0.1111111111111111,
              "#46039f"
             ],
             [
              0.2222222222222222,
              "#7201a8"
             ],
             [
              0.3333333333333333,
              "#9c179e"
             ],
             [
              0.4444444444444444,
              "#bd3786"
             ],
             [
              0.5555555555555556,
              "#d8576b"
             ],
             [
              0.6666666666666666,
              "#ed7953"
             ],
             [
              0.7777777777777778,
              "#fb9f3a"
             ],
             [
              0.8888888888888888,
              "#fdca26"
             ],
             [
              1,
              "#f0f921"
             ]
            ],
            "type": "contour"
           }
          ],
          "contourcarpet": [
           {
            "colorbar": {
             "outlinewidth": 0,
             "ticks": ""
            },
            "type": "contourcarpet"
           }
          ],
          "heatmap": [
           {
            "colorbar": {
             "outlinewidth": 0,
             "ticks": ""
            },
            "colorscale": [
             [
              0,
              "#0d0887"
             ],
             [
              0.1111111111111111,
              "#46039f"
             ],
             [
              0.2222222222222222,
              "#7201a8"
             ],
             [
              0.3333333333333333,
              "#9c179e"
             ],
             [
              0.4444444444444444,
              "#bd3786"
             ],
             [
              0.5555555555555556,
              "#d8576b"
             ],
             [
              0.6666666666666666,
              "#ed7953"
             ],
             [
              0.7777777777777778,
              "#fb9f3a"
             ],
             [
              0.8888888888888888,
              "#fdca26"
             ],
             [
              1,
              "#f0f921"
             ]
            ],
            "type": "heatmap"
           }
          ],
          "histogram": [
           {
            "marker": {
             "pattern": {
              "fillmode": "overlay",
              "size": 10,
              "solidity": 0.2
             }
            },
            "type": "histogram"
           }
          ],
          "histogram2d": [
           {
            "colorbar": {
             "outlinewidth": 0,
             "ticks": ""
            },
            "colorscale": [
             [
              0,
              "#0d0887"
             ],
             [
              0.1111111111111111,
              "#46039f"
             ],
             [
              0.2222222222222222,
              "#7201a8"
             ],
             [
              0.3333333333333333,
              "#9c179e"
             ],
             [
              0.4444444444444444,
              "#bd3786"
             ],
             [
              0.5555555555555556,
              "#d8576b"
             ],
             [
              0.6666666666666666,
              "#ed7953"
             ],
             [
              0.7777777777777778,
              "#fb9f3a"
             ],
             [
              0.8888888888888888,
              "#fdca26"
             ],
             [
              1,
              "#f0f921"
             ]
            ],
            "type": "histogram2d"
           }
          ],
          "histogram2dcontour": [
           {
            "colorbar": {
             "outlinewidth": 0,
             "ticks": ""
            },
            "colorscale": [
             [
              0,
              "#0d0887"
             ],
             [
              0.1111111111111111,
              "#46039f"
             ],
             [
              0.2222222222222222,
              "#7201a8"
             ],
             [
              0.3333333333333333,
              "#9c179e"
             ],
             [
              0.4444444444444444,
              "#bd3786"
             ],
             [
              0.5555555555555556,
              "#d8576b"
             ],
             [
              0.6666666666666666,
              "#ed7953"
             ],
             [
              0.7777777777777778,
              "#fb9f3a"
             ],
             [
              0.8888888888888888,
              "#fdca26"
             ],
             [
              1,
              "#f0f921"
             ]
            ],
            "type": "histogram2dcontour"
           }
          ],
          "mesh3d": [
           {
            "colorbar": {
             "outlinewidth": 0,
             "ticks": ""
            },
            "type": "mesh3d"
           }
          ],
          "parcoords": [
           {
            "line": {
             "colorbar": {
              "outlinewidth": 0,
              "ticks": ""
             }
            },
            "type": "parcoords"
           }
          ],
          "pie": [
           {
            "automargin": true,
            "type": "pie"
           }
          ],
          "scatter": [
           {
            "fillpattern": {
             "fillmode": "overlay",
             "size": 10,
             "solidity": 0.2
            },
            "type": "scatter"
           }
          ],
          "scatter3d": [
           {
            "line": {
             "colorbar": {
              "outlinewidth": 0,
              "ticks": ""
             }
            },
            "marker": {
             "colorbar": {
              "outlinewidth": 0,
              "ticks": ""
             }
            },
            "type": "scatter3d"
           }
          ],
          "scattercarpet": [
           {
            "marker": {
             "colorbar": {
              "outlinewidth": 0,
              "ticks": ""
             }
            },
            "type": "scattercarpet"
           }
          ],
          "scattergeo": [
           {
            "marker": {
             "colorbar": {
              "outlinewidth": 0,
              "ticks": ""
             }
            },
            "type": "scattergeo"
           }
          ],
          "scattergl": [
           {
            "marker": {
             "colorbar": {
              "outlinewidth": 0,
              "ticks": ""
             }
            },
            "type": "scattergl"
           }
          ],
          "scattermap": [
           {
            "marker": {
             "colorbar": {
              "outlinewidth": 0,
              "ticks": ""
             }
            },
            "type": "scattermap"
           }
          ],
          "scattermapbox": [
           {
            "marker": {
             "colorbar": {
              "outlinewidth": 0,
              "ticks": ""
             }
            },
            "type": "scattermapbox"
           }
          ],
          "scatterpolar": [
           {
            "marker": {
             "colorbar": {
              "outlinewidth": 0,
              "ticks": ""
             }
            },
            "type": "scatterpolar"
           }
          ],
          "scatterpolargl": [
           {
            "marker": {
             "colorbar": {
              "outlinewidth": 0,
              "ticks": ""
             }
            },
            "type": "scatterpolargl"
           }
          ],
          "scatterternary": [
           {
            "marker": {
             "colorbar": {
              "outlinewidth": 0,
              "ticks": ""
             }
            },
            "type": "scatterternary"
           }
          ],
          "surface": [
           {
            "colorbar": {
             "outlinewidth": 0,
             "ticks": ""
            },
            "colorscale": [
             [
              0,
              "#0d0887"
             ],
             [
              0.1111111111111111,
              "#46039f"
             ],
             [
              0.2222222222222222,
              "#7201a8"
             ],
             [
              0.3333333333333333,
              "#9c179e"
             ],
             [
              0.4444444444444444,
              "#bd3786"
             ],
             [
              0.5555555555555556,
              "#d8576b"
             ],
             [
              0.6666666666666666,
              "#ed7953"
             ],
             [
              0.7777777777777778,
              "#fb9f3a"
             ],
             [
              0.8888888888888888,
              "#fdca26"
             ],
             [
              1,
              "#f0f921"
             ]
            ],
            "type": "surface"
           }
          ],
          "table": [
           {
            "cells": {
             "fill": {
              "color": "#EBF0F8"
             },
             "line": {
              "color": "white"
             }
            },
            "header": {
             "fill": {
              "color": "#C8D4E3"
             },
             "line": {
              "color": "white"
             }
            },
            "type": "table"
           }
          ]
         },
         "layout": {
          "annotationdefaults": {
           "arrowcolor": "#2a3f5f",
           "arrowhead": 0,
           "arrowwidth": 1
          },
          "autotypenumbers": "strict",
          "coloraxis": {
           "colorbar": {
            "outlinewidth": 0,
            "ticks": ""
           }
          },
          "colorscale": {
           "diverging": [
            [
             0,
             "#8e0152"
            ],
            [
             0.1,
             "#c51b7d"
            ],
            [
             0.2,
             "#de77ae"
            ],
            [
             0.3,
             "#f1b6da"
            ],
            [
             0.4,
             "#fde0ef"
            ],
            [
             0.5,
             "#f7f7f7"
            ],
            [
             0.6,
             "#e6f5d0"
            ],
            [
             0.7,
             "#b8e186"
            ],
            [
             0.8,
             "#7fbc41"
            ],
            [
             0.9,
             "#4d9221"
            ],
            [
             1,
             "#276419"
            ]
           ],
           "sequential": [
            [
             0,
             "#0d0887"
            ],
            [
             0.1111111111111111,
             "#46039f"
            ],
            [
             0.2222222222222222,
             "#7201a8"
            ],
            [
             0.3333333333333333,
             "#9c179e"
            ],
            [
             0.4444444444444444,
             "#bd3786"
            ],
            [
             0.5555555555555556,
             "#d8576b"
            ],
            [
             0.6666666666666666,
             "#ed7953"
            ],
            [
             0.7777777777777778,
             "#fb9f3a"
            ],
            [
             0.8888888888888888,
             "#fdca26"
            ],
            [
             1,
             "#f0f921"
            ]
           ],
           "sequentialminus": [
            [
             0,
             "#0d0887"
            ],
            [
             0.1111111111111111,
             "#46039f"
            ],
            [
             0.2222222222222222,
             "#7201a8"
            ],
            [
             0.3333333333333333,
             "#9c179e"
            ],
            [
             0.4444444444444444,
             "#bd3786"
            ],
            [
             0.5555555555555556,
             "#d8576b"
            ],
            [
             0.6666666666666666,
             "#ed7953"
            ],
            [
             0.7777777777777778,
             "#fb9f3a"
            ],
            [
             0.8888888888888888,
             "#fdca26"
            ],
            [
             1,
             "#f0f921"
            ]
           ]
          },
          "colorway": [
           "#636efa",
           "#EF553B",
           "#00cc96",
           "#ab63fa",
           "#FFA15A",
           "#19d3f3",
           "#FF6692",
           "#B6E880",
           "#FF97FF",
           "#FECB52"
          ],
          "font": {
           "color": "#2a3f5f"
          },
          "geo": {
           "bgcolor": "white",
           "lakecolor": "white",
           "landcolor": "#E5ECF6",
           "showlakes": true,
           "showland": true,
           "subunitcolor": "white"
          },
          "hoverlabel": {
           "align": "left"
          },
          "hovermode": "closest",
          "mapbox": {
           "style": "light"
          },
          "paper_bgcolor": "white",
          "plot_bgcolor": "#E5ECF6",
          "polar": {
           "angularaxis": {
            "gridcolor": "white",
            "linecolor": "white",
            "ticks": ""
           },
           "bgcolor": "#E5ECF6",
           "radialaxis": {
            "gridcolor": "white",
            "linecolor": "white",
            "ticks": ""
           }
          },
          "scene": {
           "xaxis": {
            "backgroundcolor": "#E5ECF6",
            "gridcolor": "white",
            "gridwidth": 2,
            "linecolor": "white",
            "showbackground": true,
            "ticks": "",
            "zerolinecolor": "white"
           },
           "yaxis": {
            "backgroundcolor": "#E5ECF6",
            "gridcolor": "white",
            "gridwidth": 2,
            "linecolor": "white",
            "showbackground": true,
            "ticks": "",
            "zerolinecolor": "white"
           },
           "zaxis": {
            "backgroundcolor": "#E5ECF6",
            "gridcolor": "white",
            "gridwidth": 2,
            "linecolor": "white",
            "showbackground": true,
            "ticks": "",
            "zerolinecolor": "white"
           }
          },
          "shapedefaults": {
           "line": {
            "color": "#2a3f5f"
           }
          },
          "ternary": {
           "aaxis": {
            "gridcolor": "white",
            "linecolor": "white",
            "ticks": ""
           },
           "baxis": {
            "gridcolor": "white",
            "linecolor": "white",
            "ticks": ""
           },
           "bgcolor": "#E5ECF6",
           "caxis": {
            "gridcolor": "white",
            "linecolor": "white",
            "ticks": ""
           }
          },
          "title": {
           "x": 0.05
          },
          "xaxis": {
           "automargin": true,
           "gridcolor": "white",
           "linecolor": "white",
           "ticks": "",
           "title": {
            "standoff": 15
           },
           "zerolinecolor": "white",
           "zerolinewidth": 2
          },
          "yaxis": {
           "automargin": true,
           "gridcolor": "white",
           "linecolor": "white",
           "ticks": "",
           "title": {
            "standoff": 15
           },
           "zerolinecolor": "white",
           "zerolinewidth": 2
          }
         }
        },
        "title": {
         "text": "KDE of Conversion Rate by Group"
        },
        "xaxis": {
         "anchor": "y",
         "domain": [
          0,
          1
         ],
         "title": {
          "text": "Conversion Rate"
         }
        },
        "yaxis": {
         "anchor": "x",
         "domain": [
          0,
          1
         ],
         "title": {
          "text": "Density"
         }
        }
       }
      }
     },
     "metadata": {},
     "output_type": "display_data"
    }
   ],
   "source": [
    "fig = px.line(title=\"KDE of Conversion Rate by Group\")\n",
    "\n",
    "for g in df_daily_conversion_rate[\"group\"].unique():\n",
    "    data = df_daily_conversion_rate.loc[df_daily_conversion_rate[\"group\"] == g, \"conversion_rate\"].dropna()\n",
    "    \n",
    "    # Estimar densidad KDE\n",
    "    kde = gaussian_kde(data)\n",
    "    x_range = np.linspace(data.min(), data.max(), 200)\n",
    "    y_kde = kde(x_range)\n",
    "    \n",
    "    # Añadir curva al gráfico\n",
    "    fig.add_scatter(x=x_range, y=y_kde, mode=\"lines\", name=f\"Group {g}\")\n",
    "\n",
    "fig.update_layout(xaxis_title=\"Conversion Rate\", yaxis_title=\"Density\")\n",
    "\n",
    "fig.show()"
   ]
  },
  {
   "cell_type": "code",
   "execution_count": 44,
   "id": "88799e12",
   "metadata": {},
   "outputs": [
    {
     "data": {
      "application/vnd.microsoft.datawrangler.viewer.v0+json": {
       "columns": [
        {
         "name": "('date', 'group')",
         "rawType": "object",
         "type": "unknown"
        },
        {
         "name": "visits",
         "rawType": "int64",
         "type": "integer"
        }
       ],
       "ref": "5a025005-d26e-4123-bc87-9f51df6bd8a1",
       "rows": [
        [
         "(datetime.date(2019, 8, 1), 'A')",
         "719"
        ],
        [
         "(datetime.date(2019, 8, 1), 'B')",
         "713"
        ],
        [
         "(datetime.date(2019, 8, 2), 'A')",
         "619"
        ],
        [
         "(datetime.date(2019, 8, 2), 'B')",
         "581"
        ],
        [
         "(datetime.date(2019, 8, 3), 'A')",
         "507"
        ],
        [
         "(datetime.date(2019, 8, 3), 'B')",
         "509"
        ],
        [
         "(datetime.date(2019, 8, 4), 'A')",
         "717"
        ],
        [
         "(datetime.date(2019, 8, 4), 'B')",
         "770"
        ],
        [
         "(datetime.date(2019, 8, 5), 'A')",
         "756"
        ],
        [
         "(datetime.date(2019, 8, 5), 'B')",
         "707"
        ],
        [
         "(datetime.date(2019, 8, 6), 'A')",
         "667"
        ],
        [
         "(datetime.date(2019, 8, 6), 'B')",
         "655"
        ],
        [
         "(datetime.date(2019, 8, 7), 'A')",
         "644"
        ],
        [
         "(datetime.date(2019, 8, 7), 'B')",
         "709"
        ],
        [
         "(datetime.date(2019, 8, 8), 'A')",
         "610"
        ],
        [
         "(datetime.date(2019, 8, 8), 'B')",
         "654"
        ],
        [
         "(datetime.date(2019, 8, 9), 'A')",
         "617"
        ],
        [
         "(datetime.date(2019, 8, 9), 'B')",
         "610"
        ],
        [
         "(datetime.date(2019, 8, 10), 'A')",
         "406"
        ],
        [
         "(datetime.date(2019, 8, 10), 'B')",
         "369"
        ],
        [
         "(datetime.date(2019, 8, 11), 'A')",
         "718"
        ],
        [
         "(datetime.date(2019, 8, 11), 'B')",
         "721"
        ],
        [
         "(datetime.date(2019, 8, 12), 'A')",
         "595"
        ],
        [
         "(datetime.date(2019, 8, 12), 'B')",
         "543"
        ],
        [
         "(datetime.date(2019, 8, 13), 'A')",
         "748"
        ],
        [
         "(datetime.date(2019, 8, 13), 'B')",
         "769"
        ],
        [
         "(datetime.date(2019, 8, 14), 'A')",
         "735"
        ],
        [
         "(datetime.date(2019, 8, 14), 'B')",
         "746"
        ],
        [
         "(datetime.date(2019, 8, 15), 'A')",
         "628"
        ],
        [
         "(datetime.date(2019, 8, 15), 'B')",
         "544"
        ],
        [
         "(datetime.date(2019, 8, 16), 'A')",
         "361"
        ],
        [
         "(datetime.date(2019, 8, 16), 'B')",
         "413"
        ],
        [
         "(datetime.date(2019, 8, 17), 'A')",
         "412"
        ],
        [
         "(datetime.date(2019, 8, 17), 'B')",
         "421"
        ],
        [
         "(datetime.date(2019, 8, 18), 'A')",
         "668"
        ],
        [
         "(datetime.date(2019, 8, 18), 'B')",
         "737"
        ],
        [
         "(datetime.date(2019, 8, 19), 'A')",
         "502"
        ],
        [
         "(datetime.date(2019, 8, 19), 'B')",
         "487"
        ],
        [
         "(datetime.date(2019, 8, 20), 'A')",
         "575"
        ],
        [
         "(datetime.date(2019, 8, 20), 'B')",
         "560"
        ],
        [
         "(datetime.date(2019, 8, 21), 'A')",
         "646"
        ],
        [
         "(datetime.date(2019, 8, 21), 'B')",
         "656"
        ],
        [
         "(datetime.date(2019, 8, 22), 'A')",
         "609"
        ],
        [
         "(datetime.date(2019, 8, 22), 'B')",
         "650"
        ],
        [
         "(datetime.date(2019, 8, 23), 'A')",
         "468"
        ],
        [
         "(datetime.date(2019, 8, 23), 'B')",
         "546"
        ],
        [
         "(datetime.date(2019, 8, 24), 'A')",
         "395"
        ],
        [
         "(datetime.date(2019, 8, 24), 'B')",
         "378"
        ],
        [
         "(datetime.date(2019, 8, 25), 'A')",
         "621"
        ],
        [
         "(datetime.date(2019, 8, 25), 'B')",
         "679"
        ]
       ],
       "shape": {
        "columns": 1,
        "rows": 62
       }
      },
      "text/html": [
       "<div>\n",
       "<style scoped>\n",
       "    .dataframe tbody tr th:only-of-type {\n",
       "        vertical-align: middle;\n",
       "    }\n",
       "\n",
       "    .dataframe tbody tr th {\n",
       "        vertical-align: top;\n",
       "    }\n",
       "\n",
       "    .dataframe thead th {\n",
       "        text-align: right;\n",
       "    }\n",
       "</style>\n",
       "<table border=\"1\" class=\"dataframe\">\n",
       "  <thead>\n",
       "    <tr style=\"text-align: right;\">\n",
       "      <th></th>\n",
       "      <th></th>\n",
       "      <th>visits</th>\n",
       "    </tr>\n",
       "    <tr>\n",
       "      <th>date</th>\n",
       "      <th>group</th>\n",
       "      <th></th>\n",
       "    </tr>\n",
       "  </thead>\n",
       "  <tbody>\n",
       "    <tr>\n",
       "      <th rowspan=\"2\" valign=\"top\">2019-08-01</th>\n",
       "      <th>A</th>\n",
       "      <td>719</td>\n",
       "    </tr>\n",
       "    <tr>\n",
       "      <th>B</th>\n",
       "      <td>713</td>\n",
       "    </tr>\n",
       "    <tr>\n",
       "      <th rowspan=\"2\" valign=\"top\">2019-08-02</th>\n",
       "      <th>A</th>\n",
       "      <td>619</td>\n",
       "    </tr>\n",
       "    <tr>\n",
       "      <th>B</th>\n",
       "      <td>581</td>\n",
       "    </tr>\n",
       "    <tr>\n",
       "      <th>2019-08-03</th>\n",
       "      <th>A</th>\n",
       "      <td>507</td>\n",
       "    </tr>\n",
       "    <tr>\n",
       "      <th>...</th>\n",
       "      <th>...</th>\n",
       "      <td>...</td>\n",
       "    </tr>\n",
       "    <tr>\n",
       "      <th>2019-08-29</th>\n",
       "      <th>B</th>\n",
       "      <td>531</td>\n",
       "    </tr>\n",
       "    <tr>\n",
       "      <th rowspan=\"2\" valign=\"top\">2019-08-30</th>\n",
       "      <th>A</th>\n",
       "      <td>490</td>\n",
       "    </tr>\n",
       "    <tr>\n",
       "      <th>B</th>\n",
       "      <td>490</td>\n",
       "    </tr>\n",
       "    <tr>\n",
       "      <th rowspan=\"2\" valign=\"top\">2019-08-31</th>\n",
       "      <th>A</th>\n",
       "      <td>699</td>\n",
       "    </tr>\n",
       "    <tr>\n",
       "      <th>B</th>\n",
       "      <td>718</td>\n",
       "    </tr>\n",
       "  </tbody>\n",
       "</table>\n",
       "<p>62 rows × 1 columns</p>\n",
       "</div>"
      ],
      "text/plain": [
       "                  visits\n",
       "date       group        \n",
       "2019-08-01 A         719\n",
       "           B         713\n",
       "2019-08-02 A         619\n",
       "           B         581\n",
       "2019-08-03 A         507\n",
       "...                  ...\n",
       "2019-08-29 B         531\n",
       "2019-08-30 A         490\n",
       "           B         490\n",
       "2019-08-31 A         699\n",
       "           B         718\n",
       "\n",
       "[62 rows x 1 columns]"
      ]
     },
     "execution_count": 44,
     "metadata": {},
     "output_type": "execute_result"
    }
   ],
   "source": [
    "cumulative_visits = df_visits.groupby(['date', 'group'], observed=False).agg(visits=('visits', 'sum'))\n",
    "cumulative_visits"
   ]
  },
  {
   "cell_type": "code",
   "execution_count": 45,
   "id": "4468ec2d",
   "metadata": {},
   "outputs": [
    {
     "data": {
      "application/vnd.microsoft.datawrangler.viewer.v0+json": {
       "columns": [
        {
         "name": "index",
         "rawType": "int64",
         "type": "integer"
        },
        {
         "name": "date",
         "rawType": "object",
         "type": "unknown"
        },
        {
         "name": "group",
         "rawType": "category",
         "type": "unknown"
        },
        {
         "name": "visits",
         "rawType": "int64",
         "type": "integer"
        }
       ],
       "ref": "2ec84b54-fa32-4d90-84db-17c09ddb733e",
       "rows": [
        [
         "0",
         "2019-08-01",
         "A",
         "719"
        ],
        [
         "1",
         "2019-08-01",
         "B",
         "713"
        ],
        [
         "2",
         "2019-08-02",
         "A",
         "1338"
        ],
        [
         "3",
         "2019-08-02",
         "B",
         "1294"
        ],
        [
         "4",
         "2019-08-03",
         "A",
         "1845"
        ],
        [
         "5",
         "2019-08-03",
         "B",
         "1803"
        ],
        [
         "6",
         "2019-08-04",
         "A",
         "2562"
        ],
        [
         "7",
         "2019-08-04",
         "B",
         "2573"
        ],
        [
         "8",
         "2019-08-05",
         "A",
         "3318"
        ],
        [
         "9",
         "2019-08-05",
         "B",
         "3280"
        ],
        [
         "10",
         "2019-08-06",
         "A",
         "3985"
        ],
        [
         "11",
         "2019-08-06",
         "B",
         "3935"
        ],
        [
         "12",
         "2019-08-07",
         "A",
         "4629"
        ],
        [
         "13",
         "2019-08-07",
         "B",
         "4644"
        ],
        [
         "14",
         "2019-08-08",
         "A",
         "5239"
        ],
        [
         "15",
         "2019-08-08",
         "B",
         "5298"
        ],
        [
         "16",
         "2019-08-09",
         "A",
         "5856"
        ],
        [
         "17",
         "2019-08-09",
         "B",
         "5908"
        ],
        [
         "18",
         "2019-08-10",
         "A",
         "6262"
        ],
        [
         "19",
         "2019-08-10",
         "B",
         "6277"
        ],
        [
         "20",
         "2019-08-11",
         "A",
         "6980"
        ],
        [
         "21",
         "2019-08-11",
         "B",
         "6998"
        ],
        [
         "22",
         "2019-08-12",
         "A",
         "7575"
        ],
        [
         "23",
         "2019-08-12",
         "B",
         "7541"
        ],
        [
         "24",
         "2019-08-13",
         "A",
         "8323"
        ],
        [
         "25",
         "2019-08-13",
         "B",
         "8310"
        ],
        [
         "26",
         "2019-08-14",
         "A",
         "9058"
        ],
        [
         "27",
         "2019-08-14",
         "B",
         "9056"
        ],
        [
         "28",
         "2019-08-15",
         "A",
         "9686"
        ],
        [
         "29",
         "2019-08-15",
         "B",
         "9600"
        ],
        [
         "30",
         "2019-08-16",
         "A",
         "10047"
        ],
        [
         "31",
         "2019-08-16",
         "B",
         "10013"
        ],
        [
         "32",
         "2019-08-17",
         "A",
         "10459"
        ],
        [
         "33",
         "2019-08-17",
         "B",
         "10434"
        ],
        [
         "34",
         "2019-08-18",
         "A",
         "11127"
        ],
        [
         "35",
         "2019-08-18",
         "B",
         "11171"
        ],
        [
         "36",
         "2019-08-19",
         "A",
         "11629"
        ],
        [
         "37",
         "2019-08-19",
         "B",
         "11658"
        ],
        [
         "38",
         "2019-08-20",
         "A",
         "12204"
        ],
        [
         "39",
         "2019-08-20",
         "B",
         "12218"
        ],
        [
         "40",
         "2019-08-21",
         "A",
         "12850"
        ],
        [
         "41",
         "2019-08-21",
         "B",
         "12874"
        ],
        [
         "42",
         "2019-08-22",
         "A",
         "13459"
        ],
        [
         "43",
         "2019-08-22",
         "B",
         "13524"
        ],
        [
         "44",
         "2019-08-23",
         "A",
         "13927"
        ],
        [
         "45",
         "2019-08-23",
         "B",
         "14070"
        ],
        [
         "46",
         "2019-08-24",
         "A",
         "14322"
        ],
        [
         "47",
         "2019-08-24",
         "B",
         "14448"
        ],
        [
         "48",
         "2019-08-25",
         "A",
         "14943"
        ],
        [
         "49",
         "2019-08-25",
         "B",
         "15127"
        ]
       ],
       "shape": {
        "columns": 3,
        "rows": 62
       }
      },
      "text/html": [
       "<div>\n",
       "<style scoped>\n",
       "    .dataframe tbody tr th:only-of-type {\n",
       "        vertical-align: middle;\n",
       "    }\n",
       "\n",
       "    .dataframe tbody tr th {\n",
       "        vertical-align: top;\n",
       "    }\n",
       "\n",
       "    .dataframe thead th {\n",
       "        text-align: right;\n",
       "    }\n",
       "</style>\n",
       "<table border=\"1\" class=\"dataframe\">\n",
       "  <thead>\n",
       "    <tr style=\"text-align: right;\">\n",
       "      <th></th>\n",
       "      <th>date</th>\n",
       "      <th>group</th>\n",
       "      <th>visits</th>\n",
       "    </tr>\n",
       "  </thead>\n",
       "  <tbody>\n",
       "    <tr>\n",
       "      <th>0</th>\n",
       "      <td>2019-08-01</td>\n",
       "      <td>A</td>\n",
       "      <td>719</td>\n",
       "    </tr>\n",
       "    <tr>\n",
       "      <th>1</th>\n",
       "      <td>2019-08-01</td>\n",
       "      <td>B</td>\n",
       "      <td>713</td>\n",
       "    </tr>\n",
       "    <tr>\n",
       "      <th>2</th>\n",
       "      <td>2019-08-02</td>\n",
       "      <td>A</td>\n",
       "      <td>1338</td>\n",
       "    </tr>\n",
       "    <tr>\n",
       "      <th>3</th>\n",
       "      <td>2019-08-02</td>\n",
       "      <td>B</td>\n",
       "      <td>1294</td>\n",
       "    </tr>\n",
       "    <tr>\n",
       "      <th>4</th>\n",
       "      <td>2019-08-03</td>\n",
       "      <td>A</td>\n",
       "      <td>1845</td>\n",
       "    </tr>\n",
       "    <tr>\n",
       "      <th>...</th>\n",
       "      <td>...</td>\n",
       "      <td>...</td>\n",
       "      <td>...</td>\n",
       "    </tr>\n",
       "    <tr>\n",
       "      <th>57</th>\n",
       "      <td>2019-08-29</td>\n",
       "      <td>B</td>\n",
       "      <td>17708</td>\n",
       "    </tr>\n",
       "    <tr>\n",
       "      <th>58</th>\n",
       "      <td>2019-08-30</td>\n",
       "      <td>A</td>\n",
       "      <td>18037</td>\n",
       "    </tr>\n",
       "    <tr>\n",
       "      <th>59</th>\n",
       "      <td>2019-08-30</td>\n",
       "      <td>B</td>\n",
       "      <td>18198</td>\n",
       "    </tr>\n",
       "    <tr>\n",
       "      <th>60</th>\n",
       "      <td>2019-08-31</td>\n",
       "      <td>A</td>\n",
       "      <td>18736</td>\n",
       "    </tr>\n",
       "    <tr>\n",
       "      <th>61</th>\n",
       "      <td>2019-08-31</td>\n",
       "      <td>B</td>\n",
       "      <td>18916</td>\n",
       "    </tr>\n",
       "  </tbody>\n",
       "</table>\n",
       "<p>62 rows × 3 columns</p>\n",
       "</div>"
      ],
      "text/plain": [
       "          date group  visits\n",
       "0   2019-08-01     A     719\n",
       "1   2019-08-01     B     713\n",
       "2   2019-08-02     A    1338\n",
       "3   2019-08-02     B    1294\n",
       "4   2019-08-03     A    1845\n",
       "..         ...   ...     ...\n",
       "57  2019-08-29     B   17708\n",
       "58  2019-08-30     A   18037\n",
       "59  2019-08-30     B   18198\n",
       "60  2019-08-31     A   18736\n",
       "61  2019-08-31     B   18916\n",
       "\n",
       "[62 rows x 3 columns]"
      ]
     },
     "execution_count": 45,
     "metadata": {},
     "output_type": "execute_result"
    }
   ],
   "source": [
    "cumulative_visits = cumulative_visits.groupby('group', observed=False).cumsum().reset_index()\n",
    "cumulative_visits"
   ]
  },
  {
   "cell_type": "code",
   "execution_count": 46,
   "id": "e7addb78",
   "metadata": {},
   "outputs": [
    {
     "data": {
      "application/vnd.microsoft.datawrangler.viewer.v0+json": {
       "columns": [
        {
         "name": "index",
         "rawType": "int64",
         "type": "integer"
        },
        {
         "name": "date",
         "rawType": "object",
         "type": "unknown"
        },
        {
         "name": "group",
         "rawType": "category",
         "type": "unknown"
        },
        {
         "name": "visits",
         "rawType": "int64",
         "type": "integer"
        }
       ],
       "ref": "dacbdb22-c5ec-4a86-b0f2-a240ff707dbf",
       "rows": [
        [
         "0",
         "2019-08-01",
         "A",
         "719"
        ],
        [
         "1",
         "2019-08-01",
         "B",
         "713"
        ],
        [
         "2",
         "2019-08-02",
         "A",
         "1338"
        ],
        [
         "3",
         "2019-08-02",
         "B",
         "1294"
        ],
        [
         "4",
         "2019-08-03",
         "A",
         "1845"
        ],
        [
         "5",
         "2019-08-03",
         "B",
         "1803"
        ],
        [
         "6",
         "2019-08-04",
         "A",
         "2562"
        ],
        [
         "7",
         "2019-08-04",
         "B",
         "2573"
        ],
        [
         "8",
         "2019-08-05",
         "A",
         "3318"
        ],
        [
         "9",
         "2019-08-05",
         "B",
         "3280"
        ],
        [
         "10",
         "2019-08-06",
         "A",
         "3985"
        ],
        [
         "11",
         "2019-08-06",
         "B",
         "3935"
        ],
        [
         "12",
         "2019-08-07",
         "A",
         "4629"
        ],
        [
         "13",
         "2019-08-07",
         "B",
         "4644"
        ],
        [
         "14",
         "2019-08-08",
         "A",
         "5239"
        ],
        [
         "15",
         "2019-08-08",
         "B",
         "5298"
        ],
        [
         "16",
         "2019-08-09",
         "A",
         "5856"
        ],
        [
         "17",
         "2019-08-09",
         "B",
         "5908"
        ],
        [
         "18",
         "2019-08-10",
         "A",
         "6262"
        ],
        [
         "19",
         "2019-08-10",
         "B",
         "6277"
        ],
        [
         "20",
         "2019-08-11",
         "A",
         "6980"
        ],
        [
         "21",
         "2019-08-11",
         "B",
         "6998"
        ],
        [
         "22",
         "2019-08-12",
         "A",
         "7575"
        ],
        [
         "23",
         "2019-08-12",
         "B",
         "7541"
        ],
        [
         "24",
         "2019-08-13",
         "A",
         "8323"
        ],
        [
         "25",
         "2019-08-13",
         "B",
         "8310"
        ],
        [
         "26",
         "2019-08-14",
         "A",
         "9058"
        ],
        [
         "27",
         "2019-08-14",
         "B",
         "9056"
        ],
        [
         "28",
         "2019-08-15",
         "A",
         "9686"
        ],
        [
         "29",
         "2019-08-15",
         "B",
         "9600"
        ],
        [
         "30",
         "2019-08-16",
         "A",
         "10047"
        ],
        [
         "31",
         "2019-08-16",
         "B",
         "10013"
        ],
        [
         "32",
         "2019-08-17",
         "A",
         "10459"
        ],
        [
         "33",
         "2019-08-17",
         "B",
         "10434"
        ],
        [
         "34",
         "2019-08-18",
         "A",
         "11127"
        ],
        [
         "35",
         "2019-08-18",
         "B",
         "11171"
        ],
        [
         "36",
         "2019-08-19",
         "A",
         "11629"
        ],
        [
         "37",
         "2019-08-19",
         "B",
         "11658"
        ],
        [
         "38",
         "2019-08-20",
         "A",
         "12204"
        ],
        [
         "39",
         "2019-08-20",
         "B",
         "12218"
        ],
        [
         "40",
         "2019-08-21",
         "A",
         "12850"
        ],
        [
         "41",
         "2019-08-21",
         "B",
         "12874"
        ],
        [
         "42",
         "2019-08-22",
         "A",
         "13459"
        ],
        [
         "43",
         "2019-08-22",
         "B",
         "13524"
        ],
        [
         "44",
         "2019-08-23",
         "A",
         "13927"
        ],
        [
         "45",
         "2019-08-23",
         "B",
         "14070"
        ],
        [
         "46",
         "2019-08-24",
         "A",
         "14322"
        ],
        [
         "47",
         "2019-08-24",
         "B",
         "14448"
        ],
        [
         "48",
         "2019-08-25",
         "A",
         "14943"
        ],
        [
         "49",
         "2019-08-25",
         "B",
         "15127"
        ]
       ],
       "shape": {
        "columns": 3,
        "rows": 62
       }
      },
      "text/html": [
       "<div>\n",
       "<style scoped>\n",
       "    .dataframe tbody tr th:only-of-type {\n",
       "        vertical-align: middle;\n",
       "    }\n",
       "\n",
       "    .dataframe tbody tr th {\n",
       "        vertical-align: top;\n",
       "    }\n",
       "\n",
       "    .dataframe thead th {\n",
       "        text-align: right;\n",
       "    }\n",
       "</style>\n",
       "<table border=\"1\" class=\"dataframe\">\n",
       "  <thead>\n",
       "    <tr style=\"text-align: right;\">\n",
       "      <th></th>\n",
       "      <th>date</th>\n",
       "      <th>group</th>\n",
       "      <th>visits</th>\n",
       "    </tr>\n",
       "  </thead>\n",
       "  <tbody>\n",
       "    <tr>\n",
       "      <th>0</th>\n",
       "      <td>2019-08-01</td>\n",
       "      <td>A</td>\n",
       "      <td>719</td>\n",
       "    </tr>\n",
       "    <tr>\n",
       "      <th>1</th>\n",
       "      <td>2019-08-01</td>\n",
       "      <td>B</td>\n",
       "      <td>713</td>\n",
       "    </tr>\n",
       "    <tr>\n",
       "      <th>2</th>\n",
       "      <td>2019-08-02</td>\n",
       "      <td>A</td>\n",
       "      <td>1338</td>\n",
       "    </tr>\n",
       "    <tr>\n",
       "      <th>3</th>\n",
       "      <td>2019-08-02</td>\n",
       "      <td>B</td>\n",
       "      <td>1294</td>\n",
       "    </tr>\n",
       "    <tr>\n",
       "      <th>4</th>\n",
       "      <td>2019-08-03</td>\n",
       "      <td>A</td>\n",
       "      <td>1845</td>\n",
       "    </tr>\n",
       "    <tr>\n",
       "      <th>...</th>\n",
       "      <td>...</td>\n",
       "      <td>...</td>\n",
       "      <td>...</td>\n",
       "    </tr>\n",
       "    <tr>\n",
       "      <th>57</th>\n",
       "      <td>2019-08-29</td>\n",
       "      <td>B</td>\n",
       "      <td>17708</td>\n",
       "    </tr>\n",
       "    <tr>\n",
       "      <th>58</th>\n",
       "      <td>2019-08-30</td>\n",
       "      <td>A</td>\n",
       "      <td>18037</td>\n",
       "    </tr>\n",
       "    <tr>\n",
       "      <th>59</th>\n",
       "      <td>2019-08-30</td>\n",
       "      <td>B</td>\n",
       "      <td>18198</td>\n",
       "    </tr>\n",
       "    <tr>\n",
       "      <th>60</th>\n",
       "      <td>2019-08-31</td>\n",
       "      <td>A</td>\n",
       "      <td>18736</td>\n",
       "    </tr>\n",
       "    <tr>\n",
       "      <th>61</th>\n",
       "      <td>2019-08-31</td>\n",
       "      <td>B</td>\n",
       "      <td>18916</td>\n",
       "    </tr>\n",
       "  </tbody>\n",
       "</table>\n",
       "<p>62 rows × 3 columns</p>\n",
       "</div>"
      ],
      "text/plain": [
       "          date group  visits\n",
       "0   2019-08-01     A     719\n",
       "1   2019-08-01     B     713\n",
       "2   2019-08-02     A    1338\n",
       "3   2019-08-02     B    1294\n",
       "4   2019-08-03     A    1845\n",
       "..         ...   ...     ...\n",
       "57  2019-08-29     B   17708\n",
       "58  2019-08-30     A   18037\n",
       "59  2019-08-30     B   18198\n",
       "60  2019-08-31     A   18736\n",
       "61  2019-08-31     B   18916\n",
       "\n",
       "[62 rows x 3 columns]"
      ]
     },
     "execution_count": 46,
     "metadata": {},
     "output_type": "execute_result"
    }
   ],
   "source": [
    "cumulative_visits"
   ]
  },
  {
   "cell_type": "code",
   "execution_count": 47,
   "id": "b55bc794",
   "metadata": {},
   "outputs": [
    {
     "data": {
      "application/vnd.microsoft.datawrangler.viewer.v0+json": {
       "columns": [
        {
         "name": "index",
         "rawType": "int64",
         "type": "integer"
        },
        {
         "name": "transactionid",
         "rawType": "int64",
         "type": "integer"
        },
        {
         "name": "visitorid",
         "rawType": "int64",
         "type": "integer"
        },
        {
         "name": "date",
         "rawType": "object",
         "type": "unknown"
        },
        {
         "name": "revenue",
         "rawType": "float64",
         "type": "float"
        },
        {
         "name": "group",
         "rawType": "category",
         "type": "unknown"
        },
        {
         "name": "cum_income",
         "rawType": "float64",
         "type": "float"
        },
        {
         "name": "cum_orders",
         "rawType": "int64",
         "type": "integer"
        },
        {
         "name": "cum_avg_order_size",
         "rawType": "float64",
         "type": "float"
        },
        {
         "name": "cum_visits",
         "rawType": "int64",
         "type": "integer"
        }
       ],
       "ref": "85dc4c0d-4968-487e-937f-a4a3ab256a79",
       "rows": [
        [
         "0",
         "1144701458",
         "1143609305",
         "2019-08-01",
         "45.3",
         "A",
         "45.3",
         "1",
         "45.3",
         "719"
        ],
        [
         "1",
         "477940151",
         "1422773200",
         "2019-08-01",
         "15.8",
         "A",
         "61.099999999999994",
         "2",
         "30.549999999999997",
         "719"
        ],
        [
         "2",
         "1295850747",
         "2947100995",
         "2019-08-01",
         "455.8",
         "A",
         "516.9",
         "3",
         "172.29999999999998",
         "719"
        ],
        [
         "3",
         "1170105516",
         "2706377257",
         "2019-08-01",
         "140.8",
         "A",
         "657.7",
         "4",
         "164.425",
         "719"
        ],
        [
         "4",
         "1962247337",
         "2706377257",
         "2019-08-01",
         "110.7",
         "A",
         "768.4000000000001",
         "5",
         "153.68",
         "719"
        ],
        [
         "5",
         "2951489300",
         "926057494",
         "2019-08-01",
         "5.6",
         "A",
         "774.0",
         "6",
         "129.0",
         "719"
        ],
        [
         "6",
         "3847160695",
         "1830791924",
         "2019-08-01",
         "40.2",
         "A",
         "814.2",
         "7",
         "116.31428571428572",
         "719"
        ],
        [
         "7",
         "3328372908",
         "381340408",
         "2019-08-01",
         "50.1",
         "A",
         "864.3000000000001",
         "8",
         "108.03750000000001",
         "719"
        ],
        [
         "8",
         "627804981",
         "611059232",
         "2019-08-01",
         "275.8",
         "A",
         "1140.1000000000001",
         "9",
         "126.67777777777779",
         "719"
        ],
        [
         "9",
         "2663968367",
         "821846484",
         "2019-08-01",
         "30.1",
         "A",
         "1170.2",
         "10",
         "117.02000000000001",
         "719"
        ],
        [
         "10",
         "1798931686",
         "1211585711",
         "2019-08-01",
         "440.3",
         "A",
         "1610.5",
         "11",
         "146.4090909090909",
         "719"
        ],
        [
         "11",
         "602399015",
         "3967698036",
         "2019-08-01",
         "5.6",
         "A",
         "1616.1000000000001",
         "12",
         "134.675",
         "719"
        ],
        [
         "12",
         "3433533137",
         "678354126",
         "2019-08-01",
         "100.4",
         "A",
         "1716.5",
         "13",
         "132.03846153846155",
         "719"
        ],
        [
         "13",
         "365058890",
         "611059232",
         "2019-08-01",
         "45.3",
         "A",
         "1761.8000000000002",
         "14",
         "125.84285714285716",
         "719"
        ],
        [
         "14",
         "735232225",
         "611059232",
         "2019-08-01",
         "140.4",
         "A",
         "1902.2",
         "15",
         "126.81333333333333",
         "719"
        ],
        [
         "15",
         "52260954",
         "3967698036",
         "2019-08-01",
         "20.2",
         "A",
         "1922.4",
         "16",
         "120.15",
         "719"
        ],
        [
         "16",
         "4045393544",
         "991436984",
         "2019-08-01",
         "30.5",
         "A",
         "1952.9",
         "17",
         "114.87647058823529",
         "719"
        ],
        [
         "17",
         "4206138190",
         "1219079053",
         "2019-08-01",
         "80.5",
         "A",
         "2033.4",
         "18",
         "112.96666666666667",
         "719"
        ],
        [
         "18",
         "891673177",
         "572335325",
         "2019-08-01",
         "60.8",
         "A",
         "2094.2000000000003",
         "19",
         "110.22105263157896",
         "719"
        ],
        [
         "19",
         "2065527789",
         "1581167209",
         "2019-08-01",
         "30.4",
         "A",
         "2124.6",
         "20",
         "106.22999999999999",
         "719"
        ],
        [
         "20",
         "3588515863",
         "1737494355",
         "2019-08-01",
         "30.8",
         "A",
         "2155.4",
         "21",
         "102.63809523809525",
         "719"
        ],
        [
         "21",
         "617930325",
         "2785040378",
         "2019-08-01",
         "55.8",
         "A",
         "2211.2000000000003",
         "22",
         "100.50909090909092",
         "719"
        ],
        [
         "22",
         "2153842875",
         "876081193",
         "2019-08-01",
         "55.4",
         "A",
         "2266.6",
         "23",
         "98.54782608695652",
         "719"
        ],
        [
         "23",
         "4919758",
         "1217561296",
         "2019-08-01",
         "40.2",
         "B",
         "40.2",
         "1",
         "40.2",
         "713"
        ],
        [
         "24",
         "3574407166",
         "2328378067",
         "2019-08-01",
         "140.4",
         "B",
         "180.60000000000002",
         "2",
         "90.30000000000001",
         "713"
        ],
        [
         "25",
         "2012801741",
         "414545763",
         "2019-08-01",
         "90.5",
         "B",
         "271.1",
         "3",
         "90.36666666666667",
         "713"
        ],
        [
         "26",
         "804934578",
         "1738775963",
         "2019-08-01",
         "50.8",
         "B",
         "321.9",
         "4",
         "80.475",
         "713"
        ],
        [
         "27",
         "2951399376",
         "2019355024",
         "2019-08-01",
         "40.2",
         "B",
         "362.1",
         "5",
         "72.42",
         "713"
        ],
        [
         "28",
         "2411689164",
         "2019205281",
         "2019-08-01",
         "80.2",
         "B",
         "442.3",
         "6",
         "73.71666666666667",
         "713"
        ],
        [
         "29",
         "3749160238",
         "1700445283",
         "2019-08-01",
         "110.5",
         "B",
         "552.8",
         "7",
         "78.97142857142856",
         "713"
        ],
        [
         "30",
         "3486821141",
         "1225835168",
         "2019-08-01",
         "5.6",
         "B",
         "558.4",
         "8",
         "69.8",
         "713"
        ],
        [
         "31",
         "3394915331",
         "1354599463",
         "2019-08-01",
         "120.3",
         "B",
         "678.7",
         "9",
         "75.41111111111111",
         "713"
        ],
        [
         "32",
         "1578920557",
         "680119828",
         "2019-08-01",
         "10.6",
         "B",
         "689.3",
         "10",
         "68.92999999999999",
         "713"
        ],
        [
         "33",
         "1403947326",
         "1075551409",
         "2019-08-01",
         "10.0",
         "B",
         "699.3",
         "11",
         "63.57272727272727",
         "713"
        ],
        [
         "34",
         "2774185760",
         "975516572",
         "2019-08-01",
         "20.3",
         "B",
         "719.6",
         "12",
         "59.96666666666667",
         "713"
        ],
        [
         "35",
         "854120002",
         "544963298",
         "2019-08-01",
         "25.9",
         "B",
         "745.5",
         "13",
         "57.34615384615385",
         "713"
        ],
        [
         "36",
         "3650534576",
         "134926050",
         "2019-08-01",
         "50.0",
         "B",
         "795.5",
         "14",
         "56.82142857142857",
         "713"
        ],
        [
         "37",
         "4238948438",
         "363280180",
         "2019-08-01",
         "5.6",
         "B",
         "801.1",
         "15",
         "53.406666666666666",
         "713"
        ],
        [
         "38",
         "1728664132",
         "1596819047",
         "2019-08-01",
         "10.6",
         "B",
         "811.6999999999999",
         "16",
         "50.731249999999996",
         "713"
        ],
        [
         "39",
         "3227521980",
         "3938001975",
         "2019-08-01",
         "155.5",
         "B",
         "967.2",
         "17",
         "56.89411764705883",
         "713"
        ],
        [
         "40",
         "1223645875",
         "3123255051",
         "2019-08-02",
         "50.8",
         "A",
         "2317.4",
         "24",
         "96.55833333333334",
         "1338"
        ],
        [
         "41",
         "1876585139",
         "2871453277",
         "2019-08-02",
         "110.8",
         "A",
         "2428.2000000000003",
         "25",
         "97.12800000000001",
         "1338"
        ],
        [
         "42",
         "2361024027",
         "3967698036",
         "2019-08-02",
         "30.0",
         "A",
         "2458.2000000000003",
         "26",
         "94.54615384615386",
         "1338"
        ],
        [
         "43",
         "2815409412",
         "2125253600",
         "2019-08-02",
         "15.7",
         "A",
         "2473.9",
         "27",
         "91.62592592592593",
         "1338"
        ],
        [
         "44",
         "2872509092",
         "983496389",
         "2019-08-02",
         "5.5",
         "A",
         "2479.4",
         "28",
         "88.55",
         "1338"
        ],
        [
         "45",
         "1216926230",
         "1500448895",
         "2019-08-02",
         "45.7",
         "A",
         "2525.1",
         "29",
         "87.07241379310345",
         "1338"
        ],
        [
         "46",
         "2206098194",
         "2880866577",
         "2019-08-02",
         "30.0",
         "A",
         "2555.1",
         "30",
         "85.17",
         "1338"
        ],
        [
         "47",
         "3390093829",
         "3199637546",
         "2019-08-02",
         "45.6",
         "A",
         "2600.7000000000003",
         "31",
         "83.89354838709679",
         "1338"
        ],
        [
         "48",
         "873230871",
         "236764260",
         "2019-08-02",
         "90.8",
         "A",
         "2691.5",
         "32",
         "84.109375",
         "1338"
        ],
        [
         "49",
         "3485678199",
         "2232111114",
         "2019-08-02",
         "270.0",
         "A",
         "2961.5",
         "33",
         "89.74242424242425",
         "1338"
        ]
       ],
       "shape": {
        "columns": 9,
        "rows": 1016
       }
      },
      "text/html": [
       "<div>\n",
       "<style scoped>\n",
       "    .dataframe tbody tr th:only-of-type {\n",
       "        vertical-align: middle;\n",
       "    }\n",
       "\n",
       "    .dataframe tbody tr th {\n",
       "        vertical-align: top;\n",
       "    }\n",
       "\n",
       "    .dataframe thead th {\n",
       "        text-align: right;\n",
       "    }\n",
       "</style>\n",
       "<table border=\"1\" class=\"dataframe\">\n",
       "  <thead>\n",
       "    <tr style=\"text-align: right;\">\n",
       "      <th></th>\n",
       "      <th>transactionid</th>\n",
       "      <th>visitorid</th>\n",
       "      <th>date</th>\n",
       "      <th>revenue</th>\n",
       "      <th>group</th>\n",
       "      <th>cum_income</th>\n",
       "      <th>cum_orders</th>\n",
       "      <th>cum_avg_order_size</th>\n",
       "      <th>cum_visits</th>\n",
       "    </tr>\n",
       "  </thead>\n",
       "  <tbody>\n",
       "    <tr>\n",
       "      <th>0</th>\n",
       "      <td>1144701458</td>\n",
       "      <td>1143609305</td>\n",
       "      <td>2019-08-01</td>\n",
       "      <td>45.3</td>\n",
       "      <td>A</td>\n",
       "      <td>45.3</td>\n",
       "      <td>1</td>\n",
       "      <td>45.300000</td>\n",
       "      <td>719</td>\n",
       "    </tr>\n",
       "    <tr>\n",
       "      <th>1</th>\n",
       "      <td>477940151</td>\n",
       "      <td>1422773200</td>\n",
       "      <td>2019-08-01</td>\n",
       "      <td>15.8</td>\n",
       "      <td>A</td>\n",
       "      <td>61.1</td>\n",
       "      <td>2</td>\n",
       "      <td>30.550000</td>\n",
       "      <td>719</td>\n",
       "    </tr>\n",
       "    <tr>\n",
       "      <th>2</th>\n",
       "      <td>1295850747</td>\n",
       "      <td>2947100995</td>\n",
       "      <td>2019-08-01</td>\n",
       "      <td>455.8</td>\n",
       "      <td>A</td>\n",
       "      <td>516.9</td>\n",
       "      <td>3</td>\n",
       "      <td>172.300000</td>\n",
       "      <td>719</td>\n",
       "    </tr>\n",
       "    <tr>\n",
       "      <th>3</th>\n",
       "      <td>1170105516</td>\n",
       "      <td>2706377257</td>\n",
       "      <td>2019-08-01</td>\n",
       "      <td>140.8</td>\n",
       "      <td>A</td>\n",
       "      <td>657.7</td>\n",
       "      <td>4</td>\n",
       "      <td>164.425000</td>\n",
       "      <td>719</td>\n",
       "    </tr>\n",
       "    <tr>\n",
       "      <th>4</th>\n",
       "      <td>1962247337</td>\n",
       "      <td>2706377257</td>\n",
       "      <td>2019-08-01</td>\n",
       "      <td>110.7</td>\n",
       "      <td>A</td>\n",
       "      <td>768.4</td>\n",
       "      <td>5</td>\n",
       "      <td>153.680000</td>\n",
       "      <td>719</td>\n",
       "    </tr>\n",
       "    <tr>\n",
       "      <th>...</th>\n",
       "      <td>...</td>\n",
       "      <td>...</td>\n",
       "      <td>...</td>\n",
       "      <td>...</td>\n",
       "      <td>...</td>\n",
       "      <td>...</td>\n",
       "      <td>...</td>\n",
       "      <td>...</td>\n",
       "      <td>...</td>\n",
       "    </tr>\n",
       "    <tr>\n",
       "      <th>1011</th>\n",
       "      <td>2886170101</td>\n",
       "      <td>930758570</td>\n",
       "      <td>2019-08-31</td>\n",
       "      <td>105.7</td>\n",
       "      <td>B</td>\n",
       "      <td>78889.5</td>\n",
       "      <td>544</td>\n",
       "      <td>145.017463</td>\n",
       "      <td>18916</td>\n",
       "    </tr>\n",
       "    <tr>\n",
       "      <th>1012</th>\n",
       "      <td>3845118557</td>\n",
       "      <td>1964413493</td>\n",
       "      <td>2019-08-31</td>\n",
       "      <td>5.5</td>\n",
       "      <td>B</td>\n",
       "      <td>78895.0</td>\n",
       "      <td>545</td>\n",
       "      <td>144.761468</td>\n",
       "      <td>18916</td>\n",
       "    </tr>\n",
       "    <tr>\n",
       "      <th>1013</th>\n",
       "      <td>853409662</td>\n",
       "      <td>1390677121</td>\n",
       "      <td>2019-08-31</td>\n",
       "      <td>290.5</td>\n",
       "      <td>B</td>\n",
       "      <td>79185.5</td>\n",
       "      <td>546</td>\n",
       "      <td>145.028388</td>\n",
       "      <td>18916</td>\n",
       "    </tr>\n",
       "    <tr>\n",
       "      <th>1014</th>\n",
       "      <td>4149581711</td>\n",
       "      <td>1555048873</td>\n",
       "      <td>2019-08-31</td>\n",
       "      <td>30.2</td>\n",
       "      <td>B</td>\n",
       "      <td>79215.7</td>\n",
       "      <td>547</td>\n",
       "      <td>144.818464</td>\n",
       "      <td>18916</td>\n",
       "    </tr>\n",
       "    <tr>\n",
       "      <th>1015</th>\n",
       "      <td>2983450240</td>\n",
       "      <td>1605520752</td>\n",
       "      <td>2019-08-31</td>\n",
       "      <td>435.5</td>\n",
       "      <td>B</td>\n",
       "      <td>79651.2</td>\n",
       "      <td>548</td>\n",
       "      <td>145.348905</td>\n",
       "      <td>18916</td>\n",
       "    </tr>\n",
       "  </tbody>\n",
       "</table>\n",
       "<p>1016 rows × 9 columns</p>\n",
       "</div>"
      ],
      "text/plain": [
       "      transactionid   visitorid        date  revenue group  cum_income  cum_orders  cum_avg_order_size  cum_visits\n",
       "0        1144701458  1143609305  2019-08-01     45.3     A        45.3           1           45.300000         719\n",
       "1         477940151  1422773200  2019-08-01     15.8     A        61.1           2           30.550000         719\n",
       "2        1295850747  2947100995  2019-08-01    455.8     A       516.9           3          172.300000         719\n",
       "3        1170105516  2706377257  2019-08-01    140.8     A       657.7           4          164.425000         719\n",
       "4        1962247337  2706377257  2019-08-01    110.7     A       768.4           5          153.680000         719\n",
       "...             ...         ...         ...      ...   ...         ...         ...                 ...         ...\n",
       "1011     2886170101   930758570  2019-08-31    105.7     B     78889.5         544          145.017463       18916\n",
       "1012     3845118557  1964413493  2019-08-31      5.5     B     78895.0         545          144.761468       18916\n",
       "1013      853409662  1390677121  2019-08-31    290.5     B     79185.5         546          145.028388       18916\n",
       "1014     4149581711  1555048873  2019-08-31     30.2     B     79215.7         547          144.818464       18916\n",
       "1015     2983450240  1605520752  2019-08-31    435.5     B     79651.2         548          145.348905       18916\n",
       "\n",
       "[1016 rows x 9 columns]"
      ]
     },
     "execution_count": 47,
     "metadata": {},
     "output_type": "execute_result"
    }
   ],
   "source": [
    "df_orders = df_orders.merge(cumulative_visits, on=['date', 'group'])\n",
    "df_orders = df_orders.rename(columns={'visits': 'cum_visits'})\n",
    "df_orders"
   ]
  },
  {
   "cell_type": "code",
   "execution_count": 48,
   "id": "367b66b9",
   "metadata": {},
   "outputs": [
    {
     "data": {
      "application/vnd.microsoft.datawrangler.viewer.v0+json": {
       "columns": [
        {
         "name": "index",
         "rawType": "int64",
         "type": "integer"
        },
        {
         "name": "transactionid",
         "rawType": "int64",
         "type": "integer"
        },
        {
         "name": "visitorid",
         "rawType": "int64",
         "type": "integer"
        },
        {
         "name": "date",
         "rawType": "object",
         "type": "unknown"
        },
        {
         "name": "revenue",
         "rawType": "float64",
         "type": "float"
        },
        {
         "name": "group",
         "rawType": "category",
         "type": "unknown"
        },
        {
         "name": "cum_income",
         "rawType": "float64",
         "type": "float"
        },
        {
         "name": "cum_orders",
         "rawType": "int64",
         "type": "integer"
        },
        {
         "name": "cum_avg_order_size",
         "rawType": "float64",
         "type": "float"
        },
        {
         "name": "cum_visits",
         "rawType": "int64",
         "type": "integer"
        },
        {
         "name": "cum_conversion",
         "rawType": "float64",
         "type": "float"
        }
       ],
       "ref": "08d134a1-9ae3-4a2f-86aa-e3e758308b6c",
       "rows": [
        [
         "0",
         "1144701458",
         "1143609305",
         "2019-08-01",
         "45.3",
         "A",
         "45.3",
         "1",
         "45.3",
         "719",
         "0.0013908205841446453"
        ],
        [
         "1",
         "477940151",
         "1422773200",
         "2019-08-01",
         "15.8",
         "A",
         "61.099999999999994",
         "2",
         "30.549999999999997",
         "719",
         "0.0027816411682892906"
        ],
        [
         "2",
         "1295850747",
         "2947100995",
         "2019-08-01",
         "455.8",
         "A",
         "516.9",
         "3",
         "172.29999999999998",
         "719",
         "0.004172461752433936"
        ],
        [
         "3",
         "1170105516",
         "2706377257",
         "2019-08-01",
         "140.8",
         "A",
         "657.7",
         "4",
         "164.425",
         "719",
         "0.005563282336578581"
        ],
        [
         "4",
         "1962247337",
         "2706377257",
         "2019-08-01",
         "110.7",
         "A",
         "768.4000000000001",
         "5",
         "153.68",
         "719",
         "0.006954102920723227"
        ],
        [
         "5",
         "2951489300",
         "926057494",
         "2019-08-01",
         "5.6",
         "A",
         "774.0",
         "6",
         "129.0",
         "719",
         "0.008344923504867872"
        ],
        [
         "6",
         "3847160695",
         "1830791924",
         "2019-08-01",
         "40.2",
         "A",
         "814.2",
         "7",
         "116.31428571428572",
         "719",
         "0.009735744089012517"
        ],
        [
         "7",
         "3328372908",
         "381340408",
         "2019-08-01",
         "50.1",
         "A",
         "864.3000000000001",
         "8",
         "108.03750000000001",
         "719",
         "0.011126564673157162"
        ],
        [
         "8",
         "627804981",
         "611059232",
         "2019-08-01",
         "275.8",
         "A",
         "1140.1000000000001",
         "9",
         "126.67777777777779",
         "719",
         "0.012517385257301807"
        ],
        [
         "9",
         "2663968367",
         "821846484",
         "2019-08-01",
         "30.1",
         "A",
         "1170.2",
         "10",
         "117.02000000000001",
         "719",
         "0.013908205841446454"
        ],
        [
         "10",
         "1798931686",
         "1211585711",
         "2019-08-01",
         "440.3",
         "A",
         "1610.5",
         "11",
         "146.4090909090909",
         "719",
         "0.015299026425591099"
        ],
        [
         "11",
         "602399015",
         "3967698036",
         "2019-08-01",
         "5.6",
         "A",
         "1616.1000000000001",
         "12",
         "134.675",
         "719",
         "0.016689847009735744"
        ],
        [
         "12",
         "3433533137",
         "678354126",
         "2019-08-01",
         "100.4",
         "A",
         "1716.5",
         "13",
         "132.03846153846155",
         "719",
         "0.01808066759388039"
        ],
        [
         "13",
         "365058890",
         "611059232",
         "2019-08-01",
         "45.3",
         "A",
         "1761.8000000000002",
         "14",
         "125.84285714285716",
         "719",
         "0.019471488178025034"
        ],
        [
         "14",
         "735232225",
         "611059232",
         "2019-08-01",
         "140.4",
         "A",
         "1902.2",
         "15",
         "126.81333333333333",
         "719",
         "0.02086230876216968"
        ],
        [
         "15",
         "52260954",
         "3967698036",
         "2019-08-01",
         "20.2",
         "A",
         "1922.4",
         "16",
         "120.15",
         "719",
         "0.022253129346314324"
        ],
        [
         "16",
         "4045393544",
         "991436984",
         "2019-08-01",
         "30.5",
         "A",
         "1952.9",
         "17",
         "114.87647058823529",
         "719",
         "0.02364394993045897"
        ],
        [
         "17",
         "4206138190",
         "1219079053",
         "2019-08-01",
         "80.5",
         "A",
         "2033.4",
         "18",
         "112.96666666666667",
         "719",
         "0.025034770514603615"
        ],
        [
         "18",
         "891673177",
         "572335325",
         "2019-08-01",
         "60.8",
         "A",
         "2094.2000000000003",
         "19",
         "110.22105263157896",
         "719",
         "0.02642559109874826"
        ],
        [
         "19",
         "2065527789",
         "1581167209",
         "2019-08-01",
         "30.4",
         "A",
         "2124.6",
         "20",
         "106.22999999999999",
         "719",
         "0.027816411682892908"
        ],
        [
         "20",
         "3588515863",
         "1737494355",
         "2019-08-01",
         "30.8",
         "A",
         "2155.4",
         "21",
         "102.63809523809525",
         "719",
         "0.02920723226703755"
        ],
        [
         "21",
         "617930325",
         "2785040378",
         "2019-08-01",
         "55.8",
         "A",
         "2211.2000000000003",
         "22",
         "100.50909090909092",
         "719",
         "0.030598052851182198"
        ],
        [
         "22",
         "2153842875",
         "876081193",
         "2019-08-01",
         "55.4",
         "A",
         "2266.6",
         "23",
         "98.54782608695652",
         "719",
         "0.031988873435326845"
        ],
        [
         "23",
         "4919758",
         "1217561296",
         "2019-08-01",
         "40.2",
         "B",
         "40.2",
         "1",
         "40.2",
         "713",
         "0.001402524544179523"
        ],
        [
         "24",
         "3574407166",
         "2328378067",
         "2019-08-01",
         "140.4",
         "B",
         "180.60000000000002",
         "2",
         "90.30000000000001",
         "713",
         "0.002805049088359046"
        ],
        [
         "25",
         "2012801741",
         "414545763",
         "2019-08-01",
         "90.5",
         "B",
         "271.1",
         "3",
         "90.36666666666667",
         "713",
         "0.004207573632538569"
        ],
        [
         "26",
         "804934578",
         "1738775963",
         "2019-08-01",
         "50.8",
         "B",
         "321.9",
         "4",
         "80.475",
         "713",
         "0.005610098176718092"
        ],
        [
         "27",
         "2951399376",
         "2019355024",
         "2019-08-01",
         "40.2",
         "B",
         "362.1",
         "5",
         "72.42",
         "713",
         "0.0070126227208976155"
        ],
        [
         "28",
         "2411689164",
         "2019205281",
         "2019-08-01",
         "80.2",
         "B",
         "442.3",
         "6",
         "73.71666666666667",
         "713",
         "0.008415147265077139"
        ],
        [
         "29",
         "3749160238",
         "1700445283",
         "2019-08-01",
         "110.5",
         "B",
         "552.8",
         "7",
         "78.97142857142856",
         "713",
         "0.009817671809256662"
        ],
        [
         "30",
         "3486821141",
         "1225835168",
         "2019-08-01",
         "5.6",
         "B",
         "558.4",
         "8",
         "69.8",
         "713",
         "0.011220196353436185"
        ],
        [
         "31",
         "3394915331",
         "1354599463",
         "2019-08-01",
         "120.3",
         "B",
         "678.7",
         "9",
         "75.41111111111111",
         "713",
         "0.012622720897615708"
        ],
        [
         "32",
         "1578920557",
         "680119828",
         "2019-08-01",
         "10.6",
         "B",
         "689.3",
         "10",
         "68.92999999999999",
         "713",
         "0.014025245441795231"
        ],
        [
         "33",
         "1403947326",
         "1075551409",
         "2019-08-01",
         "10.0",
         "B",
         "699.3",
         "11",
         "63.57272727272727",
         "713",
         "0.015427769985974754"
        ],
        [
         "34",
         "2774185760",
         "975516572",
         "2019-08-01",
         "20.3",
         "B",
         "719.6",
         "12",
         "59.96666666666667",
         "713",
         "0.016830294530154277"
        ],
        [
         "35",
         "854120002",
         "544963298",
         "2019-08-01",
         "25.9",
         "B",
         "745.5",
         "13",
         "57.34615384615385",
         "713",
         "0.0182328190743338"
        ],
        [
         "36",
         "3650534576",
         "134926050",
         "2019-08-01",
         "50.0",
         "B",
         "795.5",
         "14",
         "56.82142857142857",
         "713",
         "0.019635343618513323"
        ],
        [
         "37",
         "4238948438",
         "363280180",
         "2019-08-01",
         "5.6",
         "B",
         "801.1",
         "15",
         "53.406666666666666",
         "713",
         "0.021037868162692847"
        ],
        [
         "38",
         "1728664132",
         "1596819047",
         "2019-08-01",
         "10.6",
         "B",
         "811.6999999999999",
         "16",
         "50.731249999999996",
         "713",
         "0.02244039270687237"
        ],
        [
         "39",
         "3227521980",
         "3938001975",
         "2019-08-01",
         "155.5",
         "B",
         "967.2",
         "17",
         "56.89411764705883",
         "713",
         "0.023842917251051893"
        ],
        [
         "40",
         "1223645875",
         "3123255051",
         "2019-08-02",
         "50.8",
         "A",
         "2317.4",
         "24",
         "96.55833333333334",
         "1338",
         "0.017937219730941704"
        ],
        [
         "41",
         "1876585139",
         "2871453277",
         "2019-08-02",
         "110.8",
         "A",
         "2428.2000000000003",
         "25",
         "97.12800000000001",
         "1338",
         "0.01868460388639761"
        ],
        [
         "42",
         "2361024027",
         "3967698036",
         "2019-08-02",
         "30.0",
         "A",
         "2458.2000000000003",
         "26",
         "94.54615384615386",
         "1338",
         "0.01943198804185351"
        ],
        [
         "43",
         "2815409412",
         "2125253600",
         "2019-08-02",
         "15.7",
         "A",
         "2473.9",
         "27",
         "91.62592592592593",
         "1338",
         "0.020179372197309416"
        ],
        [
         "44",
         "2872509092",
         "983496389",
         "2019-08-02",
         "5.5",
         "A",
         "2479.4",
         "28",
         "88.55",
         "1338",
         "0.02092675635276532"
        ],
        [
         "45",
         "1216926230",
         "1500448895",
         "2019-08-02",
         "45.7",
         "A",
         "2525.1",
         "29",
         "87.07241379310345",
         "1338",
         "0.021674140508221227"
        ],
        [
         "46",
         "2206098194",
         "2880866577",
         "2019-08-02",
         "30.0",
         "A",
         "2555.1",
         "30",
         "85.17",
         "1338",
         "0.02242152466367713"
        ],
        [
         "47",
         "3390093829",
         "3199637546",
         "2019-08-02",
         "45.6",
         "A",
         "2600.7000000000003",
         "31",
         "83.89354838709679",
         "1338",
         "0.023168908819133034"
        ],
        [
         "48",
         "873230871",
         "236764260",
         "2019-08-02",
         "90.8",
         "A",
         "2691.5",
         "32",
         "84.109375",
         "1338",
         "0.02391629297458894"
        ],
        [
         "49",
         "3485678199",
         "2232111114",
         "2019-08-02",
         "270.0",
         "A",
         "2961.5",
         "33",
         "89.74242424242425",
         "1338",
         "0.02466367713004484"
        ]
       ],
       "shape": {
        "columns": 10,
        "rows": 1016
       }
      },
      "text/html": [
       "<div>\n",
       "<style scoped>\n",
       "    .dataframe tbody tr th:only-of-type {\n",
       "        vertical-align: middle;\n",
       "    }\n",
       "\n",
       "    .dataframe tbody tr th {\n",
       "        vertical-align: top;\n",
       "    }\n",
       "\n",
       "    .dataframe thead th {\n",
       "        text-align: right;\n",
       "    }\n",
       "</style>\n",
       "<table border=\"1\" class=\"dataframe\">\n",
       "  <thead>\n",
       "    <tr style=\"text-align: right;\">\n",
       "      <th></th>\n",
       "      <th>transactionid</th>\n",
       "      <th>visitorid</th>\n",
       "      <th>date</th>\n",
       "      <th>revenue</th>\n",
       "      <th>group</th>\n",
       "      <th>cum_income</th>\n",
       "      <th>cum_orders</th>\n",
       "      <th>cum_avg_order_size</th>\n",
       "      <th>cum_visits</th>\n",
       "      <th>cum_conversion</th>\n",
       "    </tr>\n",
       "  </thead>\n",
       "  <tbody>\n",
       "    <tr>\n",
       "      <th>0</th>\n",
       "      <td>1144701458</td>\n",
       "      <td>1143609305</td>\n",
       "      <td>2019-08-01</td>\n",
       "      <td>45.3</td>\n",
       "      <td>A</td>\n",
       "      <td>45.3</td>\n",
       "      <td>1</td>\n",
       "      <td>45.300000</td>\n",
       "      <td>719</td>\n",
       "      <td>0.001391</td>\n",
       "    </tr>\n",
       "    <tr>\n",
       "      <th>1</th>\n",
       "      <td>477940151</td>\n",
       "      <td>1422773200</td>\n",
       "      <td>2019-08-01</td>\n",
       "      <td>15.8</td>\n",
       "      <td>A</td>\n",
       "      <td>61.1</td>\n",
       "      <td>2</td>\n",
       "      <td>30.550000</td>\n",
       "      <td>719</td>\n",
       "      <td>0.002782</td>\n",
       "    </tr>\n",
       "    <tr>\n",
       "      <th>2</th>\n",
       "      <td>1295850747</td>\n",
       "      <td>2947100995</td>\n",
       "      <td>2019-08-01</td>\n",
       "      <td>455.8</td>\n",
       "      <td>A</td>\n",
       "      <td>516.9</td>\n",
       "      <td>3</td>\n",
       "      <td>172.300000</td>\n",
       "      <td>719</td>\n",
       "      <td>0.004172</td>\n",
       "    </tr>\n",
       "    <tr>\n",
       "      <th>3</th>\n",
       "      <td>1170105516</td>\n",
       "      <td>2706377257</td>\n",
       "      <td>2019-08-01</td>\n",
       "      <td>140.8</td>\n",
       "      <td>A</td>\n",
       "      <td>657.7</td>\n",
       "      <td>4</td>\n",
       "      <td>164.425000</td>\n",
       "      <td>719</td>\n",
       "      <td>0.005563</td>\n",
       "    </tr>\n",
       "    <tr>\n",
       "      <th>4</th>\n",
       "      <td>1962247337</td>\n",
       "      <td>2706377257</td>\n",
       "      <td>2019-08-01</td>\n",
       "      <td>110.7</td>\n",
       "      <td>A</td>\n",
       "      <td>768.4</td>\n",
       "      <td>5</td>\n",
       "      <td>153.680000</td>\n",
       "      <td>719</td>\n",
       "      <td>0.006954</td>\n",
       "    </tr>\n",
       "    <tr>\n",
       "      <th>...</th>\n",
       "      <td>...</td>\n",
       "      <td>...</td>\n",
       "      <td>...</td>\n",
       "      <td>...</td>\n",
       "      <td>...</td>\n",
       "      <td>...</td>\n",
       "      <td>...</td>\n",
       "      <td>...</td>\n",
       "      <td>...</td>\n",
       "      <td>...</td>\n",
       "    </tr>\n",
       "    <tr>\n",
       "      <th>1011</th>\n",
       "      <td>2886170101</td>\n",
       "      <td>930758570</td>\n",
       "      <td>2019-08-31</td>\n",
       "      <td>105.7</td>\n",
       "      <td>B</td>\n",
       "      <td>78889.5</td>\n",
       "      <td>544</td>\n",
       "      <td>145.017463</td>\n",
       "      <td>18916</td>\n",
       "      <td>0.028759</td>\n",
       "    </tr>\n",
       "    <tr>\n",
       "      <th>1012</th>\n",
       "      <td>3845118557</td>\n",
       "      <td>1964413493</td>\n",
       "      <td>2019-08-31</td>\n",
       "      <td>5.5</td>\n",
       "      <td>B</td>\n",
       "      <td>78895.0</td>\n",
       "      <td>545</td>\n",
       "      <td>144.761468</td>\n",
       "      <td>18916</td>\n",
       "      <td>0.028812</td>\n",
       "    </tr>\n",
       "    <tr>\n",
       "      <th>1013</th>\n",
       "      <td>853409662</td>\n",
       "      <td>1390677121</td>\n",
       "      <td>2019-08-31</td>\n",
       "      <td>290.5</td>\n",
       "      <td>B</td>\n",
       "      <td>79185.5</td>\n",
       "      <td>546</td>\n",
       "      <td>145.028388</td>\n",
       "      <td>18916</td>\n",
       "      <td>0.028864</td>\n",
       "    </tr>\n",
       "    <tr>\n",
       "      <th>1014</th>\n",
       "      <td>4149581711</td>\n",
       "      <td>1555048873</td>\n",
       "      <td>2019-08-31</td>\n",
       "      <td>30.2</td>\n",
       "      <td>B</td>\n",
       "      <td>79215.7</td>\n",
       "      <td>547</td>\n",
       "      <td>144.818464</td>\n",
       "      <td>18916</td>\n",
       "      <td>0.028917</td>\n",
       "    </tr>\n",
       "    <tr>\n",
       "      <th>1015</th>\n",
       "      <td>2983450240</td>\n",
       "      <td>1605520752</td>\n",
       "      <td>2019-08-31</td>\n",
       "      <td>435.5</td>\n",
       "      <td>B</td>\n",
       "      <td>79651.2</td>\n",
       "      <td>548</td>\n",
       "      <td>145.348905</td>\n",
       "      <td>18916</td>\n",
       "      <td>0.028970</td>\n",
       "    </tr>\n",
       "  </tbody>\n",
       "</table>\n",
       "<p>1016 rows × 10 columns</p>\n",
       "</div>"
      ],
      "text/plain": [
       "      transactionid   visitorid        date  revenue group  cum_income  cum_orders  cum_avg_order_size  cum_visits  cum_conversion\n",
       "0        1144701458  1143609305  2019-08-01     45.3     A        45.3           1           45.300000         719        0.001391\n",
       "1         477940151  1422773200  2019-08-01     15.8     A        61.1           2           30.550000         719        0.002782\n",
       "2        1295850747  2947100995  2019-08-01    455.8     A       516.9           3          172.300000         719        0.004172\n",
       "3        1170105516  2706377257  2019-08-01    140.8     A       657.7           4          164.425000         719        0.005563\n",
       "4        1962247337  2706377257  2019-08-01    110.7     A       768.4           5          153.680000         719        0.006954\n",
       "...             ...         ...         ...      ...   ...         ...         ...                 ...         ...             ...\n",
       "1011     2886170101   930758570  2019-08-31    105.7     B     78889.5         544          145.017463       18916        0.028759\n",
       "1012     3845118557  1964413493  2019-08-31      5.5     B     78895.0         545          144.761468       18916        0.028812\n",
       "1013      853409662  1390677121  2019-08-31    290.5     B     79185.5         546          145.028388       18916        0.028864\n",
       "1014     4149581711  1555048873  2019-08-31     30.2     B     79215.7         547          144.818464       18916        0.028917\n",
       "1015     2983450240  1605520752  2019-08-31    435.5     B     79651.2         548          145.348905       18916        0.028970\n",
       "\n",
       "[1016 rows x 10 columns]"
      ]
     },
     "execution_count": 48,
     "metadata": {},
     "output_type": "execute_result"
    }
   ],
   "source": [
    "df_orders['cum_conversion'] = df_orders['cum_orders'] / df_orders['cum_visits']\n",
    "df_orders"
   ]
  },
  {
   "cell_type": "code",
   "execution_count": 49,
   "id": "03eaee3c",
   "metadata": {},
   "outputs": [
    {
     "data": {
      "application/vnd.plotly.v1+json": {
       "config": {
        "plotlyServerURL": "https://plot.ly"
       },
       "data": [
        {
         "hovertemplate": "group=A<br>date=%{x}<br>cum_conversion=%{y}<extra></extra>",
         "legendgroup": "A",
         "line": {
          "color": "#636efa",
          "dash": "solid"
         },
         "marker": {
          "symbol": "circle"
         },
         "mode": "lines",
         "name": "A",
         "showlegend": true,
         "type": "scattergl",
         "x": [
          "2019-08-01",
          "2019-08-01",
          "2019-08-01",
          "2019-08-01",
          "2019-08-01",
          "2019-08-01",
          "2019-08-01",
          "2019-08-01",
          "2019-08-01",
          "2019-08-01",
          "2019-08-01",
          "2019-08-01",
          "2019-08-01",
          "2019-08-01",
          "2019-08-01",
          "2019-08-01",
          "2019-08-01",
          "2019-08-01",
          "2019-08-01",
          "2019-08-01",
          "2019-08-01",
          "2019-08-01",
          "2019-08-01",
          "2019-08-02",
          "2019-08-02",
          "2019-08-02",
          "2019-08-02",
          "2019-08-02",
          "2019-08-02",
          "2019-08-02",
          "2019-08-02",
          "2019-08-02",
          "2019-08-02",
          "2019-08-02",
          "2019-08-02",
          "2019-08-02",
          "2019-08-02",
          "2019-08-02",
          "2019-08-02",
          "2019-08-02",
          "2019-08-02",
          "2019-08-02",
          "2019-08-03",
          "2019-08-03",
          "2019-08-03",
          "2019-08-03",
          "2019-08-03",
          "2019-08-03",
          "2019-08-03",
          "2019-08-03",
          "2019-08-03",
          "2019-08-03",
          "2019-08-03",
          "2019-08-03",
          "2019-08-03",
          "2019-08-03",
          "2019-08-03",
          "2019-08-03",
          "2019-08-03",
          "2019-08-03",
          "2019-08-03",
          "2019-08-03",
          "2019-08-03",
          "2019-08-03",
          "2019-08-03",
          "2019-08-03",
          "2019-08-04",
          "2019-08-04",
          "2019-08-04",
          "2019-08-04",
          "2019-08-04",
          "2019-08-04",
          "2019-08-04",
          "2019-08-04",
          "2019-08-04",
          "2019-08-04",
          "2019-08-04",
          "2019-08-05",
          "2019-08-05",
          "2019-08-05",
          "2019-08-05",
          "2019-08-05",
          "2019-08-05",
          "2019-08-05",
          "2019-08-05",
          "2019-08-05",
          "2019-08-05",
          "2019-08-05",
          "2019-08-05",
          "2019-08-05",
          "2019-08-05",
          "2019-08-05",
          "2019-08-05",
          "2019-08-05",
          "2019-08-05",
          "2019-08-05",
          "2019-08-05",
          "2019-08-05",
          "2019-08-05",
          "2019-08-06",
          "2019-08-06",
          "2019-08-06",
          "2019-08-06",
          "2019-08-06",
          "2019-08-06",
          "2019-08-06",
          "2019-08-06",
          "2019-08-06",
          "2019-08-06",
          "2019-08-06",
          "2019-08-06",
          "2019-08-06",
          "2019-08-06",
          "2019-08-06",
          "2019-08-07",
          "2019-08-07",
          "2019-08-07",
          "2019-08-07",
          "2019-08-07",
          "2019-08-07",
          "2019-08-07",
          "2019-08-07",
          "2019-08-07",
          "2019-08-07",
          "2019-08-07",
          "2019-08-07",
          "2019-08-07",
          "2019-08-07",
          "2019-08-07",
          "2019-08-07",
          "2019-08-08",
          "2019-08-08",
          "2019-08-08",
          "2019-08-08",
          "2019-08-08",
          "2019-08-08",
          "2019-08-08",
          "2019-08-08",
          "2019-08-08",
          "2019-08-08",
          "2019-08-08",
          "2019-08-08",
          "2019-08-08",
          "2019-08-08",
          "2019-08-09",
          "2019-08-09",
          "2019-08-09",
          "2019-08-09",
          "2019-08-09",
          "2019-08-09",
          "2019-08-09",
          "2019-08-09",
          "2019-08-09",
          "2019-08-09",
          "2019-08-09",
          "2019-08-10",
          "2019-08-10",
          "2019-08-10",
          "2019-08-10",
          "2019-08-10",
          "2019-08-10",
          "2019-08-10",
          "2019-08-10",
          "2019-08-10",
          "2019-08-10",
          "2019-08-10",
          "2019-08-10",
          "2019-08-10",
          "2019-08-10",
          "2019-08-10",
          "2019-08-11",
          "2019-08-11",
          "2019-08-11",
          "2019-08-11",
          "2019-08-11",
          "2019-08-11",
          "2019-08-11",
          "2019-08-11",
          "2019-08-11",
          "2019-08-11",
          "2019-08-11",
          "2019-08-12",
          "2019-08-12",
          "2019-08-12",
          "2019-08-12",
          "2019-08-12",
          "2019-08-12",
          "2019-08-12",
          "2019-08-12",
          "2019-08-12",
          "2019-08-12",
          "2019-08-12",
          "2019-08-12",
          "2019-08-12",
          "2019-08-12",
          "2019-08-12",
          "2019-08-12",
          "2019-08-12",
          "2019-08-12",
          "2019-08-12",
          "2019-08-13",
          "2019-08-13",
          "2019-08-13",
          "2019-08-13",
          "2019-08-13",
          "2019-08-13",
          "2019-08-13",
          "2019-08-13",
          "2019-08-13",
          "2019-08-13",
          "2019-08-13",
          "2019-08-13",
          "2019-08-13",
          "2019-08-13",
          "2019-08-14",
          "2019-08-14",
          "2019-08-14",
          "2019-08-14",
          "2019-08-14",
          "2019-08-14",
          "2019-08-14",
          "2019-08-14",
          "2019-08-14",
          "2019-08-14",
          "2019-08-14",
          "2019-08-14",
          "2019-08-14",
          "2019-08-14",
          "2019-08-14",
          "2019-08-14",
          "2019-08-14",
          "2019-08-15",
          "2019-08-15",
          "2019-08-15",
          "2019-08-15",
          "2019-08-15",
          "2019-08-15",
          "2019-08-15",
          "2019-08-15",
          "2019-08-15",
          "2019-08-15",
          "2019-08-16",
          "2019-08-16",
          "2019-08-16",
          "2019-08-16",
          "2019-08-16",
          "2019-08-16",
          "2019-08-16",
          "2019-08-16",
          "2019-08-16",
          "2019-08-16",
          "2019-08-16",
          "2019-08-16",
          "2019-08-16",
          "2019-08-16",
          "2019-08-16",
          "2019-08-16",
          "2019-08-16",
          "2019-08-16",
          "2019-08-17",
          "2019-08-17",
          "2019-08-17",
          "2019-08-17",
          "2019-08-17",
          "2019-08-17",
          "2019-08-18",
          "2019-08-18",
          "2019-08-18",
          "2019-08-18",
          "2019-08-18",
          "2019-08-18",
          "2019-08-18",
          "2019-08-18",
          "2019-08-18",
          "2019-08-18",
          "2019-08-18",
          "2019-08-18",
          "2019-08-18",
          "2019-08-19",
          "2019-08-19",
          "2019-08-19",
          "2019-08-19",
          "2019-08-19",
          "2019-08-19",
          "2019-08-19",
          "2019-08-19",
          "2019-08-19",
          "2019-08-19",
          "2019-08-19",
          "2019-08-19",
          "2019-08-19",
          "2019-08-19",
          "2019-08-19",
          "2019-08-19",
          "2019-08-19",
          "2019-08-19",
          "2019-08-19",
          "2019-08-19",
          "2019-08-19",
          "2019-08-20",
          "2019-08-20",
          "2019-08-20",
          "2019-08-20",
          "2019-08-20",
          "2019-08-20",
          "2019-08-20",
          "2019-08-20",
          "2019-08-20",
          "2019-08-20",
          "2019-08-21",
          "2019-08-21",
          "2019-08-21",
          "2019-08-21",
          "2019-08-21",
          "2019-08-21",
          "2019-08-21",
          "2019-08-21",
          "2019-08-21",
          "2019-08-21",
          "2019-08-21",
          "2019-08-21",
          "2019-08-21",
          "2019-08-21",
          "2019-08-21",
          "2019-08-21",
          "2019-08-21",
          "2019-08-21",
          "2019-08-21",
          "2019-08-21",
          "2019-08-22",
          "2019-08-22",
          "2019-08-22",
          "2019-08-22",
          "2019-08-22",
          "2019-08-22",
          "2019-08-22",
          "2019-08-22",
          "2019-08-22",
          "2019-08-22",
          "2019-08-23",
          "2019-08-23",
          "2019-08-23",
          "2019-08-23",
          "2019-08-23",
          "2019-08-23",
          "2019-08-23",
          "2019-08-23",
          "2019-08-23",
          "2019-08-23",
          "2019-08-23",
          "2019-08-23",
          "2019-08-23",
          "2019-08-23",
          "2019-08-23",
          "2019-08-23",
          "2019-08-23",
          "2019-08-23",
          "2019-08-23",
          "2019-08-23",
          "2019-08-24",
          "2019-08-24",
          "2019-08-24",
          "2019-08-24",
          "2019-08-24",
          "2019-08-24",
          "2019-08-24",
          "2019-08-24",
          "2019-08-24",
          "2019-08-24",
          "2019-08-24",
          "2019-08-24",
          "2019-08-24",
          "2019-08-25",
          "2019-08-25",
          "2019-08-25",
          "2019-08-25",
          "2019-08-25",
          "2019-08-25",
          "2019-08-25",
          "2019-08-25",
          "2019-08-26",
          "2019-08-26",
          "2019-08-26",
          "2019-08-26",
          "2019-08-26",
          "2019-08-26",
          "2019-08-26",
          "2019-08-26",
          "2019-08-26",
          "2019-08-26",
          "2019-08-26",
          "2019-08-26",
          "2019-08-26",
          "2019-08-26",
          "2019-08-26",
          "2019-08-26",
          "2019-08-27",
          "2019-08-27",
          "2019-08-27",
          "2019-08-27",
          "2019-08-27",
          "2019-08-27",
          "2019-08-27",
          "2019-08-27",
          "2019-08-27",
          "2019-08-27",
          "2019-08-27",
          "2019-08-27",
          "2019-08-27",
          "2019-08-27",
          "2019-08-27",
          "2019-08-27",
          "2019-08-27",
          "2019-08-27",
          "2019-08-27",
          "2019-08-27",
          "2019-08-27",
          "2019-08-27",
          "2019-08-27",
          "2019-08-28",
          "2019-08-28",
          "2019-08-28",
          "2019-08-28",
          "2019-08-28",
          "2019-08-28",
          "2019-08-28",
          "2019-08-28",
          "2019-08-28",
          "2019-08-28",
          "2019-08-28",
          "2019-08-28",
          "2019-08-28",
          "2019-08-28",
          "2019-08-28",
          "2019-08-29",
          "2019-08-29",
          "2019-08-29",
          "2019-08-29",
          "2019-08-29",
          "2019-08-29",
          "2019-08-29",
          "2019-08-29",
          "2019-08-29",
          "2019-08-29",
          "2019-08-29",
          "2019-08-29",
          "2019-08-29",
          "2019-08-29",
          "2019-08-29",
          "2019-08-29",
          "2019-08-29",
          "2019-08-30",
          "2019-08-30",
          "2019-08-30",
          "2019-08-30",
          "2019-08-30",
          "2019-08-30",
          "2019-08-30",
          "2019-08-30",
          "2019-08-30",
          "2019-08-31",
          "2019-08-31",
          "2019-08-31",
          "2019-08-31",
          "2019-08-31",
          "2019-08-31",
          "2019-08-31",
          "2019-08-31"
         ],
         "xaxis": "x",
         "y": {
          "bdata": "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",
          "dtype": "f8"
         },
         "yaxis": "y"
        },
        {
         "hovertemplate": "group=B<br>date=%{x}<br>cum_conversion=%{y}<extra></extra>",
         "legendgroup": "B",
         "line": {
          "color": "#EF553B",
          "dash": "solid"
         },
         "marker": {
          "symbol": "circle"
         },
         "mode": "lines",
         "name": "B",
         "showlegend": true,
         "type": "scattergl",
         "x": [
          "2019-08-01",
          "2019-08-01",
          "2019-08-01",
          "2019-08-01",
          "2019-08-01",
          "2019-08-01",
          "2019-08-01",
          "2019-08-01",
          "2019-08-01",
          "2019-08-01",
          "2019-08-01",
          "2019-08-01",
          "2019-08-01",
          "2019-08-01",
          "2019-08-01",
          "2019-08-01",
          "2019-08-01",
          "2019-08-02",
          "2019-08-02",
          "2019-08-02",
          "2019-08-02",
          "2019-08-02",
          "2019-08-02",
          "2019-08-02",
          "2019-08-02",
          "2019-08-02",
          "2019-08-02",
          "2019-08-02",
          "2019-08-02",
          "2019-08-02",
          "2019-08-02",
          "2019-08-02",
          "2019-08-02",
          "2019-08-02",
          "2019-08-02",
          "2019-08-02",
          "2019-08-02",
          "2019-08-02",
          "2019-08-02",
          "2019-08-02",
          "2019-08-03",
          "2019-08-03",
          "2019-08-03",
          "2019-08-03",
          "2019-08-03",
          "2019-08-03",
          "2019-08-03",
          "2019-08-03",
          "2019-08-03",
          "2019-08-03",
          "2019-08-03",
          "2019-08-03",
          "2019-08-03",
          "2019-08-03",
          "2019-08-04",
          "2019-08-04",
          "2019-08-04",
          "2019-08-04",
          "2019-08-04",
          "2019-08-04",
          "2019-08-04",
          "2019-08-04",
          "2019-08-04",
          "2019-08-04",
          "2019-08-04",
          "2019-08-04",
          "2019-08-04",
          "2019-08-04",
          "2019-08-05",
          "2019-08-05",
          "2019-08-05",
          "2019-08-05",
          "2019-08-05",
          "2019-08-05",
          "2019-08-05",
          "2019-08-05",
          "2019-08-05",
          "2019-08-05",
          "2019-08-05",
          "2019-08-05",
          "2019-08-05",
          "2019-08-05",
          "2019-08-05",
          "2019-08-05",
          "2019-08-05",
          "2019-08-05",
          "2019-08-05",
          "2019-08-05",
          "2019-08-05",
          "2019-08-06",
          "2019-08-06",
          "2019-08-06",
          "2019-08-06",
          "2019-08-06",
          "2019-08-06",
          "2019-08-06",
          "2019-08-06",
          "2019-08-06",
          "2019-08-06",
          "2019-08-06",
          "2019-08-06",
          "2019-08-06",
          "2019-08-06",
          "2019-08-06",
          "2019-08-06",
          "2019-08-06",
          "2019-08-06",
          "2019-08-06",
          "2019-08-06",
          "2019-08-06",
          "2019-08-06",
          "2019-08-06",
          "2019-08-07",
          "2019-08-07",
          "2019-08-07",
          "2019-08-07",
          "2019-08-07",
          "2019-08-07",
          "2019-08-07",
          "2019-08-07",
          "2019-08-07",
          "2019-08-07",
          "2019-08-07",
          "2019-08-07",
          "2019-08-07",
          "2019-08-07",
          "2019-08-07",
          "2019-08-07",
          "2019-08-07",
          "2019-08-07",
          "2019-08-07",
          "2019-08-07",
          "2019-08-07",
          "2019-08-07",
          "2019-08-07",
          "2019-08-08",
          "2019-08-08",
          "2019-08-08",
          "2019-08-08",
          "2019-08-08",
          "2019-08-08",
          "2019-08-08",
          "2019-08-08",
          "2019-08-08",
          "2019-08-08",
          "2019-08-08",
          "2019-08-08",
          "2019-08-08",
          "2019-08-08",
          "2019-08-08",
          "2019-08-08",
          "2019-08-08",
          "2019-08-08",
          "2019-08-08",
          "2019-08-08",
          "2019-08-08",
          "2019-08-08",
          "2019-08-09",
          "2019-08-09",
          "2019-08-09",
          "2019-08-09",
          "2019-08-09",
          "2019-08-09",
          "2019-08-09",
          "2019-08-09",
          "2019-08-09",
          "2019-08-09",
          "2019-08-09",
          "2019-08-09",
          "2019-08-09",
          "2019-08-09",
          "2019-08-09",
          "2019-08-09",
          "2019-08-09",
          "2019-08-09",
          "2019-08-09",
          "2019-08-10",
          "2019-08-10",
          "2019-08-10",
          "2019-08-10",
          "2019-08-10",
          "2019-08-10",
          "2019-08-10",
          "2019-08-10",
          "2019-08-10",
          "2019-08-10",
          "2019-08-10",
          "2019-08-10",
          "2019-08-10",
          "2019-08-10",
          "2019-08-10",
          "2019-08-10",
          "2019-08-10",
          "2019-08-10",
          "2019-08-10",
          "2019-08-10",
          "2019-08-10",
          "2019-08-10",
          "2019-08-11",
          "2019-08-11",
          "2019-08-11",
          "2019-08-11",
          "2019-08-11",
          "2019-08-11",
          "2019-08-11",
          "2019-08-11",
          "2019-08-11",
          "2019-08-11",
          "2019-08-11",
          "2019-08-11",
          "2019-08-12",
          "2019-08-12",
          "2019-08-12",
          "2019-08-12",
          "2019-08-12",
          "2019-08-12",
          "2019-08-12",
          "2019-08-12",
          "2019-08-12",
          "2019-08-12",
          "2019-08-12",
          "2019-08-12",
          "2019-08-12",
          "2019-08-12",
          "2019-08-12",
          "2019-08-12",
          "2019-08-12",
          "2019-08-12",
          "2019-08-12",
          "2019-08-13",
          "2019-08-13",
          "2019-08-13",
          "2019-08-13",
          "2019-08-13",
          "2019-08-13",
          "2019-08-13",
          "2019-08-13",
          "2019-08-13",
          "2019-08-13",
          "2019-08-13",
          "2019-08-13",
          "2019-08-13",
          "2019-08-13",
          "2019-08-13",
          "2019-08-13",
          "2019-08-13",
          "2019-08-13",
          "2019-08-13",
          "2019-08-13",
          "2019-08-14",
          "2019-08-14",
          "2019-08-14",
          "2019-08-14",
          "2019-08-14",
          "2019-08-14",
          "2019-08-14",
          "2019-08-14",
          "2019-08-14",
          "2019-08-14",
          "2019-08-14",
          "2019-08-14",
          "2019-08-14",
          "2019-08-14",
          "2019-08-15",
          "2019-08-15",
          "2019-08-15",
          "2019-08-15",
          "2019-08-15",
          "2019-08-15",
          "2019-08-15",
          "2019-08-15",
          "2019-08-15",
          "2019-08-15",
          "2019-08-15",
          "2019-08-15",
          "2019-08-15",
          "2019-08-15",
          "2019-08-15",
          "2019-08-15",
          "2019-08-15",
          "2019-08-15",
          "2019-08-15",
          "2019-08-15",
          "2019-08-15",
          "2019-08-15",
          "2019-08-15",
          "2019-08-15",
          "2019-08-15",
          "2019-08-15",
          "2019-08-16",
          "2019-08-16",
          "2019-08-16",
          "2019-08-16",
          "2019-08-16",
          "2019-08-16",
          "2019-08-16",
          "2019-08-16",
          "2019-08-16",
          "2019-08-16",
          "2019-08-16",
          "2019-08-16",
          "2019-08-16",
          "2019-08-16",
          "2019-08-16",
          "2019-08-16",
          "2019-08-16",
          "2019-08-16",
          "2019-08-17",
          "2019-08-17",
          "2019-08-17",
          "2019-08-17",
          "2019-08-17",
          "2019-08-17",
          "2019-08-17",
          "2019-08-17",
          "2019-08-17",
          "2019-08-17",
          "2019-08-17",
          "2019-08-17",
          "2019-08-17",
          "2019-08-18",
          "2019-08-18",
          "2019-08-18",
          "2019-08-18",
          "2019-08-18",
          "2019-08-18",
          "2019-08-18",
          "2019-08-19",
          "2019-08-19",
          "2019-08-19",
          "2019-08-19",
          "2019-08-19",
          "2019-08-19",
          "2019-08-19",
          "2019-08-19",
          "2019-08-19",
          "2019-08-19",
          "2019-08-19",
          "2019-08-19",
          "2019-08-19",
          "2019-08-19",
          "2019-08-19",
          "2019-08-19",
          "2019-08-19",
          "2019-08-19",
          "2019-08-19",
          "2019-08-19",
          "2019-08-19",
          "2019-08-20",
          "2019-08-20",
          "2019-08-20",
          "2019-08-20",
          "2019-08-20",
          "2019-08-20",
          "2019-08-20",
          "2019-08-20",
          "2019-08-20",
          "2019-08-20",
          "2019-08-20",
          "2019-08-20",
          "2019-08-20",
          "2019-08-20",
          "2019-08-20",
          "2019-08-20",
          "2019-08-20",
          "2019-08-20",
          "2019-08-20",
          "2019-08-20",
          "2019-08-21",
          "2019-08-21",
          "2019-08-21",
          "2019-08-21",
          "2019-08-21",
          "2019-08-21",
          "2019-08-21",
          "2019-08-21",
          "2019-08-21",
          "2019-08-21",
          "2019-08-21",
          "2019-08-21",
          "2019-08-22",
          "2019-08-22",
          "2019-08-22",
          "2019-08-22",
          "2019-08-22",
          "2019-08-22",
          "2019-08-22",
          "2019-08-22",
          "2019-08-22",
          "2019-08-22",
          "2019-08-22",
          "2019-08-22",
          "2019-08-22",
          "2019-08-22",
          "2019-08-22",
          "2019-08-22",
          "2019-08-22",
          "2019-08-22",
          "2019-08-22",
          "2019-08-22",
          "2019-08-22",
          "2019-08-23",
          "2019-08-23",
          "2019-08-23",
          "2019-08-23",
          "2019-08-23",
          "2019-08-23",
          "2019-08-23",
          "2019-08-23",
          "2019-08-23",
          "2019-08-23",
          "2019-08-23",
          "2019-08-23",
          "2019-08-23",
          "2019-08-24",
          "2019-08-24",
          "2019-08-24",
          "2019-08-24",
          "2019-08-24",
          "2019-08-24",
          "2019-08-24",
          "2019-08-24",
          "2019-08-24",
          "2019-08-24",
          "2019-08-24",
          "2019-08-24",
          "2019-08-24",
          "2019-08-24",
          "2019-08-25",
          "2019-08-25",
          "2019-08-25",
          "2019-08-25",
          "2019-08-25",
          "2019-08-25",
          "2019-08-25",
          "2019-08-25",
          "2019-08-25",
          "2019-08-25",
          "2019-08-25",
          "2019-08-25",
          "2019-08-26",
          "2019-08-26",
          "2019-08-26",
          "2019-08-26",
          "2019-08-26",
          "2019-08-26",
          "2019-08-26",
          "2019-08-26",
          "2019-08-26",
          "2019-08-26",
          "2019-08-26",
          "2019-08-26",
          "2019-08-26",
          "2019-08-26",
          "2019-08-26",
          "2019-08-26",
          "2019-08-26",
          "2019-08-26",
          "2019-08-26",
          "2019-08-26",
          "2019-08-26",
          "2019-08-26",
          "2019-08-27",
          "2019-08-27",
          "2019-08-27",
          "2019-08-27",
          "2019-08-27",
          "2019-08-27",
          "2019-08-27",
          "2019-08-27",
          "2019-08-27",
          "2019-08-27",
          "2019-08-27",
          "2019-08-28",
          "2019-08-28",
          "2019-08-28",
          "2019-08-28",
          "2019-08-28",
          "2019-08-28",
          "2019-08-28",
          "2019-08-28",
          "2019-08-28",
          "2019-08-28",
          "2019-08-28",
          "2019-08-28",
          "2019-08-28",
          "2019-08-28",
          "2019-08-28",
          "2019-08-28",
          "2019-08-28",
          "2019-08-28",
          "2019-08-28",
          "2019-08-28",
          "2019-08-28",
          "2019-08-28",
          "2019-08-29",
          "2019-08-29",
          "2019-08-29",
          "2019-08-29",
          "2019-08-29",
          "2019-08-29",
          "2019-08-29",
          "2019-08-29",
          "2019-08-29",
          "2019-08-29",
          "2019-08-29",
          "2019-08-29",
          "2019-08-29",
          "2019-08-29",
          "2019-08-29",
          "2019-08-30",
          "2019-08-30",
          "2019-08-30",
          "2019-08-30",
          "2019-08-30",
          "2019-08-30",
          "2019-08-30",
          "2019-08-30",
          "2019-08-30",
          "2019-08-30",
          "2019-08-30",
          "2019-08-30",
          "2019-08-30",
          "2019-08-30",
          "2019-08-30",
          "2019-08-30",
          "2019-08-30",
          "2019-08-30",
          "2019-08-30",
          "2019-08-30",
          "2019-08-30",
          "2019-08-31",
          "2019-08-31",
          "2019-08-31",
          "2019-08-31",
          "2019-08-31",
          "2019-08-31",
          "2019-08-31",
          "2019-08-31",
          "2019-08-31",
          "2019-08-31",
          "2019-08-31",
          "2019-08-31",
          "2019-08-31",
          "2019-08-31",
          "2019-08-31",
          "2019-08-31",
          "2019-08-31"
         ],
         "xaxis": "x",
         "y": {
          "bdata": "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",
          "dtype": "f8"
         },
         "yaxis": "y"
        }
       ],
       "layout": {
        "legend": {
         "title": {
          "text": "group"
         },
         "tracegroupgap": 0
        },
        "template": {
         "data": {
          "bar": [
           {
            "error_x": {
             "color": "#2a3f5f"
            },
            "error_y": {
             "color": "#2a3f5f"
            },
            "marker": {
             "line": {
              "color": "#E5ECF6",
              "width": 0.5
             },
             "pattern": {
              "fillmode": "overlay",
              "size": 10,
              "solidity": 0.2
             }
            },
            "type": "bar"
           }
          ],
          "barpolar": [
           {
            "marker": {
             "line": {
              "color": "#E5ECF6",
              "width": 0.5
             },
             "pattern": {
              "fillmode": "overlay",
              "size": 10,
              "solidity": 0.2
             }
            },
            "type": "barpolar"
           }
          ],
          "carpet": [
           {
            "aaxis": {
             "endlinecolor": "#2a3f5f",
             "gridcolor": "white",
             "linecolor": "white",
             "minorgridcolor": "white",
             "startlinecolor": "#2a3f5f"
            },
            "baxis": {
             "endlinecolor": "#2a3f5f",
             "gridcolor": "white",
             "linecolor": "white",
             "minorgridcolor": "white",
             "startlinecolor": "#2a3f5f"
            },
            "type": "carpet"
           }
          ],
          "choropleth": [
           {
            "colorbar": {
             "outlinewidth": 0,
             "ticks": ""
            },
            "type": "choropleth"
           }
          ],
          "contour": [
           {
            "colorbar": {
             "outlinewidth": 0,
             "ticks": ""
            },
            "colorscale": [
             [
              0,
              "#0d0887"
             ],
             [
              0.1111111111111111,
              "#46039f"
             ],
             [
              0.2222222222222222,
              "#7201a8"
             ],
             [
              0.3333333333333333,
              "#9c179e"
             ],
             [
              0.4444444444444444,
              "#bd3786"
             ],
             [
              0.5555555555555556,
              "#d8576b"
             ],
             [
              0.6666666666666666,
              "#ed7953"
             ],
             [
              0.7777777777777778,
              "#fb9f3a"
             ],
             [
              0.8888888888888888,
              "#fdca26"
             ],
             [
              1,
              "#f0f921"
             ]
            ],
            "type": "contour"
           }
          ],
          "contourcarpet": [
           {
            "colorbar": {
             "outlinewidth": 0,
             "ticks": ""
            },
            "type": "contourcarpet"
           }
          ],
          "heatmap": [
           {
            "colorbar": {
             "outlinewidth": 0,
             "ticks": ""
            },
            "colorscale": [
             [
              0,
              "#0d0887"
             ],
             [
              0.1111111111111111,
              "#46039f"
             ],
             [
              0.2222222222222222,
              "#7201a8"
             ],
             [
              0.3333333333333333,
              "#9c179e"
             ],
             [
              0.4444444444444444,
              "#bd3786"
             ],
             [
              0.5555555555555556,
              "#d8576b"
             ],
             [
              0.6666666666666666,
              "#ed7953"
             ],
             [
              0.7777777777777778,
              "#fb9f3a"
             ],
             [
              0.8888888888888888,
              "#fdca26"
             ],
             [
              1,
              "#f0f921"
             ]
            ],
            "type": "heatmap"
           }
          ],
          "histogram": [
           {
            "marker": {
             "pattern": {
              "fillmode": "overlay",
              "size": 10,
              "solidity": 0.2
             }
            },
            "type": "histogram"
           }
          ],
          "histogram2d": [
           {
            "colorbar": {
             "outlinewidth": 0,
             "ticks": ""
            },
            "colorscale": [
             [
              0,
              "#0d0887"
             ],
             [
              0.1111111111111111,
              "#46039f"
             ],
             [
              0.2222222222222222,
              "#7201a8"
             ],
             [
              0.3333333333333333,
              "#9c179e"
             ],
             [
              0.4444444444444444,
              "#bd3786"
             ],
             [
              0.5555555555555556,
              "#d8576b"
             ],
             [
              0.6666666666666666,
              "#ed7953"
             ],
             [
              0.7777777777777778,
              "#fb9f3a"
             ],
             [
              0.8888888888888888,
              "#fdca26"
             ],
             [
              1,
              "#f0f921"
             ]
            ],
            "type": "histogram2d"
           }
          ],
          "histogram2dcontour": [
           {
            "colorbar": {
             "outlinewidth": 0,
             "ticks": ""
            },
            "colorscale": [
             [
              0,
              "#0d0887"
             ],
             [
              0.1111111111111111,
              "#46039f"
             ],
             [
              0.2222222222222222,
              "#7201a8"
             ],
             [
              0.3333333333333333,
              "#9c179e"
             ],
             [
              0.4444444444444444,
              "#bd3786"
             ],
             [
              0.5555555555555556,
              "#d8576b"
             ],
             [
              0.6666666666666666,
              "#ed7953"
             ],
             [
              0.7777777777777778,
              "#fb9f3a"
             ],
             [
              0.8888888888888888,
              "#fdca26"
             ],
             [
              1,
              "#f0f921"
             ]
            ],
            "type": "histogram2dcontour"
           }
          ],
          "mesh3d": [
           {
            "colorbar": {
             "outlinewidth": 0,
             "ticks": ""
            },
            "type": "mesh3d"
           }
          ],
          "parcoords": [
           {
            "line": {
             "colorbar": {
              "outlinewidth": 0,
              "ticks": ""
             }
            },
            "type": "parcoords"
           }
          ],
          "pie": [
           {
            "automargin": true,
            "type": "pie"
           }
          ],
          "scatter": [
           {
            "fillpattern": {
             "fillmode": "overlay",
             "size": 10,
             "solidity": 0.2
            },
            "type": "scatter"
           }
          ],
          "scatter3d": [
           {
            "line": {
             "colorbar": {
              "outlinewidth": 0,
              "ticks": ""
             }
            },
            "marker": {
             "colorbar": {
              "outlinewidth": 0,
              "ticks": ""
             }
            },
            "type": "scatter3d"
           }
          ],
          "scattercarpet": [
           {
            "marker": {
             "colorbar": {
              "outlinewidth": 0,
              "ticks": ""
             }
            },
            "type": "scattercarpet"
           }
          ],
          "scattergeo": [
           {
            "marker": {
             "colorbar": {
              "outlinewidth": 0,
              "ticks": ""
             }
            },
            "type": "scattergeo"
           }
          ],
          "scattergl": [
           {
            "marker": {
             "colorbar": {
              "outlinewidth": 0,
              "ticks": ""
             }
            },
            "type": "scattergl"
           }
          ],
          "scattermap": [
           {
            "marker": {
             "colorbar": {
              "outlinewidth": 0,
              "ticks": ""
             }
            },
            "type": "scattermap"
           }
          ],
          "scattermapbox": [
           {
            "marker": {
             "colorbar": {
              "outlinewidth": 0,
              "ticks": ""
             }
            },
            "type": "scattermapbox"
           }
          ],
          "scatterpolar": [
           {
            "marker": {
             "colorbar": {
              "outlinewidth": 0,
              "ticks": ""
             }
            },
            "type": "scatterpolar"
           }
          ],
          "scatterpolargl": [
           {
            "marker": {
             "colorbar": {
              "outlinewidth": 0,
              "ticks": ""
             }
            },
            "type": "scatterpolargl"
           }
          ],
          "scatterternary": [
           {
            "marker": {
             "colorbar": {
              "outlinewidth": 0,
              "ticks": ""
             }
            },
            "type": "scatterternary"
           }
          ],
          "surface": [
           {
            "colorbar": {
             "outlinewidth": 0,
             "ticks": ""
            },
            "colorscale": [
             [
              0,
              "#0d0887"
             ],
             [
              0.1111111111111111,
              "#46039f"
             ],
             [
              0.2222222222222222,
              "#7201a8"
             ],
             [
              0.3333333333333333,
              "#9c179e"
             ],
             [
              0.4444444444444444,
              "#bd3786"
             ],
             [
              0.5555555555555556,
              "#d8576b"
             ],
             [
              0.6666666666666666,
              "#ed7953"
             ],
             [
              0.7777777777777778,
              "#fb9f3a"
             ],
             [
              0.8888888888888888,
              "#fdca26"
             ],
             [
              1,
              "#f0f921"
             ]
            ],
            "type": "surface"
           }
          ],
          "table": [
           {
            "cells": {
             "fill": {
              "color": "#EBF0F8"
             },
             "line": {
              "color": "white"
             }
            },
            "header": {
             "fill": {
              "color": "#C8D4E3"
             },
             "line": {
              "color": "white"
             }
            },
            "type": "table"
           }
          ]
         },
         "layout": {
          "annotationdefaults": {
           "arrowcolor": "#2a3f5f",
           "arrowhead": 0,
           "arrowwidth": 1
          },
          "autotypenumbers": "strict",
          "coloraxis": {
           "colorbar": {
            "outlinewidth": 0,
            "ticks": ""
           }
          },
          "colorscale": {
           "diverging": [
            [
             0,
             "#8e0152"
            ],
            [
             0.1,
             "#c51b7d"
            ],
            [
             0.2,
             "#de77ae"
            ],
            [
             0.3,
             "#f1b6da"
            ],
            [
             0.4,
             "#fde0ef"
            ],
            [
             0.5,
             "#f7f7f7"
            ],
            [
             0.6,
             "#e6f5d0"
            ],
            [
             0.7,
             "#b8e186"
            ],
            [
             0.8,
             "#7fbc41"
            ],
            [
             0.9,
             "#4d9221"
            ],
            [
             1,
             "#276419"
            ]
           ],
           "sequential": [
            [
             0,
             "#0d0887"
            ],
            [
             0.1111111111111111,
             "#46039f"
            ],
            [
             0.2222222222222222,
             "#7201a8"
            ],
            [
             0.3333333333333333,
             "#9c179e"
            ],
            [
             0.4444444444444444,
             "#bd3786"
            ],
            [
             0.5555555555555556,
             "#d8576b"
            ],
            [
             0.6666666666666666,
             "#ed7953"
            ],
            [
             0.7777777777777778,
             "#fb9f3a"
            ],
            [
             0.8888888888888888,
             "#fdca26"
            ],
            [
             1,
             "#f0f921"
            ]
           ],
           "sequentialminus": [
            [
             0,
             "#0d0887"
            ],
            [
             0.1111111111111111,
             "#46039f"
            ],
            [
             0.2222222222222222,
             "#7201a8"
            ],
            [
             0.3333333333333333,
             "#9c179e"
            ],
            [
             0.4444444444444444,
             "#bd3786"
            ],
            [
             0.5555555555555556,
             "#d8576b"
            ],
            [
             0.6666666666666666,
             "#ed7953"
            ],
            [
             0.7777777777777778,
             "#fb9f3a"
            ],
            [
             0.8888888888888888,
             "#fdca26"
            ],
            [
             1,
             "#f0f921"
            ]
           ]
          },
          "colorway": [
           "#636efa",
           "#EF553B",
           "#00cc96",
           "#ab63fa",
           "#FFA15A",
           "#19d3f3",
           "#FF6692",
           "#B6E880",
           "#FF97FF",
           "#FECB52"
          ],
          "font": {
           "color": "#2a3f5f"
          },
          "geo": {
           "bgcolor": "white",
           "lakecolor": "white",
           "landcolor": "#E5ECF6",
           "showlakes": true,
           "showland": true,
           "subunitcolor": "white"
          },
          "hoverlabel": {
           "align": "left"
          },
          "hovermode": "closest",
          "mapbox": {
           "style": "light"
          },
          "paper_bgcolor": "white",
          "plot_bgcolor": "#E5ECF6",
          "polar": {
           "angularaxis": {
            "gridcolor": "white",
            "linecolor": "white",
            "ticks": ""
           },
           "bgcolor": "#E5ECF6",
           "radialaxis": {
            "gridcolor": "white",
            "linecolor": "white",
            "ticks": ""
           }
          },
          "scene": {
           "xaxis": {
            "backgroundcolor": "#E5ECF6",
            "gridcolor": "white",
            "gridwidth": 2,
            "linecolor": "white",
            "showbackground": true,
            "ticks": "",
            "zerolinecolor": "white"
           },
           "yaxis": {
            "backgroundcolor": "#E5ECF6",
            "gridcolor": "white",
            "gridwidth": 2,
            "linecolor": "white",
            "showbackground": true,
            "ticks": "",
            "zerolinecolor": "white"
           },
           "zaxis": {
            "backgroundcolor": "#E5ECF6",
            "gridcolor": "white",
            "gridwidth": 2,
            "linecolor": "white",
            "showbackground": true,
            "ticks": "",
            "zerolinecolor": "white"
           }
          },
          "shapedefaults": {
           "line": {
            "color": "#2a3f5f"
           }
          },
          "ternary": {
           "aaxis": {
            "gridcolor": "white",
            "linecolor": "white",
            "ticks": ""
           },
           "baxis": {
            "gridcolor": "white",
            "linecolor": "white",
            "ticks": ""
           },
           "bgcolor": "#E5ECF6",
           "caxis": {
            "gridcolor": "white",
            "linecolor": "white",
            "ticks": ""
           }
          },
          "title": {
           "x": 0.05
          },
          "xaxis": {
           "automargin": true,
           "gridcolor": "white",
           "linecolor": "white",
           "ticks": "",
           "title": {
            "standoff": 15
           },
           "zerolinecolor": "white",
           "zerolinewidth": 2
          },
          "yaxis": {
           "automargin": true,
           "gridcolor": "white",
           "linecolor": "white",
           "ticks": "",
           "title": {
            "standoff": 15
           },
           "zerolinecolor": "white",
           "zerolinewidth": 2
          }
         }
        },
        "title": {
         "text": "Cumulative Conversion Rate by Group"
        },
        "xaxis": {
         "anchor": "y",
         "domain": [
          0,
          1
         ],
         "dtick": "D1",
         "title": {
          "text": "date"
         }
        },
        "yaxis": {
         "anchor": "x",
         "domain": [
          0,
          1
         ],
         "tickformat": ".2%",
         "title": {
          "text": "cum_conversion"
         }
        }
       }
      }
     },
     "metadata": {},
     "output_type": "display_data"
    }
   ],
   "source": [
    "fig = px.line(df_orders, x=\"date\", y=\"cum_conversion\", color=\"group\", title=\"Cumulative Conversion Rate by Group\")\n",
    "fig.update_yaxes(tickformat=\".2%\")\n",
    "fig.update_xaxes(dtick=\"D1\")\n",
    "fig.show()"
   ]
  },
  {
   "cell_type": "markdown",
   "id": "88d1643c",
   "metadata": {},
   "source": [
    "`LSPL`: \n",
    "- Group B performs better in conversion than A, both in the overall distribution (KDE) and in the cumulative rate.\n",
    "- The daily signal is noisy, so relying solely on the daily conversion graph can be misleading.\n",
    "- The fact that B maintains an advantage in the cumulative rate suggests that the difference is not due to chance.\n",
    "\n",
    "Next step: confirm with a statistical significance test to validate whether the difference is statistically reliable."
   ]
  },
  {
   "cell_type": "markdown",
   "id": "d7e05b16",
   "metadata": {},
   "source": [
    "##### __5.2.5__  Draw a scatter plot of the number of orders per user. Make conclusions and conjectures."
   ]
  },
  {
   "cell_type": "code",
   "execution_count": 50,
   "id": "fda76b8b",
   "metadata": {},
   "outputs": [
    {
     "data": {
      "application/vnd.microsoft.datawrangler.viewer.v0+json": {
       "columns": [
        {
         "name": "index",
         "rawType": "int64",
         "type": "integer"
        },
        {
         "name": "transactionid",
         "rawType": "int64",
         "type": "integer"
        },
        {
         "name": "visitorid",
         "rawType": "int64",
         "type": "integer"
        },
        {
         "name": "date",
         "rawType": "object",
         "type": "unknown"
        },
        {
         "name": "revenue",
         "rawType": "float64",
         "type": "float"
        },
        {
         "name": "group",
         "rawType": "category",
         "type": "unknown"
        }
       ],
       "ref": "4cc624b1-0852-458e-9cca-a629995a852e",
       "rows": [
        [
         "0",
         "1144701458",
         "1143609305",
         "2019-08-01",
         "45.3",
         "A"
        ],
        [
         "1",
         "477940151",
         "1422773200",
         "2019-08-01",
         "15.8",
         "A"
        ],
        [
         "2",
         "1295850747",
         "2947100995",
         "2019-08-01",
         "455.8",
         "A"
        ],
        [
         "3",
         "1170105516",
         "2706377257",
         "2019-08-01",
         "140.8",
         "A"
        ],
        [
         "4",
         "1962247337",
         "2706377257",
         "2019-08-01",
         "110.7",
         "A"
        ],
        [
         "5",
         "2951489300",
         "926057494",
         "2019-08-01",
         "5.6",
         "A"
        ],
        [
         "6",
         "3847160695",
         "1830791924",
         "2019-08-01",
         "40.2",
         "A"
        ],
        [
         "7",
         "3328372908",
         "381340408",
         "2019-08-01",
         "50.1",
         "A"
        ],
        [
         "8",
         "627804981",
         "611059232",
         "2019-08-01",
         "275.8",
         "A"
        ],
        [
         "9",
         "2663968367",
         "821846484",
         "2019-08-01",
         "30.1",
         "A"
        ],
        [
         "10",
         "1798931686",
         "1211585711",
         "2019-08-01",
         "440.3",
         "A"
        ],
        [
         "11",
         "602399015",
         "3967698036",
         "2019-08-01",
         "5.6",
         "A"
        ],
        [
         "12",
         "3433533137",
         "678354126",
         "2019-08-01",
         "100.4",
         "A"
        ],
        [
         "13",
         "365058890",
         "611059232",
         "2019-08-01",
         "45.3",
         "A"
        ],
        [
         "14",
         "735232225",
         "611059232",
         "2019-08-01",
         "140.4",
         "A"
        ],
        [
         "15",
         "52260954",
         "3967698036",
         "2019-08-01",
         "20.2",
         "A"
        ],
        [
         "16",
         "4045393544",
         "991436984",
         "2019-08-01",
         "30.5",
         "A"
        ],
        [
         "17",
         "4206138190",
         "1219079053",
         "2019-08-01",
         "80.5",
         "A"
        ],
        [
         "18",
         "891673177",
         "572335325",
         "2019-08-01",
         "60.8",
         "A"
        ],
        [
         "19",
         "2065527789",
         "1581167209",
         "2019-08-01",
         "30.4",
         "A"
        ],
        [
         "20",
         "3588515863",
         "1737494355",
         "2019-08-01",
         "30.8",
         "A"
        ],
        [
         "21",
         "617930325",
         "2785040378",
         "2019-08-01",
         "55.8",
         "A"
        ],
        [
         "22",
         "2153842875",
         "876081193",
         "2019-08-01",
         "55.4",
         "A"
        ],
        [
         "23",
         "4919758",
         "1217561296",
         "2019-08-01",
         "40.2",
         "B"
        ],
        [
         "24",
         "3574407166",
         "2328378067",
         "2019-08-01",
         "140.4",
         "B"
        ],
        [
         "25",
         "2012801741",
         "414545763",
         "2019-08-01",
         "90.5",
         "B"
        ],
        [
         "26",
         "804934578",
         "1738775963",
         "2019-08-01",
         "50.8",
         "B"
        ],
        [
         "27",
         "2951399376",
         "2019355024",
         "2019-08-01",
         "40.2",
         "B"
        ],
        [
         "28",
         "2411689164",
         "2019205281",
         "2019-08-01",
         "80.2",
         "B"
        ],
        [
         "29",
         "3749160238",
         "1700445283",
         "2019-08-01",
         "110.5",
         "B"
        ],
        [
         "30",
         "3486821141",
         "1225835168",
         "2019-08-01",
         "5.6",
         "B"
        ],
        [
         "31",
         "3394915331",
         "1354599463",
         "2019-08-01",
         "120.3",
         "B"
        ],
        [
         "32",
         "1578920557",
         "680119828",
         "2019-08-01",
         "10.6",
         "B"
        ],
        [
         "33",
         "1403947326",
         "1075551409",
         "2019-08-01",
         "10.0",
         "B"
        ],
        [
         "34",
         "2774185760",
         "975516572",
         "2019-08-01",
         "20.3",
         "B"
        ],
        [
         "35",
         "854120002",
         "544963298",
         "2019-08-01",
         "25.9",
         "B"
        ],
        [
         "36",
         "3650534576",
         "134926050",
         "2019-08-01",
         "50.0",
         "B"
        ],
        [
         "37",
         "4238948438",
         "363280180",
         "2019-08-01",
         "5.6",
         "B"
        ],
        [
         "38",
         "1728664132",
         "1596819047",
         "2019-08-01",
         "10.6",
         "B"
        ],
        [
         "39",
         "3227521980",
         "3938001975",
         "2019-08-01",
         "155.5",
         "B"
        ],
        [
         "40",
         "1223645875",
         "3123255051",
         "2019-08-02",
         "50.8",
         "A"
        ],
        [
         "41",
         "1876585139",
         "2871453277",
         "2019-08-02",
         "110.8",
         "A"
        ],
        [
         "42",
         "2361024027",
         "3967698036",
         "2019-08-02",
         "30.0",
         "A"
        ],
        [
         "43",
         "2815409412",
         "2125253600",
         "2019-08-02",
         "15.7",
         "A"
        ],
        [
         "44",
         "2872509092",
         "983496389",
         "2019-08-02",
         "5.5",
         "A"
        ],
        [
         "45",
         "1216926230",
         "1500448895",
         "2019-08-02",
         "45.7",
         "A"
        ],
        [
         "46",
         "2206098194",
         "2880866577",
         "2019-08-02",
         "30.0",
         "A"
        ],
        [
         "47",
         "3390093829",
         "3199637546",
         "2019-08-02",
         "45.6",
         "A"
        ],
        [
         "48",
         "873230871",
         "236764260",
         "2019-08-02",
         "90.8",
         "A"
        ],
        [
         "49",
         "3485678199",
         "2232111114",
         "2019-08-02",
         "270.0",
         "A"
        ]
       ],
       "shape": {
        "columns": 5,
        "rows": 1016
       }
      },
      "text/html": [
       "<div>\n",
       "<style scoped>\n",
       "    .dataframe tbody tr th:only-of-type {\n",
       "        vertical-align: middle;\n",
       "    }\n",
       "\n",
       "    .dataframe tbody tr th {\n",
       "        vertical-align: top;\n",
       "    }\n",
       "\n",
       "    .dataframe thead th {\n",
       "        text-align: right;\n",
       "    }\n",
       "</style>\n",
       "<table border=\"1\" class=\"dataframe\">\n",
       "  <thead>\n",
       "    <tr style=\"text-align: right;\">\n",
       "      <th></th>\n",
       "      <th>transactionid</th>\n",
       "      <th>visitorid</th>\n",
       "      <th>date</th>\n",
       "      <th>revenue</th>\n",
       "      <th>group</th>\n",
       "    </tr>\n",
       "  </thead>\n",
       "  <tbody>\n",
       "    <tr>\n",
       "      <th>0</th>\n",
       "      <td>1144701458</td>\n",
       "      <td>1143609305</td>\n",
       "      <td>2019-08-01</td>\n",
       "      <td>45.3</td>\n",
       "      <td>A</td>\n",
       "    </tr>\n",
       "    <tr>\n",
       "      <th>1</th>\n",
       "      <td>477940151</td>\n",
       "      <td>1422773200</td>\n",
       "      <td>2019-08-01</td>\n",
       "      <td>15.8</td>\n",
       "      <td>A</td>\n",
       "    </tr>\n",
       "    <tr>\n",
       "      <th>2</th>\n",
       "      <td>1295850747</td>\n",
       "      <td>2947100995</td>\n",
       "      <td>2019-08-01</td>\n",
       "      <td>455.8</td>\n",
       "      <td>A</td>\n",
       "    </tr>\n",
       "    <tr>\n",
       "      <th>3</th>\n",
       "      <td>1170105516</td>\n",
       "      <td>2706377257</td>\n",
       "      <td>2019-08-01</td>\n",
       "      <td>140.8</td>\n",
       "      <td>A</td>\n",
       "    </tr>\n",
       "    <tr>\n",
       "      <th>4</th>\n",
       "      <td>1962247337</td>\n",
       "      <td>2706377257</td>\n",
       "      <td>2019-08-01</td>\n",
       "      <td>110.7</td>\n",
       "      <td>A</td>\n",
       "    </tr>\n",
       "    <tr>\n",
       "      <th>...</th>\n",
       "      <td>...</td>\n",
       "      <td>...</td>\n",
       "      <td>...</td>\n",
       "      <td>...</td>\n",
       "      <td>...</td>\n",
       "    </tr>\n",
       "    <tr>\n",
       "      <th>1011</th>\n",
       "      <td>2886170101</td>\n",
       "      <td>930758570</td>\n",
       "      <td>2019-08-31</td>\n",
       "      <td>105.7</td>\n",
       "      <td>B</td>\n",
       "    </tr>\n",
       "    <tr>\n",
       "      <th>1012</th>\n",
       "      <td>3845118557</td>\n",
       "      <td>1964413493</td>\n",
       "      <td>2019-08-31</td>\n",
       "      <td>5.5</td>\n",
       "      <td>B</td>\n",
       "    </tr>\n",
       "    <tr>\n",
       "      <th>1013</th>\n",
       "      <td>853409662</td>\n",
       "      <td>1390677121</td>\n",
       "      <td>2019-08-31</td>\n",
       "      <td>290.5</td>\n",
       "      <td>B</td>\n",
       "    </tr>\n",
       "    <tr>\n",
       "      <th>1014</th>\n",
       "      <td>4149581711</td>\n",
       "      <td>1555048873</td>\n",
       "      <td>2019-08-31</td>\n",
       "      <td>30.2</td>\n",
       "      <td>B</td>\n",
       "    </tr>\n",
       "    <tr>\n",
       "      <th>1015</th>\n",
       "      <td>2983450240</td>\n",
       "      <td>1605520752</td>\n",
       "      <td>2019-08-31</td>\n",
       "      <td>435.5</td>\n",
       "      <td>B</td>\n",
       "    </tr>\n",
       "  </tbody>\n",
       "</table>\n",
       "<p>1016 rows × 5 columns</p>\n",
       "</div>"
      ],
      "text/plain": [
       "      transactionid   visitorid        date  revenue group\n",
       "0        1144701458  1143609305  2019-08-01     45.3     A\n",
       "1         477940151  1422773200  2019-08-01     15.8     A\n",
       "2        1295850747  2947100995  2019-08-01    455.8     A\n",
       "3        1170105516  2706377257  2019-08-01    140.8     A\n",
       "4        1962247337  2706377257  2019-08-01    110.7     A\n",
       "...             ...         ...         ...      ...   ...\n",
       "1011     2886170101   930758570  2019-08-31    105.7     B\n",
       "1012     3845118557  1964413493  2019-08-31      5.5     B\n",
       "1013      853409662  1390677121  2019-08-31    290.5     B\n",
       "1014     4149581711  1555048873  2019-08-31     30.2     B\n",
       "1015     2983450240  1605520752  2019-08-31    435.5     B\n",
       "\n",
       "[1016 rows x 5 columns]"
      ]
     },
     "execution_count": 50,
     "metadata": {},
     "output_type": "execute_result"
    }
   ],
   "source": [
    "df_orders = df_orders.loc[:, ['transactionid', 'visitorid', 'date', 'revenue', 'group']]\n",
    "df_orders"
   ]
  },
  {
   "cell_type": "code",
   "execution_count": 51,
   "id": "0f121f53",
   "metadata": {},
   "outputs": [
    {
     "data": {
      "application/vnd.microsoft.datawrangler.viewer.v0+json": {
       "columns": [
        {
         "name": "index",
         "rawType": "int64",
         "type": "integer"
        },
        {
         "name": "visitorid",
         "rawType": "int64",
         "type": "integer"
        },
        {
         "name": "group",
         "rawType": "category",
         "type": "unknown"
        },
        {
         "name": "orders",
         "rawType": "int64",
         "type": "integer"
        }
       ],
       "ref": "fb5b13df-d193-4e94-896a-87cab0983e2b",
       "rows": [
        [
         "1",
         "5114589",
         "B",
         "1"
        ],
        [
         "3",
         "6958315",
         "B",
         "1"
        ],
        [
         "4",
         "11685486",
         "A",
         "1"
        ],
        [
         "7",
         "39475350",
         "B",
         "1"
        ],
        [
         "9",
         "47206413",
         "B",
         "1"
        ],
        [
         "11",
         "48147722",
         "B",
         "1"
        ],
        [
         "12",
         "54447517",
         "A",
         "1"
        ],
        [
         "15",
         "56960363",
         "B",
         "1"
        ],
        [
         "16",
         "66685450",
         "A",
         "1"
        ],
        [
         "19",
         "71018815",
         "B",
         "1"
        ],
        [
         "21",
         "78678012",
         "B",
         "1"
        ],
        [
         "22",
         "78758296",
         "A",
         "1"
        ],
        [
         "24",
         "85103373",
         "A",
         "1"
        ],
        [
         "26",
         "87885904",
         "A",
         "1"
        ],
        [
         "29",
         "91069833",
         "B",
         "1"
        ],
        [
         "31",
         "102981183",
         "B",
         "1"
        ],
        [
         "33",
         "104602633",
         "B",
         "1"
        ],
        [
         "34",
         "109615108",
         "A",
         "1"
        ],
        [
         "37",
         "113298937",
         "B",
         "1"
        ],
        [
         "39",
         "114507418",
         "B",
         "1"
        ],
        [
         "41",
         "117599621",
         "B",
         "1"
        ],
        [
         "42",
         "130417038",
         "A",
         "1"
        ],
        [
         "44",
         "132143192",
         "A",
         "1"
        ],
        [
         "47",
         "134926050",
         "B",
         "1"
        ],
        [
         "48",
         "138252163",
         "A",
         "1"
        ],
        [
         "50",
         "148427295",
         "A",
         "1"
        ],
        [
         "52",
         "151496413",
         "A",
         "1"
        ],
        [
         "55",
         "152397976",
         "B",
         "1"
        ],
        [
         "57",
         "154576532",
         "B",
         "1"
        ],
        [
         "59",
         "154825609",
         "B",
         "1"
        ],
        [
         "61",
         "157579733",
         "B",
         "1"
        ],
        [
         "63",
         "162423694",
         "B",
         "1"
        ],
        [
         "65",
         "171459513",
         "B",
         "1"
        ],
        [
         "67",
         "172218683",
         "B",
         "1"
        ],
        [
         "68",
         "178249104",
         "A",
         "1"
        ],
        [
         "71",
         "179951984",
         "B",
         "1"
        ],
        [
         "72",
         "181166394",
         "A",
         "1"
        ],
        [
         "74",
         "182753106",
         "A",
         "1"
        ],
        [
         "76",
         "184835319",
         "A",
         "1"
        ],
        [
         "78",
         "187589092",
         "A",
         "1"
        ],
        [
         "81",
         "191870721",
         "B",
         "1"
        ],
        [
         "83",
         "194969263",
         "B",
         "1"
        ],
        [
         "85",
         "195530970",
         "B",
         "1"
        ],
        [
         "86",
         "199874245",
         "A",
         "1"
        ],
        [
         "89",
         "201615765",
         "B",
         "1"
        ],
        [
         "91",
         "204675465",
         "B",
         "1"
        ],
        [
         "93",
         "206724078",
         "B",
         "1"
        ],
        [
         "95",
         "222718357",
         "B",
         "1"
        ],
        [
         "97",
         "228221722",
         "B",
         "1"
        ],
        [
         "99",
         "233773277",
         "B",
         "1"
        ]
       ],
       "shape": {
        "columns": 3,
        "rows": 973
       }
      },
      "text/html": [
       "<div>\n",
       "<style scoped>\n",
       "    .dataframe tbody tr th:only-of-type {\n",
       "        vertical-align: middle;\n",
       "    }\n",
       "\n",
       "    .dataframe tbody tr th {\n",
       "        vertical-align: top;\n",
       "    }\n",
       "\n",
       "    .dataframe thead th {\n",
       "        text-align: right;\n",
       "    }\n",
       "</style>\n",
       "<table border=\"1\" class=\"dataframe\">\n",
       "  <thead>\n",
       "    <tr style=\"text-align: right;\">\n",
       "      <th></th>\n",
       "      <th>visitorid</th>\n",
       "      <th>group</th>\n",
       "      <th>orders</th>\n",
       "    </tr>\n",
       "  </thead>\n",
       "  <tbody>\n",
       "    <tr>\n",
       "      <th>1</th>\n",
       "      <td>5114589</td>\n",
       "      <td>B</td>\n",
       "      <td>1</td>\n",
       "    </tr>\n",
       "    <tr>\n",
       "      <th>3</th>\n",
       "      <td>6958315</td>\n",
       "      <td>B</td>\n",
       "      <td>1</td>\n",
       "    </tr>\n",
       "    <tr>\n",
       "      <th>4</th>\n",
       "      <td>11685486</td>\n",
       "      <td>A</td>\n",
       "      <td>1</td>\n",
       "    </tr>\n",
       "    <tr>\n",
       "      <th>7</th>\n",
       "      <td>39475350</td>\n",
       "      <td>B</td>\n",
       "      <td>1</td>\n",
       "    </tr>\n",
       "    <tr>\n",
       "      <th>9</th>\n",
       "      <td>47206413</td>\n",
       "      <td>B</td>\n",
       "      <td>1</td>\n",
       "    </tr>\n",
       "    <tr>\n",
       "      <th>...</th>\n",
       "      <td>...</td>\n",
       "      <td>...</td>\n",
       "      <td>...</td>\n",
       "    </tr>\n",
       "    <tr>\n",
       "      <th>1936</th>\n",
       "      <td>4259830713</td>\n",
       "      <td>A</td>\n",
       "      <td>1</td>\n",
       "    </tr>\n",
       "    <tr>\n",
       "      <th>1938</th>\n",
       "      <td>4278982564</td>\n",
       "      <td>A</td>\n",
       "      <td>1</td>\n",
       "    </tr>\n",
       "    <tr>\n",
       "      <th>1941</th>\n",
       "      <td>4279090005</td>\n",
       "      <td>B</td>\n",
       "      <td>1</td>\n",
       "    </tr>\n",
       "    <tr>\n",
       "      <th>1943</th>\n",
       "      <td>4281247801</td>\n",
       "      <td>B</td>\n",
       "      <td>1</td>\n",
       "    </tr>\n",
       "    <tr>\n",
       "      <th>1945</th>\n",
       "      <td>4283872382</td>\n",
       "      <td>B</td>\n",
       "      <td>1</td>\n",
       "    </tr>\n",
       "  </tbody>\n",
       "</table>\n",
       "<p>973 rows × 3 columns</p>\n",
       "</div>"
      ],
      "text/plain": [
       "       visitorid group  orders\n",
       "1        5114589     B       1\n",
       "3        6958315     B       1\n",
       "4       11685486     A       1\n",
       "7       39475350     B       1\n",
       "9       47206413     B       1\n",
       "...          ...   ...     ...\n",
       "1936  4259830713     A       1\n",
       "1938  4278982564     A       1\n",
       "1941  4279090005     B       1\n",
       "1943  4281247801     B       1\n",
       "1945  4283872382     B       1\n",
       "\n",
       "[973 rows x 3 columns]"
      ]
     },
     "execution_count": 51,
     "metadata": {},
     "output_type": "execute_result"
    }
   ],
   "source": [
    "df_orders_per_user_group = (df_orders.groupby([\"visitorid\", 'group'], observed=False)[\"transactionid\"].nunique().reset_index(name=\"orders\"))\n",
    "df_orders_per_user_group = df_orders_per_user_group.loc[(df_orders_per_user_group['orders'] != 0), :]\n",
    "df_orders_per_user_group"
   ]
  },
  {
   "cell_type": "code",
   "execution_count": 52,
   "id": "c53af112",
   "metadata": {},
   "outputs": [
    {
     "data": {
      "application/vnd.plotly.v1+json": {
       "config": {
        "plotlyServerURL": "https://plot.ly"
       },
       "data": [
        {
         "hovertemplate": "group=B<br>User ID=%{x}<br>Number of Orders=%{y}<extra></extra>",
         "legendgroup": "B",
         "marker": {
          "color": "#636efa",
          "opacity": 0.33,
          "symbol": "circle"
         },
         "mode": "markers",
         "name": "B",
         "orientation": "v",
         "showlegend": true,
         "type": "scatter",
         "x": [
          5114589,
          6958315,
          39475350,
          47206413,
          48147722,
          56960363,
          71018815,
          78678012,
          91069833,
          102981183,
          104602633,
          113298937,
          114507418,
          117599621,
          134926050,
          152397976,
          154576532,
          154825609,
          157579733,
          162423694,
          171459513,
          172218683,
          179951984,
          191870721,
          194969263,
          195530970,
          201615765,
          204675465,
          206724078,
          222718357,
          228221722,
          233773277,
          243620413,
          249864742,
          258610743,
          259989552,
          264456202,
          266115224,
          280073872,
          282188993,
          284094220,
          290022471,
          309675944,
          318152663,
          325179089,
          363280180,
          367176526,
          368204224,
          368679516,
          392419518,
          400358405,
          406208401,
          407706407,
          410113592,
          414545763,
          427004138,
          428219747,
          433951253,
          447836349,
          451104171,
          456417264,
          458253749,
          470091460,
          471842048,
          473299164,
          509080881,
          518847692,
          522292794,
          530257481,
          535857429,
          544632063,
          544963298,
          567175747,
          570540961,
          582460750,
          583433650,
          586100578,
          600572117,
          600884435,
          608641596,
          619764962,
          621427706,
          623318263,
          625115313,
          634450378,
          642826102,
          643335272,
          650280576,
          654930236,
          656974993,
          659580242,
          666694713,
          671625855,
          680119828,
          683554837,
          683753316,
          689129267,
          702994395,
          707833925,
          709955468,
          710690947,
          716514914,
          723038324,
          728063420,
          816783716,
          834731816,
          835561402,
          835577924,
          850320739,
          854695158,
          856264494,
          856349446,
          862992587,
          872679699,
          888512513,
          916684595,
          916720205,
          927791387,
          930356060,
          930758570,
          931669455,
          935349363,
          935554773,
          938079215,
          943674707,
          954785863,
          962484204,
          975516572,
          978473912,
          990849616,
          990904712,
          993094131,
          1010866419,
          1016890234,
          1035424004,
          1060341621,
          1075551409,
          1097629811,
          1100237501,
          1110007955,
          1111826046,
          1117202045,
          1147554328,
          1151477821,
          1172166732,
          1196621759,
          1197745035,
          1197773061,
          1206072200,
          1215602524,
          1217561296,
          1221478247,
          1225835168,
          1236388112,
          1253370069,
          1253818784,
          1261629107,
          1263373242,
          1270030113,
          1274716998,
          1285103033,
          1303698307,
          1310081088,
          1333058479,
          1335154194,
          1341752722,
          1354599463,
          1373713654,
          1377447894,
          1379151787,
          1387624577,
          1388838483,
          1390677121,
          1395236619,
          1396482013,
          1397211727,
          1404560065,
          1420364840,
          1421513677,
          1438226485,
          1455323168,
          1455861274,
          1463715810,
          1471458381,
          1474473704,
          1476741193,
          1494664757,
          1501480579,
          1516351054,
          1554533732,
          1555048873,
          1557781683,
          1562205279,
          1565607587,
          1571986409,
          1577719542,
          1579036099,
          1588775363,
          1596819047,
          1596970166,
          1605520752,
          1606766439,
          1611907877,
          1612349123,
          1622301731,
          1627549308,
          1630618580,
          1634934899,
          1637811943,
          1638583360,
          1643342931,
          1667068825,
          1667360450,
          1669393038,
          1687240555,
          1690383497,
          1692957755,
          1700445283,
          1703949673,
          1713857373,
          1722729964,
          1728743776,
          1738775963,
          1741803981,
          1762249948,
          1766557988,
          1768898981,
          1774856294,
          1775276630,
          1782658204,
          1786280350,
          1795951456,
          1802957007,
          1807547430,
          1810540789,
          1826088570,
          1826431635,
          1830803815,
          1831227158,
          1835372109,
          1858007013,
          1879028067,
          1882260405,
          1893387602,
          1918801743,
          1920142716,
          1964413493,
          1964799739,
          1967247027,
          1967724198,
          1985475298,
          1995481842,
          2008082479,
          2010516786,
          2019205281,
          2019355024,
          2025197455,
          2030837847,
          2036584322,
          2038023866,
          2042457747,
          2044161277,
          2075769885,
          2075883701,
          2091902649,
          2096506107,
          2108080724,
          2115666868,
          2128962954,
          2138109167,
          2139465532,
          2146711261,
          2156256996,
          2162167602,
          2171487014,
          2195309755,
          2201480904,
          2210805728,
          2213855729,
          2223522147,
          2230225652,
          2231389472,
          2245562049,
          2247666522,
          2247745159,
          2261102418,
          2273809679,
          2278620397,
          2279926127,
          2295217812,
          2307676173,
          2316833558,
          2322279887,
          2328378067,
          2328791559,
          2361350105,
          2366521417,
          2370420350,
          2373765141,
          2378092656,
          2395035985,
          2396134342,
          2397025226,
          2397843657,
          2399568665,
          2406897935,
          2406916810,
          2412366830,
          2413071759,
          2421265884,
          2445878741,
          2452603128,
          2456230425,
          2461709734,
          2463259495,
          2467439671,
          2468974761,
          2476105225,
          2488182306,
          2517115269,
          2517777104,
          2524310328,
          2531836666,
          2536252163,
          2552584164,
          2570444314,
          2572275626,
          2572433473,
          2578486380,
          2580397131,
          2582702340,
          2604012846,
          2604694259,
          2606908679,
          2614516882,
          2617784228,
          2626290177,
          2634105098,
          2637462286,
          2663148288,
          2663984869,
          2666467773,
          2669052850,
          2696039803,
          2700013943,
          2710492161,
          2738601405,
          2742574263,
          2758621772,
          2763027084,
          2785527055,
          2805132315,
          2819072957,
          2819363575,
          2830871062,
          2837914161,
          2846507753,
          2849720983,
          2853587382,
          2868887864,
          2870367609,
          2873491771,
          2895396501,
          2900797465,
          2903830376,
          2908466434,
          2913441496,
          2914239125,
          2928315504,
          2941133924,
          2944179391,
          2953427180,
          2968526225,
          2973109265,
          2973964255,
          2986402114,
          2987864213,
          2999642019,
          2999778091,
          3013339133,
          3016218652,
          3024988998,
          3042692891,
          3054940424,
          3062077384,
          3062605572,
          3074968175,
          3075705514,
          3077396270,
          3077470899,
          3085290658,
          3097512534,
          3103718471,
          3118156181,
          3131127734,
          3141507731,
          3148168974,
          3166175118,
          3170292896,
          3170813781,
          3177790019,
          3185203440,
          3187581794,
          3218863961,
          3239199975,
          3245907439,
          3254689071,
          3255082731,
          3260527149,
          3261022559,
          3288820196,
          3294452564,
          3304571422,
          3309365614,
          3310105714,
          3312258926,
          3319676739,
          3320079367,
          3332057097,
          3342201840,
          3357398384,
          3362039251,
          3367493247,
          3371277047,
          3372131337,
          3379260072,
          3391919803,
          3419266314,
          3423937755,
          3427397479,
          3429232516,
          3455264956,
          3463388890,
          3499733621,
          3508047169,
          3511617963,
          3524303171,
          3552142259,
          3573155649,
          3577042875,
          3577713868,
          3584855583,
          3590655705,
          3591136796,
          3595021912,
          3600436937,
          3628338328,
          3636663279,
          3642806036,
          3647477940,
          3647934575,
          3661375494,
          3663170795,
          3686264987,
          3694317332,
          3704174715,
          3704741858,
          3713138051,
          3722970464,
          3724732821,
          3733762160,
          3735525502,
          3736558232,
          3741503045,
          3752369942,
          3770394574,
          3785537730,
          3791892006,
          3796654595,
          3812442168,
          3815257471,
          3836897869,
          3857804666,
          3860669668,
          3866069709,
          3870317023,
          3873846164,
          3874092616,
          3893674369,
          3906435972,
          3907107900,
          3909304777,
          3910723394,
          3917749921,
          3927376365,
          3931967268,
          3935952912,
          3938001975,
          3940815455,
          3941503500,
          3942804483,
          3953983768,
          3977396102,
          3993040832,
          3994425631,
          4003628586,
          4006260374,
          4009017467,
          4012829377,
          4018812886,
          4027395615,
          4033511429,
          4037043590,
          4037118491,
          4038181899,
          4062713576,
          4100747010,
          4134830387,
          4157461730,
          4166660304,
          4169666863,
          4171878080,
          4176813035,
          4178309188,
          4181076848,
          4186744110,
          4194288377,
          4205543768,
          4216089391,
          4224378620,
          4228915420,
          4231233292,
          4251087345,
          4251115836,
          4258103007,
          4279090005,
          4281247801,
          4283872382
         ],
         "xaxis": "x",
         "y": {
          "bdata": "AQEBAQEBAQEBAQEBAQEBAQEBAQEBAQEBAQEBAQEBAQEBAwEBAQEBAQEBAQEBAQEBAQEBAgEBAQEBAQEBAQEBAQEBAQIBAQEBAQEBAQEBAQEBAQEBAQEBAQEBAQEBAQEBAQEBAQEBAQEBAQEBAQEBAQEBAQEBAQEBAQEBAQEBAQEBAQEBAQEBAQEBAQEBAQEBAQEBAQEBAQEBAQEBAQEBAQEBAQEBAQEBAQEBAQEBAQECAQEBAQEBAQEBAQEBAQEBAQEBAQEBAQEBAQEBAQEBAQIBAQEBAQEBAQEBAQEBAQEBAQEBAQEBAQEBAQEBAQEBAQEBAQEBAQEBAQIBAQEBAQIBAQEBAQEBAQIBAQEBAQEBAQEBAQEBAQEBAQEBAQEBAQEBAQEBAQECAQEBAQEBAgEBAQEBAQEBAQEBAQEBAQEBAQEBAQEBAQEBAQEBAQEBAQEBAQEBAQEBAQEDAQEBAQEBAQEBAQEBAQEBAQEBAQEBAQEBAQEBAQEBAQEBAQEBAQEBAQIBAQEBAQEBAQEBAQEBAQEBAQEBAQEBAQEBAQEBAQIBAQIBAQECAQEBAQEBAQEBAQEBAQEBAQEBAQEBAQEBAQEBAQEBAQEBAQEBAQEBAQEBAQEBAQEBAQEBAQEBAQEBAQEBAgEBAgEBAQEBAQEBAQEBAQEBAQEBAgEBAQEBAQEBAQEBAQEBAQEBAQEB",
          "dtype": "i1"
         },
         "yaxis": "y"
        },
        {
         "hovertemplate": "group=A<br>User ID=%{x}<br>Number of Orders=%{y}<extra></extra>",
         "legendgroup": "A",
         "marker": {
          "color": "#EF553B",
          "opacity": 0.33,
          "symbol": "circle"
         },
         "mode": "markers",
         "name": "A",
         "orientation": "v",
         "showlegend": true,
         "type": "scatter",
         "x": [
          11685486,
          54447517,
          66685450,
          78758296,
          85103373,
          87885904,
          109615108,
          130417038,
          132143192,
          138252163,
          148427295,
          151496413,
          178249104,
          181166394,
          182753106,
          184835319,
          187589092,
          199874245,
          235366767,
          236764260,
          238992583,
          248503091,
          252987601,
          274717519,
          277405052,
          281523083,
          285030828,
          295230930,
          296565978,
          300249313,
          321150727,
          329473477,
          329726006,
          343208965,
          352377175,
          358944393,
          366673373,
          370388673,
          381340408,
          382846391,
          387170777,
          399216493,
          399408949,
          417213830,
          430948481,
          442260868,
          467022501,
          467975735,
          492739583,
          495712671,
          517094627,
          537599508,
          551106609,
          572335325,
          573423106,
          583902904,
          589808731,
          600964629,
          611059232,
          612505725,
          622980798,
          627176112,
          635956745,
          645425477,
          678354126,
          705680638,
          721509856,
          732900740,
          737242975,
          749770631,
          749837663,
          755881835,
          759473111,
          787824685,
          789265206,
          793112967,
          803709563,
          821846484,
          834683205,
          858552794,
          865916592,
          866305447,
          869044563,
          876081193,
          879864040,
          887812064,
          887908475,
          888420622,
          895233158,
          906523562,
          906754117,
          907970812,
          910107897,
          926057494,
          947532470,
          949750571,
          950626008,
          960782649,
          980818195,
          982374313,
          983496389,
          991436984,
          994339272,
          996668426,
          997945223,
          1002877908,
          1009464434,
          1011231197,
          1022829655,
          1028756448,
          1046398313,
          1049627981,
          1052142804,
          1064078146,
          1069983096,
          1070130208,
          1110543778,
          1122598516,
          1129369369,
          1143609305,
          1148665946,
          1154728414,
          1159489312,
          1164614297,
          1174537443,
          1178217086,
          1184607010,
          1211585711,
          1212176445,
          1219079053,
          1224575308,
          1224903511,
          1229532929,
          1229866403,
          1247895435,
          1255412427,
          1294108251,
          1306302251,
          1307669133,
          1349865791,
          1351898488,
          1357170471,
          1367935136,
          1378148355,
          1388079388,
          1398592185,
          1402025725,
          1414758703,
          1422476412,
          1422773200,
          1426761187,
          1430210707,
          1452540367,
          1460891116,
          1471496742,
          1476256851,
          1484903144,
          1485964287,
          1495112755,
          1500448895,
          1507665514,
          1508900659,
          1539796403,
          1544467991,
          1555770826,
          1565034404,
          1576289054,
          1581167209,
          1596446524,
          1604176421,
          1604853044,
          1617417821,
          1658204305,
          1677041464,
          1687231984,
          1698039057,
          1722579998,
          1732269954,
          1737494355,
          1744796792,
          1772171838,
          1781647073,
          1823887377,
          1830791924,
          1831140265,
          1831375989,
          1831956319,
          1832798996,
          1850778479,
          1859207151,
          1869662856,
          1890645762,
          1900893596,
          1909539331,
          1917506191,
          1935367901,
          1937307986,
          1938138695,
          1948974149,
          1957949546,
          1979878245,
          1981624632,
          2016864191,
          2041539477,
          2046011647,
          2054014923,
          2065143173,
          2067508917,
          2069923923,
          2082081961,
          2084876480,
          2108163459,
          2114962460,
          2115669947,
          2125253600,
          2134820861,
          2138044356,
          2147998719,
          2152549680,
          2153871238,
          2158146269,
          2162698752,
          2168467118,
          2188683977,
          2217984702,
          2219162270,
          2231749745,
          2232111114,
          2248249182,
          2254456485,
          2254586615,
          2254875182,
          2261934787,
          2274825520,
          2283224496,
          2288159513,
          2301937222,
          2303470071,
          2304039735,
          2306096143,
          2308309101,
          2357168171,
          2358787737,
          2393492379,
          2396121427,
          2412305169,
          2416662824,
          2429822128,
          2430786771,
          2440451175,
          2445531802,
          2486521341,
          2492519473,
          2507107988,
          2522140192,
          2546716293,
          2561350211,
          2580341989,
          2583793022,
          2587526707,
          2592727107,
          2605843205,
          2606208134,
          2618159035,
          2629148010,
          2633052872,
          2643391466,
          2650211599,
          2652835245,
          2661240577,
          2663297422,
          2666068032,
          2668501323,
          2695379936,
          2696599598,
          2698944478,
          2700670803,
          2703178540,
          2705308997,
          2706377257,
          2710193528,
          2710478747,
          2733145037,
          2735494018,
          2736682487,
          2743474511,
          2744017357,
          2749453459,
          2761566146,
          2771749575,
          2772153338,
          2776274025,
          2785040378,
          2801638130,
          2803209166,
          2840985286,
          2845785181,
          2871453277,
          2874956069,
          2880866577,
          2882903413,
          2888793654,
          2892265953,
          2902041511,
          2912540959,
          2924874435,
          2947100995,
          2951649436,
          2971471657,
          2978730290,
          2988190573,
          2993711540,
          3012531415,
          3017378493,
          3020644940,
          3028866828,
          3033962131,
          3043080596,
          3044645888,
          3055165772,
          3072399624,
          3086835579,
          3101956850,
          3102053760,
          3104896602,
          3112126740,
          3115684948,
          3116161138,
          3116822707,
          3117119809,
          3118528100,
          3123255051,
          3127757912,
          3133484003,
          3146597820,
          3149228032,
          3160565905,
          3160828523,
          3161387566,
          3177606451,
          3199637546,
          3207734412,
          3212572194,
          3213223594,
          3213691396,
          3221887237,
          3229395114,
          3237158392,
          3251102545,
          3263046761,
          3265039507,
          3279802827,
          3281496343,
          3282099314,
          3283584911,
          3289144202,
          3290315626,
          3294921142,
          3295038680,
          3301980586,
          3321013705,
          3323129950,
          3340403042,
          3353177029,
          3359518621,
          3359706893,
          3371539723,
          3379886002,
          3386452937,
          3396460792,
          3409596883,
          3430457488,
          3451176495,
          3462462738,
          3469608676,
          3476822370,
          3504688413,
          3511496907,
          3528043184,
          3540744920,
          3572819427,
          3587733103,
          3598591418,
          3607649875,
          3612778094,
          3613900590,
          3616659553,
          3622537133,
          3636615199,
          3637027427,
          3640080856,
          3659263677,
          3660046170,
          3660225571,
          3673190339,
          3693438260,
          3719891787,
          3720590235,
          3722682546,
          3736064128,
          3778207363,
          3788724847,
          3792964032,
          3819243527,
          3826874025,
          3857916904,
          3877129255,
          3891384992,
          3896738923,
          3908431265,
          3928949490,
          3937582421,
          3941600282,
          3950493862,
          3950806039,
          3956892867,
          3967698036,
          3979054828,
          3985807412,
          4002369227,
          4014197579,
          4017075195,
          4027578749,
          4038883307,
          4062055840,
          4076480073,
          4079050915,
          4087542339,
          4095180727,
          4099262874,
          4109358064,
          4133034833,
          4134011281,
          4142693015,
          4144343220,
          4144979507,
          4163850406,
          4174346527,
          4213333413,
          4223733735,
          4227830084,
          4237561104,
          4243832526,
          4259830713,
          4278982564
         ],
         "xaxis": "x",
         "y": {
          "bdata": "AQEBAQEBAQEBAQEBAQEBAQEBAQEBAQEBAQEBAQEBAQEBAQEBAgEBAQEBAQEBAQEBAQEBAQEBAQEBAQMBAQEBAQIBAQEBAQEBAgEBAQEBAQEBAQEBAQEBAQEBAQEBAQEBAQEBAQEBAQEBAQEBAQEBAQEBAQEBAQEBAQEBAQEBAQEBAQEBAQEBAQEBAQEBAQEBAQEBAQEBAQEBAQEBAQEBAQEBAQEBAQEBAQEBAgEBAQEBAQEBAgEBAQEBAQEBAQEBAQEBAQEBAQEBAQEBAQEBAQEBAQMBAQEBAQEBAQEBAQEBAQECAQEBAQEBAQEBAQECAQEBAQEBAQEBAQEBAQEBAQEBAQEBAQEBAQEBAQEBAQEBAQEBAQEBAgEBAgEBAQIBAQEBAQEBAQEBAQEBAQECAQEBAQEBAQMBAQEBAQEBAQEBAQEBAQEBAQEBAQEBAQEBAQEBAQEBAQEBAQEBAQEBAQEBAQEBAQEBAQEBAQEBAQEBAQEBAQECAQEBAQEBAQEBAQEBAQEBAQEBAQEBAQEBAQEBAQEBAQEBAQMBAQEBAQEDAQEBAQEBAQEBAQEBAQIBAQEBAQEBAQEBAQEBAQ==",
          "dtype": "i1"
         },
         "yaxis": "y"
        }
       ],
       "layout": {
        "legend": {
         "title": {
          "text": "group"
         },
         "tracegroupgap": 0
        },
        "template": {
         "data": {
          "bar": [
           {
            "error_x": {
             "color": "#2a3f5f"
            },
            "error_y": {
             "color": "#2a3f5f"
            },
            "marker": {
             "line": {
              "color": "#E5ECF6",
              "width": 0.5
             },
             "pattern": {
              "fillmode": "overlay",
              "size": 10,
              "solidity": 0.2
             }
            },
            "type": "bar"
           }
          ],
          "barpolar": [
           {
            "marker": {
             "line": {
              "color": "#E5ECF6",
              "width": 0.5
             },
             "pattern": {
              "fillmode": "overlay",
              "size": 10,
              "solidity": 0.2
             }
            },
            "type": "barpolar"
           }
          ],
          "carpet": [
           {
            "aaxis": {
             "endlinecolor": "#2a3f5f",
             "gridcolor": "white",
             "linecolor": "white",
             "minorgridcolor": "white",
             "startlinecolor": "#2a3f5f"
            },
            "baxis": {
             "endlinecolor": "#2a3f5f",
             "gridcolor": "white",
             "linecolor": "white",
             "minorgridcolor": "white",
             "startlinecolor": "#2a3f5f"
            },
            "type": "carpet"
           }
          ],
          "choropleth": [
           {
            "colorbar": {
             "outlinewidth": 0,
             "ticks": ""
            },
            "type": "choropleth"
           }
          ],
          "contour": [
           {
            "colorbar": {
             "outlinewidth": 0,
             "ticks": ""
            },
            "colorscale": [
             [
              0,
              "#0d0887"
             ],
             [
              0.1111111111111111,
              "#46039f"
             ],
             [
              0.2222222222222222,
              "#7201a8"
             ],
             [
              0.3333333333333333,
              "#9c179e"
             ],
             [
              0.4444444444444444,
              "#bd3786"
             ],
             [
              0.5555555555555556,
              "#d8576b"
             ],
             [
              0.6666666666666666,
              "#ed7953"
             ],
             [
              0.7777777777777778,
              "#fb9f3a"
             ],
             [
              0.8888888888888888,
              "#fdca26"
             ],
             [
              1,
              "#f0f921"
             ]
            ],
            "type": "contour"
           }
          ],
          "contourcarpet": [
           {
            "colorbar": {
             "outlinewidth": 0,
             "ticks": ""
            },
            "type": "contourcarpet"
           }
          ],
          "heatmap": [
           {
            "colorbar": {
             "outlinewidth": 0,
             "ticks": ""
            },
            "colorscale": [
             [
              0,
              "#0d0887"
             ],
             [
              0.1111111111111111,
              "#46039f"
             ],
             [
              0.2222222222222222,
              "#7201a8"
             ],
             [
              0.3333333333333333,
              "#9c179e"
             ],
             [
              0.4444444444444444,
              "#bd3786"
             ],
             [
              0.5555555555555556,
              "#d8576b"
             ],
             [
              0.6666666666666666,
              "#ed7953"
             ],
             [
              0.7777777777777778,
              "#fb9f3a"
             ],
             [
              0.8888888888888888,
              "#fdca26"
             ],
             [
              1,
              "#f0f921"
             ]
            ],
            "type": "heatmap"
           }
          ],
          "histogram": [
           {
            "marker": {
             "pattern": {
              "fillmode": "overlay",
              "size": 10,
              "solidity": 0.2
             }
            },
            "type": "histogram"
           }
          ],
          "histogram2d": [
           {
            "colorbar": {
             "outlinewidth": 0,
             "ticks": ""
            },
            "colorscale": [
             [
              0,
              "#0d0887"
             ],
             [
              0.1111111111111111,
              "#46039f"
             ],
             [
              0.2222222222222222,
              "#7201a8"
             ],
             [
              0.3333333333333333,
              "#9c179e"
             ],
             [
              0.4444444444444444,
              "#bd3786"
             ],
             [
              0.5555555555555556,
              "#d8576b"
             ],
             [
              0.6666666666666666,
              "#ed7953"
             ],
             [
              0.7777777777777778,
              "#fb9f3a"
             ],
             [
              0.8888888888888888,
              "#fdca26"
             ],
             [
              1,
              "#f0f921"
             ]
            ],
            "type": "histogram2d"
           }
          ],
          "histogram2dcontour": [
           {
            "colorbar": {
             "outlinewidth": 0,
             "ticks": ""
            },
            "colorscale": [
             [
              0,
              "#0d0887"
             ],
             [
              0.1111111111111111,
              "#46039f"
             ],
             [
              0.2222222222222222,
              "#7201a8"
             ],
             [
              0.3333333333333333,
              "#9c179e"
             ],
             [
              0.4444444444444444,
              "#bd3786"
             ],
             [
              0.5555555555555556,
              "#d8576b"
             ],
             [
              0.6666666666666666,
              "#ed7953"
             ],
             [
              0.7777777777777778,
              "#fb9f3a"
             ],
             [
              0.8888888888888888,
              "#fdca26"
             ],
             [
              1,
              "#f0f921"
             ]
            ],
            "type": "histogram2dcontour"
           }
          ],
          "mesh3d": [
           {
            "colorbar": {
             "outlinewidth": 0,
             "ticks": ""
            },
            "type": "mesh3d"
           }
          ],
          "parcoords": [
           {
            "line": {
             "colorbar": {
              "outlinewidth": 0,
              "ticks": ""
             }
            },
            "type": "parcoords"
           }
          ],
          "pie": [
           {
            "automargin": true,
            "type": "pie"
           }
          ],
          "scatter": [
           {
            "fillpattern": {
             "fillmode": "overlay",
             "size": 10,
             "solidity": 0.2
            },
            "type": "scatter"
           }
          ],
          "scatter3d": [
           {
            "line": {
             "colorbar": {
              "outlinewidth": 0,
              "ticks": ""
             }
            },
            "marker": {
             "colorbar": {
              "outlinewidth": 0,
              "ticks": ""
             }
            },
            "type": "scatter3d"
           }
          ],
          "scattercarpet": [
           {
            "marker": {
             "colorbar": {
              "outlinewidth": 0,
              "ticks": ""
             }
            },
            "type": "scattercarpet"
           }
          ],
          "scattergeo": [
           {
            "marker": {
             "colorbar": {
              "outlinewidth": 0,
              "ticks": ""
             }
            },
            "type": "scattergeo"
           }
          ],
          "scattergl": [
           {
            "marker": {
             "colorbar": {
              "outlinewidth": 0,
              "ticks": ""
             }
            },
            "type": "scattergl"
           }
          ],
          "scattermap": [
           {
            "marker": {
             "colorbar": {
              "outlinewidth": 0,
              "ticks": ""
             }
            },
            "type": "scattermap"
           }
          ],
          "scattermapbox": [
           {
            "marker": {
             "colorbar": {
              "outlinewidth": 0,
              "ticks": ""
             }
            },
            "type": "scattermapbox"
           }
          ],
          "scatterpolar": [
           {
            "marker": {
             "colorbar": {
              "outlinewidth": 0,
              "ticks": ""
             }
            },
            "type": "scatterpolar"
           }
          ],
          "scatterpolargl": [
           {
            "marker": {
             "colorbar": {
              "outlinewidth": 0,
              "ticks": ""
             }
            },
            "type": "scatterpolargl"
           }
          ],
          "scatterternary": [
           {
            "marker": {
             "colorbar": {
              "outlinewidth": 0,
              "ticks": ""
             }
            },
            "type": "scatterternary"
           }
          ],
          "surface": [
           {
            "colorbar": {
             "outlinewidth": 0,
             "ticks": ""
            },
            "colorscale": [
             [
              0,
              "#0d0887"
             ],
             [
              0.1111111111111111,
              "#46039f"
             ],
             [
              0.2222222222222222,
              "#7201a8"
             ],
             [
              0.3333333333333333,
              "#9c179e"
             ],
             [
              0.4444444444444444,
              "#bd3786"
             ],
             [
              0.5555555555555556,
              "#d8576b"
             ],
             [
              0.6666666666666666,
              "#ed7953"
             ],
             [
              0.7777777777777778,
              "#fb9f3a"
             ],
             [
              0.8888888888888888,
              "#fdca26"
             ],
             [
              1,
              "#f0f921"
             ]
            ],
            "type": "surface"
           }
          ],
          "table": [
           {
            "cells": {
             "fill": {
              "color": "#EBF0F8"
             },
             "line": {
              "color": "white"
             }
            },
            "header": {
             "fill": {
              "color": "#C8D4E3"
             },
             "line": {
              "color": "white"
             }
            },
            "type": "table"
           }
          ]
         },
         "layout": {
          "annotationdefaults": {
           "arrowcolor": "#2a3f5f",
           "arrowhead": 0,
           "arrowwidth": 1
          },
          "autotypenumbers": "strict",
          "coloraxis": {
           "colorbar": {
            "outlinewidth": 0,
            "ticks": ""
           }
          },
          "colorscale": {
           "diverging": [
            [
             0,
             "#8e0152"
            ],
            [
             0.1,
             "#c51b7d"
            ],
            [
             0.2,
             "#de77ae"
            ],
            [
             0.3,
             "#f1b6da"
            ],
            [
             0.4,
             "#fde0ef"
            ],
            [
             0.5,
             "#f7f7f7"
            ],
            [
             0.6,
             "#e6f5d0"
            ],
            [
             0.7,
             "#b8e186"
            ],
            [
             0.8,
             "#7fbc41"
            ],
            [
             0.9,
             "#4d9221"
            ],
            [
             1,
             "#276419"
            ]
           ],
           "sequential": [
            [
             0,
             "#0d0887"
            ],
            [
             0.1111111111111111,
             "#46039f"
            ],
            [
             0.2222222222222222,
             "#7201a8"
            ],
            [
             0.3333333333333333,
             "#9c179e"
            ],
            [
             0.4444444444444444,
             "#bd3786"
            ],
            [
             0.5555555555555556,
             "#d8576b"
            ],
            [
             0.6666666666666666,
             "#ed7953"
            ],
            [
             0.7777777777777778,
             "#fb9f3a"
            ],
            [
             0.8888888888888888,
             "#fdca26"
            ],
            [
             1,
             "#f0f921"
            ]
           ],
           "sequentialminus": [
            [
             0,
             "#0d0887"
            ],
            [
             0.1111111111111111,
             "#46039f"
            ],
            [
             0.2222222222222222,
             "#7201a8"
            ],
            [
             0.3333333333333333,
             "#9c179e"
            ],
            [
             0.4444444444444444,
             "#bd3786"
            ],
            [
             0.5555555555555556,
             "#d8576b"
            ],
            [
             0.6666666666666666,
             "#ed7953"
            ],
            [
             0.7777777777777778,
             "#fb9f3a"
            ],
            [
             0.8888888888888888,
             "#fdca26"
            ],
            [
             1,
             "#f0f921"
            ]
           ]
          },
          "colorway": [
           "#636efa",
           "#EF553B",
           "#00cc96",
           "#ab63fa",
           "#FFA15A",
           "#19d3f3",
           "#FF6692",
           "#B6E880",
           "#FF97FF",
           "#FECB52"
          ],
          "font": {
           "color": "#2a3f5f"
          },
          "geo": {
           "bgcolor": "white",
           "lakecolor": "white",
           "landcolor": "#E5ECF6",
           "showlakes": true,
           "showland": true,
           "subunitcolor": "white"
          },
          "hoverlabel": {
           "align": "left"
          },
          "hovermode": "closest",
          "mapbox": {
           "style": "light"
          },
          "paper_bgcolor": "white",
          "plot_bgcolor": "#E5ECF6",
          "polar": {
           "angularaxis": {
            "gridcolor": "white",
            "linecolor": "white",
            "ticks": ""
           },
           "bgcolor": "#E5ECF6",
           "radialaxis": {
            "gridcolor": "white",
            "linecolor": "white",
            "ticks": ""
           }
          },
          "scene": {
           "xaxis": {
            "backgroundcolor": "#E5ECF6",
            "gridcolor": "white",
            "gridwidth": 2,
            "linecolor": "white",
            "showbackground": true,
            "ticks": "",
            "zerolinecolor": "white"
           },
           "yaxis": {
            "backgroundcolor": "#E5ECF6",
            "gridcolor": "white",
            "gridwidth": 2,
            "linecolor": "white",
            "showbackground": true,
            "ticks": "",
            "zerolinecolor": "white"
           },
           "zaxis": {
            "backgroundcolor": "#E5ECF6",
            "gridcolor": "white",
            "gridwidth": 2,
            "linecolor": "white",
            "showbackground": true,
            "ticks": "",
            "zerolinecolor": "white"
           }
          },
          "shapedefaults": {
           "line": {
            "color": "#2a3f5f"
           }
          },
          "ternary": {
           "aaxis": {
            "gridcolor": "white",
            "linecolor": "white",
            "ticks": ""
           },
           "baxis": {
            "gridcolor": "white",
            "linecolor": "white",
            "ticks": ""
           },
           "bgcolor": "#E5ECF6",
           "caxis": {
            "gridcolor": "white",
            "linecolor": "white",
            "ticks": ""
           }
          },
          "title": {
           "x": 0.05
          },
          "xaxis": {
           "automargin": true,
           "gridcolor": "white",
           "linecolor": "white",
           "ticks": "",
           "title": {
            "standoff": 15
           },
           "zerolinecolor": "white",
           "zerolinewidth": 2
          },
          "yaxis": {
           "automargin": true,
           "gridcolor": "white",
           "linecolor": "white",
           "ticks": "",
           "title": {
            "standoff": 15
           },
           "zerolinecolor": "white",
           "zerolinewidth": 2
          }
         }
        },
        "title": {
         "text": "Orders per User by Group"
        },
        "xaxis": {
         "anchor": "y",
         "domain": [
          0,
          1
         ],
         "dtick": 100000000,
         "rangemode": "tozero",
         "tickangle": 90,
         "tickformat": "d",
         "title": {
          "text": "User ID"
         }
        },
        "yaxis": {
         "anchor": "x",
         "domain": [
          0,
          1
         ],
         "title": {
          "text": "Number of Orders"
         }
        }
       }
      }
     },
     "metadata": {},
     "output_type": "display_data"
    }
   ],
   "source": [
    "fig = px.scatter(df_orders_per_user_group, x=\"visitorid\", y=\"orders\", color=\"group\", opacity=0.33, title=\"Orders per User by Group\",\n",
    "                 labels={\"orders\": \"Number of Orders\", \"visitorid\": \"User ID\"})\n",
    "fig.update_xaxes(dtick=100000000, tickformat=\"d\", tickangle=90, rangemode='tozero')\n",
    "fig.show()"
   ]
  },
  {
   "cell_type": "markdown",
   "id": "cc5da6cd",
   "metadata": {},
   "source": [
    "`LSPL` - Conversion behavior is consistent across groups: most users buy only once, regardless of group assignment.   \n",
    "Multi-order users are rare: these could be legitimate high-value customers, or in some cases anomalies."
   ]
  },
  {
   "cell_type": "markdown",
   "id": "a697cef7",
   "metadata": {},
   "source": [
    "##### __5.2.6__ Calculates the 95th and 99th percentiles of the number of orders per user. Defines the point at which a data point becomes an anomaly."
   ]
  },
  {
   "cell_type": "code",
   "execution_count": 53,
   "id": "99bea77b",
   "metadata": {},
   "outputs": [
    {
     "data": {
      "application/vnd.microsoft.datawrangler.viewer.v0+json": {
       "columns": [
        {
         "name": "index",
         "rawType": "int64",
         "type": "integer"
        },
        {
         "name": "visitorid",
         "rawType": "int64",
         "type": "integer"
        },
        {
         "name": "orders",
         "rawType": "int64",
         "type": "integer"
        }
       ],
       "ref": "46cfcb34-380b-4209-827b-3723e29cf7a3",
       "rows": [
        [
         "0",
         "5114589",
         "1"
        ],
        [
         "1",
         "6958315",
         "1"
        ],
        [
         "2",
         "11685486",
         "1"
        ],
        [
         "3",
         "39475350",
         "1"
        ],
        [
         "4",
         "47206413",
         "1"
        ],
        [
         "5",
         "48147722",
         "1"
        ],
        [
         "6",
         "54447517",
         "1"
        ],
        [
         "7",
         "56960363",
         "1"
        ],
        [
         "8",
         "66685450",
         "1"
        ],
        [
         "9",
         "71018815",
         "1"
        ],
        [
         "10",
         "78678012",
         "1"
        ],
        [
         "11",
         "78758296",
         "1"
        ],
        [
         "12",
         "85103373",
         "1"
        ],
        [
         "13",
         "87885904",
         "1"
        ],
        [
         "14",
         "91069833",
         "1"
        ],
        [
         "15",
         "102981183",
         "1"
        ],
        [
         "16",
         "104602633",
         "1"
        ],
        [
         "17",
         "109615108",
         "1"
        ],
        [
         "18",
         "113298937",
         "1"
        ],
        [
         "19",
         "114507418",
         "1"
        ],
        [
         "20",
         "117599621",
         "1"
        ],
        [
         "21",
         "130417038",
         "1"
        ],
        [
         "22",
         "132143192",
         "1"
        ],
        [
         "23",
         "134926050",
         "1"
        ],
        [
         "24",
         "138252163",
         "1"
        ],
        [
         "25",
         "148427295",
         "1"
        ],
        [
         "26",
         "151496413",
         "1"
        ],
        [
         "27",
         "152397976",
         "1"
        ],
        [
         "28",
         "154576532",
         "1"
        ],
        [
         "29",
         "154825609",
         "1"
        ],
        [
         "30",
         "157579733",
         "1"
        ],
        [
         "31",
         "162423694",
         "1"
        ],
        [
         "32",
         "171459513",
         "1"
        ],
        [
         "33",
         "172218683",
         "1"
        ],
        [
         "34",
         "178249104",
         "1"
        ],
        [
         "35",
         "179951984",
         "1"
        ],
        [
         "36",
         "181166394",
         "1"
        ],
        [
         "37",
         "182753106",
         "1"
        ],
        [
         "38",
         "184835319",
         "1"
        ],
        [
         "39",
         "187589092",
         "1"
        ],
        [
         "40",
         "191870721",
         "1"
        ],
        [
         "41",
         "194969263",
         "1"
        ],
        [
         "42",
         "195530970",
         "1"
        ],
        [
         "43",
         "199874245",
         "1"
        ],
        [
         "44",
         "201615765",
         "1"
        ],
        [
         "45",
         "204675465",
         "1"
        ],
        [
         "46",
         "206724078",
         "1"
        ],
        [
         "47",
         "222718357",
         "1"
        ],
        [
         "48",
         "228221722",
         "1"
        ],
        [
         "49",
         "233773277",
         "1"
        ]
       ],
       "shape": {
        "columns": 2,
        "rows": 973
       }
      },
      "text/html": [
       "<div>\n",
       "<style scoped>\n",
       "    .dataframe tbody tr th:only-of-type {\n",
       "        vertical-align: middle;\n",
       "    }\n",
       "\n",
       "    .dataframe tbody tr th {\n",
       "        vertical-align: top;\n",
       "    }\n",
       "\n",
       "    .dataframe thead th {\n",
       "        text-align: right;\n",
       "    }\n",
       "</style>\n",
       "<table border=\"1\" class=\"dataframe\">\n",
       "  <thead>\n",
       "    <tr style=\"text-align: right;\">\n",
       "      <th></th>\n",
       "      <th>visitorid</th>\n",
       "      <th>orders</th>\n",
       "    </tr>\n",
       "  </thead>\n",
       "  <tbody>\n",
       "    <tr>\n",
       "      <th>0</th>\n",
       "      <td>5114589</td>\n",
       "      <td>1</td>\n",
       "    </tr>\n",
       "    <tr>\n",
       "      <th>1</th>\n",
       "      <td>6958315</td>\n",
       "      <td>1</td>\n",
       "    </tr>\n",
       "    <tr>\n",
       "      <th>2</th>\n",
       "      <td>11685486</td>\n",
       "      <td>1</td>\n",
       "    </tr>\n",
       "    <tr>\n",
       "      <th>3</th>\n",
       "      <td>39475350</td>\n",
       "      <td>1</td>\n",
       "    </tr>\n",
       "    <tr>\n",
       "      <th>4</th>\n",
       "      <td>47206413</td>\n",
       "      <td>1</td>\n",
       "    </tr>\n",
       "    <tr>\n",
       "      <th>...</th>\n",
       "      <td>...</td>\n",
       "      <td>...</td>\n",
       "    </tr>\n",
       "    <tr>\n",
       "      <th>968</th>\n",
       "      <td>4259830713</td>\n",
       "      <td>1</td>\n",
       "    </tr>\n",
       "    <tr>\n",
       "      <th>969</th>\n",
       "      <td>4278982564</td>\n",
       "      <td>1</td>\n",
       "    </tr>\n",
       "    <tr>\n",
       "      <th>970</th>\n",
       "      <td>4279090005</td>\n",
       "      <td>1</td>\n",
       "    </tr>\n",
       "    <tr>\n",
       "      <th>971</th>\n",
       "      <td>4281247801</td>\n",
       "      <td>1</td>\n",
       "    </tr>\n",
       "    <tr>\n",
       "      <th>972</th>\n",
       "      <td>4283872382</td>\n",
       "      <td>1</td>\n",
       "    </tr>\n",
       "  </tbody>\n",
       "</table>\n",
       "<p>973 rows × 2 columns</p>\n",
       "</div>"
      ],
      "text/plain": [
       "      visitorid  orders\n",
       "0       5114589       1\n",
       "1       6958315       1\n",
       "2      11685486       1\n",
       "3      39475350       1\n",
       "4      47206413       1\n",
       "..          ...     ...\n",
       "968  4259830713       1\n",
       "969  4278982564       1\n",
       "970  4279090005       1\n",
       "971  4281247801       1\n",
       "972  4283872382       1\n",
       "\n",
       "[973 rows x 2 columns]"
      ]
     },
     "execution_count": 53,
     "metadata": {},
     "output_type": "execute_result"
    }
   ],
   "source": [
    "df_orders_per_user = df_orders.groupby(\"visitorid\")[\"transactionid\"].nunique().reset_index(name=\"orders\")\n",
    "df_orders_per_user"
   ]
  },
  {
   "cell_type": "code",
   "execution_count": 54,
   "id": "8829fc63",
   "metadata": {},
   "outputs": [
    {
     "data": {
      "text/html": [
       "> Percentile 95: <b>1.0</b>"
      ],
      "text/plain": [
       "<IPython.core.display.HTML object>"
      ]
     },
     "metadata": {},
     "output_type": "display_data"
    },
    {
     "data": {
      "text/html": [
       "> Percentile 99: <b>2.0</b>"
      ],
      "text/plain": [
       "<IPython.core.display.HTML object>"
      ]
     },
     "metadata": {},
     "output_type": "display_data"
    }
   ],
   "source": [
    "p95 = df_orders_per_user[\"orders\"].quantile(0.95)\n",
    "p99 = df_orders_per_user[\"orders\"].quantile(0.99)\n",
    "\n",
    "display(HTML(f\"> Percentile 95: <b>{p95}</b>\"))\n",
    "display(HTML(f\"> Percentile 99: <b>{p99}</b>\"))  "
   ]
  },
  {
   "cell_type": "code",
   "execution_count": 55,
   "id": "056a0b46",
   "metadata": {},
   "outputs": [
    {
     "data": {
      "text/html": [
       "> Anomaly if p95 is used = users with orders > p95"
      ],
      "text/plain": [
       "<IPython.core.display.HTML object>"
      ]
     },
     "metadata": {},
     "output_type": "display_data"
    },
    {
     "data": {
      "application/vnd.microsoft.datawrangler.viewer.v0+json": {
       "columns": [
        {
         "name": "index",
         "rawType": "int64",
         "type": "integer"
        },
        {
         "name": "visitorid",
         "rawType": "int64",
         "type": "integer"
        },
        {
         "name": "orders",
         "rawType": "int64",
         "type": "integer"
        }
       ],
       "ref": "8d845340-6642-4b5c-84ea-2b017833aa96",
       "rows": [
        [
         "55",
         "249864742",
         "3"
        ],
        [
         "82",
         "366673373",
         "2"
        ],
        [
         "94",
         "406208401",
         "2"
        ],
        [
         "118",
         "522292794",
         "2"
        ],
        [
         "138",
         "611059232",
         "3"
        ],
        [
         "157",
         "678354126",
         "2"
        ],
        [
         "176",
         "759473111",
         "2"
        ],
        [
         "323",
         "1404560065",
         "2"
        ],
        [
         "375",
         "1617417821",
         "2"
        ],
        [
         "380",
         "1637811943",
         "2"
        ],
        [
         "407",
         "1772171838",
         "2"
        ],
        [
         "452",
         "1985475298",
         "2"
        ],
        [
         "459",
         "2025197455",
         "2"
        ],
        [
         "476",
         "2096506107",
         "2"
        ],
        [
         "478",
         "2108163459",
         "3"
        ],
        [
         "509",
         "2232111114",
         "2"
        ],
        [
         "529",
         "2306096143",
         "2"
        ],
        [
         "539",
         "2366521417",
         "2"
        ],
        [
         "548",
         "2397843657",
         "2"
        ],
        [
         "624",
         "2706377257",
         "2"
        ],
        [
         "628",
         "2733145037",
         "2"
        ],
        [
         "632",
         "2742574263",
         "3"
        ],
        [
         "634",
         "2744017357",
         "2"
        ],
        [
         "664",
         "2892265953",
         "2"
        ],
        [
         "687",
         "2988190573",
         "3"
        ],
        [
         "709",
         "3077396270",
         "2"
        ],
        [
         "780",
         "3332057097",
         "2"
        ],
        [
         "787",
         "3362039251",
         "2"
        ],
        [
         "792",
         "3379260072",
         "2"
        ],
        [
         "807",
         "3469608676",
         "2"
        ],
        [
         "890",
         "3908431265",
         "3"
        ],
        [
         "897",
         "3935952912",
         "2"
        ],
        [
         "901",
         "3941503500",
         "2"
        ],
        [
         "908",
         "3967698036",
         "3"
        ],
        [
         "937",
         "4109358064",
         "2"
        ],
        [
         "940",
         "4134830387",
         "2"
        ]
       ],
       "shape": {
        "columns": 2,
        "rows": 36
       }
      },
      "text/html": [
       "<div>\n",
       "<style scoped>\n",
       "    .dataframe tbody tr th:only-of-type {\n",
       "        vertical-align: middle;\n",
       "    }\n",
       "\n",
       "    .dataframe tbody tr th {\n",
       "        vertical-align: top;\n",
       "    }\n",
       "\n",
       "    .dataframe thead th {\n",
       "        text-align: right;\n",
       "    }\n",
       "</style>\n",
       "<table border=\"1\" class=\"dataframe\">\n",
       "  <thead>\n",
       "    <tr style=\"text-align: right;\">\n",
       "      <th></th>\n",
       "      <th>visitorid</th>\n",
       "      <th>orders</th>\n",
       "    </tr>\n",
       "  </thead>\n",
       "  <tbody>\n",
       "    <tr>\n",
       "      <th>55</th>\n",
       "      <td>249864742</td>\n",
       "      <td>3</td>\n",
       "    </tr>\n",
       "    <tr>\n",
       "      <th>82</th>\n",
       "      <td>366673373</td>\n",
       "      <td>2</td>\n",
       "    </tr>\n",
       "    <tr>\n",
       "      <th>94</th>\n",
       "      <td>406208401</td>\n",
       "      <td>2</td>\n",
       "    </tr>\n",
       "    <tr>\n",
       "      <th>118</th>\n",
       "      <td>522292794</td>\n",
       "      <td>2</td>\n",
       "    </tr>\n",
       "    <tr>\n",
       "      <th>138</th>\n",
       "      <td>611059232</td>\n",
       "      <td>3</td>\n",
       "    </tr>\n",
       "    <tr>\n",
       "      <th>...</th>\n",
       "      <td>...</td>\n",
       "      <td>...</td>\n",
       "    </tr>\n",
       "    <tr>\n",
       "      <th>897</th>\n",
       "      <td>3935952912</td>\n",
       "      <td>2</td>\n",
       "    </tr>\n",
       "    <tr>\n",
       "      <th>901</th>\n",
       "      <td>3941503500</td>\n",
       "      <td>2</td>\n",
       "    </tr>\n",
       "    <tr>\n",
       "      <th>908</th>\n",
       "      <td>3967698036</td>\n",
       "      <td>3</td>\n",
       "    </tr>\n",
       "    <tr>\n",
       "      <th>937</th>\n",
       "      <td>4109358064</td>\n",
       "      <td>2</td>\n",
       "    </tr>\n",
       "    <tr>\n",
       "      <th>940</th>\n",
       "      <td>4134830387</td>\n",
       "      <td>2</td>\n",
       "    </tr>\n",
       "  </tbody>\n",
       "</table>\n",
       "<p>36 rows × 2 columns</p>\n",
       "</div>"
      ],
      "text/plain": [
       "      visitorid  orders\n",
       "55    249864742       3\n",
       "82    366673373       2\n",
       "94    406208401       2\n",
       "118   522292794       2\n",
       "138   611059232       3\n",
       "..          ...     ...\n",
       "897  3935952912       2\n",
       "901  3941503500       2\n",
       "908  3967698036       3\n",
       "937  4109358064       2\n",
       "940  4134830387       2\n",
       "\n",
       "[36 rows x 2 columns]"
      ]
     },
     "execution_count": 55,
     "metadata": {},
     "output_type": "execute_result"
    }
   ],
   "source": [
    "# If you use the 95th percentile → anomaly = users with orders > p95.\n",
    "display(HTML(f\"> Anomaly if p95 is used = users with orders > p95\"))\n",
    "df_orders_per_user.loc[(df_orders_per_user['orders'] > 1), :] "
   ]
  },
  {
   "cell_type": "code",
   "execution_count": 56,
   "id": "90c1f14b",
   "metadata": {},
   "outputs": [
    {
     "data": {
      "text/html": [
       "> Anomaly if p99 is used = users with orders > p99"
      ],
      "text/plain": [
       "<IPython.core.display.HTML object>"
      ]
     },
     "metadata": {},
     "output_type": "display_data"
    },
    {
     "data": {
      "application/vnd.microsoft.datawrangler.viewer.v0+json": {
       "columns": [
        {
         "name": "index",
         "rawType": "int64",
         "type": "integer"
        },
        {
         "name": "visitorid",
         "rawType": "int64",
         "type": "integer"
        },
        {
         "name": "orders",
         "rawType": "int64",
         "type": "integer"
        }
       ],
       "ref": "ae70df06-c1ca-4a25-b589-6f00a36352bc",
       "rows": [
        [
         "55",
         "249864742",
         "3"
        ],
        [
         "138",
         "611059232",
         "3"
        ],
        [
         "478",
         "2108163459",
         "3"
        ],
        [
         "632",
         "2742574263",
         "3"
        ],
        [
         "687",
         "2988190573",
         "3"
        ],
        [
         "890",
         "3908431265",
         "3"
        ],
        [
         "908",
         "3967698036",
         "3"
        ]
       ],
       "shape": {
        "columns": 2,
        "rows": 7
       }
      },
      "text/html": [
       "<div>\n",
       "<style scoped>\n",
       "    .dataframe tbody tr th:only-of-type {\n",
       "        vertical-align: middle;\n",
       "    }\n",
       "\n",
       "    .dataframe tbody tr th {\n",
       "        vertical-align: top;\n",
       "    }\n",
       "\n",
       "    .dataframe thead th {\n",
       "        text-align: right;\n",
       "    }\n",
       "</style>\n",
       "<table border=\"1\" class=\"dataframe\">\n",
       "  <thead>\n",
       "    <tr style=\"text-align: right;\">\n",
       "      <th></th>\n",
       "      <th>visitorid</th>\n",
       "      <th>orders</th>\n",
       "    </tr>\n",
       "  </thead>\n",
       "  <tbody>\n",
       "    <tr>\n",
       "      <th>55</th>\n",
       "      <td>249864742</td>\n",
       "      <td>3</td>\n",
       "    </tr>\n",
       "    <tr>\n",
       "      <th>138</th>\n",
       "      <td>611059232</td>\n",
       "      <td>3</td>\n",
       "    </tr>\n",
       "    <tr>\n",
       "      <th>478</th>\n",
       "      <td>2108163459</td>\n",
       "      <td>3</td>\n",
       "    </tr>\n",
       "    <tr>\n",
       "      <th>632</th>\n",
       "      <td>2742574263</td>\n",
       "      <td>3</td>\n",
       "    </tr>\n",
       "    <tr>\n",
       "      <th>687</th>\n",
       "      <td>2988190573</td>\n",
       "      <td>3</td>\n",
       "    </tr>\n",
       "    <tr>\n",
       "      <th>890</th>\n",
       "      <td>3908431265</td>\n",
       "      <td>3</td>\n",
       "    </tr>\n",
       "    <tr>\n",
       "      <th>908</th>\n",
       "      <td>3967698036</td>\n",
       "      <td>3</td>\n",
       "    </tr>\n",
       "  </tbody>\n",
       "</table>\n",
       "</div>"
      ],
      "text/plain": [
       "      visitorid  orders\n",
       "55    249864742       3\n",
       "138   611059232       3\n",
       "478  2108163459       3\n",
       "632  2742574263       3\n",
       "687  2988190573       3\n",
       "890  3908431265       3\n",
       "908  3967698036       3"
      ]
     },
     "execution_count": 56,
     "metadata": {},
     "output_type": "execute_result"
    }
   ],
   "source": [
    "# If you use the 99th percentile → anomaly = users with orders > p99.\n",
    "display(HTML(f\"> Anomaly if p99 is used = users with orders > p99\"))\n",
    "df_orders_per_user.loc[(df_orders_per_user['orders'] > 2), :] "
   ]
  },
  {
   "cell_type": "markdown",
   "id": "bcb7db82",
   "metadata": {},
   "source": [
    "##### __5.2.7__ Draw a scatter plot of the order prices. Make conclusions and conjectures."
   ]
  },
  {
   "cell_type": "code",
   "execution_count": 57,
   "id": "e73ffc5c",
   "metadata": {},
   "outputs": [
    {
     "data": {
      "application/vnd.plotly.v1+json": {
       "config": {
        "plotlyServerURL": "https://plot.ly"
       },
       "data": [
        {
         "hovertemplate": "group=A<br>Order ID=%{x}<br>Order Price=%{y}<extra></extra>",
         "legendgroup": "A",
         "marker": {
          "color": "#636efa",
          "symbol": "circle"
         },
         "mode": "markers",
         "name": "A",
         "showlegend": true,
         "type": "scattergl",
         "x": [
          1144701458,
          477940151,
          1295850747,
          1170105516,
          1962247337,
          2951489300,
          3847160695,
          3328372908,
          627804981,
          2663968367,
          1798931686,
          602399015,
          3433533137,
          365058890,
          735232225,
          52260954,
          4045393544,
          4206138190,
          891673177,
          2065527789,
          3588515863,
          617930325,
          2153842875,
          1223645875,
          1876585139,
          2361024027,
          2815409412,
          2872509092,
          1216926230,
          2206098194,
          3390093829,
          873230871,
          3485678199,
          3083858710,
          2086338800,
          862558739,
          3453819322,
          2324389790,
          3231452720,
          1284843140,
          1166775572,
          1651482177,
          2315635631,
          3413449258,
          2070211595,
          1282317468,
          1676080802,
          1612463967,
          2161369048,
          194489498,
          1407273155,
          4143214054,
          2337370869,
          1794917688,
          318597867,
          2812811922,
          1802431162,
          1441625969,
          1233825013,
          444963271,
          3252142918,
          2656017279,
          455568416,
          35929812,
          416170089,
          798048333,
          2122398532,
          635407424,
          384670583,
          1079956648,
          4084175636,
          212815314,
          1634400895,
          3608171161,
          2461347779,
          4016803793,
          1381001911,
          1676073049,
          3901964025,
          390467479,
          3517061727,
          2700709852,
          957249987,
          2049400530,
          1595002579,
          2291957725,
          2017680897,
          1361424159,
          2740953457,
          2344401705,
          3809397218,
          4256972642,
          3406907886,
          3315359627,
          1845245000,
          335158381,
          51443164,
          4103220998,
          1062393,
          1552043751,
          2470267229,
          3322807521,
          1658608862,
          1715714627,
          2631228632,
          438781793,
          4067849009,
          2744208512,
          2765468571,
          151437276,
          1926996770,
          3986425716,
          1747904063,
          2888367978,
          4060991953,
          2707614072,
          3184248123,
          2150972893,
          1532137447,
          1314703772,
          4082166396,
          1936881098,
          1185885568,
          2541328114,
          514501382,
          3163082555,
          1109375840,
          2176732109,
          1507038921,
          1348929396,
          3279015842,
          2909182252,
          511011368,
          4166735432,
          2000852429,
          3839104003,
          3873503306,
          154338469,
          1105761923,
          1001961505,
          1811538381,
          635351875,
          2420262036,
          2765619353,
          4226156350,
          3627506669,
          2356264591,
          1578727547,
          2067529988,
          198999602,
          2524994153,
          405281389,
          1113045957,
          3603576309,
          1530631615,
          549358396,
          3910266759,
          3817119382,
          401622769,
          271768864,
          914877599,
          702418073,
          3778147089,
          2689922045,
          1885465086,
          2156491846,
          1861540412,
          429304275,
          1853671858,
          4036458680,
          3497987294,
          1076322816,
          1266191879,
          1514149551,
          55417546,
          158295218,
          562221532,
          2518195580,
          1892286239,
          606354126,
          1929420857,
          7210578,
          2375657872,
          3348489190,
          3559692217,
          3460288289,
          1223278263,
          4044267042,
          1181289994,
          3870335394,
          4279408906,
          749851973,
          3237740112,
          3583790584,
          316924019,
          1348774318,
          1024573057,
          2146400799,
          4215838417,
          2358087265,
          518382936,
          3198443301,
          2023943756,
          86504917,
          4099032419,
          448493494,
          2418682148,
          2312704236,
          453686528,
          666610489,
          2183069967,
          2974379446,
          837624130,
          3513553494,
          1722995581,
          4176325967,
          3800907028,
          3096761411,
          2213775495,
          3716304192,
          1784775498,
          4281129020,
          1876275626,
          2927992070,
          339489775,
          1476831880,
          948555526,
          2274188238,
          1692103379,
          2203539145,
          1807773912,
          2626614568,
          1576988021,
          3649131742,
          2809384911,
          3859315276,
          1822256754,
          674584210,
          324018163,
          2153010762,
          376170286,
          837819976,
          3298573369,
          937773181,
          1545571412,
          4159234359,
          1218444584,
          4049927765,
          890243194,
          3710046263,
          1110904493,
          2619374735,
          3020845020,
          2513016443,
          2208648828,
          1440965500,
          3152444021,
          1524568202,
          290974848,
          2923696601,
          1233480079,
          2634363174,
          1071437802,
          2267826875,
          3634771255,
          4139571321,
          1598128055,
          3742152357,
          3795138501,
          3984783002,
          2330926120,
          3592105335,
          180749850,
          2211112339,
          3709669952,
          3046161180,
          630178370,
          1404959653,
          2669609377,
          2727336513,
          4226817726,
          486115048,
          3412626998,
          1775445570,
          1745032218,
          4288552432,
          2037051350,
          3765974140,
          181836088,
          791532781,
          141445646,
          2661837070,
          858446481,
          2786000406,
          2882003943,
          3487214061,
          1543948528,
          3970235543,
          4016435970,
          1084293954,
          3049238571,
          1126146019,
          1774899068,
          1661608904,
          3448552908,
          2516233682,
          4077952433,
          3133733765,
          237002862,
          3257317835,
          290471249,
          3278896715,
          663375979,
          1605437540,
          3585957438,
          1460586653,
          3069553209,
          69312188,
          3390166538,
          559859702,
          1646874005,
          4100162122,
          374969414,
          3068877425,
          3102219893,
          210558688,
          2128508695,
          3462663151,
          1347999392,
          4130553949,
          1618076407,
          1457780928,
          3024349788,
          3268937183,
          3163614039,
          290380159,
          2830055340,
          2785716100,
          3759220283,
          1556785718,
          1934197258,
          1367815478,
          716439623,
          1206085843,
          532398042,
          1731035177,
          175363373,
          408545316,
          2883105032,
          797272237,
          2305128914,
          3279337891,
          225225498,
          2117234618,
          2035013473,
          1312693562,
          3404861334,
          26423654,
          1634965106,
          3508803238,
          587872075,
          1136317551,
          738849391,
          4147554249,
          3147672292,
          393610987,
          2106647175,
          1134284616,
          3312757456,
          469964133,
          735672072,
          2717892024,
          520097477,
          3190958060,
          4006427057,
          3784129239,
          2714235110,
          1400686638,
          1964998089,
          2541233311,
          128480032,
          1641863009,
          1472783002,
          1765769688,
          4152028361,
          2243349176,
          3600573749,
          3430893515,
          2205947780,
          3352388207,
          2339908130,
          3664867609,
          1328714350,
          3796946799,
          1646402801,
          2081053731,
          1946569610,
          3232411764,
          648682471,
          1589082866,
          1157343706,
          1092669520,
          3784111282,
          408812103,
          936042206,
          3303424591,
          3900298739,
          3086067579,
          986374747,
          8131427,
          262925486,
          2865895399,
          3483580157,
          2159858322,
          1243954217,
          305846010,
          2575492995,
          4149397657,
          1399322126,
          1275337321,
          4185696070,
          3263878605,
          2029413212,
          2476095168,
          1623176798,
          3503087376,
          3025669476,
          2552819381,
          2084190534,
          2061627240,
          2641583134,
          3381429285,
          3187348360,
          4035028498,
          1973794357,
          3311675826,
          3678943889,
          4243941421,
          1407752954,
          50225499,
          380504587,
          1576403126,
          2143803288,
          2612401984,
          452710654,
          2547759316,
          2380347282,
          3207473498,
          165288431,
          653973461,
          3964942202,
          461722689,
          3455897155,
          3525952977,
          4080243878,
          3987401232,
          1636454846,
          4203085435,
          1408156385,
          884109530,
          1207636128,
          1998112401,
          2211880073,
          1634999519,
          3784371772,
          1729012139,
          2411823395,
          4180327962
         ],
         "xaxis": "x",
         "y": {
          "bdata": "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",
          "dtype": "f8"
         },
         "yaxis": "y"
        },
        {
         "hovertemplate": "group=B<br>Order ID=%{x}<br>Order Price=%{y}<extra></extra>",
         "legendgroup": "B",
         "marker": {
          "color": "#EF553B",
          "symbol": "circle"
         },
         "mode": "markers",
         "name": "B",
         "showlegend": true,
         "type": "scattergl",
         "x": [
          4919758,
          3574407166,
          2012801741,
          804934578,
          2951399376,
          2411689164,
          3749160238,
          3486821141,
          3394915331,
          1578920557,
          1403947326,
          2774185760,
          854120002,
          3650534576,
          4238948438,
          1728664132,
          3227521980,
          1192036073,
          2089115464,
          1791477067,
          1335758960,
          3959068944,
          1993640374,
          1780029109,
          573486797,
          1803127824,
          1892362671,
          1764119908,
          394880746,
          2822064496,
          3084571653,
          2503419221,
          918752036,
          1164811175,
          1242996928,
          364342391,
          3017343075,
          412824526,
          3140010296,
          218467446,
          3533599275,
          2160002122,
          2961045922,
          822092266,
          2399678258,
          2396420873,
          1228436647,
          2466620500,
          3751930031,
          1679400779,
          4182212811,
          3435237349,
          2234122314,
          4169633550,
          2596511168,
          50573571,
          1703637902,
          1867784682,
          1887336629,
          3394575003,
          2724331495,
          3384575290,
          2672742956,
          2252458552,
          3047865341,
          3730164576,
          369801982,
          1415191499,
          3606446640,
          2023295336,
          1907905097,
          1670357589,
          2309036559,
          777722931,
          724544405,
          504373597,
          2875229767,
          1988916037,
          4167421281,
          3536751509,
          1063646926,
          373945924,
          3834417582,
          3466109212,
          1477976259,
          894865132,
          383287370,
          3586326620,
          3352225027,
          4027963553,
          2400978083,
          1696190144,
          2100491088,
          947776467,
          2505918657,
          3878473215,
          884458775,
          2788225284,
          3367644853,
          1442150543,
          1565422415,
          2419903539,
          3896562897,
          2012347492,
          3913205113,
          2092376102,
          1393848137,
          3944922068,
          323958042,
          571224785,
          2489491772,
          3621273697,
          3247488765,
          4071177889,
          1172658283,
          3544621373,
          2782494067,
          3720572478,
          2107411712,
          2178722073,
          3659622247,
          380685964,
          2472751116,
          2845314954,
          2741495374,
          3256245027,
          2309447140,
          1416727054,
          3047372556,
          2489555571,
          1457259561,
          178265899,
          1183827418,
          3502192780,
          2430984474,
          202241000,
          769008348,
          3949629544,
          4244481880,
          3636437832,
          2367795708,
          2599120403,
          1319904784,
          1612010084,
          4013545461,
          437876380,
          4132628207,
          3675491906,
          1594277506,
          3628490752,
          2420050534,
          2497497433,
          2518211204,
          1215018444,
          2762748803,
          4042759961,
          3143229464,
          2952636658,
          4021746511,
          160345536,
          3126152734,
          11068804,
          3560142722,
          1869578588,
          2184241291,
          3924423491,
          2627773869,
          3589879928,
          3165578945,
          2235924775,
          3328555363,
          1061639574,
          4228929090,
          2142284513,
          416093091,
          2139039614,
          2090708381,
          4230875336,
          3854129892,
          4223601037,
          1763788632,
          3778001764,
          2012277167,
          3024416906,
          3088760849,
          3018088287,
          1126236755,
          1428722141,
          3217433767,
          218256919,
          287313500,
          1167684138,
          3901196331,
          4067377068,
          1282920840,
          677472159,
          1338703051,
          2640648270,
          543733679,
          3533389249,
          4057562044,
          3432950155,
          2104773562,
          375844049,
          1266977500,
          1880179202,
          1674284750,
          1859123281,
          842507644,
          2241655654,
          3291040387,
          4261512099,
          4197437901,
          2352568886,
          3498400794,
          2055901696,
          96707201,
          546817993,
          324171086,
          177293476,
          1746771340,
          2774755101,
          980307483,
          3879664526,
          2656764852,
          626262509,
          4213441143,
          1149756812,
          3170885827,
          1567625736,
          876779158,
          3003595335,
          418108717,
          70327311,
          2712149372,
          457983912,
          264388722,
          3545373252,
          4209564703,
          2645975327,
          2236120888,
          1801818165,
          3815014015,
          3551685910,
          3568767894,
          3768600702,
          1003122151,
          3591719830,
          1292296903,
          1276399043,
          2764584088,
          29438557,
          290089453,
          2961555325,
          3053268562,
          2015722678,
          3213645392,
          3607552320,
          1303723408,
          2116724386,
          38478481,
          3592955527,
          2662137336,
          3667963787,
          2804400009,
          3797467345,
          2282983706,
          182168103,
          398296753,
          1506739906,
          1919444843,
          3044797713,
          2550768810,
          1820531107,
          1108180333,
          1240630928,
          235474681,
          2632372083,
          1678838030,
          2552245563,
          2258664213,
          2165344951,
          3601774485,
          3276214732,
          1950404403,
          733587530,
          459882198,
          2960804513,
          3936777065,
          352861950,
          133616433,
          2236784294,
          794298435,
          854249928,
          900025958,
          2145193898,
          2787983461,
          1286673508,
          231209528,
          2321477056,
          459227648,
          1211699332,
          3721196264,
          773663763,
          2206140518,
          1246801103,
          297844270,
          2232016803,
          595789313,
          3437333253,
          2368313386,
          1648861120,
          3937772364,
          565328425,
          86411600,
          790091309,
          3306480450,
          3630998268,
          1935539409,
          2374285072,
          691299586,
          460968028,
          2765625299,
          2012012971,
          3897826085,
          1731627062,
          3641100475,
          1939633950,
          2414788465,
          1652782757,
          3154167297,
          2096847394,
          1033377712,
          3268879337,
          4161654914,
          2609443403,
          590470918,
          19467429,
          3019510679,
          2436528253,
          863448794,
          2683113224,
          4170537404,
          752294429,
          1739748874,
          1654949825,
          1570513684,
          90109939,
          1187625359,
          2425764900,
          3167192434,
          3301293313,
          1482923642,
          2476870871,
          1601158430,
          1329556473,
          3614621763,
          3879539725,
          2083889130,
          3185013805,
          619615697,
          672040400,
          3805806808,
          2699289722,
          175321713,
          434147256,
          2419950278,
          348143148,
          2271171213,
          2102403691,
          1722971027,
          2368020497,
          234238251,
          3730368751,
          1192185169,
          3608152685,
          1035705992,
          3057892078,
          1364984427,
          627172106,
          2304731149,
          3888787202,
          3525980424,
          2010908098,
          3176574859,
          1238204141,
          737104568,
          3769777863,
          1599526656,
          965802885,
          3650380616,
          665271848,
          2531740433,
          1102655019,
          1941376795,
          965979600,
          836739159,
          3492564891,
          260086319,
          3457754169,
          123992977,
          1532499979,
          3221239900,
          2234615357,
          1826741120,
          2674236505,
          2024820467,
          4129423775,
          699854005,
          395889669,
          3422531330,
          298049028,
          1769257333,
          934232801,
          161113724,
          800632297,
          887219389,
          3567356314,
          3524589317,
          1407575382,
          3959809807,
          562977028,
          4041036714,
          1205865656,
          1139821076,
          4140190337,
          578479971,
          2939332152,
          143829018,
          968111463,
          2994467711,
          3745550734,
          2216192667,
          310029418,
          42506358,
          3631538224,
          3645205514,
          3796325351,
          3384227820,
          1215410543,
          2854869852,
          1490093586,
          3900869207,
          1184338948,
          3245585636,
          1048853344,
          298049448,
          3330749678,
          1207030791,
          2773724620,
          641338041,
          815003794,
          3772248562,
          922638597,
          3649785329,
          1910474662,
          629969501,
          831316805,
          2591976620,
          2180201337,
          1988035100,
          3615982016,
          2961490189,
          3668308183,
          1237221075,
          1311251665,
          767912658,
          446569841,
          2318242783,
          2859293852,
          2120503539,
          3760662696,
          1537104566,
          3227505145,
          3800875660,
          1823195189,
          741346069,
          2345357201,
          3646798055,
          2956594374,
          1853288890,
          2890964573,
          2052514069,
          2291372207,
          2287457662,
          1371922580,
          3838148156,
          2004946059,
          2013919907,
          457171476,
          2932932798,
          3831307789,
          3143300221,
          2600542600,
          465243102,
          3660038601,
          3831358676,
          2172704731,
          2866469834,
          2912128786,
          3894221956,
          3108623697,
          2148936881,
          19446369,
          3022667018,
          1483298733,
          2280802660,
          1096121493,
          1573514293,
          3837794863,
          3455399567,
          3568733367,
          3782700345,
          4143391178,
          860384268,
          1234615529,
          125335873,
          4178616791,
          142712712,
          1029192242,
          217480737,
          2851407406,
          1369044083,
          1273552286,
          549769193,
          707525727,
          1538887006,
          1992809750,
          31060183,
          2894657060,
          926804035,
          3682739914,
          3122496224,
          3759988715,
          3027277658,
          3273938321,
          1476390797,
          2436452823,
          3465107905,
          1941116644,
          3141224116,
          3229560351,
          557323463,
          2886170101,
          3845118557,
          853409662,
          4149581711,
          2983450240
         ],
         "xaxis": "x",
         "y": {
          "bdata": "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",
          "dtype": "f8"
         },
         "yaxis": "y"
        }
       ],
       "layout": {
        "legend": {
         "title": {
          "text": "group"
         },
         "tracegroupgap": 0
        },
        "template": {
         "data": {
          "bar": [
           {
            "error_x": {
             "color": "#2a3f5f"
            },
            "error_y": {
             "color": "#2a3f5f"
            },
            "marker": {
             "line": {
              "color": "#E5ECF6",
              "width": 0.5
             },
             "pattern": {
              "fillmode": "overlay",
              "size": 10,
              "solidity": 0.2
             }
            },
            "type": "bar"
           }
          ],
          "barpolar": [
           {
            "marker": {
             "line": {
              "color": "#E5ECF6",
              "width": 0.5
             },
             "pattern": {
              "fillmode": "overlay",
              "size": 10,
              "solidity": 0.2
             }
            },
            "type": "barpolar"
           }
          ],
          "carpet": [
           {
            "aaxis": {
             "endlinecolor": "#2a3f5f",
             "gridcolor": "white",
             "linecolor": "white",
             "minorgridcolor": "white",
             "startlinecolor": "#2a3f5f"
            },
            "baxis": {
             "endlinecolor": "#2a3f5f",
             "gridcolor": "white",
             "linecolor": "white",
             "minorgridcolor": "white",
             "startlinecolor": "#2a3f5f"
            },
            "type": "carpet"
           }
          ],
          "choropleth": [
           {
            "colorbar": {
             "outlinewidth": 0,
             "ticks": ""
            },
            "type": "choropleth"
           }
          ],
          "contour": [
           {
            "colorbar": {
             "outlinewidth": 0,
             "ticks": ""
            },
            "colorscale": [
             [
              0,
              "#0d0887"
             ],
             [
              0.1111111111111111,
              "#46039f"
             ],
             [
              0.2222222222222222,
              "#7201a8"
             ],
             [
              0.3333333333333333,
              "#9c179e"
             ],
             [
              0.4444444444444444,
              "#bd3786"
             ],
             [
              0.5555555555555556,
              "#d8576b"
             ],
             [
              0.6666666666666666,
              "#ed7953"
             ],
             [
              0.7777777777777778,
              "#fb9f3a"
             ],
             [
              0.8888888888888888,
              "#fdca26"
             ],
             [
              1,
              "#f0f921"
             ]
            ],
            "type": "contour"
           }
          ],
          "contourcarpet": [
           {
            "colorbar": {
             "outlinewidth": 0,
             "ticks": ""
            },
            "type": "contourcarpet"
           }
          ],
          "heatmap": [
           {
            "colorbar": {
             "outlinewidth": 0,
             "ticks": ""
            },
            "colorscale": [
             [
              0,
              "#0d0887"
             ],
             [
              0.1111111111111111,
              "#46039f"
             ],
             [
              0.2222222222222222,
              "#7201a8"
             ],
             [
              0.3333333333333333,
              "#9c179e"
             ],
             [
              0.4444444444444444,
              "#bd3786"
             ],
             [
              0.5555555555555556,
              "#d8576b"
             ],
             [
              0.6666666666666666,
              "#ed7953"
             ],
             [
              0.7777777777777778,
              "#fb9f3a"
             ],
             [
              0.8888888888888888,
              "#fdca26"
             ],
             [
              1,
              "#f0f921"
             ]
            ],
            "type": "heatmap"
           }
          ],
          "histogram": [
           {
            "marker": {
             "pattern": {
              "fillmode": "overlay",
              "size": 10,
              "solidity": 0.2
             }
            },
            "type": "histogram"
           }
          ],
          "histogram2d": [
           {
            "colorbar": {
             "outlinewidth": 0,
             "ticks": ""
            },
            "colorscale": [
             [
              0,
              "#0d0887"
             ],
             [
              0.1111111111111111,
              "#46039f"
             ],
             [
              0.2222222222222222,
              "#7201a8"
             ],
             [
              0.3333333333333333,
              "#9c179e"
             ],
             [
              0.4444444444444444,
              "#bd3786"
             ],
             [
              0.5555555555555556,
              "#d8576b"
             ],
             [
              0.6666666666666666,
              "#ed7953"
             ],
             [
              0.7777777777777778,
              "#fb9f3a"
             ],
             [
              0.8888888888888888,
              "#fdca26"
             ],
             [
              1,
              "#f0f921"
             ]
            ],
            "type": "histogram2d"
           }
          ],
          "histogram2dcontour": [
           {
            "colorbar": {
             "outlinewidth": 0,
             "ticks": ""
            },
            "colorscale": [
             [
              0,
              "#0d0887"
             ],
             [
              0.1111111111111111,
              "#46039f"
             ],
             [
              0.2222222222222222,
              "#7201a8"
             ],
             [
              0.3333333333333333,
              "#9c179e"
             ],
             [
              0.4444444444444444,
              "#bd3786"
             ],
             [
              0.5555555555555556,
              "#d8576b"
             ],
             [
              0.6666666666666666,
              "#ed7953"
             ],
             [
              0.7777777777777778,
              "#fb9f3a"
             ],
             [
              0.8888888888888888,
              "#fdca26"
             ],
             [
              1,
              "#f0f921"
             ]
            ],
            "type": "histogram2dcontour"
           }
          ],
          "mesh3d": [
           {
            "colorbar": {
             "outlinewidth": 0,
             "ticks": ""
            },
            "type": "mesh3d"
           }
          ],
          "parcoords": [
           {
            "line": {
             "colorbar": {
              "outlinewidth": 0,
              "ticks": ""
             }
            },
            "type": "parcoords"
           }
          ],
          "pie": [
           {
            "automargin": true,
            "type": "pie"
           }
          ],
          "scatter": [
           {
            "fillpattern": {
             "fillmode": "overlay",
             "size": 10,
             "solidity": 0.2
            },
            "type": "scatter"
           }
          ],
          "scatter3d": [
           {
            "line": {
             "colorbar": {
              "outlinewidth": 0,
              "ticks": ""
             }
            },
            "marker": {
             "colorbar": {
              "outlinewidth": 0,
              "ticks": ""
             }
            },
            "type": "scatter3d"
           }
          ],
          "scattercarpet": [
           {
            "marker": {
             "colorbar": {
              "outlinewidth": 0,
              "ticks": ""
             }
            },
            "type": "scattercarpet"
           }
          ],
          "scattergeo": [
           {
            "marker": {
             "colorbar": {
              "outlinewidth": 0,
              "ticks": ""
             }
            },
            "type": "scattergeo"
           }
          ],
          "scattergl": [
           {
            "marker": {
             "colorbar": {
              "outlinewidth": 0,
              "ticks": ""
             }
            },
            "type": "scattergl"
           }
          ],
          "scattermap": [
           {
            "marker": {
             "colorbar": {
              "outlinewidth": 0,
              "ticks": ""
             }
            },
            "type": "scattermap"
           }
          ],
          "scattermapbox": [
           {
            "marker": {
             "colorbar": {
              "outlinewidth": 0,
              "ticks": ""
             }
            },
            "type": "scattermapbox"
           }
          ],
          "scatterpolar": [
           {
            "marker": {
             "colorbar": {
              "outlinewidth": 0,
              "ticks": ""
             }
            },
            "type": "scatterpolar"
           }
          ],
          "scatterpolargl": [
           {
            "marker": {
             "colorbar": {
              "outlinewidth": 0,
              "ticks": ""
             }
            },
            "type": "scatterpolargl"
           }
          ],
          "scatterternary": [
           {
            "marker": {
             "colorbar": {
              "outlinewidth": 0,
              "ticks": ""
             }
            },
            "type": "scatterternary"
           }
          ],
          "surface": [
           {
            "colorbar": {
             "outlinewidth": 0,
             "ticks": ""
            },
            "colorscale": [
             [
              0,
              "#0d0887"
             ],
             [
              0.1111111111111111,
              "#46039f"
             ],
             [
              0.2222222222222222,
              "#7201a8"
             ],
             [
              0.3333333333333333,
              "#9c179e"
             ],
             [
              0.4444444444444444,
              "#bd3786"
             ],
             [
              0.5555555555555556,
              "#d8576b"
             ],
             [
              0.6666666666666666,
              "#ed7953"
             ],
             [
              0.7777777777777778,
              "#fb9f3a"
             ],
             [
              0.8888888888888888,
              "#fdca26"
             ],
             [
              1,
              "#f0f921"
             ]
            ],
            "type": "surface"
           }
          ],
          "table": [
           {
            "cells": {
             "fill": {
              "color": "#EBF0F8"
             },
             "line": {
              "color": "white"
             }
            },
            "header": {
             "fill": {
              "color": "#C8D4E3"
             },
             "line": {
              "color": "white"
             }
            },
            "type": "table"
           }
          ]
         },
         "layout": {
          "annotationdefaults": {
           "arrowcolor": "#2a3f5f",
           "arrowhead": 0,
           "arrowwidth": 1
          },
          "autotypenumbers": "strict",
          "coloraxis": {
           "colorbar": {
            "outlinewidth": 0,
            "ticks": ""
           }
          },
          "colorscale": {
           "diverging": [
            [
             0,
             "#8e0152"
            ],
            [
             0.1,
             "#c51b7d"
            ],
            [
             0.2,
             "#de77ae"
            ],
            [
             0.3,
             "#f1b6da"
            ],
            [
             0.4,
             "#fde0ef"
            ],
            [
             0.5,
             "#f7f7f7"
            ],
            [
             0.6,
             "#e6f5d0"
            ],
            [
             0.7,
             "#b8e186"
            ],
            [
             0.8,
             "#7fbc41"
            ],
            [
             0.9,
             "#4d9221"
            ],
            [
             1,
             "#276419"
            ]
           ],
           "sequential": [
            [
             0,
             "#0d0887"
            ],
            [
             0.1111111111111111,
             "#46039f"
            ],
            [
             0.2222222222222222,
             "#7201a8"
            ],
            [
             0.3333333333333333,
             "#9c179e"
            ],
            [
             0.4444444444444444,
             "#bd3786"
            ],
            [
             0.5555555555555556,
             "#d8576b"
            ],
            [
             0.6666666666666666,
             "#ed7953"
            ],
            [
             0.7777777777777778,
             "#fb9f3a"
            ],
            [
             0.8888888888888888,
             "#fdca26"
            ],
            [
             1,
             "#f0f921"
            ]
           ],
           "sequentialminus": [
            [
             0,
             "#0d0887"
            ],
            [
             0.1111111111111111,
             "#46039f"
            ],
            [
             0.2222222222222222,
             "#7201a8"
            ],
            [
             0.3333333333333333,
             "#9c179e"
            ],
            [
             0.4444444444444444,
             "#bd3786"
            ],
            [
             0.5555555555555556,
             "#d8576b"
            ],
            [
             0.6666666666666666,
             "#ed7953"
            ],
            [
             0.7777777777777778,
             "#fb9f3a"
            ],
            [
             0.8888888888888888,
             "#fdca26"
            ],
            [
             1,
             "#f0f921"
            ]
           ]
          },
          "colorway": [
           "#636efa",
           "#EF553B",
           "#00cc96",
           "#ab63fa",
           "#FFA15A",
           "#19d3f3",
           "#FF6692",
           "#B6E880",
           "#FF97FF",
           "#FECB52"
          ],
          "font": {
           "color": "#2a3f5f"
          },
          "geo": {
           "bgcolor": "white",
           "lakecolor": "white",
           "landcolor": "#E5ECF6",
           "showlakes": true,
           "showland": true,
           "subunitcolor": "white"
          },
          "hoverlabel": {
           "align": "left"
          },
          "hovermode": "closest",
          "mapbox": {
           "style": "light"
          },
          "paper_bgcolor": "white",
          "plot_bgcolor": "#E5ECF6",
          "polar": {
           "angularaxis": {
            "gridcolor": "white",
            "linecolor": "white",
            "ticks": ""
           },
           "bgcolor": "#E5ECF6",
           "radialaxis": {
            "gridcolor": "white",
            "linecolor": "white",
            "ticks": ""
           }
          },
          "scene": {
           "xaxis": {
            "backgroundcolor": "#E5ECF6",
            "gridcolor": "white",
            "gridwidth": 2,
            "linecolor": "white",
            "showbackground": true,
            "ticks": "",
            "zerolinecolor": "white"
           },
           "yaxis": {
            "backgroundcolor": "#E5ECF6",
            "gridcolor": "white",
            "gridwidth": 2,
            "linecolor": "white",
            "showbackground": true,
            "ticks": "",
            "zerolinecolor": "white"
           },
           "zaxis": {
            "backgroundcolor": "#E5ECF6",
            "gridcolor": "white",
            "gridwidth": 2,
            "linecolor": "white",
            "showbackground": true,
            "ticks": "",
            "zerolinecolor": "white"
           }
          },
          "shapedefaults": {
           "line": {
            "color": "#2a3f5f"
           }
          },
          "ternary": {
           "aaxis": {
            "gridcolor": "white",
            "linecolor": "white",
            "ticks": ""
           },
           "baxis": {
            "gridcolor": "white",
            "linecolor": "white",
            "ticks": ""
           },
           "bgcolor": "#E5ECF6",
           "caxis": {
            "gridcolor": "white",
            "linecolor": "white",
            "ticks": ""
           }
          },
          "title": {
           "x": 0.05
          },
          "xaxis": {
           "automargin": true,
           "gridcolor": "white",
           "linecolor": "white",
           "ticks": "",
           "title": {
            "standoff": 15
           },
           "zerolinecolor": "white",
           "zerolinewidth": 2
          },
          "yaxis": {
           "automargin": true,
           "gridcolor": "white",
           "linecolor": "white",
           "ticks": "",
           "title": {
            "standoff": 15
           },
           "zerolinecolor": "white",
           "zerolinewidth": 2
          }
         }
        },
        "title": {
         "text": "Order Prices by Group"
        },
        "xaxis": {
         "anchor": "y",
         "domain": [
          0,
          1
         ],
         "dtick": 100000000,
         "rangemode": "tozero",
         "tickangle": 90,
         "tickformat": "d",
         "title": {
          "text": "Order ID"
         }
        },
        "yaxis": {
         "anchor": "x",
         "domain": [
          0,
          1
         ],
         "dtick": 1000,
         "rangemode": "tozero",
         "title": {
          "text": "Revenue"
         }
        }
       }
      }
     },
     "metadata": {},
     "output_type": "display_data"
    }
   ],
   "source": [
    "fig = px.scatter(df_orders, x=\"transactionid\", y=\"revenue\", color=\"group\", title=\"Order Prices by Group\",\n",
    "                 labels={\"transactionid\": \"Order ID\", \"revenue\": \"Order Price\"})\n",
    "fig.update_yaxes(dtick=1000, title=\"Revenue\", rangemode=\"tozero\")\n",
    "fig.update_xaxes(dtick=100000000, tickformat=\"d\", tickangle=90, rangemode=\"tozero\")\n",
    "fig.show()"
   ]
  },
  {
   "cell_type": "markdown",
   "id": "c6762d6b",
   "metadata": {},
   "source": [
    "`LSPL` - Most orders are clustered at lower revenue (less than 1K), higher valued orders are outliers. Outliers artificially inflate the average order size, that's why cumulative averages and statistical tests are run with and without filtering anomalies."
   ]
  },
  {
   "cell_type": "markdown",
   "id": "895701d0",
   "metadata": {},
   "source": [
    "##### __5.2.8__ Calculate the 95th and 99th percentiles of order prices. Defines the point at which a data point becomes an anomaly."
   ]
  },
  {
   "cell_type": "code",
   "execution_count": 58,
   "id": "e7dc382c",
   "metadata": {},
   "outputs": [
    {
     "data": {
      "text/html": [
       "> Percentile 95: <b>414.275</b>"
      ],
      "text/plain": [
       "<IPython.core.display.HTML object>"
      ]
     },
     "metadata": {},
     "output_type": "display_data"
    },
    {
     "data": {
      "text/html": [
       "> Percentile 99: <b>830.3</b>"
      ],
      "text/plain": [
       "<IPython.core.display.HTML object>"
      ]
     },
     "metadata": {},
     "output_type": "display_data"
    }
   ],
   "source": [
    "p95 = df_orders[\"revenue\"].quantile(0.95)\n",
    "p99 = df_orders[\"revenue\"].quantile(0.99)\n",
    "\n",
    "display(HTML(f\"> Percentile 95: <b>{p95}</b>\"))\n",
    "display(HTML(f\"> Percentile 99: <b>{p99}</b>\"))  "
   ]
  },
  {
   "cell_type": "code",
   "execution_count": 59,
   "id": "5713302b",
   "metadata": {},
   "outputs": [
    {
     "data": {
      "text/html": [
       "> Anomaly if p95 is used = transactions with prices > p95"
      ],
      "text/plain": [
       "<IPython.core.display.HTML object>"
      ]
     },
     "metadata": {},
     "output_type": "display_data"
    },
    {
     "data": {
      "application/vnd.microsoft.datawrangler.viewer.v0+json": {
       "columns": [
        {
         "name": "index",
         "rawType": "int64",
         "type": "integer"
        },
        {
         "name": "transactionid",
         "rawType": "int64",
         "type": "integer"
        },
        {
         "name": "visitorid",
         "rawType": "int64",
         "type": "integer"
        },
        {
         "name": "date",
         "rawType": "object",
         "type": "unknown"
        },
        {
         "name": "revenue",
         "rawType": "float64",
         "type": "float"
        },
        {
         "name": "group",
         "rawType": "category",
         "type": "unknown"
        }
       ],
       "ref": "52d6beda-8e77-4485-8eef-ae3380150e54",
       "rows": [
        [
         "2",
         "1295850747",
         "2947100995",
         "2019-08-01",
         "455.8",
         "A"
        ],
        [
         "10",
         "1798931686",
         "1211585711",
         "2019-08-01",
         "440.3",
         "A"
        ],
        [
         "59",
         "1192036073",
         "2953427180",
         "2019-08-02",
         "590.1",
         "B"
        ],
        [
         "66",
         "573486797",
         "3118156181",
         "2019-08-02",
         "475.5",
         "B"
        ],
        [
         "134",
         "1867784682",
         "2247666522",
         "2019-08-04",
         "485.3",
         "B"
        ],
        [
         "168",
         "2023295336",
         "4009017467",
         "2019-08-05",
         "440.2",
         "B"
        ],
        [
         "211",
         "2788225284",
         "1606766439",
         "2019-08-06",
         "580.7",
         "B"
        ],
        [
         "215",
         "2419903539",
         "3177790019",
         "2019-08-06",
         "475.5",
         "B"
        ],
        [
         "222",
         "323958042",
         "1010866419",
         "2019-08-06",
         "425.9",
         "B"
        ],
        [
         "236",
         "514501382",
         "950626008",
         "2019-08-07",
         "710.8",
         "A"
        ],
        [
         "243",
         "4071177889",
         "3931967268",
         "2019-08-07",
         "830.3",
         "B"
        ],
        [
         "249",
         "2178722073",
         "816783716",
         "2019-08-07",
         "535.5",
         "B"
        ],
        [
         "257",
         "1416727054",
         "3357398384",
         "2019-08-07",
         "455.8",
         "B"
        ],
        [
         "294",
         "2420050534",
         "4003628586",
         "2019-08-08",
         "905.8",
         "B"
        ],
        [
         "310",
         "3603576309",
         "4133034833",
         "2019-08-09",
         "1050.0",
         "A"
        ],
        [
         "313",
         "4021746511",
         "113298937",
         "2019-08-09",
         "425.6",
         "B"
        ],
        [
         "333",
         "3817119382",
         "2840985286",
         "2019-08-10",
         "540.3",
         "A"
        ],
        [
         "342",
         "1861540412",
         "2261934787",
         "2019-08-10",
         "815.8",
         "A"
        ],
        [
         "352",
         "2012277167",
         "2999642019",
         "2019-08-10",
         "445.3",
         "B"
        ],
        [
         "404",
         "316924019",
         "148427295",
         "2019-08-12",
         "1015.9",
         "A"
        ],
        [
         "405",
         "1348774318",
         "1164614297",
         "2019-08-12",
         "1025.8",
         "A"
        ],
        [
         "418",
         "324171086",
         "3590655705",
         "2019-08-12",
         "610.7",
         "B"
        ],
        [
         "431",
         "2023943756",
         "1604853044",
         "2019-08-13",
         "435.7",
         "A"
        ],
        [
         "438",
         "666610489",
         "1307669133",
         "2019-08-13",
         "1425.8",
         "A"
        ],
        [
         "439",
         "2183069967",
         "759473111",
         "2019-08-13",
         "810.4",
         "A"
        ],
        [
         "456",
         "3815014015",
         "2606908679",
         "2019-08-13",
         "815.8",
         "B"
        ],
        [
         "529",
         "3936777065",
         "2108080724",
         "2019-08-15",
         "3120.1",
         "B"
        ],
        [
         "540",
         "2619374735",
         "787824685",
         "2019-08-16",
         "500.7",
         "A"
        ],
        [
         "562",
         "773663763",
         "3288820196",
         "2019-08-16",
         "630.8",
         "B"
        ],
        [
         "614",
         "3765974140",
         "1357170471",
         "2019-08-19",
         "490.4",
         "A"
        ],
        [
         "624",
         "3970235543",
         "2912540959",
         "2019-08-19",
         "680.8",
         "A"
        ],
        [
         "635",
         "590470918",
         "1920142716",
         "2019-08-19",
         "19920.4",
         "B"
        ],
        [
         "645",
         "1570513684",
         "2837914161",
         "2019-08-19",
         "515.9",
         "B"
        ],
        [
         "676",
         "348143148",
         "689129267",
         "2019-08-20",
         "575.5",
         "B"
        ],
        [
         "696",
         "1347999392",
         "887908475",
         "2019-08-21",
         "930.0",
         "A"
        ],
        [
         "703",
         "1192185169",
         "2853587382",
         "2019-08-21",
         "475.5",
         "B"
        ],
        [
         "714",
         "3163614039",
         "2254586615",
         "2019-08-22",
         "830.3",
         "A"
        ],
        [
         "771",
         "1769257333",
         "2278620397",
         "2019-08-23",
         "525.6",
         "B"
        ],
        [
         "774",
         "587872075",
         "2254456485",
         "2019-08-24",
         "830.3",
         "A"
        ],
        [
         "812",
         "2216192667",
         "834731816",
         "2019-08-25",
         "640.7",
         "B"
        ],
        [
         "825",
         "2243349176",
         "1452540367",
         "2019-08-26",
         "510.5",
         "A"
        ],
        [
         "834",
         "1646402801",
         "382846391",
         "2019-08-26",
         "675.2",
         "A"
        ],
        [
         "849",
         "922638597",
         "935349363",
         "2019-08-26",
         "550.9",
         "B"
        ],
        [
         "861",
         "1589082866",
         "3321013705",
         "2019-08-27",
         "765.5",
         "A"
        ],
        [
         "882",
         "3668308183",
         "888512513",
         "2019-08-27",
         "1335.6",
         "B"
        ],
        [
         "932",
         "4243941421",
         "1367935136",
         "2019-08-29",
         "550.9",
         "A"
        ],
        [
         "945",
         "3964942202",
         "358944393",
         "2019-08-29",
         "660.5",
         "A"
        ],
        [
         "975",
         "1234615529",
         "2279926127",
         "2019-08-30",
         "705.3",
         "B"
        ],
        [
         "986",
         "1538887006",
         "3372131337",
         "2019-08-30",
         "555.2",
         "B"
        ],
        [
         "989",
         "2894657060",
         "204675465",
         "2019-08-30",
         "510.5",
         "B"
        ]
       ],
       "shape": {
        "columns": 5,
        "rows": 51
       }
      },
      "text/html": [
       "<div>\n",
       "<style scoped>\n",
       "    .dataframe tbody tr th:only-of-type {\n",
       "        vertical-align: middle;\n",
       "    }\n",
       "\n",
       "    .dataframe tbody tr th {\n",
       "        vertical-align: top;\n",
       "    }\n",
       "\n",
       "    .dataframe thead th {\n",
       "        text-align: right;\n",
       "    }\n",
       "</style>\n",
       "<table border=\"1\" class=\"dataframe\">\n",
       "  <thead>\n",
       "    <tr style=\"text-align: right;\">\n",
       "      <th></th>\n",
       "      <th>transactionid</th>\n",
       "      <th>visitorid</th>\n",
       "      <th>date</th>\n",
       "      <th>revenue</th>\n",
       "      <th>group</th>\n",
       "    </tr>\n",
       "  </thead>\n",
       "  <tbody>\n",
       "    <tr>\n",
       "      <th>2</th>\n",
       "      <td>1295850747</td>\n",
       "      <td>2947100995</td>\n",
       "      <td>2019-08-01</td>\n",
       "      <td>455.8</td>\n",
       "      <td>A</td>\n",
       "    </tr>\n",
       "    <tr>\n",
       "      <th>10</th>\n",
       "      <td>1798931686</td>\n",
       "      <td>1211585711</td>\n",
       "      <td>2019-08-01</td>\n",
       "      <td>440.3</td>\n",
       "      <td>A</td>\n",
       "    </tr>\n",
       "    <tr>\n",
       "      <th>59</th>\n",
       "      <td>1192036073</td>\n",
       "      <td>2953427180</td>\n",
       "      <td>2019-08-02</td>\n",
       "      <td>590.1</td>\n",
       "      <td>B</td>\n",
       "    </tr>\n",
       "    <tr>\n",
       "      <th>66</th>\n",
       "      <td>573486797</td>\n",
       "      <td>3118156181</td>\n",
       "      <td>2019-08-02</td>\n",
       "      <td>475.5</td>\n",
       "      <td>B</td>\n",
       "    </tr>\n",
       "    <tr>\n",
       "      <th>134</th>\n",
       "      <td>1867784682</td>\n",
       "      <td>2247666522</td>\n",
       "      <td>2019-08-04</td>\n",
       "      <td>485.3</td>\n",
       "      <td>B</td>\n",
       "    </tr>\n",
       "    <tr>\n",
       "      <th>...</th>\n",
       "      <td>...</td>\n",
       "      <td>...</td>\n",
       "      <td>...</td>\n",
       "      <td>...</td>\n",
       "      <td>...</td>\n",
       "    </tr>\n",
       "    <tr>\n",
       "      <th>945</th>\n",
       "      <td>3964942202</td>\n",
       "      <td>358944393</td>\n",
       "      <td>2019-08-29</td>\n",
       "      <td>660.5</td>\n",
       "      <td>A</td>\n",
       "    </tr>\n",
       "    <tr>\n",
       "      <th>975</th>\n",
       "      <td>1234615529</td>\n",
       "      <td>2279926127</td>\n",
       "      <td>2019-08-30</td>\n",
       "      <td>705.3</td>\n",
       "      <td>B</td>\n",
       "    </tr>\n",
       "    <tr>\n",
       "      <th>986</th>\n",
       "      <td>1538887006</td>\n",
       "      <td>3372131337</td>\n",
       "      <td>2019-08-30</td>\n",
       "      <td>555.2</td>\n",
       "      <td>B</td>\n",
       "    </tr>\n",
       "    <tr>\n",
       "      <th>989</th>\n",
       "      <td>2894657060</td>\n",
       "      <td>204675465</td>\n",
       "      <td>2019-08-30</td>\n",
       "      <td>510.5</td>\n",
       "      <td>B</td>\n",
       "    </tr>\n",
       "    <tr>\n",
       "      <th>1015</th>\n",
       "      <td>2983450240</td>\n",
       "      <td>1605520752</td>\n",
       "      <td>2019-08-31</td>\n",
       "      <td>435.5</td>\n",
       "      <td>B</td>\n",
       "    </tr>\n",
       "  </tbody>\n",
       "</table>\n",
       "<p>51 rows × 5 columns</p>\n",
       "</div>"
      ],
      "text/plain": [
       "      transactionid   visitorid        date  revenue group\n",
       "2        1295850747  2947100995  2019-08-01    455.8     A\n",
       "10       1798931686  1211585711  2019-08-01    440.3     A\n",
       "59       1192036073  2953427180  2019-08-02    590.1     B\n",
       "66        573486797  3118156181  2019-08-02    475.5     B\n",
       "134      1867784682  2247666522  2019-08-04    485.3     B\n",
       "...             ...         ...         ...      ...   ...\n",
       "945      3964942202   358944393  2019-08-29    660.5     A\n",
       "975      1234615529  2279926127  2019-08-30    705.3     B\n",
       "986      1538887006  3372131337  2019-08-30    555.2     B\n",
       "989      2894657060   204675465  2019-08-30    510.5     B\n",
       "1015     2983450240  1605520752  2019-08-31    435.5     B\n",
       "\n",
       "[51 rows x 5 columns]"
      ]
     },
     "execution_count": 59,
     "metadata": {},
     "output_type": "execute_result"
    }
   ],
   "source": [
    "# If you use the 95th percentile → anomaly = users with prices > p95.\n",
    "display(HTML(f\"> Anomaly if p95 is used = transactions with prices > p95\"))\n",
    "df_orders.loc[(df_orders['revenue'] > 414.275), :] "
   ]
  },
  {
   "cell_type": "code",
   "execution_count": 60,
   "id": "45d3a4ec",
   "metadata": {},
   "outputs": [
    {
     "data": {
      "text/html": [
       "> Anomaly if p99 is used = transactions with prices > p99"
      ],
      "text/plain": [
       "<IPython.core.display.HTML object>"
      ]
     },
     "metadata": {},
     "output_type": "display_data"
    },
    {
     "data": {
      "application/vnd.microsoft.datawrangler.viewer.v0+json": {
       "columns": [
        {
         "name": "index",
         "rawType": "int64",
         "type": "integer"
        },
        {
         "name": "transactionid",
         "rawType": "int64",
         "type": "integer"
        },
        {
         "name": "visitorid",
         "rawType": "int64",
         "type": "integer"
        },
        {
         "name": "date",
         "rawType": "object",
         "type": "unknown"
        },
        {
         "name": "revenue",
         "rawType": "float64",
         "type": "float"
        },
        {
         "name": "group",
         "rawType": "category",
         "type": "unknown"
        }
       ],
       "ref": "b0c16d0a-a557-4a3b-89ca-bd658cbcf34f",
       "rows": [
        [
         "294",
         "2420050534",
         "4003628586",
         "2019-08-08",
         "905.8",
         "B"
        ],
        [
         "310",
         "3603576309",
         "4133034833",
         "2019-08-09",
         "1050.0",
         "A"
        ],
        [
         "404",
         "316924019",
         "148427295",
         "2019-08-12",
         "1015.9",
         "A"
        ],
        [
         "405",
         "1348774318",
         "1164614297",
         "2019-08-12",
         "1025.8",
         "A"
        ],
        [
         "438",
         "666610489",
         "1307669133",
         "2019-08-13",
         "1425.8",
         "A"
        ],
        [
         "529",
         "3936777065",
         "2108080724",
         "2019-08-15",
         "3120.1",
         "B"
        ],
        [
         "635",
         "590470918",
         "1920142716",
         "2019-08-19",
         "19920.4",
         "B"
        ],
        [
         "696",
         "1347999392",
         "887908475",
         "2019-08-21",
         "930.0",
         "A"
        ],
        [
         "882",
         "3668308183",
         "888512513",
         "2019-08-27",
         "1335.6",
         "B"
        ]
       ],
       "shape": {
        "columns": 5,
        "rows": 9
       }
      },
      "text/html": [
       "<div>\n",
       "<style scoped>\n",
       "    .dataframe tbody tr th:only-of-type {\n",
       "        vertical-align: middle;\n",
       "    }\n",
       "\n",
       "    .dataframe tbody tr th {\n",
       "        vertical-align: top;\n",
       "    }\n",
       "\n",
       "    .dataframe thead th {\n",
       "        text-align: right;\n",
       "    }\n",
       "</style>\n",
       "<table border=\"1\" class=\"dataframe\">\n",
       "  <thead>\n",
       "    <tr style=\"text-align: right;\">\n",
       "      <th></th>\n",
       "      <th>transactionid</th>\n",
       "      <th>visitorid</th>\n",
       "      <th>date</th>\n",
       "      <th>revenue</th>\n",
       "      <th>group</th>\n",
       "    </tr>\n",
       "  </thead>\n",
       "  <tbody>\n",
       "    <tr>\n",
       "      <th>294</th>\n",
       "      <td>2420050534</td>\n",
       "      <td>4003628586</td>\n",
       "      <td>2019-08-08</td>\n",
       "      <td>905.8</td>\n",
       "      <td>B</td>\n",
       "    </tr>\n",
       "    <tr>\n",
       "      <th>310</th>\n",
       "      <td>3603576309</td>\n",
       "      <td>4133034833</td>\n",
       "      <td>2019-08-09</td>\n",
       "      <td>1050.0</td>\n",
       "      <td>A</td>\n",
       "    </tr>\n",
       "    <tr>\n",
       "      <th>404</th>\n",
       "      <td>316924019</td>\n",
       "      <td>148427295</td>\n",
       "      <td>2019-08-12</td>\n",
       "      <td>1015.9</td>\n",
       "      <td>A</td>\n",
       "    </tr>\n",
       "    <tr>\n",
       "      <th>405</th>\n",
       "      <td>1348774318</td>\n",
       "      <td>1164614297</td>\n",
       "      <td>2019-08-12</td>\n",
       "      <td>1025.8</td>\n",
       "      <td>A</td>\n",
       "    </tr>\n",
       "    <tr>\n",
       "      <th>438</th>\n",
       "      <td>666610489</td>\n",
       "      <td>1307669133</td>\n",
       "      <td>2019-08-13</td>\n",
       "      <td>1425.8</td>\n",
       "      <td>A</td>\n",
       "    </tr>\n",
       "    <tr>\n",
       "      <th>529</th>\n",
       "      <td>3936777065</td>\n",
       "      <td>2108080724</td>\n",
       "      <td>2019-08-15</td>\n",
       "      <td>3120.1</td>\n",
       "      <td>B</td>\n",
       "    </tr>\n",
       "    <tr>\n",
       "      <th>635</th>\n",
       "      <td>590470918</td>\n",
       "      <td>1920142716</td>\n",
       "      <td>2019-08-19</td>\n",
       "      <td>19920.4</td>\n",
       "      <td>B</td>\n",
       "    </tr>\n",
       "    <tr>\n",
       "      <th>696</th>\n",
       "      <td>1347999392</td>\n",
       "      <td>887908475</td>\n",
       "      <td>2019-08-21</td>\n",
       "      <td>930.0</td>\n",
       "      <td>A</td>\n",
       "    </tr>\n",
       "    <tr>\n",
       "      <th>882</th>\n",
       "      <td>3668308183</td>\n",
       "      <td>888512513</td>\n",
       "      <td>2019-08-27</td>\n",
       "      <td>1335.6</td>\n",
       "      <td>B</td>\n",
       "    </tr>\n",
       "  </tbody>\n",
       "</table>\n",
       "</div>"
      ],
      "text/plain": [
       "     transactionid   visitorid        date  revenue group\n",
       "294     2420050534  4003628586  2019-08-08    905.8     B\n",
       "310     3603576309  4133034833  2019-08-09   1050.0     A\n",
       "404      316924019   148427295  2019-08-12   1015.9     A\n",
       "405     1348774318  1164614297  2019-08-12   1025.8     A\n",
       "438      666610489  1307669133  2019-08-13   1425.8     A\n",
       "529     3936777065  2108080724  2019-08-15   3120.1     B\n",
       "635      590470918  1920142716  2019-08-19  19920.4     B\n",
       "696     1347999392   887908475  2019-08-21    930.0     A\n",
       "882     3668308183   888512513  2019-08-27   1335.6     B"
      ]
     },
     "execution_count": 60,
     "metadata": {},
     "output_type": "execute_result"
    }
   ],
   "source": [
    "# If you use the 99th percentile → anomaly = transactions with prices > p99.\n",
    "display(HTML(f\"> Anomaly if p99 is used = transactions with prices > p99\"))\n",
    "df_orders.loc[(df_orders['revenue'] > 830.3), :] "
   ]
  },
  {
   "cell_type": "markdown",
   "id": "918ce7be",
   "metadata": {},
   "source": [
    "##### __5.2.9__ Find the statistical significance of the difference in conversion between groups using the raw data. Make conclusions and conjectures."
   ]
  },
  {
   "cell_type": "code",
   "execution_count": 86,
   "id": "8d77f9a2",
   "metadata": {},
   "outputs": [
    {
     "data": {
      "application/vnd.microsoft.datawrangler.viewer.v0+json": {
       "columns": [
        {
         "name": "group",
         "rawType": "category",
         "type": "unknown"
        },
        {
         "name": "orders",
         "rawType": "int64",
         "type": "integer"
        }
       ],
       "ref": "a56c6bfc-882b-40d6-b80a-647b9b8896c6",
       "rows": [
        [
         "A",
         "445"
        ],
        [
         "B",
         "528"
        ]
       ],
       "shape": {
        "columns": 1,
        "rows": 2
       }
      },
      "text/plain": [
       "group\n",
       "A    445\n",
       "B    528\n",
       "Name: orders, dtype: int64"
      ]
     },
     "execution_count": 86,
     "metadata": {},
     "output_type": "execute_result"
    }
   ],
   "source": [
    "orders_per_group = df_orders.groupby(\"group\", observed=False)[\"visitorid\"].nunique()\n",
    "orders_per_group.name = 'orders'\n",
    "orders_per_group"
   ]
  },
  {
   "cell_type": "code",
   "execution_count": 78,
   "id": "b4923ed2",
   "metadata": {},
   "outputs": [
    {
     "data": {
      "application/vnd.microsoft.datawrangler.viewer.v0+json": {
       "columns": [
        {
         "name": "group",
         "rawType": "category",
         "type": "unknown"
        },
        {
         "name": "visits",
         "rawType": "int64",
         "type": "integer"
        }
       ],
       "ref": "d0722ddf-b747-4a49-9537-6cd27f1d8f45",
       "rows": [
        [
         "A",
         "18736"
        ],
        [
         "B",
         "18916"
        ]
       ],
       "shape": {
        "columns": 1,
        "rows": 2
       }
      },
      "text/plain": [
       "group\n",
       "A    18736\n",
       "B    18916\n",
       "Name: visits, dtype: int64"
      ]
     },
     "execution_count": 78,
     "metadata": {},
     "output_type": "execute_result"
    }
   ],
   "source": [
    "visits_per_group = df_visits.groupby(\"group\", observed=False)[\"visits\"].sum()\n",
    "visits_per_group"
   ]
  },
  {
   "cell_type": "code",
   "execution_count": 79,
   "id": "5337ba06",
   "metadata": {},
   "outputs": [
    {
     "data": {
      "text/plain": [
       "array([445, 528])"
      ]
     },
     "execution_count": 79,
     "metadata": {},
     "output_type": "execute_result"
    }
   ],
   "source": [
    "successes = np.array([orders_per_group[\"A\"], orders_per_group[\"B\"]])\n",
    "successes"
   ]
  },
  {
   "cell_type": "code",
   "execution_count": 80,
   "id": "c952d1d4",
   "metadata": {},
   "outputs": [
    {
     "data": {
      "text/plain": [
       "array([18736, 18916])"
      ]
     },
     "execution_count": 80,
     "metadata": {},
     "output_type": "execute_result"
    }
   ],
   "source": [
    "trials = np.array([visits_per_group[\"A\"], visits_per_group[\"B\"]])\n",
    "trials"
   ]
  },
  {
   "cell_type": "code",
   "execution_count": 89,
   "id": "694be6eb",
   "metadata": {},
   "outputs": [
    {
     "data": {
      "text/html": [
       "Z-statistic: -2.544862118115433"
      ],
      "text/plain": [
       "<IPython.core.display.HTML object>"
      ]
     },
     "metadata": {},
     "output_type": "display_data"
    },
    {
     "data": {
      "text/html": [
       "p-value: 0.010932089565536035"
      ],
      "text/plain": [
       "<IPython.core.display.HTML object>"
      ]
     },
     "metadata": {},
     "output_type": "display_data"
    }
   ],
   "source": [
    "stats, p_value = proportions_ztest(successes, trials, alternative=\"two-sided\")\n",
    "display(HTML(f\"Z-statistic: {stats}\"))\n",
    "display(HTML(f\"p-value: {p_value}\"))"
   ]
  },
  {
   "cell_type": "code",
   "execution_count": 90,
   "id": "79149103",
   "metadata": {},
   "outputs": [
    {
     "data": {
      "application/vnd.microsoft.datawrangler.viewer.v0+json": {
       "columns": [
        {
         "name": "group",
         "rawType": "category",
         "type": "unknown"
        },
        {
         "name": "orders",
         "rawType": "int64",
         "type": "integer"
        },
        {
         "name": "visits",
         "rawType": "int64",
         "type": "integer"
        },
        {
         "name": "conversion_rate",
         "rawType": "float64",
         "type": "float"
        }
       ],
       "ref": "487ca668-ba19-46d1-8fc1-6bd169dd5ca4",
       "rows": [
        [
         "A",
         "445",
         "18736",
         "0.023751067463706234"
        ],
        [
         "B",
         "528",
         "18916",
         "0.027912877986889406"
        ]
       ],
       "shape": {
        "columns": 3,
        "rows": 2
       }
      },
      "text/html": [
       "<div>\n",
       "<style scoped>\n",
       "    .dataframe tbody tr th:only-of-type {\n",
       "        vertical-align: middle;\n",
       "    }\n",
       "\n",
       "    .dataframe tbody tr th {\n",
       "        vertical-align: top;\n",
       "    }\n",
       "\n",
       "    .dataframe thead th {\n",
       "        text-align: right;\n",
       "    }\n",
       "</style>\n",
       "<table border=\"1\" class=\"dataframe\">\n",
       "  <thead>\n",
       "    <tr style=\"text-align: right;\">\n",
       "      <th></th>\n",
       "      <th>orders</th>\n",
       "      <th>visits</th>\n",
       "      <th>conversion_rate</th>\n",
       "    </tr>\n",
       "    <tr>\n",
       "      <th>group</th>\n",
       "      <th></th>\n",
       "      <th></th>\n",
       "      <th></th>\n",
       "    </tr>\n",
       "  </thead>\n",
       "  <tbody>\n",
       "    <tr>\n",
       "      <th>A</th>\n",
       "      <td>445</td>\n",
       "      <td>18736</td>\n",
       "      <td>0.023751</td>\n",
       "    </tr>\n",
       "    <tr>\n",
       "      <th>B</th>\n",
       "      <td>528</td>\n",
       "      <td>18916</td>\n",
       "      <td>0.027913</td>\n",
       "    </tr>\n",
       "  </tbody>\n",
       "</table>\n",
       "</div>"
      ],
      "text/plain": [
       "       orders  visits  conversion_rate\n",
       "group                                 \n",
       "A         445   18736         0.023751\n",
       "B         528   18916         0.027913"
      ]
     },
     "execution_count": 90,
     "metadata": {},
     "output_type": "execute_result"
    }
   ],
   "source": [
    "cr_per_group = pd.concat([orders_per_group, visits_per_group], axis=1)\n",
    "cr_per_group.columns = ['orders', 'visits']\n",
    "cr_per_group['conversion_rate'] = cr_per_group['orders'] / cr_per_group['visits']\n",
    "cr_per_group"
   ]
  },
  {
   "cell_type": "code",
   "execution_count": null,
   "id": "b0eadcbc",
   "metadata": {},
   "outputs": [
    {
     "data": {
      "text/html": [
       "> Null Hypothesis (<i>H₀</i>) is <b>rejected</b>, meaning there is enough statistical evidence that conversion rate between Group A and Group B are <b>different</b>."
      ],
      "text/plain": [
       "<IPython.core.display.HTML object>"
      ]
     },
     "metadata": {},
     "output_type": "display_data"
    },
    {
     "data": {
      "text/html": [
       "> Group <b>B</b> has a higher conversion rate (2.8970%) than Group A (2.4979%)."
      ],
      "text/plain": [
       "<IPython.core.display.HTML object>"
      ]
     },
     "metadata": {},
     "output_type": "display_data"
    }
   ],
   "source": [
    "# Null hypothesis (H₀): Conversion rates of group A and B are equal.\n",
    "# Alternative hypothesis (H₁): Conversion rates of group A and B are different.\n",
    "if p_value <= 0.05:\n",
    "    display(HTML(f\"> Null Hypothesis (<i>H₀</i>) is <b>rejected</b>, meaning there is enough statistical evidence that conversion rate between Group A and Group B are <b>different</b>.\"))\n",
    "    if cr_per_group.loc['A', 'conversion_rate'] > cr_per_group.loc['B', 'conversion_rate']:\n",
    "        display(HTML(f\"> Group <b>A</b> has a higher conversion rate ({cr_group_A:.4%}) than Group B ({cr_group_B:.4%}).\"))\n",
    "    else:\n",
    "        display(HTML(f\"> Group <b>B</b> has a higher conversion rate ({cr_group_B:.4%}) than Group A ({cr_group_A:.4%}).\"))\n",
    "else:\n",
    "    display(HTML(f\"> Null Hypothesis (<i>H₀</i>) is <b>not rejected</b>, meaning there is not enough statistical evidence that conversion rate between Group A and Group B are different.\"))"
   ]
  },
  {
   "cell_type": "markdown",
   "id": "d4119c95",
   "metadata": {},
   "source": [
    "##### __5.2.10__ Find the statistical significance of the difference in average order size between groups using the raw data. Make conclusions and conjectures."
   ]
  },
  {
   "cell_type": "code",
   "execution_count": 92,
   "id": "1671f832",
   "metadata": {},
   "outputs": [
    {
     "data": {
      "application/vnd.microsoft.datawrangler.viewer.v0+json": {
       "columns": [
        {
         "name": "index",
         "rawType": "int64",
         "type": "integer"
        },
        {
         "name": "revenue",
         "rawType": "float64",
         "type": "float"
        }
       ],
       "ref": "4a403fb8-2015-431a-83c6-c16e68b3d050",
       "rows": [
        [
         "0",
         "45.3"
        ],
        [
         "1",
         "15.8"
        ],
        [
         "2",
         "455.8"
        ],
        [
         "3",
         "140.8"
        ],
        [
         "4",
         "110.7"
        ],
        [
         "5",
         "5.6"
        ],
        [
         "6",
         "40.2"
        ],
        [
         "7",
         "50.1"
        ],
        [
         "8",
         "275.8"
        ],
        [
         "9",
         "30.1"
        ],
        [
         "10",
         "440.3"
        ],
        [
         "11",
         "5.6"
        ],
        [
         "12",
         "100.4"
        ],
        [
         "13",
         "45.3"
        ],
        [
         "14",
         "140.4"
        ],
        [
         "15",
         "20.2"
        ],
        [
         "16",
         "30.5"
        ],
        [
         "17",
         "80.5"
        ],
        [
         "18",
         "60.8"
        ],
        [
         "19",
         "30.4"
        ],
        [
         "20",
         "30.8"
        ],
        [
         "21",
         "55.8"
        ],
        [
         "22",
         "55.4"
        ],
        [
         "40",
         "50.8"
        ],
        [
         "41",
         "110.8"
        ],
        [
         "42",
         "30.0"
        ],
        [
         "43",
         "15.7"
        ],
        [
         "44",
         "5.5"
        ],
        [
         "45",
         "45.7"
        ],
        [
         "46",
         "30.0"
        ],
        [
         "47",
         "45.6"
        ],
        [
         "48",
         "90.8"
        ],
        [
         "49",
         "270.0"
        ],
        [
         "50",
         "165.9"
        ],
        [
         "51",
         "5.7"
        ],
        [
         "52",
         "155.0"
        ],
        [
         "53",
         "15.2"
        ],
        [
         "54",
         "20.3"
        ],
        [
         "55",
         "240.2"
        ],
        [
         "56",
         "130.8"
        ],
        [
         "57",
         "5.3"
        ],
        [
         "58",
         "35.0"
        ],
        [
         "82",
         "70.1"
        ],
        [
         "83",
         "195.3"
        ],
        [
         "84",
         "90.5"
        ],
        [
         "85",
         "15.7"
        ],
        [
         "86",
         "15.6"
        ],
        [
         "87",
         "95.3"
        ],
        [
         "88",
         "25.5"
        ],
        [
         "89",
         "20.8"
        ]
       ],
       "shape": {
        "columns": 1,
        "rows": 468
       }
      },
      "text/plain": [
       "0       45.3\n",
       "1       15.8\n",
       "2      455.8\n",
       "3      140.8\n",
       "4      110.7\n",
       "       ...  \n",
       "994    270.4\n",
       "995    155.8\n",
       "996    205.1\n",
       "997     45.2\n",
       "998     55.4\n",
       "Name: revenue, Length: 468, dtype: float64"
      ]
     },
     "execution_count": 92,
     "metadata": {},
     "output_type": "execute_result"
    }
   ],
   "source": [
    "aos_group_A = df_orders.loc[(df_orders[\"group\"] == \"A\"), \"revenue\"]\n",
    "aos_group_A"
   ]
  },
  {
   "cell_type": "code",
   "execution_count": 93,
   "id": "a186e8c9",
   "metadata": {},
   "outputs": [
    {
     "data": {
      "application/vnd.microsoft.datawrangler.viewer.v0+json": {
       "columns": [
        {
         "name": "index",
         "rawType": "int64",
         "type": "integer"
        },
        {
         "name": "revenue",
         "rawType": "float64",
         "type": "float"
        }
       ],
       "ref": "6add7487-b052-4d95-abd9-4e9ef5a136b1",
       "rows": [
        [
         "23",
         "40.2"
        ],
        [
         "24",
         "140.4"
        ],
        [
         "25",
         "90.5"
        ],
        [
         "26",
         "50.8"
        ],
        [
         "27",
         "40.2"
        ],
        [
         "28",
         "80.2"
        ],
        [
         "29",
         "110.5"
        ],
        [
         "30",
         "5.6"
        ],
        [
         "31",
         "120.3"
        ],
        [
         "32",
         "10.6"
        ],
        [
         "33",
         "10.0"
        ],
        [
         "34",
         "20.3"
        ],
        [
         "35",
         "25.9"
        ],
        [
         "36",
         "50.0"
        ],
        [
         "37",
         "5.6"
        ],
        [
         "38",
         "10.6"
        ],
        [
         "39",
         "155.5"
        ],
        [
         "59",
         "590.1"
        ],
        [
         "60",
         "45.1"
        ],
        [
         "61",
         "20.3"
        ],
        [
         "62",
         "85.6"
        ],
        [
         "63",
         "175.0"
        ],
        [
         "64",
         "10.7"
        ],
        [
         "65",
         "75.6"
        ],
        [
         "66",
         "475.5"
        ],
        [
         "67",
         "5.5"
        ],
        [
         "68",
         "40.2"
        ],
        [
         "69",
         "45.4"
        ],
        [
         "70",
         "45.3"
        ],
        [
         "71",
         "220.8"
        ],
        [
         "72",
         "65.4"
        ],
        [
         "73",
         "30.8"
        ],
        [
         "74",
         "35.0"
        ],
        [
         "75",
         "40.2"
        ],
        [
         "76",
         "200.1"
        ],
        [
         "77",
         "40.2"
        ],
        [
         "78",
         "75.0"
        ],
        [
         "79",
         "200.1"
        ],
        [
         "80",
         "35.6"
        ],
        [
         "81",
         "10.6"
        ],
        [
         "106",
         "25.9"
        ],
        [
         "107",
         "15.4"
        ],
        [
         "108",
         "155.7"
        ],
        [
         "109",
         "10.8"
        ],
        [
         "110",
         "15.0"
        ],
        [
         "111",
         "50.5"
        ],
        [
         "112",
         "10.5"
        ],
        [
         "113",
         "115.3"
        ],
        [
         "114",
         "285.1"
        ],
        [
         "115",
         "45.5"
        ]
       ],
       "shape": {
        "columns": 1,
        "rows": 548
       }
      },
      "text/plain": [
       "23       40.2\n",
       "24      140.4\n",
       "25       90.5\n",
       "26       50.8\n",
       "27       40.2\n",
       "        ...  \n",
       "1011    105.7\n",
       "1012      5.5\n",
       "1013    290.5\n",
       "1014     30.2\n",
       "1015    435.5\n",
       "Name: revenue, Length: 548, dtype: float64"
      ]
     },
     "execution_count": 93,
     "metadata": {},
     "output_type": "execute_result"
    }
   ],
   "source": [
    "aos_group_B = df_orders.loc[(df_orders[\"group\"] == \"B\"), \"revenue\"]\n",
    "aos_group_B"
   ]
  },
  {
   "cell_type": "code",
   "execution_count": 95,
   "id": "4c954bb5",
   "metadata": {},
   "outputs": [
    {
     "data": {
      "text/html": [
       "U-statistic: 129041.5"
      ],
      "text/plain": [
       "<IPython.core.display.HTML object>"
      ]
     },
     "metadata": {},
     "output_type": "display_data"
    },
    {
     "data": {
      "text/html": [
       "p-value: 0.8622329690015668"
      ],
      "text/plain": [
       "<IPython.core.display.HTML object>"
      ]
     },
     "metadata": {},
     "output_type": "display_data"
    }
   ],
   "source": [
    "# Mann-whitney U test\n",
    "u_stats, u_p_value = st.mannwhitneyu(aos_group_A, aos_group_B, alternative=\"two-sided\")\n",
    "display(HTML(f\"U-statistic: {u_stats}\"))\n",
    "display(HTML(f\"p-value: {u_p_value}\"))"
   ]
  },
  {
   "cell_type": "code",
   "execution_count": 96,
   "id": "37f84c7c",
   "metadata": {},
   "outputs": [
    {
     "data": {
      "text/html": [
       "> Null Hypothesis (<i>H₀</i>) is <b>not rejected</b>, meaning there is not enough statistical evidence that AOS between Group A and Group B are different."
      ],
      "text/plain": [
       "<IPython.core.display.HTML object>"
      ]
     },
     "metadata": {},
     "output_type": "display_data"
    }
   ],
   "source": [
    "# Null hypothesis (H₀): Average Order Size of group A and B are equal.\n",
    "# Alternative hypothesis (H₁): Average Order Size of group A and B are different.\n",
    "if u_p_value <= 0.05:\n",
    "    display(HTML(f\"> Null Hypothesis (<i>H₀</i>) is <b>rejected</b>, meaning there is enough statistical evidence that AOS between Group A and Group B are <b>different</b>.\"))\n",
    "else:\n",
    "    display(HTML(f\"> Null Hypothesis (<i>H₀</i>) is <b>not rejected</b>, meaning there is not enough statistical evidence that AOS between Group A and Group B are different.\"))"
   ]
  },
  {
   "cell_type": "markdown",
   "id": "f21870ff",
   "metadata": {},
   "source": [
    "`LSPL`\n",
    "- The cumulative AOS plot shows Group B consistently above Group A → looks like B has bigger orders.\n",
    "- But the Mann–Whitney U test gave p = 0.86223 → very high p-value → no evidence of a real difference between groups.\n",
    "\n",
    "That means:\n",
    "\n",
    "- Even though Group B’s line is higher in the cumulative plot, we can’t rule out that the difference is just due to random variation.\n",
    "- There’s no strong evidence that Group B genuinely generates higher order sizes.\n",
    "\n",
    "Even though Group B’s average order size looks higher in the plot, the statistical test shows no significant difference (p=0.86). The apparent gap is likely due to randomness or noise in the data, not a real effect."
   ]
  },
  {
   "cell_type": "markdown",
   "id": "1c1ce888",
   "metadata": {},
   "source": [
    "##### __5.2.11__ Find the statistical significance of the difference in conversion between the groups using the filtered data. Make conclusions and conjectures."
   ]
  },
  {
   "cell_type": "code",
   "execution_count": null,
   "id": "b6db5a95",
   "metadata": {},
   "outputs": [],
   "source": []
  }
 ],
 "metadata": {
  "kernelspec": {
   "display_name": "Win11_Python-PipVenv-Github-Hmb7GD39",
   "language": "python",
   "name": "python3"
  },
  "language_info": {
   "codemirror_mode": {
    "name": "ipython",
    "version": 3
   },
   "file_extension": ".py",
   "mimetype": "text/x-python",
   "name": "python",
   "nbconvert_exporter": "python",
   "pygments_lexer": "ipython3",
   "version": "3.13.2"
  }
 },
 "nbformat": 4,
 "nbformat_minor": 5
}
